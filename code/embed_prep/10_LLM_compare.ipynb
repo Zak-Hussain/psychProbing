{
 "cells": [
  {
   "metadata": {
    "ExecuteTime": {
     "end_time": "2025-07-12T09:25:02.390827Z",
     "start_time": "2025-07-12T09:25:01.096631Z"
    }
   },
   "cell_type": "code",
   "source": [
    "import pandas as pd\n",
    "from embeds import multi_inner_align, standardize\n",
    "from sklearn.decomposition import PCA\n",
    "import sys\n",
    "sys.path.append('..')\n",
    "from rca.rca import run_rca"
   ],
   "id": "7f49e5f0610c260f",
   "outputs": [],
   "execution_count": 1
  },
  {
   "metadata": {},
   "cell_type": "markdown",
   "source": "## Load LLM embeddings",
   "id": "feb0146624d6d50d"
  },
  {
   "cell_type": "code",
   "id": "initial_id",
   "metadata": {
    "collapsed": true,
    "ExecuteTime": {
     "end_time": "2025-07-12T09:26:20.514170Z",
     "start_time": "2025-07-12T09:25:02.394263Z"
    }
   },
   "source": [
    "fastText_CommonCrawl = pd.read_csv('../../data/embeds/fastText_CommonCrawl.csv', index_col=0)\n",
    "\n",
    "# Llama 3 8B\n",
    "Llama_3_8B_0 = pd.read_csv('../../data/llms/Llama-3.1-8B_0.csv', index_col=0)\n",
    "Llama_3_8B_1 = pd.read_csv('../../data/llms/Llama-3.1-8B_1.csv', index_col=0)\n",
    "Llama_3_8B_2 = pd.read_csv('../../data/llms/Llama-3.1-8B_2.csv', index_col=0)\n",
    "Llama_3_8B_012 = sum(multi_inner_align([Llama_3_8B_0, Llama_3_8B_1, Llama_3_8B_2])) / 3 # ensemble approach\n",
    "Llama_3_8B_12 = sum(multi_inner_align([Llama_3_8B_1, Llama_3_8B_2])) / 2\n",
    "\n",
    "# BERT large\n",
    "BERT_large_0 = pd.read_csv('../../data/llms/bert-large-uncased_0.csv', index_col=0)\n",
    "BERT_large_1 = pd.read_csv('../../data/llms/bert-large-uncased_1.csv', index_col=0)\n",
    "BERT_large_2 = pd.read_csv('../../data/llms/bert-large-uncased_2.csv', index_col=0)\n",
    "BERT_large_012 = sum(multi_inner_align([BERT_large_0, BERT_large_1, BERT_large_2])) / 3 # ensemble approach\n",
    "BERT_large_12 = sum(multi_inner_align([BERT_large_1, BERT_large_2])) / 2\n",
    "\n",
    "# Comparing\n",
    "to_compare = {\n",
    "    'fastText_CommonCrawl': fastText_CommonCrawl,\n",
    "\n",
    "    'Llama_3_8B_0': Llama_3_8B_0,\n",
    "    'Llama_3_8B_1': Llama_3_8B_1,\n",
    "    'Llama_3_8B_2': Llama_3_8B_2,\n",
    "    'Llama_3_8B_012': Llama_3_8B_012,\n",
    "    'Llama_3_8B_12': Llama_3_8B_12,\n",
    "\n",
    "    'BERT_large_0': BERT_large_0,\n",
    "    'BERT_large_1': BERT_large_1,\n",
    "    'BERT_large_2': BERT_large_2,\n",
    "    'BERT_large_012': BERT_large_012,\n",
    "    'BERT_large_12': BERT_large_12\n",
    "}"
   ],
   "outputs": [],
   "execution_count": 2
  },
  {
   "metadata": {
    "ExecuteTime": {
     "end_time": "2025-07-12T09:27:20.971669Z",
     "start_time": "2025-07-12T09:26:20.674082Z"
    }
   },
   "cell_type": "code",
   "source": [
    "# Aligning for fair comparison\n",
    "to_compare = dict(zip(to_compare.keys(), multi_inner_align(to_compare.values())))\n",
    "\n",
    "# Standardizing\n",
    "to_compare = {name: standardize(embed) for name, embed in to_compare.items()}\n",
    "{name: embed.shape for name, embed in to_compare.items()}"
   ],
   "id": "595609b6986cea34",
   "outputs": [
    {
     "data": {
      "text/plain": [
       "{'fastText_CommonCrawl': (44450, 300),\n",
       " 'Llama_3_8B_0': (44450, 4096),\n",
       " 'Llama_3_8B_1': (44450, 4096),\n",
       " 'Llama_3_8B_2': (44450, 4096),\n",
       " 'Llama_3_8B_012': (44450, 4096),\n",
       " 'Llama_3_8B_12': (44450, 4096),\n",
       " 'BERT_large_0': (44450, 1024),\n",
       " 'BERT_large_1': (44450, 1024),\n",
       " 'BERT_large_2': (44450, 1024),\n",
       " 'BERT_large_012': (44450, 1024),\n",
       " 'BERT_large_12': (44450, 1024)}"
      ]
     },
     "execution_count": 3,
     "metadata": {},
     "output_type": "execute_result"
    }
   ],
   "execution_count": 3
  },
  {
   "metadata": {
    "ExecuteTime": {
     "end_time": "2025-07-12T09:24:35.090287Z",
     "start_time": "2025-07-12T09:22:25.918422Z"
    }
   },
   "cell_type": "code",
   "source": [
    "# Adding PCAed version\n",
    "pca = PCA(n_components=.9, random_state=42)  # reduce to capture 90% of original variance\n",
    "Llama_3_8B_12_pca = pd.DataFrame(pca.fit_transform(Llama_3_8B_12), index=Llama_3_8B_12.index)\n",
    "BERT_large_12_pca = pd.DataFrame(pca.fit_transform(X=BERT_large_12), index=BERT_large_12.index)\n",
    "\n",
    "# Adding to comparison dict\n",
    "to_compare['Llama_3_8B_12_pca'] = Llama_3_8B_12_pca\n",
    "to_compare['BERT_large_12_pca'] = BERT_large_12_pca\n",
    "\n",
    "# Aligning for fair comparison\n",
    "to_compare = dict(zip(to_compare.keys(), multi_inner_align(to_compare.values())))\n",
    "\n",
    "# Standardizing\n",
    "to_compare = {name: standardize(embed) for name, embed in to_compare.items()}\n",
    "{name: embed.shape for name, embed in to_compare.items()}"
   ],
   "id": "ae1e3805a505dc51",
   "outputs": [
    {
     "ename": "KeyboardInterrupt",
     "evalue": "",
     "output_type": "error",
     "traceback": [
      "\u001B[0;31m---------------------------------------------------------------------------\u001B[0m",
      "\u001B[0;31mKeyboardInterrupt\u001B[0m                         Traceback (most recent call last)",
      "Cell \u001B[0;32mIn[17], line 14\u001B[0m\n\u001B[1;32m     11\u001B[0m to_compare \u001B[38;5;241m=\u001B[39m \u001B[38;5;28mdict\u001B[39m(\u001B[38;5;28mzip\u001B[39m(to_compare\u001B[38;5;241m.\u001B[39mkeys(), multi_inner_align(to_compare\u001B[38;5;241m.\u001B[39mvalues())))\n\u001B[1;32m     13\u001B[0m \u001B[38;5;66;03m# Standardizing\u001B[39;00m\n\u001B[0;32m---> 14\u001B[0m to_compare \u001B[38;5;241m=\u001B[39m {name: standardize(embed) \u001B[38;5;28;01mfor\u001B[39;00m name, embed \u001B[38;5;129;01min\u001B[39;00m to_compare\u001B[38;5;241m.\u001B[39mitems()}\n\u001B[1;32m     15\u001B[0m {name: embed\u001B[38;5;241m.\u001B[39mshape \u001B[38;5;28;01mfor\u001B[39;00m name, embed \u001B[38;5;129;01min\u001B[39;00m to_compare\u001B[38;5;241m.\u001B[39mitems()}\n",
      "Cell \u001B[0;32mIn[17], line 14\u001B[0m, in \u001B[0;36m<dictcomp>\u001B[0;34m(.0)\u001B[0m\n\u001B[1;32m     11\u001B[0m to_compare \u001B[38;5;241m=\u001B[39m \u001B[38;5;28mdict\u001B[39m(\u001B[38;5;28mzip\u001B[39m(to_compare\u001B[38;5;241m.\u001B[39mkeys(), multi_inner_align(to_compare\u001B[38;5;241m.\u001B[39mvalues())))\n\u001B[1;32m     13\u001B[0m \u001B[38;5;66;03m# Standardizing\u001B[39;00m\n\u001B[0;32m---> 14\u001B[0m to_compare \u001B[38;5;241m=\u001B[39m {name: \u001B[43mstandardize\u001B[49m\u001B[43m(\u001B[49m\u001B[43membed\u001B[49m\u001B[43m)\u001B[49m \u001B[38;5;28;01mfor\u001B[39;00m name, embed \u001B[38;5;129;01min\u001B[39;00m to_compare\u001B[38;5;241m.\u001B[39mitems()}\n\u001B[1;32m     15\u001B[0m {name: embed\u001B[38;5;241m.\u001B[39mshape \u001B[38;5;28;01mfor\u001B[39;00m name, embed \u001B[38;5;129;01min\u001B[39;00m to_compare\u001B[38;5;241m.\u001B[39mitems()}\n",
      "File \u001B[0;32m~/Documents/PycharmProjects/psychProbing/code/embed_prep/embeds.py:32\u001B[0m, in \u001B[0;36mstandardize\u001B[0;34m(df)\u001B[0m\n\u001B[1;32m     30\u001B[0m \u001B[38;5;28;01mdef\u001B[39;00m\u001B[38;5;250m \u001B[39m\u001B[38;5;21mstandardize\u001B[39m(df):\n\u001B[1;32m     31\u001B[0m     \u001B[38;5;66;03m# Standardize\u001B[39;00m\n\u001B[0;32m---> 32\u001B[0m     df \u001B[38;5;241m=\u001B[39m (df \u001B[38;5;241m-\u001B[39m df\u001B[38;5;241m.\u001B[39mmean()) \u001B[38;5;241m/\u001B[39m \u001B[43mdf\u001B[49m\u001B[38;5;241;43m.\u001B[39;49m\u001B[43mstd\u001B[49m\u001B[43m(\u001B[49m\u001B[43m)\u001B[49m\n\u001B[1;32m     33\u001B[0m     \u001B[38;5;66;03m# Set Nans to zero\u001B[39;00m\n\u001B[1;32m     34\u001B[0m     df \u001B[38;5;241m=\u001B[39m df\u001B[38;5;241m.\u001B[39mfillna(\u001B[38;5;241m0.0\u001B[39m)\n",
      "File \u001B[0;32m~/miniconda3/envs/psychProbing_env/lib/python3.10/site-packages/pandas/core/frame.py:11755\u001B[0m, in \u001B[0;36mDataFrame.std\u001B[0;34m(self, axis, skipna, ddof, numeric_only, **kwargs)\u001B[0m\n\u001B[1;32m  11746\u001B[0m \u001B[38;5;129m@doc\u001B[39m(make_doc(\u001B[38;5;124m\"\u001B[39m\u001B[38;5;124mstd\u001B[39m\u001B[38;5;124m\"\u001B[39m, ndim\u001B[38;5;241m=\u001B[39m\u001B[38;5;241m2\u001B[39m))\n\u001B[1;32m  11747\u001B[0m \u001B[38;5;28;01mdef\u001B[39;00m\u001B[38;5;250m \u001B[39m\u001B[38;5;21mstd\u001B[39m(\n\u001B[1;32m  11748\u001B[0m     \u001B[38;5;28mself\u001B[39m,\n\u001B[0;32m   (...)\u001B[0m\n\u001B[1;32m  11753\u001B[0m     \u001B[38;5;241m*\u001B[39m\u001B[38;5;241m*\u001B[39mkwargs,\n\u001B[1;32m  11754\u001B[0m ):\n\u001B[0;32m> 11755\u001B[0m     result \u001B[38;5;241m=\u001B[39m \u001B[38;5;28;43msuper\u001B[39;49m\u001B[43m(\u001B[49m\u001B[43m)\u001B[49m\u001B[38;5;241;43m.\u001B[39;49m\u001B[43mstd\u001B[49m\u001B[43m(\u001B[49m\u001B[43maxis\u001B[49m\u001B[43m,\u001B[49m\u001B[43m \u001B[49m\u001B[43mskipna\u001B[49m\u001B[43m,\u001B[49m\u001B[43m \u001B[49m\u001B[43mddof\u001B[49m\u001B[43m,\u001B[49m\u001B[43m \u001B[49m\u001B[43mnumeric_only\u001B[49m\u001B[43m,\u001B[49m\u001B[43m \u001B[49m\u001B[38;5;241;43m*\u001B[39;49m\u001B[38;5;241;43m*\u001B[39;49m\u001B[43mkwargs\u001B[49m\u001B[43m)\u001B[49m\n\u001B[1;32m  11756\u001B[0m     \u001B[38;5;28;01mif\u001B[39;00m \u001B[38;5;28misinstance\u001B[39m(result, Series):\n\u001B[1;32m  11757\u001B[0m         result \u001B[38;5;241m=\u001B[39m result\u001B[38;5;241m.\u001B[39m__finalize__(\u001B[38;5;28mself\u001B[39m, method\u001B[38;5;241m=\u001B[39m\u001B[38;5;124m\"\u001B[39m\u001B[38;5;124mstd\u001B[39m\u001B[38;5;124m\"\u001B[39m)\n",
      "File \u001B[0;32m~/miniconda3/envs/psychProbing_env/lib/python3.10/site-packages/pandas/core/generic.py:12377\u001B[0m, in \u001B[0;36mNDFrame.std\u001B[0;34m(self, axis, skipna, ddof, numeric_only, **kwargs)\u001B[0m\n\u001B[1;32m  12369\u001B[0m \u001B[38;5;28;01mdef\u001B[39;00m\u001B[38;5;250m \u001B[39m\u001B[38;5;21mstd\u001B[39m(\n\u001B[1;32m  12370\u001B[0m     \u001B[38;5;28mself\u001B[39m,\n\u001B[1;32m  12371\u001B[0m     axis: Axis \u001B[38;5;241m|\u001B[39m \u001B[38;5;28;01mNone\u001B[39;00m \u001B[38;5;241m=\u001B[39m \u001B[38;5;241m0\u001B[39m,\n\u001B[0;32m   (...)\u001B[0m\n\u001B[1;32m  12375\u001B[0m     \u001B[38;5;241m*\u001B[39m\u001B[38;5;241m*\u001B[39mkwargs,\n\u001B[1;32m  12376\u001B[0m ) \u001B[38;5;241m-\u001B[39m\u001B[38;5;241m>\u001B[39m Series \u001B[38;5;241m|\u001B[39m \u001B[38;5;28mfloat\u001B[39m:\n\u001B[0;32m> 12377\u001B[0m     \u001B[38;5;28;01mreturn\u001B[39;00m \u001B[38;5;28;43mself\u001B[39;49m\u001B[38;5;241;43m.\u001B[39;49m\u001B[43m_stat_function_ddof\u001B[49m\u001B[43m(\u001B[49m\n\u001B[1;32m  12378\u001B[0m \u001B[43m        \u001B[49m\u001B[38;5;124;43m\"\u001B[39;49m\u001B[38;5;124;43mstd\u001B[39;49m\u001B[38;5;124;43m\"\u001B[39;49m\u001B[43m,\u001B[49m\u001B[43m \u001B[49m\u001B[43mnanops\u001B[49m\u001B[38;5;241;43m.\u001B[39;49m\u001B[43mnanstd\u001B[49m\u001B[43m,\u001B[49m\u001B[43m \u001B[49m\u001B[43maxis\u001B[49m\u001B[43m,\u001B[49m\u001B[43m \u001B[49m\u001B[43mskipna\u001B[49m\u001B[43m,\u001B[49m\u001B[43m \u001B[49m\u001B[43mddof\u001B[49m\u001B[43m,\u001B[49m\u001B[43m \u001B[49m\u001B[43mnumeric_only\u001B[49m\u001B[43m,\u001B[49m\u001B[43m \u001B[49m\u001B[38;5;241;43m*\u001B[39;49m\u001B[38;5;241;43m*\u001B[39;49m\u001B[43mkwargs\u001B[49m\n\u001B[1;32m  12379\u001B[0m \u001B[43m    \u001B[49m\u001B[43m)\u001B[49m\n",
      "File \u001B[0;32m~/miniconda3/envs/psychProbing_env/lib/python3.10/site-packages/pandas/core/generic.py:12341\u001B[0m, in \u001B[0;36mNDFrame._stat_function_ddof\u001B[0;34m(self, name, func, axis, skipna, ddof, numeric_only, **kwargs)\u001B[0m\n\u001B[1;32m  12338\u001B[0m \u001B[38;5;28;01melif\u001B[39;00m axis \u001B[38;5;129;01mis\u001B[39;00m lib\u001B[38;5;241m.\u001B[39mno_default:\n\u001B[1;32m  12339\u001B[0m     axis \u001B[38;5;241m=\u001B[39m \u001B[38;5;241m0\u001B[39m\n\u001B[0;32m> 12341\u001B[0m \u001B[38;5;28;01mreturn\u001B[39;00m \u001B[38;5;28;43mself\u001B[39;49m\u001B[38;5;241;43m.\u001B[39;49m\u001B[43m_reduce\u001B[49m\u001B[43m(\u001B[49m\n\u001B[1;32m  12342\u001B[0m \u001B[43m    \u001B[49m\u001B[43mfunc\u001B[49m\u001B[43m,\u001B[49m\u001B[43m \u001B[49m\u001B[43mname\u001B[49m\u001B[43m,\u001B[49m\u001B[43m \u001B[49m\u001B[43maxis\u001B[49m\u001B[38;5;241;43m=\u001B[39;49m\u001B[43maxis\u001B[49m\u001B[43m,\u001B[49m\u001B[43m \u001B[49m\u001B[43mnumeric_only\u001B[49m\u001B[38;5;241;43m=\u001B[39;49m\u001B[43mnumeric_only\u001B[49m\u001B[43m,\u001B[49m\u001B[43m \u001B[49m\u001B[43mskipna\u001B[49m\u001B[38;5;241;43m=\u001B[39;49m\u001B[43mskipna\u001B[49m\u001B[43m,\u001B[49m\u001B[43m \u001B[49m\u001B[43mddof\u001B[49m\u001B[38;5;241;43m=\u001B[39;49m\u001B[43mddof\u001B[49m\n\u001B[1;32m  12343\u001B[0m \u001B[43m\u001B[49m\u001B[43m)\u001B[49m\n",
      "File \u001B[0;32m~/miniconda3/envs/psychProbing_env/lib/python3.10/site-packages/pandas/core/frame.py:11569\u001B[0m, in \u001B[0;36mDataFrame._reduce\u001B[0;34m(self, op, name, axis, skipna, numeric_only, filter_type, **kwds)\u001B[0m\n\u001B[1;32m  11565\u001B[0m     df \u001B[38;5;241m=\u001B[39m df\u001B[38;5;241m.\u001B[39mT\n\u001B[1;32m  11567\u001B[0m \u001B[38;5;66;03m# After possibly _get_data and transposing, we are now in the\u001B[39;00m\n\u001B[1;32m  11568\u001B[0m \u001B[38;5;66;03m#  simple case where we can use BlockManager.reduce\u001B[39;00m\n\u001B[0;32m> 11569\u001B[0m res \u001B[38;5;241m=\u001B[39m \u001B[43mdf\u001B[49m\u001B[38;5;241;43m.\u001B[39;49m\u001B[43m_mgr\u001B[49m\u001B[38;5;241;43m.\u001B[39;49m\u001B[43mreduce\u001B[49m\u001B[43m(\u001B[49m\u001B[43mblk_func\u001B[49m\u001B[43m)\u001B[49m\n\u001B[1;32m  11570\u001B[0m out \u001B[38;5;241m=\u001B[39m df\u001B[38;5;241m.\u001B[39m_constructor_from_mgr(res, axes\u001B[38;5;241m=\u001B[39mres\u001B[38;5;241m.\u001B[39maxes)\u001B[38;5;241m.\u001B[39miloc[\u001B[38;5;241m0\u001B[39m]\n\u001B[1;32m  11571\u001B[0m \u001B[38;5;28;01mif\u001B[39;00m out_dtype \u001B[38;5;129;01mis\u001B[39;00m \u001B[38;5;129;01mnot\u001B[39;00m \u001B[38;5;28;01mNone\u001B[39;00m \u001B[38;5;129;01mand\u001B[39;00m out\u001B[38;5;241m.\u001B[39mdtype \u001B[38;5;241m!=\u001B[39m \u001B[38;5;124m\"\u001B[39m\u001B[38;5;124mboolean\u001B[39m\u001B[38;5;124m\"\u001B[39m:\n",
      "File \u001B[0;32m~/miniconda3/envs/psychProbing_env/lib/python3.10/site-packages/pandas/core/internals/managers.py:1500\u001B[0m, in \u001B[0;36mBlockManager.reduce\u001B[0;34m(self, func)\u001B[0m\n\u001B[1;32m   1498\u001B[0m res_blocks: \u001B[38;5;28mlist\u001B[39m[Block] \u001B[38;5;241m=\u001B[39m []\n\u001B[1;32m   1499\u001B[0m \u001B[38;5;28;01mfor\u001B[39;00m blk \u001B[38;5;129;01min\u001B[39;00m \u001B[38;5;28mself\u001B[39m\u001B[38;5;241m.\u001B[39mblocks:\n\u001B[0;32m-> 1500\u001B[0m     nbs \u001B[38;5;241m=\u001B[39m \u001B[43mblk\u001B[49m\u001B[38;5;241;43m.\u001B[39;49m\u001B[43mreduce\u001B[49m\u001B[43m(\u001B[49m\u001B[43mfunc\u001B[49m\u001B[43m)\u001B[49m\n\u001B[1;32m   1501\u001B[0m     res_blocks\u001B[38;5;241m.\u001B[39mextend(nbs)\n\u001B[1;32m   1503\u001B[0m index \u001B[38;5;241m=\u001B[39m Index([\u001B[38;5;28;01mNone\u001B[39;00m])  \u001B[38;5;66;03m# placeholder\u001B[39;00m\n",
      "File \u001B[0;32m~/miniconda3/envs/psychProbing_env/lib/python3.10/site-packages/pandas/core/internals/blocks.py:406\u001B[0m, in \u001B[0;36mBlock.reduce\u001B[0;34m(self, func)\u001B[0m\n\u001B[1;32m    400\u001B[0m \u001B[38;5;129m@final\u001B[39m\n\u001B[1;32m    401\u001B[0m \u001B[38;5;28;01mdef\u001B[39;00m\u001B[38;5;250m \u001B[39m\u001B[38;5;21mreduce\u001B[39m(\u001B[38;5;28mself\u001B[39m, func) \u001B[38;5;241m-\u001B[39m\u001B[38;5;241m>\u001B[39m \u001B[38;5;28mlist\u001B[39m[Block]:\n\u001B[1;32m    402\u001B[0m     \u001B[38;5;66;03m# We will apply the function and reshape the result into a single-row\u001B[39;00m\n\u001B[1;32m    403\u001B[0m     \u001B[38;5;66;03m#  Block with the same mgr_locs; squeezing will be done at a higher level\u001B[39;00m\n\u001B[1;32m    404\u001B[0m     \u001B[38;5;28;01massert\u001B[39;00m \u001B[38;5;28mself\u001B[39m\u001B[38;5;241m.\u001B[39mndim \u001B[38;5;241m==\u001B[39m \u001B[38;5;241m2\u001B[39m\n\u001B[0;32m--> 406\u001B[0m     result \u001B[38;5;241m=\u001B[39m \u001B[43mfunc\u001B[49m\u001B[43m(\u001B[49m\u001B[38;5;28;43mself\u001B[39;49m\u001B[38;5;241;43m.\u001B[39;49m\u001B[43mvalues\u001B[49m\u001B[43m)\u001B[49m\n\u001B[1;32m    408\u001B[0m     \u001B[38;5;28;01mif\u001B[39;00m \u001B[38;5;28mself\u001B[39m\u001B[38;5;241m.\u001B[39mvalues\u001B[38;5;241m.\u001B[39mndim \u001B[38;5;241m==\u001B[39m \u001B[38;5;241m1\u001B[39m:\n\u001B[1;32m    409\u001B[0m         res_values \u001B[38;5;241m=\u001B[39m result\n",
      "File \u001B[0;32m~/miniconda3/envs/psychProbing_env/lib/python3.10/site-packages/pandas/core/frame.py:11488\u001B[0m, in \u001B[0;36mDataFrame._reduce.<locals>.blk_func\u001B[0;34m(values, axis)\u001B[0m\n\u001B[1;32m  11486\u001B[0m         \u001B[38;5;28;01mreturn\u001B[39;00m np\u001B[38;5;241m.\u001B[39marray([result])\n\u001B[1;32m  11487\u001B[0m \u001B[38;5;28;01melse\u001B[39;00m:\n\u001B[0;32m> 11488\u001B[0m     \u001B[38;5;28;01mreturn\u001B[39;00m \u001B[43mop\u001B[49m\u001B[43m(\u001B[49m\u001B[43mvalues\u001B[49m\u001B[43m,\u001B[49m\u001B[43m \u001B[49m\u001B[43maxis\u001B[49m\u001B[38;5;241;43m=\u001B[39;49m\u001B[43maxis\u001B[49m\u001B[43m,\u001B[49m\u001B[43m \u001B[49m\u001B[43mskipna\u001B[49m\u001B[38;5;241;43m=\u001B[39;49m\u001B[43mskipna\u001B[49m\u001B[43m,\u001B[49m\u001B[43m \u001B[49m\u001B[38;5;241;43m*\u001B[39;49m\u001B[38;5;241;43m*\u001B[39;49m\u001B[43mkwds\u001B[49m\u001B[43m)\u001B[49m\n",
      "File \u001B[0;32m~/miniconda3/envs/psychProbing_env/lib/python3.10/site-packages/pandas/core/nanops.py:147\u001B[0m, in \u001B[0;36mbottleneck_switch.__call__.<locals>.f\u001B[0;34m(values, axis, skipna, **kwds)\u001B[0m\n\u001B[1;32m    145\u001B[0m         result \u001B[38;5;241m=\u001B[39m alt(values, axis\u001B[38;5;241m=\u001B[39maxis, skipna\u001B[38;5;241m=\u001B[39mskipna, \u001B[38;5;241m*\u001B[39m\u001B[38;5;241m*\u001B[39mkwds)\n\u001B[1;32m    146\u001B[0m \u001B[38;5;28;01melse\u001B[39;00m:\n\u001B[0;32m--> 147\u001B[0m     result \u001B[38;5;241m=\u001B[39m \u001B[43malt\u001B[49m\u001B[43m(\u001B[49m\u001B[43mvalues\u001B[49m\u001B[43m,\u001B[49m\u001B[43m \u001B[49m\u001B[43maxis\u001B[49m\u001B[38;5;241;43m=\u001B[39;49m\u001B[43maxis\u001B[49m\u001B[43m,\u001B[49m\u001B[43m \u001B[49m\u001B[43mskipna\u001B[49m\u001B[38;5;241;43m=\u001B[39;49m\u001B[43mskipna\u001B[49m\u001B[43m,\u001B[49m\u001B[43m \u001B[49m\u001B[38;5;241;43m*\u001B[39;49m\u001B[38;5;241;43m*\u001B[39;49m\u001B[43mkwds\u001B[49m\u001B[43m)\u001B[49m\n\u001B[1;32m    149\u001B[0m \u001B[38;5;28;01mreturn\u001B[39;00m result\n",
      "File \u001B[0;32m~/miniconda3/envs/psychProbing_env/lib/python3.10/site-packages/pandas/core/nanops.py:950\u001B[0m, in \u001B[0;36mnanstd\u001B[0;34m(values, axis, skipna, ddof, mask)\u001B[0m\n\u001B[1;32m    947\u001B[0m orig_dtype \u001B[38;5;241m=\u001B[39m values\u001B[38;5;241m.\u001B[39mdtype\n\u001B[1;32m    948\u001B[0m values, mask \u001B[38;5;241m=\u001B[39m _get_values(values, skipna, mask\u001B[38;5;241m=\u001B[39mmask)\n\u001B[0;32m--> 950\u001B[0m result \u001B[38;5;241m=\u001B[39m np\u001B[38;5;241m.\u001B[39msqrt(\u001B[43mnanvar\u001B[49m\u001B[43m(\u001B[49m\u001B[43mvalues\u001B[49m\u001B[43m,\u001B[49m\u001B[43m \u001B[49m\u001B[43maxis\u001B[49m\u001B[38;5;241;43m=\u001B[39;49m\u001B[43maxis\u001B[49m\u001B[43m,\u001B[49m\u001B[43m \u001B[49m\u001B[43mskipna\u001B[49m\u001B[38;5;241;43m=\u001B[39;49m\u001B[43mskipna\u001B[49m\u001B[43m,\u001B[49m\u001B[43m \u001B[49m\u001B[43mddof\u001B[49m\u001B[38;5;241;43m=\u001B[39;49m\u001B[43mddof\u001B[49m\u001B[43m,\u001B[49m\u001B[43m \u001B[49m\u001B[43mmask\u001B[49m\u001B[38;5;241;43m=\u001B[39;49m\u001B[43mmask\u001B[49m\u001B[43m)\u001B[49m)\n\u001B[1;32m    951\u001B[0m \u001B[38;5;28;01mreturn\u001B[39;00m _wrap_results(result, orig_dtype)\n",
      "File \u001B[0;32m~/miniconda3/envs/psychProbing_env/lib/python3.10/site-packages/pandas/core/nanops.py:85\u001B[0m, in \u001B[0;36mdisallow.__call__.<locals>._f\u001B[0;34m(*args, **kwargs)\u001B[0m\n\u001B[1;32m     81\u001B[0m     \u001B[38;5;28;01mraise\u001B[39;00m \u001B[38;5;167;01mTypeError\u001B[39;00m(\n\u001B[1;32m     82\u001B[0m         \u001B[38;5;124mf\u001B[39m\u001B[38;5;124m\"\u001B[39m\u001B[38;5;124mreduction operation \u001B[39m\u001B[38;5;124m'\u001B[39m\u001B[38;5;132;01m{\u001B[39;00mf_name\u001B[38;5;132;01m}\u001B[39;00m\u001B[38;5;124m'\u001B[39m\u001B[38;5;124m not allowed for this dtype\u001B[39m\u001B[38;5;124m\"\u001B[39m\n\u001B[1;32m     83\u001B[0m     )\n\u001B[1;32m     84\u001B[0m \u001B[38;5;28;01mtry\u001B[39;00m:\n\u001B[0;32m---> 85\u001B[0m     \u001B[38;5;28;01mreturn\u001B[39;00m \u001B[43mf\u001B[49m\u001B[43m(\u001B[49m\u001B[38;5;241;43m*\u001B[39;49m\u001B[43margs\u001B[49m\u001B[43m,\u001B[49m\u001B[43m \u001B[49m\u001B[38;5;241;43m*\u001B[39;49m\u001B[38;5;241;43m*\u001B[39;49m\u001B[43mkwargs\u001B[49m\u001B[43m)\u001B[49m\n\u001B[1;32m     86\u001B[0m \u001B[38;5;28;01mexcept\u001B[39;00m \u001B[38;5;167;01mValueError\u001B[39;00m \u001B[38;5;28;01mas\u001B[39;00m e:\n\u001B[1;32m     87\u001B[0m     \u001B[38;5;66;03m# we want to transform an object array\u001B[39;00m\n\u001B[1;32m     88\u001B[0m     \u001B[38;5;66;03m# ValueError message to the more typical TypeError\u001B[39;00m\n\u001B[1;32m     89\u001B[0m     \u001B[38;5;66;03m# e.g. this is normally a disallowed function on\u001B[39;00m\n\u001B[1;32m     90\u001B[0m     \u001B[38;5;66;03m# object arrays that contain strings\u001B[39;00m\n\u001B[1;32m     91\u001B[0m     \u001B[38;5;28;01mif\u001B[39;00m is_object_dtype(args[\u001B[38;5;241m0\u001B[39m]):\n",
      "File \u001B[0;32m~/miniconda3/envs/psychProbing_env/lib/python3.10/site-packages/pandas/core/nanops.py:147\u001B[0m, in \u001B[0;36mbottleneck_switch.__call__.<locals>.f\u001B[0;34m(values, axis, skipna, **kwds)\u001B[0m\n\u001B[1;32m    145\u001B[0m         result \u001B[38;5;241m=\u001B[39m alt(values, axis\u001B[38;5;241m=\u001B[39maxis, skipna\u001B[38;5;241m=\u001B[39mskipna, \u001B[38;5;241m*\u001B[39m\u001B[38;5;241m*\u001B[39mkwds)\n\u001B[1;32m    146\u001B[0m \u001B[38;5;28;01melse\u001B[39;00m:\n\u001B[0;32m--> 147\u001B[0m     result \u001B[38;5;241m=\u001B[39m \u001B[43malt\u001B[49m\u001B[43m(\u001B[49m\u001B[43mvalues\u001B[49m\u001B[43m,\u001B[49m\u001B[43m \u001B[49m\u001B[43maxis\u001B[49m\u001B[38;5;241;43m=\u001B[39;49m\u001B[43maxis\u001B[49m\u001B[43m,\u001B[49m\u001B[43m \u001B[49m\u001B[43mskipna\u001B[49m\u001B[38;5;241;43m=\u001B[39;49m\u001B[43mskipna\u001B[49m\u001B[43m,\u001B[49m\u001B[43m \u001B[49m\u001B[38;5;241;43m*\u001B[39;49m\u001B[38;5;241;43m*\u001B[39;49m\u001B[43mkwds\u001B[49m\u001B[43m)\u001B[49m\n\u001B[1;32m    149\u001B[0m \u001B[38;5;28;01mreturn\u001B[39;00m result\n",
      "File \u001B[0;32m~/miniconda3/envs/psychProbing_env/lib/python3.10/site-packages/pandas/core/nanops.py:1013\u001B[0m, in \u001B[0;36mnanvar\u001B[0;34m(values, axis, skipna, ddof, mask)\u001B[0m\n\u001B[1;32m   1005\u001B[0m     np\u001B[38;5;241m.\u001B[39mputmask(values, mask, \u001B[38;5;241m0\u001B[39m)\n\u001B[1;32m   1007\u001B[0m \u001B[38;5;66;03m# xref GH10242\u001B[39;00m\n\u001B[1;32m   1008\u001B[0m \u001B[38;5;66;03m# Compute variance via two-pass algorithm, which is stable against\u001B[39;00m\n\u001B[1;32m   1009\u001B[0m \u001B[38;5;66;03m# cancellation errors and relatively accurate for small numbers of\u001B[39;00m\n\u001B[1;32m   1010\u001B[0m \u001B[38;5;66;03m# observations.\u001B[39;00m\n\u001B[1;32m   1011\u001B[0m \u001B[38;5;66;03m#\u001B[39;00m\n\u001B[1;32m   1012\u001B[0m \u001B[38;5;66;03m# See https://en.wikipedia.org/wiki/Algorithms_for_calculating_variance\u001B[39;00m\n\u001B[0;32m-> 1013\u001B[0m avg \u001B[38;5;241m=\u001B[39m _ensure_numeric(\u001B[43mvalues\u001B[49m\u001B[38;5;241;43m.\u001B[39;49m\u001B[43msum\u001B[49m\u001B[43m(\u001B[49m\u001B[43maxis\u001B[49m\u001B[38;5;241;43m=\u001B[39;49m\u001B[43maxis\u001B[49m\u001B[43m,\u001B[49m\u001B[43m \u001B[49m\u001B[43mdtype\u001B[49m\u001B[38;5;241;43m=\u001B[39;49m\u001B[43mnp\u001B[49m\u001B[38;5;241;43m.\u001B[39;49m\u001B[43mfloat64\u001B[49m\u001B[43m)\u001B[49m) \u001B[38;5;241m/\u001B[39m count\n\u001B[1;32m   1014\u001B[0m \u001B[38;5;28;01mif\u001B[39;00m axis \u001B[38;5;129;01mis\u001B[39;00m \u001B[38;5;129;01mnot\u001B[39;00m \u001B[38;5;28;01mNone\u001B[39;00m:\n\u001B[1;32m   1015\u001B[0m     avg \u001B[38;5;241m=\u001B[39m np\u001B[38;5;241m.\u001B[39mexpand_dims(avg, axis)\n",
      "File \u001B[0;32m~/miniconda3/envs/psychProbing_env/lib/python3.10/site-packages/numpy/core/_methods.py:49\u001B[0m, in \u001B[0;36m_sum\u001B[0;34m(a, axis, dtype, out, keepdims, initial, where)\u001B[0m\n\u001B[1;32m     47\u001B[0m \u001B[38;5;28;01mdef\u001B[39;00m\u001B[38;5;250m \u001B[39m\u001B[38;5;21m_sum\u001B[39m(a, axis\u001B[38;5;241m=\u001B[39m\u001B[38;5;28;01mNone\u001B[39;00m, dtype\u001B[38;5;241m=\u001B[39m\u001B[38;5;28;01mNone\u001B[39;00m, out\u001B[38;5;241m=\u001B[39m\u001B[38;5;28;01mNone\u001B[39;00m, keepdims\u001B[38;5;241m=\u001B[39m\u001B[38;5;28;01mFalse\u001B[39;00m,\n\u001B[1;32m     48\u001B[0m          initial\u001B[38;5;241m=\u001B[39m_NoValue, where\u001B[38;5;241m=\u001B[39m\u001B[38;5;28;01mTrue\u001B[39;00m):\n\u001B[0;32m---> 49\u001B[0m     \u001B[38;5;28;01mreturn\u001B[39;00m \u001B[43mumr_sum\u001B[49m\u001B[43m(\u001B[49m\u001B[43ma\u001B[49m\u001B[43m,\u001B[49m\u001B[43m \u001B[49m\u001B[43maxis\u001B[49m\u001B[43m,\u001B[49m\u001B[43m \u001B[49m\u001B[43mdtype\u001B[49m\u001B[43m,\u001B[49m\u001B[43m \u001B[49m\u001B[43mout\u001B[49m\u001B[43m,\u001B[49m\u001B[43m \u001B[49m\u001B[43mkeepdims\u001B[49m\u001B[43m,\u001B[49m\u001B[43m \u001B[49m\u001B[43minitial\u001B[49m\u001B[43m,\u001B[49m\u001B[43m \u001B[49m\u001B[43mwhere\u001B[49m\u001B[43m)\u001B[49m\n",
      "\u001B[0;31mKeyboardInterrupt\u001B[0m: "
     ]
    }
   ],
   "execution_count": 17
  },
  {
   "metadata": {},
   "cell_type": "markdown",
   "source": "## Compare",
   "id": "cf156d634352e152"
  },
  {
   "metadata": {
    "ExecuteTime": {
     "end_time": "2025-07-12T09:15:09.839664Z",
     "start_time": "2025-07-12T09:02:49.772584Z"
    }
   },
   "cell_type": "code",
   "source": [
    "# Loading norm data\n",
    "norms = pd.read_csv('../../data/psychNorms/psychNorms_processed.zip', index_col=0, low_memory=False, compression='zip')\n",
    "norms_meta = pd.read_csv('../../data/psychNorms/psychNorms_metadata_processed.csv', index_col='norm')\n",
    "\n",
    "# Subsetting to glasgow\n",
    "norms = norms[[norm for norm in norms if 'glasgow' in norm]]\n",
    "\n",
    "# Running tests\n",
    "results = run_rca(to_compare, norms, norms_meta, n_jobs=10)\n",
    "results"
   ],
   "id": "3663685766bd1a9b",
   "outputs": [
    {
     "data": {
      "text/plain": [
       "  0%|          | 0/13 [00:00<?, ?it/s]"
      ],
      "application/vnd.jupyter.widget-view+json": {
       "version_major": 2,
       "version_minor": 0,
       "model_id": "85e05d3439f741098b9d0d09685d6d00"
      }
     },
     "metadata": {},
     "output_type": "display_data"
    },
    {
     "data": {
      "text/plain": [
       "fastText_CommonCrawl:   0%|          | 0/9 [00:00<?, ?it/s]"
      ],
      "application/vnd.jupyter.widget-view+json": {
       "version_major": 2,
       "version_minor": 0,
       "model_id": "1d3f1c24ce094cbdbab0025784824371"
      }
     },
     "metadata": {},
     "output_type": "display_data"
    },
    {
     "name": "stdout",
     "output_type": "stream",
     "text": [
      "                         norm  train_n   r2_mean     r2_sd check\n",
      "2        concreteness_glasgow     3705  0.806406  0.010490  pass\n",
      "3        imageability_glasgow     3705  0.751500  0.011450  pass\n",
      "1                 aoa_glasgow     3705  0.744070  0.018202  pass\n",
      "6             valence_glasgow     3705  0.729247  0.025791  pass\n",
      "5  gender_association_glasgow     3705  0.666486  0.035355  pass\n",
      "0         familiarity_glasgow     3705  0.664903  0.019769  pass\n",
      "4       semantic_size_glasgow     3705  0.661660  0.011675  pass\n",
      "7             arousal_glasgow     3705  0.569323  0.013773  pass\n",
      "8           dominance_glasgow     3705  0.532936  0.019119  pass\n"
     ]
    },
    {
     "data": {
      "text/plain": [
       "Llama_3_8B_0:   0%|          | 0/9 [00:00<?, ?it/s]"
      ],
      "application/vnd.jupyter.widget-view+json": {
       "version_major": 2,
       "version_minor": 0,
       "model_id": "dcbbcecb8cc044f6a699bd51f95c4f82"
      }
     },
     "metadata": {},
     "output_type": "display_data"
    },
    {
     "name": "stdout",
     "output_type": "stream",
     "text": [
      "                         norm  train_n   r2_mean     r2_sd check\n",
      "2        concreteness_glasgow     3705  0.728785  0.022854  pass\n",
      "3        imageability_glasgow     3705  0.674631  0.024971  pass\n",
      "4       semantic_size_glasgow     3705  0.596764  0.010804  pass\n",
      "6             valence_glasgow     3705  0.593209  0.017427  pass\n",
      "1                 aoa_glasgow     3705  0.592659  0.008804  pass\n",
      "0         familiarity_glasgow     3705  0.501898  0.021259  pass\n",
      "5  gender_association_glasgow     3705  0.482646  0.025521  pass\n",
      "7             arousal_glasgow     3705  0.468764  0.011144  pass\n",
      "8           dominance_glasgow     3705  0.431336  0.016009  pass\n"
     ]
    },
    {
     "data": {
      "text/plain": [
       "Llama_3_8B_1:   0%|          | 0/9 [00:00<?, ?it/s]"
      ],
      "application/vnd.jupyter.widget-view+json": {
       "version_major": 2,
       "version_minor": 0,
       "model_id": "84bd9ef12df2445ca6bcf129af181730"
      }
     },
     "metadata": {},
     "output_type": "display_data"
    },
    {
     "name": "stdout",
     "output_type": "stream",
     "text": [
      "                         norm  train_n   r2_mean     r2_sd check\n",
      "2        concreteness_glasgow     3705  0.809845  0.011987  pass\n",
      "3        imageability_glasgow     3705  0.749760  0.014348  pass\n",
      "6             valence_glasgow     3705  0.711922  0.020845  pass\n",
      "1                 aoa_glasgow     3705  0.692026  0.011807  pass\n",
      "4       semantic_size_glasgow     3705  0.686057  0.006163  pass\n",
      "0         familiarity_glasgow     3705  0.587842  0.012411  pass\n",
      "5  gender_association_glasgow     3705  0.573724  0.023965  pass\n",
      "7             arousal_glasgow     3705  0.566248  0.009085  pass\n",
      "8           dominance_glasgow     3705  0.532983  0.013185  pass\n"
     ]
    },
    {
     "data": {
      "text/plain": [
       "Llama_3_8B_2:   0%|          | 0/9 [00:00<?, ?it/s]"
      ],
      "application/vnd.jupyter.widget-view+json": {
       "version_major": 2,
       "version_minor": 0,
       "model_id": "65f86529807b4c08840453fcd49bf7a7"
      }
     },
     "metadata": {},
     "output_type": "display_data"
    },
    {
     "name": "stdout",
     "output_type": "stream",
     "text": [
      "                         norm  train_n   r2_mean     r2_sd check\n",
      "2        concreteness_glasgow     3705  0.806623  0.014664  pass\n",
      "3        imageability_glasgow     3705  0.750107  0.019755  pass\n",
      "6             valence_glasgow     3705  0.733508  0.015421  pass\n",
      "4       semantic_size_glasgow     3705  0.689008  0.017015  pass\n",
      "1                 aoa_glasgow     3705  0.660116  0.015414  pass\n",
      "5  gender_association_glasgow     3705  0.598233  0.018889  pass\n",
      "7             arousal_glasgow     3705  0.574990  0.014155  pass\n",
      "0         familiarity_glasgow     3705  0.564877  0.009206  pass\n",
      "8           dominance_glasgow     3705  0.534448  0.014723  pass\n"
     ]
    },
    {
     "data": {
      "text/plain": [
       "Llama_3_8B_012:   0%|          | 0/9 [00:00<?, ?it/s]"
      ],
      "application/vnd.jupyter.widget-view+json": {
       "version_major": 2,
       "version_minor": 0,
       "model_id": "629386bda532495f871ca3be6ac42a60"
      }
     },
     "metadata": {},
     "output_type": "display_data"
    },
    {
     "name": "stdout",
     "output_type": "stream",
     "text": [
      "                         norm  train_n   r2_mean     r2_sd check\n",
      "2        concreteness_glasgow     3705  0.817338  0.014477  pass\n",
      "3        imageability_glasgow     3705  0.759873  0.017396  pass\n",
      "6             valence_glasgow     3705  0.736481  0.019971  pass\n",
      "4       semantic_size_glasgow     3705  0.698210  0.016626  pass\n",
      "1                 aoa_glasgow     3705  0.691481  0.014425  pass\n",
      "5  gender_association_glasgow     3705  0.605429  0.021191  pass\n",
      "0         familiarity_glasgow     3705  0.591983  0.013094  pass\n",
      "7             arousal_glasgow     3705  0.580573  0.012038  pass\n",
      "8           dominance_glasgow     3705  0.543795  0.015847  pass\n"
     ]
    },
    {
     "data": {
      "text/plain": [
       "Llama_3_8B_12:   0%|          | 0/9 [00:00<?, ?it/s]"
      ],
      "application/vnd.jupyter.widget-view+json": {
       "version_major": 2,
       "version_minor": 0,
       "model_id": "e27e929ca0dd4024894afb018a5a827d"
      }
     },
     "metadata": {},
     "output_type": "display_data"
    },
    {
     "name": "stdout",
     "output_type": "stream",
     "text": [
      "                         norm  train_n   r2_mean     r2_sd check\n",
      "2        concreteness_glasgow     3705  0.816883  0.012927  pass\n",
      "3        imageability_glasgow     3705  0.760858  0.016616  pass\n",
      "6             valence_glasgow     3705  0.740695  0.011595  pass\n",
      "4       semantic_size_glasgow     3705  0.699572  0.015547  pass\n",
      "1                 aoa_glasgow     3705  0.689229  0.016934  pass\n",
      "5  gender_association_glasgow     3705  0.608411  0.020159  pass\n",
      "0         familiarity_glasgow     3705  0.594458  0.010235  pass\n",
      "7             arousal_glasgow     3705  0.586791  0.012008  pass\n",
      "8           dominance_glasgow     3705  0.547532  0.013113  pass\n"
     ]
    },
    {
     "data": {
      "text/plain": [
       "Llama_3_8B_12_pca:   0%|          | 0/9 [00:00<?, ?it/s]"
      ],
      "application/vnd.jupyter.widget-view+json": {
       "version_major": 2,
       "version_minor": 0,
       "model_id": "cf07ec7b05fb41f4b9539ea36c394e7f"
      }
     },
     "metadata": {},
     "output_type": "display_data"
    },
    {
     "name": "stdout",
     "output_type": "stream",
     "text": [
      "                         norm  train_n   r2_mean     r2_sd check\n",
      "2        concreteness_glasgow     3705  0.677794  0.010213  pass\n",
      "6             valence_glasgow     3705  0.663785  0.016939  pass\n",
      "3        imageability_glasgow     3705  0.611887  0.014244  pass\n",
      "4       semantic_size_glasgow     3705  0.594199  0.016618  pass\n",
      "1                 aoa_glasgow     3705  0.538224  0.023903  pass\n",
      "5  gender_association_glasgow     3705  0.487299  0.039133  pass\n",
      "7             arousal_glasgow     3705  0.460180  0.033356  pass\n",
      "8           dominance_glasgow     3705  0.420904  0.034180  pass\n",
      "0         familiarity_glasgow     3705  0.417479  0.010367  pass\n"
     ]
    },
    {
     "data": {
      "text/plain": [
       "BERT_large_0:   0%|          | 0/9 [00:00<?, ?it/s]"
      ],
      "application/vnd.jupyter.widget-view+json": {
       "version_major": 2,
       "version_minor": 0,
       "model_id": "49eff0447a7b406bb9ad50f1f486d1f0"
      }
     },
     "metadata": {},
     "output_type": "display_data"
    },
    {
     "name": "stdout",
     "output_type": "stream",
     "text": [
      "                         norm  train_n   r2_mean     r2_sd check\n",
      "2        concreteness_glasgow     3705  0.693819  0.013818  pass\n",
      "3        imageability_glasgow     3705  0.634103  0.015326  pass\n",
      "4       semantic_size_glasgow     3705  0.554692  0.024741  pass\n",
      "6             valence_glasgow     3705  0.550414  0.019576  pass\n",
      "1                 aoa_glasgow     3705  0.544505  0.018981  pass\n",
      "0         familiarity_glasgow     3705  0.462700  0.027213  pass\n",
      "5  gender_association_glasgow     3705  0.462572  0.026487  pass\n",
      "7             arousal_glasgow     3705  0.444214  0.030547  pass\n",
      "8           dominance_glasgow     3705  0.397344  0.014824  pass\n"
     ]
    },
    {
     "data": {
      "text/plain": [
       "BERT_large_1:   0%|          | 0/9 [00:00<?, ?it/s]"
      ],
      "application/vnd.jupyter.widget-view+json": {
       "version_major": 2,
       "version_minor": 0,
       "model_id": "8efb882280ea4d649afdf47401accce9"
      }
     },
     "metadata": {},
     "output_type": "display_data"
    },
    {
     "name": "stdout",
     "output_type": "stream",
     "text": [
      "                         norm  train_n   r2_mean     r2_sd check\n",
      "2        concreteness_glasgow     3705  0.818624  0.011994  pass\n",
      "3        imageability_glasgow     3705  0.766894  0.015934  pass\n",
      "6             valence_glasgow     3705  0.761208  0.019699  pass\n",
      "4       semantic_size_glasgow     3705  0.692673  0.009141  pass\n",
      "1                 aoa_glasgow     3705  0.673347  0.008410  pass\n",
      "5  gender_association_glasgow     3705  0.638930  0.030228  pass\n",
      "7             arousal_glasgow     3705  0.585532  0.023245  pass\n",
      "8           dominance_glasgow     3705  0.572923  0.022465  pass\n",
      "0         familiarity_glasgow     3705  0.551531  0.028296  pass\n"
     ]
    },
    {
     "data": {
      "text/plain": [
       "BERT_large_2:   0%|          | 0/9 [00:00<?, ?it/s]"
      ],
      "application/vnd.jupyter.widget-view+json": {
       "version_major": 2,
       "version_minor": 0,
       "model_id": "f0d392faf4f1491fa4976ef8ec1ffef6"
      }
     },
     "metadata": {},
     "output_type": "display_data"
    },
    {
     "name": "stdout",
     "output_type": "stream",
     "text": [
      "                         norm  train_n   r2_mean     r2_sd check\n",
      "2        concreteness_glasgow     3705  0.765055  0.010530  pass\n",
      "3        imageability_glasgow     3705  0.708047  0.012424  pass\n",
      "6             valence_glasgow     3705  0.694481  0.025886  pass\n",
      "4       semantic_size_glasgow     3705  0.630229  0.009214  pass\n",
      "1                 aoa_glasgow     3705  0.608934  0.013159  pass\n",
      "5  gender_association_glasgow     3705  0.530669  0.037692  pass\n",
      "7             arousal_glasgow     3705  0.527152  0.043292  pass\n",
      "8           dominance_glasgow     3705  0.515479  0.028075  pass\n",
      "0         familiarity_glasgow     3705  0.503782  0.024680  pass\n"
     ]
    },
    {
     "data": {
      "text/plain": [
       "BERT_large_012:   0%|          | 0/9 [00:00<?, ?it/s]"
      ],
      "application/vnd.jupyter.widget-view+json": {
       "version_major": 2,
       "version_minor": 0,
       "model_id": "6f80fa546d834b37819cbcee409dea6d"
      }
     },
     "metadata": {},
     "output_type": "display_data"
    },
    {
     "name": "stdout",
     "output_type": "stream",
     "text": [
      "                         norm  train_n   r2_mean     r2_sd check\n",
      "2        concreteness_glasgow     3705  0.812260  0.013623  pass\n",
      "3        imageability_glasgow     3705  0.761864  0.012816  pass\n",
      "6             valence_glasgow     3705  0.749975  0.014269  pass\n",
      "4       semantic_size_glasgow     3705  0.687041  0.010590  pass\n",
      "1                 aoa_glasgow     3705  0.674546  0.011384  pass\n",
      "5  gender_association_glasgow     3705  0.618029  0.036581  pass\n",
      "7             arousal_glasgow     3705  0.588630  0.031029  pass\n",
      "8           dominance_glasgow     3705  0.572958  0.020643  pass\n",
      "0         familiarity_glasgow     3705  0.554534  0.022708  pass\n"
     ]
    },
    {
     "data": {
      "text/plain": [
       "BERT_large_12:   0%|          | 0/9 [00:00<?, ?it/s]"
      ],
      "application/vnd.jupyter.widget-view+json": {
       "version_major": 2,
       "version_minor": 0,
       "model_id": "62a728125d2a4458b72e2aca25744027"
      }
     },
     "metadata": {},
     "output_type": "display_data"
    },
    {
     "name": "stdout",
     "output_type": "stream",
     "text": [
      "                         norm  train_n   r2_mean     r2_sd check\n",
      "2        concreteness_glasgow     3705  0.814668  0.012081  pass\n",
      "3        imageability_glasgow     3705  0.764887  0.013041  pass\n",
      "6             valence_glasgow     3705  0.762466  0.018970  pass\n",
      "4       semantic_size_glasgow     3705  0.694265  0.007023  pass\n",
      "1                 aoa_glasgow     3705  0.675675  0.009813  pass\n",
      "5  gender_association_glasgow     3705  0.622435  0.037686  pass\n",
      "7             arousal_glasgow     3705  0.587701  0.030402  pass\n",
      "8           dominance_glasgow     3705  0.579053  0.025905  pass\n",
      "0         familiarity_glasgow     3705  0.551068  0.026230  pass\n"
     ]
    },
    {
     "data": {
      "text/plain": [
       "BERT_large_12_pca:   0%|          | 0/9 [00:00<?, ?it/s]"
      ],
      "application/vnd.jupyter.widget-view+json": {
       "version_major": 2,
       "version_minor": 0,
       "model_id": "6dd6cff951964fdeb939f1bbf0a8caa9"
      }
     },
     "metadata": {},
     "output_type": "display_data"
    },
    {
     "name": "stdout",
     "output_type": "stream",
     "text": [
      "                         norm  train_n   r2_mean     r2_sd check\n",
      "2        concreteness_glasgow     3705  0.795866  0.015213  pass\n",
      "6             valence_glasgow     3705  0.747387  0.024088  pass\n",
      "3        imageability_glasgow     3705  0.743296  0.016243  pass\n",
      "4       semantic_size_glasgow     3705  0.674465  0.010387  pass\n",
      "1                 aoa_glasgow     3705  0.646638  0.007291  pass\n",
      "5  gender_association_glasgow     3705  0.599596  0.042816  pass\n",
      "7             arousal_glasgow     3705  0.557572  0.026752  pass\n",
      "8           dominance_glasgow     3705  0.552498  0.033853  pass\n",
      "0         familiarity_glasgow     3705  0.514401  0.018756  pass\n"
     ]
    },
    {
     "data": {
      "text/plain": [
       "                    embed embed_type                        norm  train_n  \\\n",
       "0    fastText_CommonCrawl       None         familiarity_glasgow     3705   \n",
       "1    fastText_CommonCrawl       None                 aoa_glasgow     3705   \n",
       "2    fastText_CommonCrawl       None        concreteness_glasgow     3705   \n",
       "3    fastText_CommonCrawl       None        imageability_glasgow     3705   \n",
       "4    fastText_CommonCrawl       None       semantic_size_glasgow     3705   \n",
       "..                    ...        ...                         ...      ...   \n",
       "112     BERT_large_12_pca       None       semantic_size_glasgow     3705   \n",
       "113     BERT_large_12_pca       None  gender_association_glasgow     3705   \n",
       "114     BERT_large_12_pca       None             valence_glasgow     3705   \n",
       "115     BERT_large_12_pca       None             arousal_glasgow     3705   \n",
       "116     BERT_large_12_pca       None           dominance_glasgow     3705   \n",
       "\n",
       "     test_n    p   r2_mean     r2_sd check  \n",
       "0       927  300  0.664903  0.019769  pass  \n",
       "1       927  300  0.744070  0.018202  pass  \n",
       "2       927  300  0.806406  0.010490  pass  \n",
       "3       927  300  0.751500  0.011450  pass  \n",
       "4       927  300  0.661660  0.011675  pass  \n",
       "..      ...  ...       ...       ...   ...  \n",
       "112     927  510  0.674465  0.010387  pass  \n",
       "113     927  510  0.599596  0.042816  pass  \n",
       "114     927  510  0.747387  0.024088  pass  \n",
       "115     927  510  0.557572  0.026752  pass  \n",
       "116     927  510  0.552498  0.033853  pass  \n",
       "\n",
       "[117 rows x 9 columns]"
      ],
      "text/html": [
       "<div>\n",
       "<style scoped>\n",
       "    .dataframe tbody tr th:only-of-type {\n",
       "        vertical-align: middle;\n",
       "    }\n",
       "\n",
       "    .dataframe tbody tr th {\n",
       "        vertical-align: top;\n",
       "    }\n",
       "\n",
       "    .dataframe thead th {\n",
       "        text-align: right;\n",
       "    }\n",
       "</style>\n",
       "<table border=\"1\" class=\"dataframe\">\n",
       "  <thead>\n",
       "    <tr style=\"text-align: right;\">\n",
       "      <th></th>\n",
       "      <th>embed</th>\n",
       "      <th>embed_type</th>\n",
       "      <th>norm</th>\n",
       "      <th>train_n</th>\n",
       "      <th>test_n</th>\n",
       "      <th>p</th>\n",
       "      <th>r2_mean</th>\n",
       "      <th>r2_sd</th>\n",
       "      <th>check</th>\n",
       "    </tr>\n",
       "  </thead>\n",
       "  <tbody>\n",
       "    <tr>\n",
       "      <th>0</th>\n",
       "      <td>fastText_CommonCrawl</td>\n",
       "      <td>None</td>\n",
       "      <td>familiarity_glasgow</td>\n",
       "      <td>3705</td>\n",
       "      <td>927</td>\n",
       "      <td>300</td>\n",
       "      <td>0.664903</td>\n",
       "      <td>0.019769</td>\n",
       "      <td>pass</td>\n",
       "    </tr>\n",
       "    <tr>\n",
       "      <th>1</th>\n",
       "      <td>fastText_CommonCrawl</td>\n",
       "      <td>None</td>\n",
       "      <td>aoa_glasgow</td>\n",
       "      <td>3705</td>\n",
       "      <td>927</td>\n",
       "      <td>300</td>\n",
       "      <td>0.744070</td>\n",
       "      <td>0.018202</td>\n",
       "      <td>pass</td>\n",
       "    </tr>\n",
       "    <tr>\n",
       "      <th>2</th>\n",
       "      <td>fastText_CommonCrawl</td>\n",
       "      <td>None</td>\n",
       "      <td>concreteness_glasgow</td>\n",
       "      <td>3705</td>\n",
       "      <td>927</td>\n",
       "      <td>300</td>\n",
       "      <td>0.806406</td>\n",
       "      <td>0.010490</td>\n",
       "      <td>pass</td>\n",
       "    </tr>\n",
       "    <tr>\n",
       "      <th>3</th>\n",
       "      <td>fastText_CommonCrawl</td>\n",
       "      <td>None</td>\n",
       "      <td>imageability_glasgow</td>\n",
       "      <td>3705</td>\n",
       "      <td>927</td>\n",
       "      <td>300</td>\n",
       "      <td>0.751500</td>\n",
       "      <td>0.011450</td>\n",
       "      <td>pass</td>\n",
       "    </tr>\n",
       "    <tr>\n",
       "      <th>4</th>\n",
       "      <td>fastText_CommonCrawl</td>\n",
       "      <td>None</td>\n",
       "      <td>semantic_size_glasgow</td>\n",
       "      <td>3705</td>\n",
       "      <td>927</td>\n",
       "      <td>300</td>\n",
       "      <td>0.661660</td>\n",
       "      <td>0.011675</td>\n",
       "      <td>pass</td>\n",
       "    </tr>\n",
       "    <tr>\n",
       "      <th>...</th>\n",
       "      <td>...</td>\n",
       "      <td>...</td>\n",
       "      <td>...</td>\n",
       "      <td>...</td>\n",
       "      <td>...</td>\n",
       "      <td>...</td>\n",
       "      <td>...</td>\n",
       "      <td>...</td>\n",
       "      <td>...</td>\n",
       "    </tr>\n",
       "    <tr>\n",
       "      <th>112</th>\n",
       "      <td>BERT_large_12_pca</td>\n",
       "      <td>None</td>\n",
       "      <td>semantic_size_glasgow</td>\n",
       "      <td>3705</td>\n",
       "      <td>927</td>\n",
       "      <td>510</td>\n",
       "      <td>0.674465</td>\n",
       "      <td>0.010387</td>\n",
       "      <td>pass</td>\n",
       "    </tr>\n",
       "    <tr>\n",
       "      <th>113</th>\n",
       "      <td>BERT_large_12_pca</td>\n",
       "      <td>None</td>\n",
       "      <td>gender_association_glasgow</td>\n",
       "      <td>3705</td>\n",
       "      <td>927</td>\n",
       "      <td>510</td>\n",
       "      <td>0.599596</td>\n",
       "      <td>0.042816</td>\n",
       "      <td>pass</td>\n",
       "    </tr>\n",
       "    <tr>\n",
       "      <th>114</th>\n",
       "      <td>BERT_large_12_pca</td>\n",
       "      <td>None</td>\n",
       "      <td>valence_glasgow</td>\n",
       "      <td>3705</td>\n",
       "      <td>927</td>\n",
       "      <td>510</td>\n",
       "      <td>0.747387</td>\n",
       "      <td>0.024088</td>\n",
       "      <td>pass</td>\n",
       "    </tr>\n",
       "    <tr>\n",
       "      <th>115</th>\n",
       "      <td>BERT_large_12_pca</td>\n",
       "      <td>None</td>\n",
       "      <td>arousal_glasgow</td>\n",
       "      <td>3705</td>\n",
       "      <td>927</td>\n",
       "      <td>510</td>\n",
       "      <td>0.557572</td>\n",
       "      <td>0.026752</td>\n",
       "      <td>pass</td>\n",
       "    </tr>\n",
       "    <tr>\n",
       "      <th>116</th>\n",
       "      <td>BERT_large_12_pca</td>\n",
       "      <td>None</td>\n",
       "      <td>dominance_glasgow</td>\n",
       "      <td>3705</td>\n",
       "      <td>927</td>\n",
       "      <td>510</td>\n",
       "      <td>0.552498</td>\n",
       "      <td>0.033853</td>\n",
       "      <td>pass</td>\n",
       "    </tr>\n",
       "  </tbody>\n",
       "</table>\n",
       "<p>117 rows × 9 columns</p>\n",
       "</div>"
      ]
     },
     "execution_count": 3,
     "metadata": {},
     "output_type": "execute_result"
    }
   ],
   "execution_count": 3
  },
  {
   "metadata": {
    "ExecuteTime": {
     "end_time": "2025-07-12T09:15:58.567459Z",
     "start_time": "2025-07-12T09:15:58.554864Z"
    }
   },
   "cell_type": "code",
   "source": [
    "resuls_piv = results[['embed', 'norm', 'r2_mean']].pivot(index='norm', columns='embed', values='r2_mean')\n",
    "resuls_piv"
   ],
   "id": "d200f8fc12267e9c",
   "outputs": [
    {
     "data": {
      "text/plain": [
       "embed                       BERT_large_0  BERT_large_012  BERT_large_1  \\\n",
       "norm                                                                     \n",
       "aoa_glasgow                     0.544505        0.674546      0.673347   \n",
       "arousal_glasgow                 0.444214        0.588630      0.585532   \n",
       "concreteness_glasgow            0.693819        0.812260      0.818624   \n",
       "dominance_glasgow               0.397344        0.572958      0.572923   \n",
       "familiarity_glasgow             0.462700        0.554534      0.551531   \n",
       "gender_association_glasgow      0.462572        0.618029      0.638930   \n",
       "imageability_glasgow            0.634103        0.761864      0.766894   \n",
       "semantic_size_glasgow           0.554692        0.687041      0.692673   \n",
       "valence_glasgow                 0.550414        0.749975      0.761208   \n",
       "\n",
       "embed                       BERT_large_12  BERT_large_12_pca  BERT_large_2  \\\n",
       "norm                                                                         \n",
       "aoa_glasgow                      0.675675           0.646638      0.608934   \n",
       "arousal_glasgow                  0.587701           0.557572      0.527152   \n",
       "concreteness_glasgow             0.814668           0.795866      0.765055   \n",
       "dominance_glasgow                0.579053           0.552498      0.515479   \n",
       "familiarity_glasgow              0.551068           0.514401      0.503782   \n",
       "gender_association_glasgow       0.622435           0.599596      0.530669   \n",
       "imageability_glasgow             0.764887           0.743296      0.708047   \n",
       "semantic_size_glasgow            0.694265           0.674465      0.630229   \n",
       "valence_glasgow                  0.762466           0.747387      0.694481   \n",
       "\n",
       "embed                       Llama_3_8B_0  Llama_3_8B_012  Llama_3_8B_1  \\\n",
       "norm                                                                     \n",
       "aoa_glasgow                     0.592659        0.691481      0.692026   \n",
       "arousal_glasgow                 0.468764        0.580573      0.566248   \n",
       "concreteness_glasgow            0.728785        0.817338      0.809845   \n",
       "dominance_glasgow               0.431336        0.543795      0.532983   \n",
       "familiarity_glasgow             0.501898        0.591983      0.587842   \n",
       "gender_association_glasgow      0.482646        0.605429      0.573724   \n",
       "imageability_glasgow            0.674631        0.759873      0.749760   \n",
       "semantic_size_glasgow           0.596764        0.698210      0.686057   \n",
       "valence_glasgow                 0.593209        0.736481      0.711922   \n",
       "\n",
       "embed                       Llama_3_8B_12  Llama_3_8B_12_pca  Llama_3_8B_2  \\\n",
       "norm                                                                         \n",
       "aoa_glasgow                      0.689229           0.538224      0.660116   \n",
       "arousal_glasgow                  0.586791           0.460180      0.574990   \n",
       "concreteness_glasgow             0.816883           0.677794      0.806623   \n",
       "dominance_glasgow                0.547532           0.420904      0.534448   \n",
       "familiarity_glasgow              0.594458           0.417479      0.564877   \n",
       "gender_association_glasgow       0.608411           0.487299      0.598233   \n",
       "imageability_glasgow             0.760858           0.611887      0.750107   \n",
       "semantic_size_glasgow            0.699572           0.594199      0.689008   \n",
       "valence_glasgow                  0.740695           0.663785      0.733508   \n",
       "\n",
       "embed                       fastText_CommonCrawl  \n",
       "norm                                              \n",
       "aoa_glasgow                             0.744070  \n",
       "arousal_glasgow                         0.569323  \n",
       "concreteness_glasgow                    0.806406  \n",
       "dominance_glasgow                       0.532936  \n",
       "familiarity_glasgow                     0.664903  \n",
       "gender_association_glasgow              0.666486  \n",
       "imageability_glasgow                    0.751500  \n",
       "semantic_size_glasgow                   0.661660  \n",
       "valence_glasgow                         0.729247  "
      ],
      "text/html": [
       "<div>\n",
       "<style scoped>\n",
       "    .dataframe tbody tr th:only-of-type {\n",
       "        vertical-align: middle;\n",
       "    }\n",
       "\n",
       "    .dataframe tbody tr th {\n",
       "        vertical-align: top;\n",
       "    }\n",
       "\n",
       "    .dataframe thead th {\n",
       "        text-align: right;\n",
       "    }\n",
       "</style>\n",
       "<table border=\"1\" class=\"dataframe\">\n",
       "  <thead>\n",
       "    <tr style=\"text-align: right;\">\n",
       "      <th>embed</th>\n",
       "      <th>BERT_large_0</th>\n",
       "      <th>BERT_large_012</th>\n",
       "      <th>BERT_large_1</th>\n",
       "      <th>BERT_large_12</th>\n",
       "      <th>BERT_large_12_pca</th>\n",
       "      <th>BERT_large_2</th>\n",
       "      <th>Llama_3_8B_0</th>\n",
       "      <th>Llama_3_8B_012</th>\n",
       "      <th>Llama_3_8B_1</th>\n",
       "      <th>Llama_3_8B_12</th>\n",
       "      <th>Llama_3_8B_12_pca</th>\n",
       "      <th>Llama_3_8B_2</th>\n",
       "      <th>fastText_CommonCrawl</th>\n",
       "    </tr>\n",
       "    <tr>\n",
       "      <th>norm</th>\n",
       "      <th></th>\n",
       "      <th></th>\n",
       "      <th></th>\n",
       "      <th></th>\n",
       "      <th></th>\n",
       "      <th></th>\n",
       "      <th></th>\n",
       "      <th></th>\n",
       "      <th></th>\n",
       "      <th></th>\n",
       "      <th></th>\n",
       "      <th></th>\n",
       "      <th></th>\n",
       "    </tr>\n",
       "  </thead>\n",
       "  <tbody>\n",
       "    <tr>\n",
       "      <th>aoa_glasgow</th>\n",
       "      <td>0.544505</td>\n",
       "      <td>0.674546</td>\n",
       "      <td>0.673347</td>\n",
       "      <td>0.675675</td>\n",
       "      <td>0.646638</td>\n",
       "      <td>0.608934</td>\n",
       "      <td>0.592659</td>\n",
       "      <td>0.691481</td>\n",
       "      <td>0.692026</td>\n",
       "      <td>0.689229</td>\n",
       "      <td>0.538224</td>\n",
       "      <td>0.660116</td>\n",
       "      <td>0.744070</td>\n",
       "    </tr>\n",
       "    <tr>\n",
       "      <th>arousal_glasgow</th>\n",
       "      <td>0.444214</td>\n",
       "      <td>0.588630</td>\n",
       "      <td>0.585532</td>\n",
       "      <td>0.587701</td>\n",
       "      <td>0.557572</td>\n",
       "      <td>0.527152</td>\n",
       "      <td>0.468764</td>\n",
       "      <td>0.580573</td>\n",
       "      <td>0.566248</td>\n",
       "      <td>0.586791</td>\n",
       "      <td>0.460180</td>\n",
       "      <td>0.574990</td>\n",
       "      <td>0.569323</td>\n",
       "    </tr>\n",
       "    <tr>\n",
       "      <th>concreteness_glasgow</th>\n",
       "      <td>0.693819</td>\n",
       "      <td>0.812260</td>\n",
       "      <td>0.818624</td>\n",
       "      <td>0.814668</td>\n",
       "      <td>0.795866</td>\n",
       "      <td>0.765055</td>\n",
       "      <td>0.728785</td>\n",
       "      <td>0.817338</td>\n",
       "      <td>0.809845</td>\n",
       "      <td>0.816883</td>\n",
       "      <td>0.677794</td>\n",
       "      <td>0.806623</td>\n",
       "      <td>0.806406</td>\n",
       "    </tr>\n",
       "    <tr>\n",
       "      <th>dominance_glasgow</th>\n",
       "      <td>0.397344</td>\n",
       "      <td>0.572958</td>\n",
       "      <td>0.572923</td>\n",
       "      <td>0.579053</td>\n",
       "      <td>0.552498</td>\n",
       "      <td>0.515479</td>\n",
       "      <td>0.431336</td>\n",
       "      <td>0.543795</td>\n",
       "      <td>0.532983</td>\n",
       "      <td>0.547532</td>\n",
       "      <td>0.420904</td>\n",
       "      <td>0.534448</td>\n",
       "      <td>0.532936</td>\n",
       "    </tr>\n",
       "    <tr>\n",
       "      <th>familiarity_glasgow</th>\n",
       "      <td>0.462700</td>\n",
       "      <td>0.554534</td>\n",
       "      <td>0.551531</td>\n",
       "      <td>0.551068</td>\n",
       "      <td>0.514401</td>\n",
       "      <td>0.503782</td>\n",
       "      <td>0.501898</td>\n",
       "      <td>0.591983</td>\n",
       "      <td>0.587842</td>\n",
       "      <td>0.594458</td>\n",
       "      <td>0.417479</td>\n",
       "      <td>0.564877</td>\n",
       "      <td>0.664903</td>\n",
       "    </tr>\n",
       "    <tr>\n",
       "      <th>gender_association_glasgow</th>\n",
       "      <td>0.462572</td>\n",
       "      <td>0.618029</td>\n",
       "      <td>0.638930</td>\n",
       "      <td>0.622435</td>\n",
       "      <td>0.599596</td>\n",
       "      <td>0.530669</td>\n",
       "      <td>0.482646</td>\n",
       "      <td>0.605429</td>\n",
       "      <td>0.573724</td>\n",
       "      <td>0.608411</td>\n",
       "      <td>0.487299</td>\n",
       "      <td>0.598233</td>\n",
       "      <td>0.666486</td>\n",
       "    </tr>\n",
       "    <tr>\n",
       "      <th>imageability_glasgow</th>\n",
       "      <td>0.634103</td>\n",
       "      <td>0.761864</td>\n",
       "      <td>0.766894</td>\n",
       "      <td>0.764887</td>\n",
       "      <td>0.743296</td>\n",
       "      <td>0.708047</td>\n",
       "      <td>0.674631</td>\n",
       "      <td>0.759873</td>\n",
       "      <td>0.749760</td>\n",
       "      <td>0.760858</td>\n",
       "      <td>0.611887</td>\n",
       "      <td>0.750107</td>\n",
       "      <td>0.751500</td>\n",
       "    </tr>\n",
       "    <tr>\n",
       "      <th>semantic_size_glasgow</th>\n",
       "      <td>0.554692</td>\n",
       "      <td>0.687041</td>\n",
       "      <td>0.692673</td>\n",
       "      <td>0.694265</td>\n",
       "      <td>0.674465</td>\n",
       "      <td>0.630229</td>\n",
       "      <td>0.596764</td>\n",
       "      <td>0.698210</td>\n",
       "      <td>0.686057</td>\n",
       "      <td>0.699572</td>\n",
       "      <td>0.594199</td>\n",
       "      <td>0.689008</td>\n",
       "      <td>0.661660</td>\n",
       "    </tr>\n",
       "    <tr>\n",
       "      <th>valence_glasgow</th>\n",
       "      <td>0.550414</td>\n",
       "      <td>0.749975</td>\n",
       "      <td>0.761208</td>\n",
       "      <td>0.762466</td>\n",
       "      <td>0.747387</td>\n",
       "      <td>0.694481</td>\n",
       "      <td>0.593209</td>\n",
       "      <td>0.736481</td>\n",
       "      <td>0.711922</td>\n",
       "      <td>0.740695</td>\n",
       "      <td>0.663785</td>\n",
       "      <td>0.733508</td>\n",
       "      <td>0.729247</td>\n",
       "    </tr>\n",
       "  </tbody>\n",
       "</table>\n",
       "</div>"
      ]
     },
     "execution_count": 9,
     "metadata": {},
     "output_type": "execute_result"
    }
   ],
   "execution_count": 9
  },
  {
   "metadata": {
    "ExecuteTime": {
     "end_time": "2025-07-12T09:15:59.104125Z",
     "start_time": "2025-07-12T09:15:59.097734Z"
    }
   },
   "cell_type": "code",
   "source": [
    "# Finding the top-performing\n",
    "sorted_overall = resuls_piv.mean().sort_values(ascending=False)\n",
    "sorted_overall"
   ],
   "id": "5998b48754036aec",
   "outputs": [
    {
     "data": {
      "text/plain": [
       "embed\n",
       "fastText_CommonCrawl    0.680726\n",
       "BERT_large_1            0.673518\n",
       "BERT_large_12           0.672469\n",
       "Llama_3_8B_12           0.671603\n",
       "Llama_3_8B_012          0.669463\n",
       "BERT_large_012          0.668871\n",
       "Llama_3_8B_2            0.656879\n",
       "Llama_3_8B_1            0.656712\n",
       "BERT_large_12_pca       0.647969\n",
       "BERT_large_2            0.609314\n",
       "Llama_3_8B_0            0.563410\n",
       "Llama_3_8B_12_pca       0.541306\n",
       "BERT_large_0            0.527151\n",
       "dtype: float64"
      ]
     },
     "execution_count": 10,
     "metadata": {},
     "output_type": "execute_result"
    }
   ],
   "execution_count": 10
  },
  {
   "metadata": {
    "ExecuteTime": {
     "end_time": "2025-07-12T09:18:26.841391Z",
     "start_time": "2025-07-12T09:18:26.792412Z"
    }
   },
   "cell_type": "code",
   "source": "Llama_3_8B_12",
   "id": "ce1f504567b1358c",
   "outputs": [
    {
     "data": {
      "text/plain": [
       "                  0         1         2         3         4         5  \\\n",
       "ABC        0.189453 -1.609375  2.171875 -1.582031  0.859375 -1.960938   \n",
       "AI        -1.566406  0.176636  0.636719 -4.281250  2.484375  1.099121   \n",
       "Aaron     -0.206055 -0.132812 -4.195312  1.617188  0.724609  0.179688   \n",
       "Abe       -2.328125  1.726562 -1.523438  2.617188 -4.265625  0.288086   \n",
       "Abel      -2.929688 -0.282227  2.609375 -0.161865 -3.335938  0.471146   \n",
       "...             ...       ...       ...       ...       ...       ...   \n",
       "zoom      -0.549805 -0.824219  3.242188  1.152344  2.097656  1.523438   \n",
       "zooming   -0.153320 -0.391602  3.156250  0.383789  1.472656  1.503906   \n",
       "zoophobia  0.738281 -2.273438  1.933594 -1.084717 -0.391846  3.140625   \n",
       "zucchini   0.341797 -1.017578  2.195312  0.048828  0.443359  3.062500   \n",
       "zygote     1.000000 -2.664062  1.556641 -2.218750  0.219482  3.070312   \n",
       "\n",
       "                  6         7         8         9  ...      4086      4087  \\\n",
       "ABC       -2.828125 -0.089844 -1.157227  3.281250  ... -0.403320 -2.351562   \n",
       "AI        -0.573090  1.021484  0.211914  1.468750  ...  2.707031 -2.585938   \n",
       "Aaron     -1.687500  1.550781 -2.789062  0.610840  ... -3.195312  2.650391   \n",
       "Abe       -2.246094  3.695312  0.273438  4.906250  ... -1.851562  1.902344   \n",
       "Abel      -3.492188 -0.062500 -0.295410 -0.246094  ... -1.695312 -1.808594   \n",
       "...             ...       ...       ...       ...  ...       ...       ...   \n",
       "zoom      -0.791016  1.021484  0.636719  1.527344  ...  1.292969 -2.351562   \n",
       "zooming   -1.406250 -0.122070  1.734375  0.954102  ...  1.037109 -1.343750   \n",
       "zoophobia -2.390625  1.486328 -0.574219  0.581055  ...  0.328125  1.109375   \n",
       "zucchini   0.572266 -0.417969 -1.554688 -0.011719  ... -2.031250 -0.777344   \n",
       "zygote    -1.421875 -0.229736 -0.180176 -0.123047  ...  0.604492 -0.246094   \n",
       "\n",
       "               4088      4089      4090      4091      4092      4093  \\\n",
       "ABC        0.460938 -1.328125 -1.378906  1.578125 -2.523438 -4.070312   \n",
       "AI         1.613281  1.421875 -1.289062  1.283203 -1.445312 -0.927734   \n",
       "Aaron      1.636719  2.976562 -0.875000  1.457031  0.892578 -2.492188   \n",
       "Abe        2.003906  1.552734 -4.406250 -3.367188 -3.289062 -2.562500   \n",
       "Abel       2.914062  0.959717  0.157227  0.011719 -0.902344  1.271484   \n",
       "...             ...       ...       ...       ...       ...       ...   \n",
       "zoom       0.349609  2.664062 -3.312500  0.596680 -2.136719 -3.562500   \n",
       "zooming   -0.480469  1.832031 -2.929688  1.628906 -1.410156 -2.453125   \n",
       "zoophobia -3.578125 -0.894531 -2.304688  0.183594  2.984375 -0.187500   \n",
       "zucchini   1.898438 -0.189453 -1.316406 -0.308594 -0.129883  0.100586   \n",
       "zygote     0.266113  0.094238 -0.272705 -2.421875  0.424316  1.054688   \n",
       "\n",
       "               4094      4095  \n",
       "ABC        2.136719 -0.890625  \n",
       "AI        -1.937500  0.412598  \n",
       "Aaron     -3.593750 -0.288086  \n",
       "Abe       -3.140625  0.612793  \n",
       "Abel      -4.734375 -1.621094  \n",
       "...             ...       ...  \n",
       "zoom       0.193604 -2.037109  \n",
       "zooming    0.828125 -2.503906  \n",
       "zoophobia  0.610352 -1.136719  \n",
       "zucchini   0.318359 -1.921875  \n",
       "zygote     0.438232  1.289062  \n",
       "\n",
       "[46246 rows x 4096 columns]"
      ],
      "text/html": [
       "<div>\n",
       "<style scoped>\n",
       "    .dataframe tbody tr th:only-of-type {\n",
       "        vertical-align: middle;\n",
       "    }\n",
       "\n",
       "    .dataframe tbody tr th {\n",
       "        vertical-align: top;\n",
       "    }\n",
       "\n",
       "    .dataframe thead th {\n",
       "        text-align: right;\n",
       "    }\n",
       "</style>\n",
       "<table border=\"1\" class=\"dataframe\">\n",
       "  <thead>\n",
       "    <tr style=\"text-align: right;\">\n",
       "      <th></th>\n",
       "      <th>0</th>\n",
       "      <th>1</th>\n",
       "      <th>2</th>\n",
       "      <th>3</th>\n",
       "      <th>4</th>\n",
       "      <th>5</th>\n",
       "      <th>6</th>\n",
       "      <th>7</th>\n",
       "      <th>8</th>\n",
       "      <th>9</th>\n",
       "      <th>...</th>\n",
       "      <th>4086</th>\n",
       "      <th>4087</th>\n",
       "      <th>4088</th>\n",
       "      <th>4089</th>\n",
       "      <th>4090</th>\n",
       "      <th>4091</th>\n",
       "      <th>4092</th>\n",
       "      <th>4093</th>\n",
       "      <th>4094</th>\n",
       "      <th>4095</th>\n",
       "    </tr>\n",
       "  </thead>\n",
       "  <tbody>\n",
       "    <tr>\n",
       "      <th>ABC</th>\n",
       "      <td>0.189453</td>\n",
       "      <td>-1.609375</td>\n",
       "      <td>2.171875</td>\n",
       "      <td>-1.582031</td>\n",
       "      <td>0.859375</td>\n",
       "      <td>-1.960938</td>\n",
       "      <td>-2.828125</td>\n",
       "      <td>-0.089844</td>\n",
       "      <td>-1.157227</td>\n",
       "      <td>3.281250</td>\n",
       "      <td>...</td>\n",
       "      <td>-0.403320</td>\n",
       "      <td>-2.351562</td>\n",
       "      <td>0.460938</td>\n",
       "      <td>-1.328125</td>\n",
       "      <td>-1.378906</td>\n",
       "      <td>1.578125</td>\n",
       "      <td>-2.523438</td>\n",
       "      <td>-4.070312</td>\n",
       "      <td>2.136719</td>\n",
       "      <td>-0.890625</td>\n",
       "    </tr>\n",
       "    <tr>\n",
       "      <th>AI</th>\n",
       "      <td>-1.566406</td>\n",
       "      <td>0.176636</td>\n",
       "      <td>0.636719</td>\n",
       "      <td>-4.281250</td>\n",
       "      <td>2.484375</td>\n",
       "      <td>1.099121</td>\n",
       "      <td>-0.573090</td>\n",
       "      <td>1.021484</td>\n",
       "      <td>0.211914</td>\n",
       "      <td>1.468750</td>\n",
       "      <td>...</td>\n",
       "      <td>2.707031</td>\n",
       "      <td>-2.585938</td>\n",
       "      <td>1.613281</td>\n",
       "      <td>1.421875</td>\n",
       "      <td>-1.289062</td>\n",
       "      <td>1.283203</td>\n",
       "      <td>-1.445312</td>\n",
       "      <td>-0.927734</td>\n",
       "      <td>-1.937500</td>\n",
       "      <td>0.412598</td>\n",
       "    </tr>\n",
       "    <tr>\n",
       "      <th>Aaron</th>\n",
       "      <td>-0.206055</td>\n",
       "      <td>-0.132812</td>\n",
       "      <td>-4.195312</td>\n",
       "      <td>1.617188</td>\n",
       "      <td>0.724609</td>\n",
       "      <td>0.179688</td>\n",
       "      <td>-1.687500</td>\n",
       "      <td>1.550781</td>\n",
       "      <td>-2.789062</td>\n",
       "      <td>0.610840</td>\n",
       "      <td>...</td>\n",
       "      <td>-3.195312</td>\n",
       "      <td>2.650391</td>\n",
       "      <td>1.636719</td>\n",
       "      <td>2.976562</td>\n",
       "      <td>-0.875000</td>\n",
       "      <td>1.457031</td>\n",
       "      <td>0.892578</td>\n",
       "      <td>-2.492188</td>\n",
       "      <td>-3.593750</td>\n",
       "      <td>-0.288086</td>\n",
       "    </tr>\n",
       "    <tr>\n",
       "      <th>Abe</th>\n",
       "      <td>-2.328125</td>\n",
       "      <td>1.726562</td>\n",
       "      <td>-1.523438</td>\n",
       "      <td>2.617188</td>\n",
       "      <td>-4.265625</td>\n",
       "      <td>0.288086</td>\n",
       "      <td>-2.246094</td>\n",
       "      <td>3.695312</td>\n",
       "      <td>0.273438</td>\n",
       "      <td>4.906250</td>\n",
       "      <td>...</td>\n",
       "      <td>-1.851562</td>\n",
       "      <td>1.902344</td>\n",
       "      <td>2.003906</td>\n",
       "      <td>1.552734</td>\n",
       "      <td>-4.406250</td>\n",
       "      <td>-3.367188</td>\n",
       "      <td>-3.289062</td>\n",
       "      <td>-2.562500</td>\n",
       "      <td>-3.140625</td>\n",
       "      <td>0.612793</td>\n",
       "    </tr>\n",
       "    <tr>\n",
       "      <th>Abel</th>\n",
       "      <td>-2.929688</td>\n",
       "      <td>-0.282227</td>\n",
       "      <td>2.609375</td>\n",
       "      <td>-0.161865</td>\n",
       "      <td>-3.335938</td>\n",
       "      <td>0.471146</td>\n",
       "      <td>-3.492188</td>\n",
       "      <td>-0.062500</td>\n",
       "      <td>-0.295410</td>\n",
       "      <td>-0.246094</td>\n",
       "      <td>...</td>\n",
       "      <td>-1.695312</td>\n",
       "      <td>-1.808594</td>\n",
       "      <td>2.914062</td>\n",
       "      <td>0.959717</td>\n",
       "      <td>0.157227</td>\n",
       "      <td>0.011719</td>\n",
       "      <td>-0.902344</td>\n",
       "      <td>1.271484</td>\n",
       "      <td>-4.734375</td>\n",
       "      <td>-1.621094</td>\n",
       "    </tr>\n",
       "    <tr>\n",
       "      <th>...</th>\n",
       "      <td>...</td>\n",
       "      <td>...</td>\n",
       "      <td>...</td>\n",
       "      <td>...</td>\n",
       "      <td>...</td>\n",
       "      <td>...</td>\n",
       "      <td>...</td>\n",
       "      <td>...</td>\n",
       "      <td>...</td>\n",
       "      <td>...</td>\n",
       "      <td>...</td>\n",
       "      <td>...</td>\n",
       "      <td>...</td>\n",
       "      <td>...</td>\n",
       "      <td>...</td>\n",
       "      <td>...</td>\n",
       "      <td>...</td>\n",
       "      <td>...</td>\n",
       "      <td>...</td>\n",
       "      <td>...</td>\n",
       "      <td>...</td>\n",
       "    </tr>\n",
       "    <tr>\n",
       "      <th>zoom</th>\n",
       "      <td>-0.549805</td>\n",
       "      <td>-0.824219</td>\n",
       "      <td>3.242188</td>\n",
       "      <td>1.152344</td>\n",
       "      <td>2.097656</td>\n",
       "      <td>1.523438</td>\n",
       "      <td>-0.791016</td>\n",
       "      <td>1.021484</td>\n",
       "      <td>0.636719</td>\n",
       "      <td>1.527344</td>\n",
       "      <td>...</td>\n",
       "      <td>1.292969</td>\n",
       "      <td>-2.351562</td>\n",
       "      <td>0.349609</td>\n",
       "      <td>2.664062</td>\n",
       "      <td>-3.312500</td>\n",
       "      <td>0.596680</td>\n",
       "      <td>-2.136719</td>\n",
       "      <td>-3.562500</td>\n",
       "      <td>0.193604</td>\n",
       "      <td>-2.037109</td>\n",
       "    </tr>\n",
       "    <tr>\n",
       "      <th>zooming</th>\n",
       "      <td>-0.153320</td>\n",
       "      <td>-0.391602</td>\n",
       "      <td>3.156250</td>\n",
       "      <td>0.383789</td>\n",
       "      <td>1.472656</td>\n",
       "      <td>1.503906</td>\n",
       "      <td>-1.406250</td>\n",
       "      <td>-0.122070</td>\n",
       "      <td>1.734375</td>\n",
       "      <td>0.954102</td>\n",
       "      <td>...</td>\n",
       "      <td>1.037109</td>\n",
       "      <td>-1.343750</td>\n",
       "      <td>-0.480469</td>\n",
       "      <td>1.832031</td>\n",
       "      <td>-2.929688</td>\n",
       "      <td>1.628906</td>\n",
       "      <td>-1.410156</td>\n",
       "      <td>-2.453125</td>\n",
       "      <td>0.828125</td>\n",
       "      <td>-2.503906</td>\n",
       "    </tr>\n",
       "    <tr>\n",
       "      <th>zoophobia</th>\n",
       "      <td>0.738281</td>\n",
       "      <td>-2.273438</td>\n",
       "      <td>1.933594</td>\n",
       "      <td>-1.084717</td>\n",
       "      <td>-0.391846</td>\n",
       "      <td>3.140625</td>\n",
       "      <td>-2.390625</td>\n",
       "      <td>1.486328</td>\n",
       "      <td>-0.574219</td>\n",
       "      <td>0.581055</td>\n",
       "      <td>...</td>\n",
       "      <td>0.328125</td>\n",
       "      <td>1.109375</td>\n",
       "      <td>-3.578125</td>\n",
       "      <td>-0.894531</td>\n",
       "      <td>-2.304688</td>\n",
       "      <td>0.183594</td>\n",
       "      <td>2.984375</td>\n",
       "      <td>-0.187500</td>\n",
       "      <td>0.610352</td>\n",
       "      <td>-1.136719</td>\n",
       "    </tr>\n",
       "    <tr>\n",
       "      <th>zucchini</th>\n",
       "      <td>0.341797</td>\n",
       "      <td>-1.017578</td>\n",
       "      <td>2.195312</td>\n",
       "      <td>0.048828</td>\n",
       "      <td>0.443359</td>\n",
       "      <td>3.062500</td>\n",
       "      <td>0.572266</td>\n",
       "      <td>-0.417969</td>\n",
       "      <td>-1.554688</td>\n",
       "      <td>-0.011719</td>\n",
       "      <td>...</td>\n",
       "      <td>-2.031250</td>\n",
       "      <td>-0.777344</td>\n",
       "      <td>1.898438</td>\n",
       "      <td>-0.189453</td>\n",
       "      <td>-1.316406</td>\n",
       "      <td>-0.308594</td>\n",
       "      <td>-0.129883</td>\n",
       "      <td>0.100586</td>\n",
       "      <td>0.318359</td>\n",
       "      <td>-1.921875</td>\n",
       "    </tr>\n",
       "    <tr>\n",
       "      <th>zygote</th>\n",
       "      <td>1.000000</td>\n",
       "      <td>-2.664062</td>\n",
       "      <td>1.556641</td>\n",
       "      <td>-2.218750</td>\n",
       "      <td>0.219482</td>\n",
       "      <td>3.070312</td>\n",
       "      <td>-1.421875</td>\n",
       "      <td>-0.229736</td>\n",
       "      <td>-0.180176</td>\n",
       "      <td>-0.123047</td>\n",
       "      <td>...</td>\n",
       "      <td>0.604492</td>\n",
       "      <td>-0.246094</td>\n",
       "      <td>0.266113</td>\n",
       "      <td>0.094238</td>\n",
       "      <td>-0.272705</td>\n",
       "      <td>-2.421875</td>\n",
       "      <td>0.424316</td>\n",
       "      <td>1.054688</td>\n",
       "      <td>0.438232</td>\n",
       "      <td>1.289062</td>\n",
       "    </tr>\n",
       "  </tbody>\n",
       "</table>\n",
       "<p>46246 rows × 4096 columns</p>\n",
       "</div>"
      ]
     },
     "execution_count": 12,
     "metadata": {},
     "output_type": "execute_result"
    }
   ],
   "execution_count": 12
  },
  {
   "metadata": {},
   "cell_type": "code",
   "outputs": [],
   "execution_count": null,
   "source": "",
   "id": "4d2cc29689279ea3"
  },
  {
   "metadata": {
    "ExecuteTime": {
     "end_time": "2025-07-12T09:27:53.959865Z",
     "start_time": "2025-07-12T09:27:53.957502Z"
    }
   },
   "cell_type": "code",
   "source": [
    "print(len(Llama_3_8B_12))\n",
    "print(len(to_compare['Llama_3_8B_12']))"
   ],
   "id": "68f5d1ca55c91439",
   "outputs": [
    {
     "name": "stdout",
     "output_type": "stream",
     "text": [
      "46246\n",
      "44450\n"
     ]
    }
   ],
   "execution_count": 6
  },
  {
   "metadata": {
    "jupyter": {
     "is_executing": true
    },
    "ExecuteTime": {
     "start_time": "2025-07-12T09:29:28.531484Z"
    }
   },
   "cell_type": "code",
   "source": [
    "## Saving\n",
    "Llama_3_8B_12.to_csv('../../data/embeds/LLama_3_8B.csv')\n",
    "BERT_large_12.to_csv('../../data/embeds/BERT_large.csv')"
   ],
   "id": "616aed3e3a893dc",
   "outputs": [],
   "execution_count": null
  }
 ],
 "metadata": {
  "kernelspec": {
   "display_name": "Python 3",
   "language": "python",
   "name": "python3"
  },
  "language_info": {
   "codemirror_mode": {
    "name": "ipython",
    "version": 2
   },
   "file_extension": ".py",
   "mimetype": "text/x-python",
   "name": "python",
   "nbconvert_exporter": "python",
   "pygments_lexer": "ipython2",
   "version": "2.7.6"
  }
 },
 "nbformat": 4,
 "nbformat_minor": 5
}
