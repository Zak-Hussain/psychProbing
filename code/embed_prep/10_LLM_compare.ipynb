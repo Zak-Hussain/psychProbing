{
 "cells": [
  {
   "metadata": {
    "ExecuteTime": {
     "end_time": "2025-07-11T12:17:42.807441Z",
     "start_time": "2025-07-11T12:17:42.050782Z"
    }
   },
   "cell_type": "code",
   "source": [
    "import pandas as pd\n",
    "from embeds import multi_inner_align, standardize\n",
    "import sys\n",
    "sys.path.append('..')\n",
    "from rca.rca import run_rca"
   ],
   "id": "7f49e5f0610c260f",
   "outputs": [],
   "execution_count": 2
  },
  {
   "cell_type": "code",
   "id": "initial_id",
   "metadata": {
    "collapsed": true,
    "ExecuteTime": {
     "end_time": "2025-07-11T12:19:32.335813Z",
     "start_time": "2025-07-11T12:17:42.812056Z"
    }
   },
   "source": [
    "fastText_CommonCrawl = pd.read_csv('../../data/embeds/fastText_CommonCrawl.csv', index_col=0)\n",
    "\n",
    "# Llama 3 8B\n",
    "Llama_3_8B_0 = pd.read_csv('../../data/llms/Llama-3.1-8B_0.csv', index_col=0)\n",
    "Llama_3_8B_1 = pd.read_csv('../../data/llms/Llama-3.1-8B_1.csv', index_col=0)\n",
    "Llama_3_8B_2 = pd.read_csv('../../data/llms/Llama-3.1-8B_2.csv', index_col=0)\n",
    "Llama_3_8B = sum(multi_inner_align([Llama_3_8B_0, Llama_3_8B_1, Llama_3_8B_2])) / 3 # ensemble approach\n",
    "\n",
    "# BERT large\n",
    "BERT_large_0 = pd.read_csv('../../data/llms/bert-large-uncased_0.csv', index_col=0)\n",
    "BERT_large_1 = pd.read_csv('../../data/llms/bert-large-uncased_1.csv', index_col=0)\n",
    "BERT_large_2 = pd.read_csv('../../data/llms/bert-large-uncased_2.csv', index_col=0)\n",
    "BERT_large = sum(multi_inner_align([BERT_large_0, BERT_large_1, BERT_large_2])) / 3 # ensemble approach\n",
    "\n",
    "# Comparing\n",
    "to_compare = {\n",
    "    'fastText_CommonCrawl': fastText_CommonCrawl,\n",
    "\n",
    "    'Llama_3_8B_0': Llama_3_8B_0,\n",
    "    'Llama_3_8B_1': Llama_3_8B_1,\n",
    "    'Llama_3_8B_2': Llama_3_8B_2,\n",
    "    'Llama_3_8B': Llama_3_8B,\n",
    "\n",
    "    'BERT_large_0': BERT_large_0,\n",
    "    'BERT_large_1': BERT_large_1,\n",
    "    'BERT_large_2': BERT_large_2,\n",
    "    'BERT_large': BERT_large,\n",
    "}\n",
    "\n",
    "# Aligning for fair comparison\n",
    "to_compare = dict(zip(to_compare.keys(), multi_inner_align(to_compare.values())))\n",
    "\n",
    "# Standardizing\n",
    "to_compare = {name: standardize(embed) for name, embed in to_compare.items()}\n",
    "{name: embed.shape for name, embed in to_compare.items()}"
   ],
   "outputs": [
    {
     "data": {
      "text/plain": [
       "{'fastText_CommonCrawl': (44450, 300),\n",
       " 'Llama_3_8B_0': (44450, 4096),\n",
       " 'Llama_3_8B_1': (44450, 4096),\n",
       " 'Llama_3_8B_2': (44450, 4096),\n",
       " 'Llama_3_8B': (44450, 4096),\n",
       " 'BERT_large_0': (44450, 1024),\n",
       " 'BERT_large_1': (44450, 1024),\n",
       " 'BERT_large_2': (44450, 1024),\n",
       " 'BERT_large': (44450, 1024)}"
      ]
     },
     "execution_count": 3,
     "metadata": {},
     "output_type": "execute_result"
    }
   ],
   "execution_count": 3
  },
  {
   "metadata": {
    "ExecuteTime": {
     "end_time": "2025-07-11T12:21:06.870480Z",
     "start_time": "2025-07-11T12:21:05.583733Z"
    }
   },
   "cell_type": "code",
   "source": [
    "# Loading norm data\n",
    "norms = pd.read_csv('../../data/psychNorms/psychNorms_processed.zip', index_col=0, low_memory=False, compression='zip')\n",
    "norms_meta = pd.read_csv('../../data/psychNorms/psychNorms_metadata_processed.csv', index_col='norm')\n",
    "norms_meta"
   ],
   "id": "1a7ff3f2473edb94",
   "outputs": [
    {
     "data": {
      "text/plain": [
       "                                                                     description  \\\n",
       "norm                                                                               \n",
       "frequency_lund                 Log10 version of frequency norms based on the ...   \n",
       "frequency_kucera               Log10 version of frequency norms based on the ...   \n",
       "frequency_subtlexus            Log10 version of frequency norms based on the ...   \n",
       "frequency_subtlexuk            Log10 version of the frequency norms based on ...   \n",
       "frequency_blog_gimenes         Log10 version of the frequency norms based on ...   \n",
       "...                                                                          ...   \n",
       "imageability_vanarsdall         Ratings from 1 (low imagery) to 7 (high imagery)   \n",
       "familiarity_fear               Ratings from 1 (extremely infrequent) to 7 (ex...   \n",
       "aoa_fear                       Ratings from 1 (learned early) to 7 (learned l...   \n",
       "imageability_fear              Ratings from 1 (low imageability) to 7 (high i...   \n",
       "sensory_experience_juhasz2013  The extent to which a word evokes a sensory an...   \n",
       "\n",
       "                                                                        citation  \\\n",
       "norm                                                                               \n",
       "frequency_lund                 Lund, K. and C. Burgess (1996). \"Producing hig...   \n",
       "frequency_kucera               Kučera, H. and W. N. Francis (1967). Computati...   \n",
       "frequency_subtlexus            Brysbaert, M. and B. New (2009). \"Moving beyon...   \n",
       "frequency_subtlexuk            Van Heuven, W. J., et al. (2014). \"SUBTLEX-UK:...   \n",
       "frequency_blog_gimenes         Gimenes, M. and B. New (2016). \"Worldlex: Twit...   \n",
       "...                                                                          ...   \n",
       "imageability_vanarsdall        VanArsdall, J. E., & Blunt, J. R. (2022). Anal...   \n",
       "familiarity_fear               Fear, W. J. (1997). Ratings for Welsh words an...   \n",
       "aoa_fear                       Fear, W. J. (1997). Ratings for Welsh words an...   \n",
       "imageability_fear              Fear, W. J. (1997). Ratings for Welsh words an...   \n",
       "sensory_experience_juhasz2013  Juhasz, B.J., Yap, M.J. Sensory experience rat...   \n",
       "\n",
       "                                         category              source  \\\n",
       "norm                                                                    \n",
       "frequency_lund                          frequency               SCOPE   \n",
       "frequency_kucera                        frequency               SCOPE   \n",
       "frequency_subtlexus                     frequency               SCOPE   \n",
       "frequency_subtlexuk                     frequency               SCOPE   \n",
       "frequency_blog_gimenes                  frequency               SCOPE   \n",
       "...                                           ...                 ...   \n",
       "imageability_vanarsdall              imageability          lit_search   \n",
       "familiarity_fear                      familiarity          lit_search   \n",
       "aoa_fear                       age_of_acquisition          lit_search   \n",
       "imageability_fear                    imageability          lit_search   \n",
       "sensory_experience_juhasz2013             sensory  SCOPE & lit_search   \n",
       "\n",
       "                              associated_embed     type  \n",
       "norm                                                     \n",
       "frequency_lund                             NaN  numeric  \n",
       "frequency_kucera                           NaN  numeric  \n",
       "frequency_subtlexus                        NaN  numeric  \n",
       "frequency_subtlexuk                        NaN  numeric  \n",
       "frequency_blog_gimenes                     NaN  numeric  \n",
       "...                                        ...      ...  \n",
       "imageability_vanarsdall                    NaN  numeric  \n",
       "familiarity_fear                           NaN  numeric  \n",
       "aoa_fear                                   NaN  numeric  \n",
       "imageability_fear                          NaN  numeric  \n",
       "sensory_experience_juhasz2013              NaN  numeric  \n",
       "\n",
       "[291 rows x 6 columns]"
      ],
      "text/html": [
       "<div>\n",
       "<style scoped>\n",
       "    .dataframe tbody tr th:only-of-type {\n",
       "        vertical-align: middle;\n",
       "    }\n",
       "\n",
       "    .dataframe tbody tr th {\n",
       "        vertical-align: top;\n",
       "    }\n",
       "\n",
       "    .dataframe thead th {\n",
       "        text-align: right;\n",
       "    }\n",
       "</style>\n",
       "<table border=\"1\" class=\"dataframe\">\n",
       "  <thead>\n",
       "    <tr style=\"text-align: right;\">\n",
       "      <th></th>\n",
       "      <th>description</th>\n",
       "      <th>citation</th>\n",
       "      <th>category</th>\n",
       "      <th>source</th>\n",
       "      <th>associated_embed</th>\n",
       "      <th>type</th>\n",
       "    </tr>\n",
       "    <tr>\n",
       "      <th>norm</th>\n",
       "      <th></th>\n",
       "      <th></th>\n",
       "      <th></th>\n",
       "      <th></th>\n",
       "      <th></th>\n",
       "      <th></th>\n",
       "    </tr>\n",
       "  </thead>\n",
       "  <tbody>\n",
       "    <tr>\n",
       "      <th>frequency_lund</th>\n",
       "      <td>Log10 version of frequency norms based on the ...</td>\n",
       "      <td>Lund, K. and C. Burgess (1996). \"Producing hig...</td>\n",
       "      <td>frequency</td>\n",
       "      <td>SCOPE</td>\n",
       "      <td>NaN</td>\n",
       "      <td>numeric</td>\n",
       "    </tr>\n",
       "    <tr>\n",
       "      <th>frequency_kucera</th>\n",
       "      <td>Log10 version of frequency norms based on the ...</td>\n",
       "      <td>Kučera, H. and W. N. Francis (1967). Computati...</td>\n",
       "      <td>frequency</td>\n",
       "      <td>SCOPE</td>\n",
       "      <td>NaN</td>\n",
       "      <td>numeric</td>\n",
       "    </tr>\n",
       "    <tr>\n",
       "      <th>frequency_subtlexus</th>\n",
       "      <td>Log10 version of frequency norms based on the ...</td>\n",
       "      <td>Brysbaert, M. and B. New (2009). \"Moving beyon...</td>\n",
       "      <td>frequency</td>\n",
       "      <td>SCOPE</td>\n",
       "      <td>NaN</td>\n",
       "      <td>numeric</td>\n",
       "    </tr>\n",
       "    <tr>\n",
       "      <th>frequency_subtlexuk</th>\n",
       "      <td>Log10 version of the frequency norms based on ...</td>\n",
       "      <td>Van Heuven, W. J., et al. (2014). \"SUBTLEX-UK:...</td>\n",
       "      <td>frequency</td>\n",
       "      <td>SCOPE</td>\n",
       "      <td>NaN</td>\n",
       "      <td>numeric</td>\n",
       "    </tr>\n",
       "    <tr>\n",
       "      <th>frequency_blog_gimenes</th>\n",
       "      <td>Log10 version of the frequency norms based on ...</td>\n",
       "      <td>Gimenes, M. and B. New (2016). \"Worldlex: Twit...</td>\n",
       "      <td>frequency</td>\n",
       "      <td>SCOPE</td>\n",
       "      <td>NaN</td>\n",
       "      <td>numeric</td>\n",
       "    </tr>\n",
       "    <tr>\n",
       "      <th>...</th>\n",
       "      <td>...</td>\n",
       "      <td>...</td>\n",
       "      <td>...</td>\n",
       "      <td>...</td>\n",
       "      <td>...</td>\n",
       "      <td>...</td>\n",
       "    </tr>\n",
       "    <tr>\n",
       "      <th>imageability_vanarsdall</th>\n",
       "      <td>Ratings from 1 (low imagery) to 7 (high imagery)</td>\n",
       "      <td>VanArsdall, J. E., &amp; Blunt, J. R. (2022). Anal...</td>\n",
       "      <td>imageability</td>\n",
       "      <td>lit_search</td>\n",
       "      <td>NaN</td>\n",
       "      <td>numeric</td>\n",
       "    </tr>\n",
       "    <tr>\n",
       "      <th>familiarity_fear</th>\n",
       "      <td>Ratings from 1 (extremely infrequent) to 7 (ex...</td>\n",
       "      <td>Fear, W. J. (1997). Ratings for Welsh words an...</td>\n",
       "      <td>familiarity</td>\n",
       "      <td>lit_search</td>\n",
       "      <td>NaN</td>\n",
       "      <td>numeric</td>\n",
       "    </tr>\n",
       "    <tr>\n",
       "      <th>aoa_fear</th>\n",
       "      <td>Ratings from 1 (learned early) to 7 (learned l...</td>\n",
       "      <td>Fear, W. J. (1997). Ratings for Welsh words an...</td>\n",
       "      <td>age_of_acquisition</td>\n",
       "      <td>lit_search</td>\n",
       "      <td>NaN</td>\n",
       "      <td>numeric</td>\n",
       "    </tr>\n",
       "    <tr>\n",
       "      <th>imageability_fear</th>\n",
       "      <td>Ratings from 1 (low imageability) to 7 (high i...</td>\n",
       "      <td>Fear, W. J. (1997). Ratings for Welsh words an...</td>\n",
       "      <td>imageability</td>\n",
       "      <td>lit_search</td>\n",
       "      <td>NaN</td>\n",
       "      <td>numeric</td>\n",
       "    </tr>\n",
       "    <tr>\n",
       "      <th>sensory_experience_juhasz2013</th>\n",
       "      <td>The extent to which a word evokes a sensory an...</td>\n",
       "      <td>Juhasz, B.J., Yap, M.J. Sensory experience rat...</td>\n",
       "      <td>sensory</td>\n",
       "      <td>SCOPE &amp; lit_search</td>\n",
       "      <td>NaN</td>\n",
       "      <td>numeric</td>\n",
       "    </tr>\n",
       "  </tbody>\n",
       "</table>\n",
       "<p>291 rows × 6 columns</p>\n",
       "</div>"
      ]
     },
     "execution_count": 4,
     "metadata": {},
     "output_type": "execute_result"
    }
   ],
   "execution_count": 4
  },
  {
   "metadata": {
    "ExecuteTime": {
     "end_time": "2025-07-11T12:29:42.589566Z",
     "start_time": "2025-07-11T12:21:08.259843Z"
    }
   },
   "cell_type": "code",
   "source": [
    "norms = norms[[norm for norm in norms if 'glasgow' in norm]]\n",
    "results = run_rca(to_compare, norms, norms_meta, n_jobs=10)\n",
    "results"
   ],
   "id": "3663685766bd1a9b",
   "outputs": [
    {
     "data": {
      "text/plain": [
       "  0%|          | 0/9 [00:00<?, ?it/s]"
      ],
      "application/vnd.jupyter.widget-view+json": {
       "version_major": 2,
       "version_minor": 0,
       "model_id": "b7372b552c7a4fee84f6b729cf106efd"
      }
     },
     "metadata": {},
     "output_type": "display_data"
    },
    {
     "data": {
      "text/plain": [
       "fastText_CommonCrawl:   0%|          | 0/9 [00:00<?, ?it/s]"
      ],
      "application/vnd.jupyter.widget-view+json": {
       "version_major": 2,
       "version_minor": 0,
       "model_id": "ef043a4c68364e5eabe2023a4dd3c26d"
      }
     },
     "metadata": {},
     "output_type": "display_data"
    },
    {
     "name": "stdout",
     "output_type": "stream",
     "text": [
      "                         norm  train_n   r2_mean     r2_sd check\n",
      "2        concreteness_glasgow     3705  0.806406  0.010490  pass\n",
      "3        imageability_glasgow     3705  0.751500  0.011450  pass\n",
      "1                 aoa_glasgow     3705  0.744070  0.018202  pass\n",
      "6             valence_glasgow     3705  0.729247  0.025791  pass\n",
      "5  gender_association_glasgow     3705  0.666486  0.035355  pass\n",
      "0         familiarity_glasgow     3705  0.664903  0.019769  pass\n",
      "4       semantic_size_glasgow     3705  0.661660  0.011675  pass\n",
      "7             arousal_glasgow     3705  0.569323  0.013773  pass\n",
      "8           dominance_glasgow     3705  0.532936  0.019119  pass\n"
     ]
    },
    {
     "data": {
      "text/plain": [
       "Llama_3_8B_0:   0%|          | 0/9 [00:00<?, ?it/s]"
      ],
      "application/vnd.jupyter.widget-view+json": {
       "version_major": 2,
       "version_minor": 0,
       "model_id": "fe938715666d42aab9114c0b3a74afc9"
      }
     },
     "metadata": {},
     "output_type": "display_data"
    },
    {
     "name": "stdout",
     "output_type": "stream",
     "text": [
      "                         norm  train_n   r2_mean     r2_sd check\n",
      "2        concreteness_glasgow     3705  0.728785  0.022854  pass\n",
      "3        imageability_glasgow     3705  0.674631  0.024971  pass\n",
      "4       semantic_size_glasgow     3705  0.596764  0.010804  pass\n",
      "6             valence_glasgow     3705  0.593209  0.017427  pass\n",
      "1                 aoa_glasgow     3705  0.592659  0.008804  pass\n",
      "0         familiarity_glasgow     3705  0.501898  0.021259  pass\n",
      "5  gender_association_glasgow     3705  0.482646  0.025521  pass\n",
      "7             arousal_glasgow     3705  0.468764  0.011144  pass\n",
      "8           dominance_glasgow     3705  0.431336  0.016009  pass\n"
     ]
    },
    {
     "data": {
      "text/plain": [
       "Llama_3_8B_1:   0%|          | 0/9 [00:00<?, ?it/s]"
      ],
      "application/vnd.jupyter.widget-view+json": {
       "version_major": 2,
       "version_minor": 0,
       "model_id": "af215967699d4cfd90a0c930ee297ee5"
      }
     },
     "metadata": {},
     "output_type": "display_data"
    },
    {
     "name": "stdout",
     "output_type": "stream",
     "text": [
      "                         norm  train_n   r2_mean     r2_sd check\n",
      "2        concreteness_glasgow     3705  0.809845  0.011987  pass\n",
      "3        imageability_glasgow     3705  0.749760  0.014348  pass\n",
      "6             valence_glasgow     3705  0.711922  0.020845  pass\n",
      "1                 aoa_glasgow     3705  0.692026  0.011807  pass\n",
      "4       semantic_size_glasgow     3705  0.686057  0.006163  pass\n",
      "0         familiarity_glasgow     3705  0.587842  0.012411  pass\n",
      "5  gender_association_glasgow     3705  0.573724  0.023965  pass\n",
      "7             arousal_glasgow     3705  0.566248  0.009085  pass\n",
      "8           dominance_glasgow     3705  0.532983  0.013185  pass\n"
     ]
    },
    {
     "data": {
      "text/plain": [
       "Llama_3_8B_2:   0%|          | 0/9 [00:00<?, ?it/s]"
      ],
      "application/vnd.jupyter.widget-view+json": {
       "version_major": 2,
       "version_minor": 0,
       "model_id": "f33882d1aafd41d88eae6234fb87fdb3"
      }
     },
     "metadata": {},
     "output_type": "display_data"
    },
    {
     "name": "stdout",
     "output_type": "stream",
     "text": [
      "                         norm  train_n   r2_mean     r2_sd check\n",
      "2        concreteness_glasgow     3705  0.806623  0.014664  pass\n",
      "3        imageability_glasgow     3705  0.750107  0.019755  pass\n",
      "6             valence_glasgow     3705  0.733508  0.015421  pass\n",
      "4       semantic_size_glasgow     3705  0.689008  0.017015  pass\n",
      "1                 aoa_glasgow     3705  0.660116  0.015414  pass\n",
      "5  gender_association_glasgow     3705  0.598233  0.018889  pass\n",
      "7             arousal_glasgow     3705  0.574990  0.014155  pass\n",
      "0         familiarity_glasgow     3705  0.564877  0.009206  pass\n",
      "8           dominance_glasgow     3705  0.534448  0.014723  pass\n"
     ]
    },
    {
     "data": {
      "text/plain": [
       "Llama_3_8B:   0%|          | 0/9 [00:00<?, ?it/s]"
      ],
      "application/vnd.jupyter.widget-view+json": {
       "version_major": 2,
       "version_minor": 0,
       "model_id": "207a293bf6604ef28efc4bb903ece90c"
      }
     },
     "metadata": {},
     "output_type": "display_data"
    },
    {
     "name": "stdout",
     "output_type": "stream",
     "text": [
      "                         norm  train_n   r2_mean     r2_sd check\n",
      "2        concreteness_glasgow     3705  0.817338  0.014477  pass\n",
      "3        imageability_glasgow     3705  0.759873  0.017396  pass\n",
      "6             valence_glasgow     3705  0.736481  0.019971  pass\n",
      "4       semantic_size_glasgow     3705  0.698210  0.016626  pass\n",
      "1                 aoa_glasgow     3705  0.691481  0.014425  pass\n",
      "5  gender_association_glasgow     3705  0.605429  0.021191  pass\n",
      "0         familiarity_glasgow     3705  0.591983  0.013094  pass\n",
      "7             arousal_glasgow     3705  0.580573  0.012038  pass\n",
      "8           dominance_glasgow     3705  0.543795  0.015847  pass\n"
     ]
    },
    {
     "data": {
      "text/plain": [
       "BERT_large_0:   0%|          | 0/9 [00:00<?, ?it/s]"
      ],
      "application/vnd.jupyter.widget-view+json": {
       "version_major": 2,
       "version_minor": 0,
       "model_id": "7d621f9cd4ad49b8ab512474987382fb"
      }
     },
     "metadata": {},
     "output_type": "display_data"
    },
    {
     "name": "stdout",
     "output_type": "stream",
     "text": [
      "                         norm  train_n   r2_mean     r2_sd check\n",
      "2        concreteness_glasgow     3705  0.693819  0.013818  pass\n",
      "3        imageability_glasgow     3705  0.634103  0.015326  pass\n",
      "4       semantic_size_glasgow     3705  0.554692  0.024741  pass\n",
      "6             valence_glasgow     3705  0.550414  0.019576  pass\n",
      "1                 aoa_glasgow     3705  0.544505  0.018981  pass\n",
      "0         familiarity_glasgow     3705  0.462700  0.027213  pass\n",
      "5  gender_association_glasgow     3705  0.462572  0.026487  pass\n",
      "7             arousal_glasgow     3705  0.444214  0.030547  pass\n",
      "8           dominance_glasgow     3705  0.397344  0.014824  pass\n"
     ]
    },
    {
     "data": {
      "text/plain": [
       "BERT_large_1:   0%|          | 0/9 [00:00<?, ?it/s]"
      ],
      "application/vnd.jupyter.widget-view+json": {
       "version_major": 2,
       "version_minor": 0,
       "model_id": "ef0180a0e3634bfeb3384334293db8b7"
      }
     },
     "metadata": {},
     "output_type": "display_data"
    },
    {
     "name": "stdout",
     "output_type": "stream",
     "text": [
      "                         norm  train_n   r2_mean     r2_sd check\n",
      "2        concreteness_glasgow     3705  0.818624  0.011994  pass\n",
      "3        imageability_glasgow     3705  0.766894  0.015934  pass\n",
      "6             valence_glasgow     3705  0.761208  0.019699  pass\n",
      "4       semantic_size_glasgow     3705  0.692673  0.009141  pass\n",
      "1                 aoa_glasgow     3705  0.673347  0.008410  pass\n",
      "5  gender_association_glasgow     3705  0.638930  0.030228  pass\n",
      "7             arousal_glasgow     3705  0.585532  0.023245  pass\n",
      "8           dominance_glasgow     3705  0.572923  0.022465  pass\n",
      "0         familiarity_glasgow     3705  0.551531  0.028296  pass\n"
     ]
    },
    {
     "data": {
      "text/plain": [
       "BERT_large_2:   0%|          | 0/9 [00:00<?, ?it/s]"
      ],
      "application/vnd.jupyter.widget-view+json": {
       "version_major": 2,
       "version_minor": 0,
       "model_id": "5bd07c311a6148268bc7b0777832eee7"
      }
     },
     "metadata": {},
     "output_type": "display_data"
    },
    {
     "name": "stdout",
     "output_type": "stream",
     "text": [
      "                         norm  train_n   r2_mean     r2_sd check\n",
      "2        concreteness_glasgow     3705  0.765055  0.010530  pass\n",
      "3        imageability_glasgow     3705  0.708047  0.012424  pass\n",
      "6             valence_glasgow     3705  0.694481  0.025886  pass\n",
      "4       semantic_size_glasgow     3705  0.630229  0.009214  pass\n",
      "1                 aoa_glasgow     3705  0.608934  0.013159  pass\n",
      "5  gender_association_glasgow     3705  0.530669  0.037692  pass\n",
      "7             arousal_glasgow     3705  0.527152  0.043292  pass\n",
      "8           dominance_glasgow     3705  0.515479  0.028075  pass\n",
      "0         familiarity_glasgow     3705  0.503782  0.024680  pass\n"
     ]
    },
    {
     "data": {
      "text/plain": [
       "BERT_large:   0%|          | 0/9 [00:00<?, ?it/s]"
      ],
      "application/vnd.jupyter.widget-view+json": {
       "version_major": 2,
       "version_minor": 0,
       "model_id": "d42e0340ad5a47a8a512281d84e044cf"
      }
     },
     "metadata": {},
     "output_type": "display_data"
    },
    {
     "name": "stdout",
     "output_type": "stream",
     "text": [
      "                         norm  train_n   r2_mean     r2_sd check\n",
      "2        concreteness_glasgow     3705  0.812260  0.013623  pass\n",
      "3        imageability_glasgow     3705  0.761864  0.012816  pass\n",
      "6             valence_glasgow     3705  0.749975  0.014269  pass\n",
      "4       semantic_size_glasgow     3705  0.687041  0.010590  pass\n",
      "1                 aoa_glasgow     3705  0.674546  0.011384  pass\n",
      "5  gender_association_glasgow     3705  0.618029  0.036581  pass\n",
      "7             arousal_glasgow     3705  0.588630  0.031029  pass\n",
      "8           dominance_glasgow     3705  0.572958  0.020643  pass\n",
      "0         familiarity_glasgow     3705  0.554534  0.022708  pass\n"
     ]
    },
    {
     "data": {
      "text/plain": [
       "                   embed embed_type                        norm  train_n  \\\n",
       "0   fastText_CommonCrawl       None         familiarity_glasgow     3705   \n",
       "1   fastText_CommonCrawl       None                 aoa_glasgow     3705   \n",
       "2   fastText_CommonCrawl       None        concreteness_glasgow     3705   \n",
       "3   fastText_CommonCrawl       None        imageability_glasgow     3705   \n",
       "4   fastText_CommonCrawl       None       semantic_size_glasgow     3705   \n",
       "..                   ...        ...                         ...      ...   \n",
       "76            BERT_large       None       semantic_size_glasgow     3705   \n",
       "77            BERT_large       None  gender_association_glasgow     3705   \n",
       "78            BERT_large       None             valence_glasgow     3705   \n",
       "79            BERT_large       None             arousal_glasgow     3705   \n",
       "80            BERT_large       None           dominance_glasgow     3705   \n",
       "\n",
       "    test_n     p   r2_mean     r2_sd check  \n",
       "0      927   300  0.664903  0.019769  pass  \n",
       "1      927   300  0.744070  0.018202  pass  \n",
       "2      927   300  0.806406  0.010490  pass  \n",
       "3      927   300  0.751500  0.011450  pass  \n",
       "4      927   300  0.661660  0.011675  pass  \n",
       "..     ...   ...       ...       ...   ...  \n",
       "76     927  1024  0.687041  0.010590  pass  \n",
       "77     927  1024  0.618029  0.036581  pass  \n",
       "78     927  1024  0.749975  0.014269  pass  \n",
       "79     927  1024  0.588630  0.031029  pass  \n",
       "80     927  1024  0.572958  0.020643  pass  \n",
       "\n",
       "[81 rows x 9 columns]"
      ],
      "text/html": [
       "<div>\n",
       "<style scoped>\n",
       "    .dataframe tbody tr th:only-of-type {\n",
       "        vertical-align: middle;\n",
       "    }\n",
       "\n",
       "    .dataframe tbody tr th {\n",
       "        vertical-align: top;\n",
       "    }\n",
       "\n",
       "    .dataframe thead th {\n",
       "        text-align: right;\n",
       "    }\n",
       "</style>\n",
       "<table border=\"1\" class=\"dataframe\">\n",
       "  <thead>\n",
       "    <tr style=\"text-align: right;\">\n",
       "      <th></th>\n",
       "      <th>embed</th>\n",
       "      <th>embed_type</th>\n",
       "      <th>norm</th>\n",
       "      <th>train_n</th>\n",
       "      <th>test_n</th>\n",
       "      <th>p</th>\n",
       "      <th>r2_mean</th>\n",
       "      <th>r2_sd</th>\n",
       "      <th>check</th>\n",
       "    </tr>\n",
       "  </thead>\n",
       "  <tbody>\n",
       "    <tr>\n",
       "      <th>0</th>\n",
       "      <td>fastText_CommonCrawl</td>\n",
       "      <td>None</td>\n",
       "      <td>familiarity_glasgow</td>\n",
       "      <td>3705</td>\n",
       "      <td>927</td>\n",
       "      <td>300</td>\n",
       "      <td>0.664903</td>\n",
       "      <td>0.019769</td>\n",
       "      <td>pass</td>\n",
       "    </tr>\n",
       "    <tr>\n",
       "      <th>1</th>\n",
       "      <td>fastText_CommonCrawl</td>\n",
       "      <td>None</td>\n",
       "      <td>aoa_glasgow</td>\n",
       "      <td>3705</td>\n",
       "      <td>927</td>\n",
       "      <td>300</td>\n",
       "      <td>0.744070</td>\n",
       "      <td>0.018202</td>\n",
       "      <td>pass</td>\n",
       "    </tr>\n",
       "    <tr>\n",
       "      <th>2</th>\n",
       "      <td>fastText_CommonCrawl</td>\n",
       "      <td>None</td>\n",
       "      <td>concreteness_glasgow</td>\n",
       "      <td>3705</td>\n",
       "      <td>927</td>\n",
       "      <td>300</td>\n",
       "      <td>0.806406</td>\n",
       "      <td>0.010490</td>\n",
       "      <td>pass</td>\n",
       "    </tr>\n",
       "    <tr>\n",
       "      <th>3</th>\n",
       "      <td>fastText_CommonCrawl</td>\n",
       "      <td>None</td>\n",
       "      <td>imageability_glasgow</td>\n",
       "      <td>3705</td>\n",
       "      <td>927</td>\n",
       "      <td>300</td>\n",
       "      <td>0.751500</td>\n",
       "      <td>0.011450</td>\n",
       "      <td>pass</td>\n",
       "    </tr>\n",
       "    <tr>\n",
       "      <th>4</th>\n",
       "      <td>fastText_CommonCrawl</td>\n",
       "      <td>None</td>\n",
       "      <td>semantic_size_glasgow</td>\n",
       "      <td>3705</td>\n",
       "      <td>927</td>\n",
       "      <td>300</td>\n",
       "      <td>0.661660</td>\n",
       "      <td>0.011675</td>\n",
       "      <td>pass</td>\n",
       "    </tr>\n",
       "    <tr>\n",
       "      <th>...</th>\n",
       "      <td>...</td>\n",
       "      <td>...</td>\n",
       "      <td>...</td>\n",
       "      <td>...</td>\n",
       "      <td>...</td>\n",
       "      <td>...</td>\n",
       "      <td>...</td>\n",
       "      <td>...</td>\n",
       "      <td>...</td>\n",
       "    </tr>\n",
       "    <tr>\n",
       "      <th>76</th>\n",
       "      <td>BERT_large</td>\n",
       "      <td>None</td>\n",
       "      <td>semantic_size_glasgow</td>\n",
       "      <td>3705</td>\n",
       "      <td>927</td>\n",
       "      <td>1024</td>\n",
       "      <td>0.687041</td>\n",
       "      <td>0.010590</td>\n",
       "      <td>pass</td>\n",
       "    </tr>\n",
       "    <tr>\n",
       "      <th>77</th>\n",
       "      <td>BERT_large</td>\n",
       "      <td>None</td>\n",
       "      <td>gender_association_glasgow</td>\n",
       "      <td>3705</td>\n",
       "      <td>927</td>\n",
       "      <td>1024</td>\n",
       "      <td>0.618029</td>\n",
       "      <td>0.036581</td>\n",
       "      <td>pass</td>\n",
       "    </tr>\n",
       "    <tr>\n",
       "      <th>78</th>\n",
       "      <td>BERT_large</td>\n",
       "      <td>None</td>\n",
       "      <td>valence_glasgow</td>\n",
       "      <td>3705</td>\n",
       "      <td>927</td>\n",
       "      <td>1024</td>\n",
       "      <td>0.749975</td>\n",
       "      <td>0.014269</td>\n",
       "      <td>pass</td>\n",
       "    </tr>\n",
       "    <tr>\n",
       "      <th>79</th>\n",
       "      <td>BERT_large</td>\n",
       "      <td>None</td>\n",
       "      <td>arousal_glasgow</td>\n",
       "      <td>3705</td>\n",
       "      <td>927</td>\n",
       "      <td>1024</td>\n",
       "      <td>0.588630</td>\n",
       "      <td>0.031029</td>\n",
       "      <td>pass</td>\n",
       "    </tr>\n",
       "    <tr>\n",
       "      <th>80</th>\n",
       "      <td>BERT_large</td>\n",
       "      <td>None</td>\n",
       "      <td>dominance_glasgow</td>\n",
       "      <td>3705</td>\n",
       "      <td>927</td>\n",
       "      <td>1024</td>\n",
       "      <td>0.572958</td>\n",
       "      <td>0.020643</td>\n",
       "      <td>pass</td>\n",
       "    </tr>\n",
       "  </tbody>\n",
       "</table>\n",
       "<p>81 rows × 9 columns</p>\n",
       "</div>"
      ]
     },
     "execution_count": 5,
     "metadata": {},
     "output_type": "execute_result"
    }
   ],
   "execution_count": 5
  },
  {
   "metadata": {
    "ExecuteTime": {
     "end_time": "2025-07-11T12:30:24.475876Z",
     "start_time": "2025-07-11T12:30:24.428872Z"
    }
   },
   "cell_type": "code",
   "source": [
    "# Adding norm category\n",
    "results['norm_category'] = (\n",
    "    results['norm']\n",
    "    .apply(lambda norm: norms_meta.loc[norm]['category'])\n",
    "    .replace({'_': ' '}, regex=True)\n",
    ")\n",
    "\n",
    "results_avg = (\n",
    "    results[['norm_category', 'embed', 'r2_mean']]\n",
    "    .groupby(['norm_category', 'embed'], as_index=False).median()\n",
    "    .dropna()\n",
    ")\n",
    "\n",
    "results_avg_piv = results_avg.pivot(columns='embed', index='norm_category', values='r2_mean')\n",
    "results_avg_piv.round(2)"
   ],
   "id": "24aab0b1e8f2ee3",
   "outputs": [
    {
     "data": {
      "text/plain": [
       "embed                BERT_large  BERT_large_0  BERT_large_1  BERT_large_2  \\\n",
       "norm_category                                                               \n",
       "age of acquisition         0.67          0.54          0.67          0.61   \n",
       "arousal                    0.59          0.44          0.59          0.53   \n",
       "concreteness               0.81          0.69          0.82          0.77   \n",
       "dominance                  0.57          0.40          0.57          0.52   \n",
       "familiarity                0.55          0.46          0.55          0.50   \n",
       "imageability               0.76          0.63          0.77          0.71   \n",
       "social/moral               0.62          0.46          0.64          0.53   \n",
       "space/time/quantity        0.69          0.55          0.69          0.63   \n",
       "valence                    0.75          0.55          0.76          0.69   \n",
       "\n",
       "embed                Llama_3_8B  Llama_3_8B_0  Llama_3_8B_1  Llama_3_8B_2  \\\n",
       "norm_category                                                               \n",
       "age of acquisition         0.69          0.59          0.69          0.66   \n",
       "arousal                    0.58          0.47          0.57          0.57   \n",
       "concreteness               0.82          0.73          0.81          0.81   \n",
       "dominance                  0.54          0.43          0.53          0.53   \n",
       "familiarity                0.59          0.50          0.59          0.56   \n",
       "imageability               0.76          0.67          0.75          0.75   \n",
       "social/moral               0.61          0.48          0.57          0.60   \n",
       "space/time/quantity        0.70          0.60          0.69          0.69   \n",
       "valence                    0.74          0.59          0.71          0.73   \n",
       "\n",
       "embed                fastText_CommonCrawl  \n",
       "norm_category                              \n",
       "age of acquisition                   0.74  \n",
       "arousal                              0.57  \n",
       "concreteness                         0.81  \n",
       "dominance                            0.53  \n",
       "familiarity                          0.66  \n",
       "imageability                         0.75  \n",
       "social/moral                         0.67  \n",
       "space/time/quantity                  0.66  \n",
       "valence                              0.73  "
      ],
      "text/html": [
       "<div>\n",
       "<style scoped>\n",
       "    .dataframe tbody tr th:only-of-type {\n",
       "        vertical-align: middle;\n",
       "    }\n",
       "\n",
       "    .dataframe tbody tr th {\n",
       "        vertical-align: top;\n",
       "    }\n",
       "\n",
       "    .dataframe thead th {\n",
       "        text-align: right;\n",
       "    }\n",
       "</style>\n",
       "<table border=\"1\" class=\"dataframe\">\n",
       "  <thead>\n",
       "    <tr style=\"text-align: right;\">\n",
       "      <th>embed</th>\n",
       "      <th>BERT_large</th>\n",
       "      <th>BERT_large_0</th>\n",
       "      <th>BERT_large_1</th>\n",
       "      <th>BERT_large_2</th>\n",
       "      <th>Llama_3_8B</th>\n",
       "      <th>Llama_3_8B_0</th>\n",
       "      <th>Llama_3_8B_1</th>\n",
       "      <th>Llama_3_8B_2</th>\n",
       "      <th>fastText_CommonCrawl</th>\n",
       "    </tr>\n",
       "    <tr>\n",
       "      <th>norm_category</th>\n",
       "      <th></th>\n",
       "      <th></th>\n",
       "      <th></th>\n",
       "      <th></th>\n",
       "      <th></th>\n",
       "      <th></th>\n",
       "      <th></th>\n",
       "      <th></th>\n",
       "      <th></th>\n",
       "    </tr>\n",
       "  </thead>\n",
       "  <tbody>\n",
       "    <tr>\n",
       "      <th>age of acquisition</th>\n",
       "      <td>0.67</td>\n",
       "      <td>0.54</td>\n",
       "      <td>0.67</td>\n",
       "      <td>0.61</td>\n",
       "      <td>0.69</td>\n",
       "      <td>0.59</td>\n",
       "      <td>0.69</td>\n",
       "      <td>0.66</td>\n",
       "      <td>0.74</td>\n",
       "    </tr>\n",
       "    <tr>\n",
       "      <th>arousal</th>\n",
       "      <td>0.59</td>\n",
       "      <td>0.44</td>\n",
       "      <td>0.59</td>\n",
       "      <td>0.53</td>\n",
       "      <td>0.58</td>\n",
       "      <td>0.47</td>\n",
       "      <td>0.57</td>\n",
       "      <td>0.57</td>\n",
       "      <td>0.57</td>\n",
       "    </tr>\n",
       "    <tr>\n",
       "      <th>concreteness</th>\n",
       "      <td>0.81</td>\n",
       "      <td>0.69</td>\n",
       "      <td>0.82</td>\n",
       "      <td>0.77</td>\n",
       "      <td>0.82</td>\n",
       "      <td>0.73</td>\n",
       "      <td>0.81</td>\n",
       "      <td>0.81</td>\n",
       "      <td>0.81</td>\n",
       "    </tr>\n",
       "    <tr>\n",
       "      <th>dominance</th>\n",
       "      <td>0.57</td>\n",
       "      <td>0.40</td>\n",
       "      <td>0.57</td>\n",
       "      <td>0.52</td>\n",
       "      <td>0.54</td>\n",
       "      <td>0.43</td>\n",
       "      <td>0.53</td>\n",
       "      <td>0.53</td>\n",
       "      <td>0.53</td>\n",
       "    </tr>\n",
       "    <tr>\n",
       "      <th>familiarity</th>\n",
       "      <td>0.55</td>\n",
       "      <td>0.46</td>\n",
       "      <td>0.55</td>\n",
       "      <td>0.50</td>\n",
       "      <td>0.59</td>\n",
       "      <td>0.50</td>\n",
       "      <td>0.59</td>\n",
       "      <td>0.56</td>\n",
       "      <td>0.66</td>\n",
       "    </tr>\n",
       "    <tr>\n",
       "      <th>imageability</th>\n",
       "      <td>0.76</td>\n",
       "      <td>0.63</td>\n",
       "      <td>0.77</td>\n",
       "      <td>0.71</td>\n",
       "      <td>0.76</td>\n",
       "      <td>0.67</td>\n",
       "      <td>0.75</td>\n",
       "      <td>0.75</td>\n",
       "      <td>0.75</td>\n",
       "    </tr>\n",
       "    <tr>\n",
       "      <th>social/moral</th>\n",
       "      <td>0.62</td>\n",
       "      <td>0.46</td>\n",
       "      <td>0.64</td>\n",
       "      <td>0.53</td>\n",
       "      <td>0.61</td>\n",
       "      <td>0.48</td>\n",
       "      <td>0.57</td>\n",
       "      <td>0.60</td>\n",
       "      <td>0.67</td>\n",
       "    </tr>\n",
       "    <tr>\n",
       "      <th>space/time/quantity</th>\n",
       "      <td>0.69</td>\n",
       "      <td>0.55</td>\n",
       "      <td>0.69</td>\n",
       "      <td>0.63</td>\n",
       "      <td>0.70</td>\n",
       "      <td>0.60</td>\n",
       "      <td>0.69</td>\n",
       "      <td>0.69</td>\n",
       "      <td>0.66</td>\n",
       "    </tr>\n",
       "    <tr>\n",
       "      <th>valence</th>\n",
       "      <td>0.75</td>\n",
       "      <td>0.55</td>\n",
       "      <td>0.76</td>\n",
       "      <td>0.69</td>\n",
       "      <td>0.74</td>\n",
       "      <td>0.59</td>\n",
       "      <td>0.71</td>\n",
       "      <td>0.73</td>\n",
       "      <td>0.73</td>\n",
       "    </tr>\n",
       "  </tbody>\n",
       "</table>\n",
       "</div>"
      ]
     },
     "execution_count": 6,
     "metadata": {},
     "output_type": "execute_result"
    }
   ],
   "execution_count": 6
  },
  {
   "metadata": {
    "ExecuteTime": {
     "end_time": "2025-07-11T12:30:26.278730Z",
     "start_time": "2025-07-11T12:30:26.270515Z"
    }
   },
   "cell_type": "code",
   "source": [
    "# Finding the top-performing fmri_text_denoise\n",
    "sorted_overall = results_avg_piv.mean().sort_values(ascending=False)\n",
    "sorted_overall"
   ],
   "id": "5998b48754036aec",
   "outputs": [
    {
     "data": {
      "text/plain": [
       "embed\n",
       "fastText_CommonCrawl    0.680726\n",
       "BERT_large_1            0.673518\n",
       "Llama_3_8B              0.669463\n",
       "BERT_large              0.668871\n",
       "Llama_3_8B_2            0.656879\n",
       "Llama_3_8B_1            0.656712\n",
       "BERT_large_2            0.609314\n",
       "Llama_3_8B_0            0.563410\n",
       "BERT_large_0            0.527151\n",
       "dtype: float64"
      ]
     },
     "execution_count": 7,
     "metadata": {},
     "output_type": "execute_result"
    }
   ],
   "execution_count": 7
  },
  {
   "metadata": {},
   "cell_type": "code",
   "source": [
    "## Saving\n",
    "top_performer = None\n",
    "top_performer.to_csv('../../data/embeds/Llama_X_XB.csv')"
   ],
   "id": "616aed3e3a893dc",
   "outputs": [],
   "execution_count": null
  }
 ],
 "metadata": {
  "kernelspec": {
   "display_name": "Python 3",
   "language": "python",
   "name": "python3"
  },
  "language_info": {
   "codemirror_mode": {
    "name": "ipython",
    "version": 2
   },
   "file_extension": ".py",
   "mimetype": "text/x-python",
   "name": "python",
   "nbconvert_exporter": "python",
   "pygments_lexer": "ipython2",
   "version": "2.7.6"
  }
 },
 "nbformat": 4,
 "nbformat_minor": 5
}
