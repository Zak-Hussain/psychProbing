{
 "cells": [
  {
   "cell_type": "code",
   "id": "initial_id",
   "metadata": {
    "collapsed": true
   },
   "source": [
    "import pandas as pd\n",
    "import os\n",
    "import sys\n",
    "from embeds import fix_corrupt, multi_inner_align, standardize\n",
    "import numpy as np\n",
    "from hypertools.tools import align\n",
    "import torch\n",
    "\n",
    "sys.path.append('..')\n",
    "from rca.rca import run_rca"
   ],
   "outputs": [],
   "execution_count": null
  },
  {
   "metadata": {},
   "cell_type": "markdown",
   "source": "## Cognival",
   "id": "d633366108d33797"
  },
  {
   "cell_type": "code",
   "source": [
    "def read_txt(f) -> pd.DataFrame:\n",
    "    \"\"\"For reading the cognival data\"\"\"\n",
    "    pulled = {}\n",
    "    for line in f:\n",
    "        word, *vec = line.split()\n",
    "        pulled[word] = vec\n",
    "    pulled = fix_corrupt(pulled)\n",
    "    return pd.DataFrame(pulled).T.astype(float)\n",
    "\n",
    "def read_individual_fmri(path: str) -> pd.DataFrame:\n",
    "    dfs = []\n",
    "\n",
    "    for f_name in os.listdir(path):\n",
    "\n",
    "        if f_name.endswith('.txt'):\n",
    "            with open(path + f_name, 'r') as f:\n",
    "                dfs.append(read_txt(f))\n",
    "        else:\n",
    "            pass\n",
    "\n",
    "    # Align indices\n",
    "    dfs = list(multi_inner_align(dfs))\n",
    "\n",
    "    return dfs\n",
    "\n",
    "fmris_text_cognival = read_individual_fmri('../../data/fmri_text_cognival/')\n",
    "fmris_speech_cognival = read_individual_fmri('../../data/fmri_speech_cognival/')\n",
    "\n",
    "len(fmris_text_cognival), len(fmris_speech_cognival)"
   ],
   "metadata": {
    "collapsed": false
   },
   "id": "fb6a39731d1dc10e",
   "outputs": [],
   "execution_count": null
  },
  {
   "metadata": {},
   "cell_type": "code",
   "source": [
    "# Standardize before hyper-aligning\n",
    "fmris_text_cognival = [standardize(df) for df in fmris_text_cognival]\n",
    "fmris_speech_cognival = [standardize(df) for df in fmris_speech_cognival]\n",
    "\n",
    "# --- Hyper aligning individuals ---\n",
    "def hyper_align(dfs: list) -> pd.DataFrame:\n",
    "    df = np.mean(align(dfs, align='hyper'), axis=0)\n",
    "    return pd.DataFrame(df, index=dfs[0].index)\n",
    "\n",
    "fMRI_text_cognival = hyper_align(fmris_text_cognival)\n",
    "fMRI_speech_cognival = hyper_align(fmris_speech_cognival)"
   ],
   "id": "eaf914aa6621a248",
   "outputs": [],
   "execution_count": null
  },
  {
   "metadata": {},
   "cell_type": "markdown",
   "source": "## Denoised (Antonia)",
   "id": "eb927c09ea5f2abf"
  },
  {
   "metadata": {},
   "cell_type": "code",
   "source": [
    "def read_from_torch(f_path) -> pd.DataFrame:\n",
    "    fmri_dict = torch.load(f_path, weights_only=False)\n",
    "    voc, vecs = fmri_dict['dico'], fmri_dict['vectors'].numpy()\n",
    "    return pd.DataFrame(vecs, index=voc, dtype=float)\n",
    "\n",
    "denoise_path_template = '../../data/fmri_text_denoise/fMRI_text_denoise_{}d.pth'\n",
    "\n",
    "fMRI_text_denoise_128d = read_from_torch(denoise_path_template.format(128))\n",
    "fMRI_text_denoise_256d = read_from_torch(denoise_path_template.format(256))\n",
    "fMRI_text_denoise_512d = read_from_torch(denoise_path_template.format(512))\n",
    "fMRI_text_denoise_1024d = read_from_torch(denoise_path_template.format(1024))\n",
    "\n",
    "fMRI_text_denoise_128d"
   ],
   "id": "c419b6277f725e2f",
   "outputs": [],
   "execution_count": null
  },
  {
   "metadata": {},
   "cell_type": "code",
   "source": [
    "# Finding best denoise dimensionality\n",
    "to_compare = {\n",
    "    'fMRI_text_cognival': fMRI_text_cognival.copy(),\n",
    "    'fMRI_text_denoise_128d': fMRI_text_denoise_128d.copy(),\n",
    "    'fMRI_text_denoise_256d': fMRI_text_denoise_256d.copy(),\n",
    "    'fMRI_text_denoise_512d': fMRI_text_denoise_512d.copy(),\n",
    "    'fMRI_text_denoise_1024d': fMRI_text_denoise_1024d.copy()\n",
    "}\n",
    "\n",
    "# Aligning for fair comparison\n",
    "to_compare = dict(zip(to_compare.keys(), multi_inner_align(to_compare.values())))\n",
    "\n",
    "# Standardizing\n",
    "to_compare = {name: standardize(embed) for name, embed in to_compare.items()}\n",
    "\n",
    "# Loading norm data\n",
    "norms = pd.read_csv('../../data/psychNorms/psychNorms_processed.zip', index_col=0, low_memory=False, compression='zip')\n",
    "norms_meta = pd.read_csv('../../data/psychNorms/psychNorms_metadata_processed.csv', index_col='norm')\n",
    "norms"
   ],
   "id": "bcd19338dd7bdf67",
   "outputs": [],
   "execution_count": null
  },
  {
   "metadata": {},
   "cell_type": "code",
   "source": [
    "results = run_rca(to_compare, norms, norms_meta, n_jobs=10)\n",
    "results"
   ],
   "id": "67e7ed60985f078f",
   "outputs": [],
   "execution_count": null
  },
  {
   "metadata": {},
   "cell_type": "markdown",
   "source": "## Comparing",
   "id": "86ccb6dea785c9c3"
  },
  {
   "metadata": {},
   "cell_type": "code",
   "source": [
    "# Adding norm category\n",
    "results['norm_category'] = (\n",
    "    results['norm']\n",
    "    .apply(lambda norm: norms_meta.loc[norm]['category'])\n",
    "    .replace({'_': ' '}, regex=True)\n",
    ")\n",
    "\n",
    "results_avg = (\n",
    "    results[['norm_category', 'embed', 'r2_mean']]\n",
    "    .groupby(['norm_category', 'embed'], as_index=False).median()\n",
    "    .dropna()\n",
    ")\n",
    "\n",
    "results_avg_piv = results_avg.pivot(columns='embed', index='norm_category', values='r2_mean')\n",
    "results_avg_piv.round(2)"
   ],
   "id": "79c5d86468192815",
   "outputs": [],
   "execution_count": null
  },
  {
   "metadata": {},
   "cell_type": "code",
   "source": [
    "# Finding the top-performing fmri_text_denoise\n",
    "sorted_overall = results_avg_piv.mean().sort_values(ascending=False)\n",
    "sorted_overall"
   ],
   "id": "a031dafc3a775553",
   "outputs": [],
   "execution_count": null
  },
  {
   "cell_type": "markdown",
   "source": [
    "# Saving"
   ],
   "metadata": {
    "collapsed": false
   },
   "id": "e7c7a5b947a4e640"
  },
  {
   "metadata": {},
   "cell_type": "code",
   "source": [
    "# Subsetting to only the words in norms\n",
    "to_pull = set(\n",
    "    pd.read_csv('../../data/psychNorms/psychNorms.zip', index_col=0, low_memory=False, compression='zip').index\n",
    ")\n",
    "fMRI_text_cognival = fMRI_text_cognival.loc[fMRI_text_cognival.index.isin(to_pull)].astype(float)\n",
    "fMRI_speech_cognival = fMRI_speech_cognival.loc[fMRI_speech_cognival.index.isin(to_pull)].astype(float)\n",
    "fMRI_text_denoise = fMRI_text_denoise_128d.loc[fMRI_text_denoise_128d.index.isin(to_pull)].astype(float)\n",
    "\n",
    "# Saving \n",
    "fMRI_text_cognival.to_csv('../../data/embeds/fMRI_text_cognival.csv')\n",
    "fMRI_speech_cognival.to_csv('../../data/embeds/fMRI_speech_cognival.csv')\n",
    "fMRI_text_denoise.to_csv('../../data/embeds/fMRI_text_denoise.csv')"
   ],
   "id": "fe9fc85ee929a493",
   "outputs": [],
   "execution_count": null
  }
 ],
 "metadata": {
  "kernelspec": {
   "display_name": "Python 3",
   "language": "python",
   "name": "python3"
  },
  "language_info": {
   "codemirror_mode": {
    "name": "ipython",
    "version": 2
   },
   "file_extension": ".py",
   "mimetype": "text/x-python",
   "name": "python",
   "nbconvert_exporter": "python",
   "pygments_lexer": "ipython2",
   "version": "2.7.6"
  }
 },
 "nbformat": 4,
 "nbformat_minor": 5
}
