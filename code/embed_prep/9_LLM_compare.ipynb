{
 "cells": [
  {
   "metadata": {
    "ExecuteTime": {
     "end_time": "2025-07-10T14:20:26.146124Z",
     "start_time": "2025-07-10T14:20:25.142234Z"
    }
   },
   "cell_type": "code",
   "source": [
    "import pandas as pd\n",
    "from embeds import multi_inner_align, standardize\n",
    "import sys\n",
    "sys.path.append('..')\n",
    "from rca.rca import run_rca"
   ],
   "id": "7f49e5f0610c260f",
   "outputs": [],
   "execution_count": 2
  },
  {
   "cell_type": "code",
   "id": "initial_id",
   "metadata": {
    "collapsed": true,
    "ExecuteTime": {
     "end_time": "2025-07-10T14:21:53.534746Z",
     "start_time": "2025-07-10T14:21:39.556145Z"
    }
   },
   "source": [
    "ft_baseline = pd.read_csv('../../data/embeds/fastText_CommonCrawl.csv', index_col=0)\n",
    "Llama_3_1B = pd.read_csv('../../data/llms/Llama-3.2-1B.csv', index_col=0)\n",
    "\n",
    "# Comparing\n",
    "to_compare = {\n",
    "    'ft_baseline': ft_baseline,\n",
    "    'Llama_3.2_1B': Llama_3_1B\n",
    "}\n",
    "\n",
    "# Aligning for fair comparison\n",
    "to_compare = dict(zip(to_compare.keys(), multi_inner_align(to_compare.values())))\n",
    "\n",
    "# Standardizing\n",
    "to_compare = {name: standardize(embed) for name, embed in to_compare.items()}\n",
    "\n",
    "# Loading norm data\n",
    "norms = pd.read_csv('../../data/psychNorms/psychNorms_processed.zip', index_col=0, low_memory=False, compression='zip')\n",
    "norms_meta = pd.read_csv('../../data/psychNorms/psychNorms_metadata_processed.csv', index_col='norm')\n",
    "\n",
    "\n",
    "[embed.shape for embed in to_compare.values()]"
   ],
   "outputs": [
    {
     "data": {
      "text/plain": [
       "[(44450, 300), (44450, 2048)]"
      ]
     },
     "execution_count": 5,
     "metadata": {},
     "output_type": "execute_result"
    }
   ],
   "execution_count": 5
  },
  {
   "metadata": {
    "jupyter": {
     "is_executing": true
    },
    "ExecuteTime": {
     "start_time": "2025-07-10T14:22:22.507808Z"
    }
   },
   "cell_type": "code",
   "source": [
    "results = run_rca(to_compare, norms, norms_meta, n_jobs=10)\n",
    "results"
   ],
   "id": "3663685766bd1a9b",
   "outputs": [
    {
     "data": {
      "text/plain": [
       "  0%|          | 0/2 [00:00<?, ?it/s]"
      ],
      "application/vnd.jupyter.widget-view+json": {
       "version_major": 2,
       "version_minor": 0,
       "model_id": "6d21ecae36ec4b2d818c613e0148af96"
      }
     },
     "metadata": {},
     "output_type": "display_data"
    },
    {
     "data": {
      "text/plain": [
       "ft_baseline:   0%|          | 0/291 [00:00<?, ?it/s]"
      ],
      "application/vnd.jupyter.widget-view+json": {
       "version_major": 2,
       "version_minor": 0,
       "model_id": "48e3698b287146b5a662fa7fa0f34dfa"
      }
     },
     "metadata": {},
     "output_type": "display_data"
    }
   ],
   "execution_count": null
  },
  {
   "metadata": {},
   "cell_type": "code",
   "outputs": [],
   "execution_count": null,
   "source": [
    "# Adding norm category\n",
    "results['norm_category'] = (\n",
    "    results['norm']\n",
    "    .apply(lambda norm: norms_meta.loc[norm]['category'])\n",
    "    .replace({'_': ' '}, regex=True)\n",
    ")\n",
    "\n",
    "results_avg = (\n",
    "    results[['norm_category', 'embed', 'r2_mean']]\n",
    "    .groupby(['norm_category', 'embed'], as_index=False).median()\n",
    "    .dropna()\n",
    ")\n",
    "\n",
    "results_avg_piv = results_avg.pivot(columns='embed', index='norm_category', values='r2_mean')\n",
    "results_avg_piv.round(2)"
   ],
   "id": "24aab0b1e8f2ee3"
  },
  {
   "metadata": {},
   "cell_type": "code",
   "outputs": [],
   "execution_count": null,
   "source": [
    "# Finding the top-performing fmri_text_denoise\n",
    "sorted_overall = results_avg_piv.mean().sort_values(ascending=False)\n",
    "sorted_overall"
   ],
   "id": "5998b48754036aec"
  },
  {
   "metadata": {},
   "cell_type": "code",
   "outputs": [],
   "execution_count": null,
   "source": [
    "## Saving\n",
    "top_performer = None\n",
    "top_performer.to_csv('../../data/embeds/Llama_X_XB.csv')"
   ],
   "id": "616aed3e3a893dc"
  }
 ],
 "metadata": {
  "kernelspec": {
   "display_name": "Python 3",
   "language": "python",
   "name": "python3"
  },
  "language_info": {
   "codemirror_mode": {
    "name": "ipython",
    "version": 2
   },
   "file_extension": ".py",
   "mimetype": "text/x-python",
   "name": "python",
   "nbconvert_exporter": "python",
   "pygments_lexer": "ipython2",
   "version": "2.7.6"
  }
 },
 "nbformat": 4,
 "nbformat_minor": 5
}
