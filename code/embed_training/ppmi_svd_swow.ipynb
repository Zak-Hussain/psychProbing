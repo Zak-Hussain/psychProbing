{
 "cells": [
  {
   "cell_type": "code",
   "execution_count": 1,
   "metadata": {
    "collapsed": true,
    "ExecuteTime": {
     "end_time": "2023-09-06T09:52:10.332042Z",
     "start_time": "2023-09-06T09:52:10.330284Z"
    }
   },
   "outputs": [],
   "source": [
    "import pandas as pd\n",
    "from embeds import ppmi"
   ]
  },
  {
   "cell_type": "markdown",
   "source": [
    "# Preprocessing"
   ],
   "metadata": {
    "collapsed": false
   }
  },
  {
   "cell_type": "code",
   "execution_count": 2,
   "outputs": [
    {
     "data": {
      "text/plain": "              cue          resp\n0        although  nevertheless\n1            deal            no\n2           music         notes\n3          inform          tell\n4             way          path\n...           ...           ...\n3684595   strange      stranger\n3684596    sunset        clause\n3684597   useless         worth\n3684598    volume           key\n3684599  whenever        always\n\n[3403398 rows x 2 columns]",
      "text/html": "<div>\n<style scoped>\n    .dataframe tbody tr th:only-of-type {\n        vertical-align: middle;\n    }\n\n    .dataframe tbody tr th {\n        vertical-align: top;\n    }\n\n    .dataframe thead th {\n        text-align: right;\n    }\n</style>\n<table border=\"1\" class=\"dataframe\">\n  <thead>\n    <tr style=\"text-align: right;\">\n      <th></th>\n      <th>cue</th>\n      <th>resp</th>\n    </tr>\n  </thead>\n  <tbody>\n    <tr>\n      <th>0</th>\n      <td>although</td>\n      <td>nevertheless</td>\n    </tr>\n    <tr>\n      <th>1</th>\n      <td>deal</td>\n      <td>no</td>\n    </tr>\n    <tr>\n      <th>2</th>\n      <td>music</td>\n      <td>notes</td>\n    </tr>\n    <tr>\n      <th>3</th>\n      <td>inform</td>\n      <td>tell</td>\n    </tr>\n    <tr>\n      <th>4</th>\n      <td>way</td>\n      <td>path</td>\n    </tr>\n    <tr>\n      <th>...</th>\n      <td>...</td>\n      <td>...</td>\n    </tr>\n    <tr>\n      <th>3684595</th>\n      <td>strange</td>\n      <td>stranger</td>\n    </tr>\n    <tr>\n      <th>3684596</th>\n      <td>sunset</td>\n      <td>clause</td>\n    </tr>\n    <tr>\n      <th>3684597</th>\n      <td>useless</td>\n      <td>worth</td>\n    </tr>\n    <tr>\n      <th>3684598</th>\n      <td>volume</td>\n      <td>key</td>\n    </tr>\n    <tr>\n      <th>3684599</th>\n      <td>whenever</td>\n      <td>always</td>\n    </tr>\n  </tbody>\n</table>\n<p>3403398 rows × 2 columns</p>\n</div>"
     },
     "execution_count": 2,
     "metadata": {},
     "output_type": "execute_result"
    }
   ],
   "source": [
    "# Melting into cue-resp df\n",
    "swow = pd.read_csv('../../data/free_assoc/SWOW-EN.R100.csv')\n",
    "swow = (swow\n",
    "        .melt(id_vars='cue', value_vars=['R1', 'R2', 'R3'],\n",
    "              value_name='resp')\n",
    "        .drop(columns=['variable'])\n",
    "        .dropna(axis=0)\n",
    "        .astype(str))\n",
    "\n",
    "swow"
   ],
   "metadata": {
    "collapsed": false,
    "pycharm": {
     "name": "#%%\n"
    },
    "ExecuteTime": {
     "end_time": "2023-09-06T09:52:12.903225Z",
     "start_time": "2023-09-06T09:52:10.333432Z"
    }
   }
  },
  {
   "cell_type": "code",
   "execution_count": 3,
   "outputs": [
    {
     "name": "stdout",
     "output_type": "stream",
     "text": [
      "134213\n",
      "32312\n"
     ]
    }
   ],
   "source": [
    "# Dropping responses with <5 occurrences\n",
    "print(len(swow.resp.unique()))\n",
    "resp_counts = swow.resp.value_counts().to_dict()\n",
    "swow = swow[swow.resp.map(lambda x: resp_counts[x] >= 5)]\n",
    "print(len(swow.resp.unique()))"
   ],
   "metadata": {
    "collapsed": false,
    "pycharm": {
     "name": "#%%\n"
    },
    "ExecuteTime": {
     "end_time": "2023-09-06T09:52:14.077971Z",
     "start_time": "2023-09-06T09:52:12.969408Z"
    }
   }
  },
  {
   "cell_type": "markdown",
   "source": [
    "# Building Embedding"
   ],
   "metadata": {
    "collapsed": false
   }
  },
  {
   "cell_type": "code",
   "execution_count": 4,
   "outputs": [],
   "source": "from sklearn.decomposition import TruncatedSVD",
   "metadata": {
    "collapsed": false,
    "pycharm": {
     "name": "#%%\n"
    },
    "ExecuteTime": {
     "end_time": "2023-09-06T09:52:14.276450Z",
     "start_time": "2023-09-06T09:52:14.074934Z"
    }
   }
  },
  {
   "cell_type": "code",
   "execution_count": 5,
   "outputs": [
    {
     "data": {
      "text/plain": "           count                                        ...               \\\nresp           !   $   % 'sup   - -ly   . .com   0 007  ... zombies zone   \ncue                                                     ...                \nAbel         NaN NaN NaN  NaN NaN NaN NaN  NaN NaN NaN  ...     NaN  NaN   \nAboriginal   NaN NaN NaN  NaN NaN NaN NaN  NaN NaN NaN  ...     NaN  NaN   \nAdam         NaN NaN NaN  NaN NaN NaN NaN  NaN NaN NaN  ...     NaN  NaN   \nAdvil        NaN NaN NaN  NaN NaN NaN NaN  NaN NaN NaN  ...     NaN  NaN   \nAfrica       NaN NaN NaN  NaN NaN NaN NaN  NaN NaN NaN  ...     NaN  NaN   \n...          ...  ..  ..  ...  ..  ..  ..  ...  ..  ..  ...     ...  ...   \nzombies      NaN NaN NaN  NaN NaN NaN NaN  NaN NaN NaN  ...     NaN  NaN   \nzone         NaN NaN NaN  NaN NaN NaN NaN  NaN NaN NaN  ...     NaN  NaN   \nzoo          NaN NaN NaN  NaN NaN NaN NaN  NaN NaN NaN  ...     NaN  NaN   \nzoom         NaN NaN NaN  NaN NaN NaN NaN  NaN NaN NaN  ...     NaN  NaN   \nzucchini     NaN NaN NaN  NaN NaN NaN NaN  NaN NaN NaN  ...     NaN  NaN   \n\n                                                               \nresp       zones zoo zoology zoom zoom in zucchini zygote  zz  \ncue                                                            \nAbel         NaN NaN     NaN  NaN     NaN      NaN    NaN NaN  \nAboriginal   NaN NaN     NaN  NaN     NaN      NaN    NaN NaN  \nAdam         NaN NaN     NaN  NaN     NaN      NaN    NaN NaN  \nAdvil        NaN NaN     NaN  NaN     NaN      NaN    NaN NaN  \nAfrica       NaN NaN     NaN  NaN     NaN      NaN    NaN NaN  \n...          ...  ..     ...  ...     ...      ...    ...  ..  \nzombies      NaN NaN     NaN  NaN     NaN      NaN    NaN NaN  \nzone         NaN NaN     NaN  NaN     NaN      NaN    NaN NaN  \nzoo          NaN NaN     2.0  NaN     NaN      NaN    NaN NaN  \nzoom         NaN NaN     NaN  2.0     NaN      NaN    NaN NaN  \nzucchini     NaN NaN     NaN  NaN     NaN      NaN    NaN NaN  \n\n[12281 rows x 32312 columns]",
      "text/html": "<div>\n<style scoped>\n    .dataframe tbody tr th:only-of-type {\n        vertical-align: middle;\n    }\n\n    .dataframe tbody tr th {\n        vertical-align: top;\n    }\n\n    .dataframe thead tr th {\n        text-align: left;\n    }\n\n    .dataframe thead tr:last-of-type th {\n        text-align: right;\n    }\n</style>\n<table border=\"1\" class=\"dataframe\">\n  <thead>\n    <tr>\n      <th></th>\n      <th colspan=\"21\" halign=\"left\">count</th>\n    </tr>\n    <tr>\n      <th>resp</th>\n      <th>!</th>\n      <th>$</th>\n      <th>%</th>\n      <th>'sup</th>\n      <th>-</th>\n      <th>-ly</th>\n      <th>.</th>\n      <th>.com</th>\n      <th>0</th>\n      <th>007</th>\n      <th>...</th>\n      <th>zombies</th>\n      <th>zone</th>\n      <th>zones</th>\n      <th>zoo</th>\n      <th>zoology</th>\n      <th>zoom</th>\n      <th>zoom in</th>\n      <th>zucchini</th>\n      <th>zygote</th>\n      <th>zz</th>\n    </tr>\n    <tr>\n      <th>cue</th>\n      <th></th>\n      <th></th>\n      <th></th>\n      <th></th>\n      <th></th>\n      <th></th>\n      <th></th>\n      <th></th>\n      <th></th>\n      <th></th>\n      <th></th>\n      <th></th>\n      <th></th>\n      <th></th>\n      <th></th>\n      <th></th>\n      <th></th>\n      <th></th>\n      <th></th>\n      <th></th>\n      <th></th>\n    </tr>\n  </thead>\n  <tbody>\n    <tr>\n      <th>Abel</th>\n      <td>NaN</td>\n      <td>NaN</td>\n      <td>NaN</td>\n      <td>NaN</td>\n      <td>NaN</td>\n      <td>NaN</td>\n      <td>NaN</td>\n      <td>NaN</td>\n      <td>NaN</td>\n      <td>NaN</td>\n      <td>...</td>\n      <td>NaN</td>\n      <td>NaN</td>\n      <td>NaN</td>\n      <td>NaN</td>\n      <td>NaN</td>\n      <td>NaN</td>\n      <td>NaN</td>\n      <td>NaN</td>\n      <td>NaN</td>\n      <td>NaN</td>\n    </tr>\n    <tr>\n      <th>Aboriginal</th>\n      <td>NaN</td>\n      <td>NaN</td>\n      <td>NaN</td>\n      <td>NaN</td>\n      <td>NaN</td>\n      <td>NaN</td>\n      <td>NaN</td>\n      <td>NaN</td>\n      <td>NaN</td>\n      <td>NaN</td>\n      <td>...</td>\n      <td>NaN</td>\n      <td>NaN</td>\n      <td>NaN</td>\n      <td>NaN</td>\n      <td>NaN</td>\n      <td>NaN</td>\n      <td>NaN</td>\n      <td>NaN</td>\n      <td>NaN</td>\n      <td>NaN</td>\n    </tr>\n    <tr>\n      <th>Adam</th>\n      <td>NaN</td>\n      <td>NaN</td>\n      <td>NaN</td>\n      <td>NaN</td>\n      <td>NaN</td>\n      <td>NaN</td>\n      <td>NaN</td>\n      <td>NaN</td>\n      <td>NaN</td>\n      <td>NaN</td>\n      <td>...</td>\n      <td>NaN</td>\n      <td>NaN</td>\n      <td>NaN</td>\n      <td>NaN</td>\n      <td>NaN</td>\n      <td>NaN</td>\n      <td>NaN</td>\n      <td>NaN</td>\n      <td>NaN</td>\n      <td>NaN</td>\n    </tr>\n    <tr>\n      <th>Advil</th>\n      <td>NaN</td>\n      <td>NaN</td>\n      <td>NaN</td>\n      <td>NaN</td>\n      <td>NaN</td>\n      <td>NaN</td>\n      <td>NaN</td>\n      <td>NaN</td>\n      <td>NaN</td>\n      <td>NaN</td>\n      <td>...</td>\n      <td>NaN</td>\n      <td>NaN</td>\n      <td>NaN</td>\n      <td>NaN</td>\n      <td>NaN</td>\n      <td>NaN</td>\n      <td>NaN</td>\n      <td>NaN</td>\n      <td>NaN</td>\n      <td>NaN</td>\n    </tr>\n    <tr>\n      <th>Africa</th>\n      <td>NaN</td>\n      <td>NaN</td>\n      <td>NaN</td>\n      <td>NaN</td>\n      <td>NaN</td>\n      <td>NaN</td>\n      <td>NaN</td>\n      <td>NaN</td>\n      <td>NaN</td>\n      <td>NaN</td>\n      <td>...</td>\n      <td>NaN</td>\n      <td>NaN</td>\n      <td>NaN</td>\n      <td>NaN</td>\n      <td>NaN</td>\n      <td>NaN</td>\n      <td>NaN</td>\n      <td>NaN</td>\n      <td>NaN</td>\n      <td>NaN</td>\n    </tr>\n    <tr>\n      <th>...</th>\n      <td>...</td>\n      <td>...</td>\n      <td>...</td>\n      <td>...</td>\n      <td>...</td>\n      <td>...</td>\n      <td>...</td>\n      <td>...</td>\n      <td>...</td>\n      <td>...</td>\n      <td>...</td>\n      <td>...</td>\n      <td>...</td>\n      <td>...</td>\n      <td>...</td>\n      <td>...</td>\n      <td>...</td>\n      <td>...</td>\n      <td>...</td>\n      <td>...</td>\n      <td>...</td>\n    </tr>\n    <tr>\n      <th>zombies</th>\n      <td>NaN</td>\n      <td>NaN</td>\n      <td>NaN</td>\n      <td>NaN</td>\n      <td>NaN</td>\n      <td>NaN</td>\n      <td>NaN</td>\n      <td>NaN</td>\n      <td>NaN</td>\n      <td>NaN</td>\n      <td>...</td>\n      <td>NaN</td>\n      <td>NaN</td>\n      <td>NaN</td>\n      <td>NaN</td>\n      <td>NaN</td>\n      <td>NaN</td>\n      <td>NaN</td>\n      <td>NaN</td>\n      <td>NaN</td>\n      <td>NaN</td>\n    </tr>\n    <tr>\n      <th>zone</th>\n      <td>NaN</td>\n      <td>NaN</td>\n      <td>NaN</td>\n      <td>NaN</td>\n      <td>NaN</td>\n      <td>NaN</td>\n      <td>NaN</td>\n      <td>NaN</td>\n      <td>NaN</td>\n      <td>NaN</td>\n      <td>...</td>\n      <td>NaN</td>\n      <td>NaN</td>\n      <td>NaN</td>\n      <td>NaN</td>\n      <td>NaN</td>\n      <td>NaN</td>\n      <td>NaN</td>\n      <td>NaN</td>\n      <td>NaN</td>\n      <td>NaN</td>\n    </tr>\n    <tr>\n      <th>zoo</th>\n      <td>NaN</td>\n      <td>NaN</td>\n      <td>NaN</td>\n      <td>NaN</td>\n      <td>NaN</td>\n      <td>NaN</td>\n      <td>NaN</td>\n      <td>NaN</td>\n      <td>NaN</td>\n      <td>NaN</td>\n      <td>...</td>\n      <td>NaN</td>\n      <td>NaN</td>\n      <td>NaN</td>\n      <td>NaN</td>\n      <td>2.0</td>\n      <td>NaN</td>\n      <td>NaN</td>\n      <td>NaN</td>\n      <td>NaN</td>\n      <td>NaN</td>\n    </tr>\n    <tr>\n      <th>zoom</th>\n      <td>NaN</td>\n      <td>NaN</td>\n      <td>NaN</td>\n      <td>NaN</td>\n      <td>NaN</td>\n      <td>NaN</td>\n      <td>NaN</td>\n      <td>NaN</td>\n      <td>NaN</td>\n      <td>NaN</td>\n      <td>...</td>\n      <td>NaN</td>\n      <td>NaN</td>\n      <td>NaN</td>\n      <td>NaN</td>\n      <td>NaN</td>\n      <td>2.0</td>\n      <td>NaN</td>\n      <td>NaN</td>\n      <td>NaN</td>\n      <td>NaN</td>\n    </tr>\n    <tr>\n      <th>zucchini</th>\n      <td>NaN</td>\n      <td>NaN</td>\n      <td>NaN</td>\n      <td>NaN</td>\n      <td>NaN</td>\n      <td>NaN</td>\n      <td>NaN</td>\n      <td>NaN</td>\n      <td>NaN</td>\n      <td>NaN</td>\n      <td>...</td>\n      <td>NaN</td>\n      <td>NaN</td>\n      <td>NaN</td>\n      <td>NaN</td>\n      <td>NaN</td>\n      <td>NaN</td>\n      <td>NaN</td>\n      <td>NaN</td>\n      <td>NaN</td>\n      <td>NaN</td>\n    </tr>\n  </tbody>\n</table>\n<p>12281 rows × 32312 columns</p>\n</div>"
     },
     "execution_count": 5,
     "metadata": {},
     "output_type": "execute_result"
    }
   ],
   "source": [
    "# Pivoting into cue-rep-count df\n",
    "swow = (swow\n",
    "        .value_counts()\n",
    "        .reset_index().rename(columns={0: 'count'})\n",
    "        .pivot(index='cue', columns='resp'))\n",
    "\n",
    "swow"
   ],
   "metadata": {
    "collapsed": false,
    "pycharm": {
     "name": "#%%\n"
    },
    "ExecuteTime": {
     "end_time": "2023-09-06T09:52:16.989848Z",
     "start_time": "2023-09-06T09:52:14.307773Z"
    }
   }
  },
  {
   "cell_type": "code",
   "execution_count": 6,
   "outputs": [
    {
     "data": {
      "text/plain": "           count                                               ...          \\\nresp           !    $    % 'sup    -  -ly    . .com    0  007  ... zombies   \ncue                                                            ...           \nAbel         0.0  0.0  0.0  0.0  0.0  0.0  0.0  0.0  0.0  0.0  ...     0.0   \nAboriginal   0.0  0.0  0.0  0.0  0.0  0.0  0.0  0.0  0.0  0.0  ...     0.0   \nAdam         0.0  0.0  0.0  0.0  0.0  0.0  0.0  0.0  0.0  0.0  ...     0.0   \nAdvil        0.0  0.0  0.0  0.0  0.0  0.0  0.0  0.0  0.0  0.0  ...     0.0   \nAfrica       0.0  0.0  0.0  0.0  0.0  0.0  0.0  0.0  0.0  0.0  ...     0.0   \n...          ...  ...  ...  ...  ...  ...  ...  ...  ...  ...  ...     ...   \nzombies      0.0  0.0  0.0  0.0  0.0  0.0  0.0  0.0  0.0  0.0  ...     0.0   \nzone         0.0  0.0  0.0  0.0  0.0  0.0  0.0  0.0  0.0  0.0  ...     0.0   \nzoo          0.0  0.0  0.0  0.0  0.0  0.0  0.0  0.0  0.0  0.0  ...     0.0   \nzoom         0.0  0.0  0.0  0.0  0.0  0.0  0.0  0.0  0.0  0.0  ...     0.0   \nzucchini     0.0  0.0  0.0  0.0  0.0  0.0  0.0  0.0  0.0  0.0  ...     0.0   \n\n                                                                             \nresp       zone zones  zoo   zoology      zoom zoom in zucchini zygote   zz  \ncue                                                                          \nAbel        0.0   0.0  0.0  0.000000  0.000000     0.0      0.0    0.0  0.0  \nAboriginal  0.0   0.0  0.0  0.000000  0.000000     0.0      0.0    0.0  0.0  \nAdam        0.0   0.0  0.0  0.000000  0.000000     0.0      0.0    0.0  0.0  \nAdvil       0.0   0.0  0.0  0.000000  0.000000     0.0      0.0    0.0  0.0  \nAfrica      0.0   0.0  0.0  0.000000  0.000000     0.0      0.0    0.0  0.0  \n...         ...   ...  ...       ...       ...     ...      ...    ...  ...  \nzombies     0.0   0.0  0.0  0.000000  0.000000     0.0      0.0    0.0  0.0  \nzone        0.0   0.0  0.0  0.000000  0.000000     0.0      0.0    0.0  0.0  \nzoo         0.0   0.0  0.0  7.844534  0.000000     0.0      0.0    0.0  0.0  \nzoom        0.0   0.0  0.0  0.000000  5.351898     0.0      0.0    0.0  0.0  \nzucchini    0.0   0.0  0.0  0.000000  0.000000     0.0      0.0    0.0  0.0  \n\n[12281 rows x 32312 columns]",
      "text/html": "<div>\n<style scoped>\n    .dataframe tbody tr th:only-of-type {\n        vertical-align: middle;\n    }\n\n    .dataframe tbody tr th {\n        vertical-align: top;\n    }\n\n    .dataframe thead tr th {\n        text-align: left;\n    }\n\n    .dataframe thead tr:last-of-type th {\n        text-align: right;\n    }\n</style>\n<table border=\"1\" class=\"dataframe\">\n  <thead>\n    <tr>\n      <th></th>\n      <th colspan=\"21\" halign=\"left\">count</th>\n    </tr>\n    <tr>\n      <th>resp</th>\n      <th>!</th>\n      <th>$</th>\n      <th>%</th>\n      <th>'sup</th>\n      <th>-</th>\n      <th>-ly</th>\n      <th>.</th>\n      <th>.com</th>\n      <th>0</th>\n      <th>007</th>\n      <th>...</th>\n      <th>zombies</th>\n      <th>zone</th>\n      <th>zones</th>\n      <th>zoo</th>\n      <th>zoology</th>\n      <th>zoom</th>\n      <th>zoom in</th>\n      <th>zucchini</th>\n      <th>zygote</th>\n      <th>zz</th>\n    </tr>\n    <tr>\n      <th>cue</th>\n      <th></th>\n      <th></th>\n      <th></th>\n      <th></th>\n      <th></th>\n      <th></th>\n      <th></th>\n      <th></th>\n      <th></th>\n      <th></th>\n      <th></th>\n      <th></th>\n      <th></th>\n      <th></th>\n      <th></th>\n      <th></th>\n      <th></th>\n      <th></th>\n      <th></th>\n      <th></th>\n      <th></th>\n    </tr>\n  </thead>\n  <tbody>\n    <tr>\n      <th>Abel</th>\n      <td>0.0</td>\n      <td>0.0</td>\n      <td>0.0</td>\n      <td>0.0</td>\n      <td>0.0</td>\n      <td>0.0</td>\n      <td>0.0</td>\n      <td>0.0</td>\n      <td>0.0</td>\n      <td>0.0</td>\n      <td>...</td>\n      <td>0.0</td>\n      <td>0.0</td>\n      <td>0.0</td>\n      <td>0.0</td>\n      <td>0.000000</td>\n      <td>0.000000</td>\n      <td>0.0</td>\n      <td>0.0</td>\n      <td>0.0</td>\n      <td>0.0</td>\n    </tr>\n    <tr>\n      <th>Aboriginal</th>\n      <td>0.0</td>\n      <td>0.0</td>\n      <td>0.0</td>\n      <td>0.0</td>\n      <td>0.0</td>\n      <td>0.0</td>\n      <td>0.0</td>\n      <td>0.0</td>\n      <td>0.0</td>\n      <td>0.0</td>\n      <td>...</td>\n      <td>0.0</td>\n      <td>0.0</td>\n      <td>0.0</td>\n      <td>0.0</td>\n      <td>0.000000</td>\n      <td>0.000000</td>\n      <td>0.0</td>\n      <td>0.0</td>\n      <td>0.0</td>\n      <td>0.0</td>\n    </tr>\n    <tr>\n      <th>Adam</th>\n      <td>0.0</td>\n      <td>0.0</td>\n      <td>0.0</td>\n      <td>0.0</td>\n      <td>0.0</td>\n      <td>0.0</td>\n      <td>0.0</td>\n      <td>0.0</td>\n      <td>0.0</td>\n      <td>0.0</td>\n      <td>...</td>\n      <td>0.0</td>\n      <td>0.0</td>\n      <td>0.0</td>\n      <td>0.0</td>\n      <td>0.000000</td>\n      <td>0.000000</td>\n      <td>0.0</td>\n      <td>0.0</td>\n      <td>0.0</td>\n      <td>0.0</td>\n    </tr>\n    <tr>\n      <th>Advil</th>\n      <td>0.0</td>\n      <td>0.0</td>\n      <td>0.0</td>\n      <td>0.0</td>\n      <td>0.0</td>\n      <td>0.0</td>\n      <td>0.0</td>\n      <td>0.0</td>\n      <td>0.0</td>\n      <td>0.0</td>\n      <td>...</td>\n      <td>0.0</td>\n      <td>0.0</td>\n      <td>0.0</td>\n      <td>0.0</td>\n      <td>0.000000</td>\n      <td>0.000000</td>\n      <td>0.0</td>\n      <td>0.0</td>\n      <td>0.0</td>\n      <td>0.0</td>\n    </tr>\n    <tr>\n      <th>Africa</th>\n      <td>0.0</td>\n      <td>0.0</td>\n      <td>0.0</td>\n      <td>0.0</td>\n      <td>0.0</td>\n      <td>0.0</td>\n      <td>0.0</td>\n      <td>0.0</td>\n      <td>0.0</td>\n      <td>0.0</td>\n      <td>...</td>\n      <td>0.0</td>\n      <td>0.0</td>\n      <td>0.0</td>\n      <td>0.0</td>\n      <td>0.000000</td>\n      <td>0.000000</td>\n      <td>0.0</td>\n      <td>0.0</td>\n      <td>0.0</td>\n      <td>0.0</td>\n    </tr>\n    <tr>\n      <th>...</th>\n      <td>...</td>\n      <td>...</td>\n      <td>...</td>\n      <td>...</td>\n      <td>...</td>\n      <td>...</td>\n      <td>...</td>\n      <td>...</td>\n      <td>...</td>\n      <td>...</td>\n      <td>...</td>\n      <td>...</td>\n      <td>...</td>\n      <td>...</td>\n      <td>...</td>\n      <td>...</td>\n      <td>...</td>\n      <td>...</td>\n      <td>...</td>\n      <td>...</td>\n      <td>...</td>\n    </tr>\n    <tr>\n      <th>zombies</th>\n      <td>0.0</td>\n      <td>0.0</td>\n      <td>0.0</td>\n      <td>0.0</td>\n      <td>0.0</td>\n      <td>0.0</td>\n      <td>0.0</td>\n      <td>0.0</td>\n      <td>0.0</td>\n      <td>0.0</td>\n      <td>...</td>\n      <td>0.0</td>\n      <td>0.0</td>\n      <td>0.0</td>\n      <td>0.0</td>\n      <td>0.000000</td>\n      <td>0.000000</td>\n      <td>0.0</td>\n      <td>0.0</td>\n      <td>0.0</td>\n      <td>0.0</td>\n    </tr>\n    <tr>\n      <th>zone</th>\n      <td>0.0</td>\n      <td>0.0</td>\n      <td>0.0</td>\n      <td>0.0</td>\n      <td>0.0</td>\n      <td>0.0</td>\n      <td>0.0</td>\n      <td>0.0</td>\n      <td>0.0</td>\n      <td>0.0</td>\n      <td>...</td>\n      <td>0.0</td>\n      <td>0.0</td>\n      <td>0.0</td>\n      <td>0.0</td>\n      <td>0.000000</td>\n      <td>0.000000</td>\n      <td>0.0</td>\n      <td>0.0</td>\n      <td>0.0</td>\n      <td>0.0</td>\n    </tr>\n    <tr>\n      <th>zoo</th>\n      <td>0.0</td>\n      <td>0.0</td>\n      <td>0.0</td>\n      <td>0.0</td>\n      <td>0.0</td>\n      <td>0.0</td>\n      <td>0.0</td>\n      <td>0.0</td>\n      <td>0.0</td>\n      <td>0.0</td>\n      <td>...</td>\n      <td>0.0</td>\n      <td>0.0</td>\n      <td>0.0</td>\n      <td>0.0</td>\n      <td>7.844534</td>\n      <td>0.000000</td>\n      <td>0.0</td>\n      <td>0.0</td>\n      <td>0.0</td>\n      <td>0.0</td>\n    </tr>\n    <tr>\n      <th>zoom</th>\n      <td>0.0</td>\n      <td>0.0</td>\n      <td>0.0</td>\n      <td>0.0</td>\n      <td>0.0</td>\n      <td>0.0</td>\n      <td>0.0</td>\n      <td>0.0</td>\n      <td>0.0</td>\n      <td>0.0</td>\n      <td>...</td>\n      <td>0.0</td>\n      <td>0.0</td>\n      <td>0.0</td>\n      <td>0.0</td>\n      <td>0.000000</td>\n      <td>5.351898</td>\n      <td>0.0</td>\n      <td>0.0</td>\n      <td>0.0</td>\n      <td>0.0</td>\n    </tr>\n    <tr>\n      <th>zucchini</th>\n      <td>0.0</td>\n      <td>0.0</td>\n      <td>0.0</td>\n      <td>0.0</td>\n      <td>0.0</td>\n      <td>0.0</td>\n      <td>0.0</td>\n      <td>0.0</td>\n      <td>0.0</td>\n      <td>0.0</td>\n      <td>...</td>\n      <td>0.0</td>\n      <td>0.0</td>\n      <td>0.0</td>\n      <td>0.0</td>\n      <td>0.000000</td>\n      <td>0.000000</td>\n      <td>0.0</td>\n      <td>0.0</td>\n      <td>0.0</td>\n      <td>0.0</td>\n    </tr>\n  </tbody>\n</table>\n<p>12281 rows × 32312 columns</p>\n</div>"
     },
     "execution_count": 6,
     "metadata": {},
     "output_type": "execute_result"
    }
   ],
   "source": [
    "swow_ppmi = ppmi(swow).fillna(0.0)\n",
    "swow_ppmi"
   ],
   "metadata": {
    "collapsed": false,
    "pycharm": {
     "name": "#%%\n"
    },
    "ExecuteTime": {
     "end_time": "2023-09-06T09:52:37.397550Z",
     "start_time": "2023-09-06T09:52:16.991284Z"
    }
   }
  },
  {
   "cell_type": "code",
   "execution_count": 9,
   "outputs": [
    {
     "data": {
      "text/plain": "                 0         1         2         3         4         5    \\\ncue                                                                      \nAbel        2.596794  0.299556  0.143823  0.967294 -1.288471  0.643886   \nAboriginal  3.453354 -1.418625 -0.309232  0.004895 -2.848235  1.015647   \nAdam        2.677174 -0.203603  0.138737  1.568495 -1.295039  0.638541   \nAdvil       1.989590 -1.322967  0.847095 -0.910866  1.733291 -0.558487   \nAfrica      4.718788 -2.920645 -0.462586 -0.754773 -3.635738  1.059833   \n...              ...       ...       ...       ...       ...       ...   \nzombies     4.595400 -1.789345  3.450252 -1.167854 -0.383953 -1.637413   \nzone        4.943383  0.099102 -1.760140 -3.450767 -1.652865  0.129844   \nzoo         3.914599 -2.112934 -0.080263 -0.844014 -1.830328 -0.480745   \nzoom        4.114652 -0.383222 -2.097423 -3.037944 -1.393578 -2.728006   \nzucchini    3.111493 -5.424167 -1.450741  1.581614  4.225824  3.257136   \n\n                 6         7         8         9    ...       290       291  \\\ncue                                                 ...                       \nAbel        0.342490  1.972009  0.813801  1.830905  ...  0.312574  0.459090   \nAboriginal -1.200593  2.947173 -0.088245  0.923150  ...  0.141971  0.653498   \nAdam       -0.352811  1.274088  0.263471  0.912076  ...  0.780021  0.997879   \nAdvil       0.400698 -0.966160  1.952438  2.605908  ... -0.921765  1.388033   \nAfrica      0.565142  3.903512  0.603554  0.994736  ... -1.289675 -0.646093   \n...              ...       ...       ...       ...  ...       ...       ...   \nzombies    -2.532979  2.006725  0.992685  1.257853  ... -0.163420 -0.744620   \nzone        1.237090  1.679624  0.098315 -0.505914  ...  0.068277 -0.459860   \nzoo        -0.113124  2.081342 -0.501086  0.117836  ... -1.738868  0.140101   \nzoom       -1.217700 -0.440577  0.397753 -2.757840  ... -0.206498 -0.420049   \nzucchini   -0.557370  2.753814  0.658302 -1.459519  ...  0.152593 -0.587007   \n\n                 292       293       294       295       296       297  \\\ncue                                                                      \nAbel       -1.271551 -0.210143  0.287171 -0.146275 -0.129649  0.156938   \nAboriginal -0.648082 -0.143290  0.430632  1.266303  1.949117 -0.386414   \nAdam       -0.725559  0.011951  0.111412  0.174819 -0.482924  0.155790   \nAdvil       1.425312 -1.285927 -0.368075 -1.062752  0.284415 -0.071896   \nAfrica      3.391136  0.256842  0.880635 -1.097716 -0.170871 -0.405151   \n...              ...       ...       ...       ...       ...       ...   \nzombies    -0.509140  0.610003  0.439289 -0.035196 -0.714640 -0.650996   \nzone        0.552081  0.500685 -0.720834 -0.660114 -0.080828 -0.137270   \nzoo         0.545498 -0.436228  1.063970 -0.725592 -0.711304  0.489148   \nzoom       -1.570691  0.003422 -0.350275 -0.006150  0.117937 -1.013131   \nzucchini    0.663308  0.283593  1.352255 -0.456381 -1.192342 -0.149221   \n\n                 298       299  \ncue                             \nAbel        0.038982 -0.624552  \nAboriginal  0.365505  0.554787  \nAdam        0.037018 -0.618753  \nAdvil       1.907177  1.389733  \nAfrica     -0.171273 -0.387788  \n...              ...       ...  \nzombies    -1.116779  0.401379  \nzone        0.018611  1.301483  \nzoo         0.309838 -0.454112  \nzoom        1.355192  1.033279  \nzucchini   -0.787693  0.505676  \n\n[12281 rows x 300 columns]",
      "text/html": "<div>\n<style scoped>\n    .dataframe tbody tr th:only-of-type {\n        vertical-align: middle;\n    }\n\n    .dataframe tbody tr th {\n        vertical-align: top;\n    }\n\n    .dataframe thead th {\n        text-align: right;\n    }\n</style>\n<table border=\"1\" class=\"dataframe\">\n  <thead>\n    <tr style=\"text-align: right;\">\n      <th></th>\n      <th>0</th>\n      <th>1</th>\n      <th>2</th>\n      <th>3</th>\n      <th>4</th>\n      <th>5</th>\n      <th>6</th>\n      <th>7</th>\n      <th>8</th>\n      <th>9</th>\n      <th>...</th>\n      <th>290</th>\n      <th>291</th>\n      <th>292</th>\n      <th>293</th>\n      <th>294</th>\n      <th>295</th>\n      <th>296</th>\n      <th>297</th>\n      <th>298</th>\n      <th>299</th>\n    </tr>\n    <tr>\n      <th>cue</th>\n      <th></th>\n      <th></th>\n      <th></th>\n      <th></th>\n      <th></th>\n      <th></th>\n      <th></th>\n      <th></th>\n      <th></th>\n      <th></th>\n      <th></th>\n      <th></th>\n      <th></th>\n      <th></th>\n      <th></th>\n      <th></th>\n      <th></th>\n      <th></th>\n      <th></th>\n      <th></th>\n      <th></th>\n    </tr>\n  </thead>\n  <tbody>\n    <tr>\n      <th>Abel</th>\n      <td>2.596794</td>\n      <td>0.299556</td>\n      <td>0.143823</td>\n      <td>0.967294</td>\n      <td>-1.288471</td>\n      <td>0.643886</td>\n      <td>0.342490</td>\n      <td>1.972009</td>\n      <td>0.813801</td>\n      <td>1.830905</td>\n      <td>...</td>\n      <td>0.312574</td>\n      <td>0.459090</td>\n      <td>-1.271551</td>\n      <td>-0.210143</td>\n      <td>0.287171</td>\n      <td>-0.146275</td>\n      <td>-0.129649</td>\n      <td>0.156938</td>\n      <td>0.038982</td>\n      <td>-0.624552</td>\n    </tr>\n    <tr>\n      <th>Aboriginal</th>\n      <td>3.453354</td>\n      <td>-1.418625</td>\n      <td>-0.309232</td>\n      <td>0.004895</td>\n      <td>-2.848235</td>\n      <td>1.015647</td>\n      <td>-1.200593</td>\n      <td>2.947173</td>\n      <td>-0.088245</td>\n      <td>0.923150</td>\n      <td>...</td>\n      <td>0.141971</td>\n      <td>0.653498</td>\n      <td>-0.648082</td>\n      <td>-0.143290</td>\n      <td>0.430632</td>\n      <td>1.266303</td>\n      <td>1.949117</td>\n      <td>-0.386414</td>\n      <td>0.365505</td>\n      <td>0.554787</td>\n    </tr>\n    <tr>\n      <th>Adam</th>\n      <td>2.677174</td>\n      <td>-0.203603</td>\n      <td>0.138737</td>\n      <td>1.568495</td>\n      <td>-1.295039</td>\n      <td>0.638541</td>\n      <td>-0.352811</td>\n      <td>1.274088</td>\n      <td>0.263471</td>\n      <td>0.912076</td>\n      <td>...</td>\n      <td>0.780021</td>\n      <td>0.997879</td>\n      <td>-0.725559</td>\n      <td>0.011951</td>\n      <td>0.111412</td>\n      <td>0.174819</td>\n      <td>-0.482924</td>\n      <td>0.155790</td>\n      <td>0.037018</td>\n      <td>-0.618753</td>\n    </tr>\n    <tr>\n      <th>Advil</th>\n      <td>1.989590</td>\n      <td>-1.322967</td>\n      <td>0.847095</td>\n      <td>-0.910866</td>\n      <td>1.733291</td>\n      <td>-0.558487</td>\n      <td>0.400698</td>\n      <td>-0.966160</td>\n      <td>1.952438</td>\n      <td>2.605908</td>\n      <td>...</td>\n      <td>-0.921765</td>\n      <td>1.388033</td>\n      <td>1.425312</td>\n      <td>-1.285927</td>\n      <td>-0.368075</td>\n      <td>-1.062752</td>\n      <td>0.284415</td>\n      <td>-0.071896</td>\n      <td>1.907177</td>\n      <td>1.389733</td>\n    </tr>\n    <tr>\n      <th>Africa</th>\n      <td>4.718788</td>\n      <td>-2.920645</td>\n      <td>-0.462586</td>\n      <td>-0.754773</td>\n      <td>-3.635738</td>\n      <td>1.059833</td>\n      <td>0.565142</td>\n      <td>3.903512</td>\n      <td>0.603554</td>\n      <td>0.994736</td>\n      <td>...</td>\n      <td>-1.289675</td>\n      <td>-0.646093</td>\n      <td>3.391136</td>\n      <td>0.256842</td>\n      <td>0.880635</td>\n      <td>-1.097716</td>\n      <td>-0.170871</td>\n      <td>-0.405151</td>\n      <td>-0.171273</td>\n      <td>-0.387788</td>\n    </tr>\n    <tr>\n      <th>...</th>\n      <td>...</td>\n      <td>...</td>\n      <td>...</td>\n      <td>...</td>\n      <td>...</td>\n      <td>...</td>\n      <td>...</td>\n      <td>...</td>\n      <td>...</td>\n      <td>...</td>\n      <td>...</td>\n      <td>...</td>\n      <td>...</td>\n      <td>...</td>\n      <td>...</td>\n      <td>...</td>\n      <td>...</td>\n      <td>...</td>\n      <td>...</td>\n      <td>...</td>\n      <td>...</td>\n    </tr>\n    <tr>\n      <th>zombies</th>\n      <td>4.595400</td>\n      <td>-1.789345</td>\n      <td>3.450252</td>\n      <td>-1.167854</td>\n      <td>-0.383953</td>\n      <td>-1.637413</td>\n      <td>-2.532979</td>\n      <td>2.006725</td>\n      <td>0.992685</td>\n      <td>1.257853</td>\n      <td>...</td>\n      <td>-0.163420</td>\n      <td>-0.744620</td>\n      <td>-0.509140</td>\n      <td>0.610003</td>\n      <td>0.439289</td>\n      <td>-0.035196</td>\n      <td>-0.714640</td>\n      <td>-0.650996</td>\n      <td>-1.116779</td>\n      <td>0.401379</td>\n    </tr>\n    <tr>\n      <th>zone</th>\n      <td>4.943383</td>\n      <td>0.099102</td>\n      <td>-1.760140</td>\n      <td>-3.450767</td>\n      <td>-1.652865</td>\n      <td>0.129844</td>\n      <td>1.237090</td>\n      <td>1.679624</td>\n      <td>0.098315</td>\n      <td>-0.505914</td>\n      <td>...</td>\n      <td>0.068277</td>\n      <td>-0.459860</td>\n      <td>0.552081</td>\n      <td>0.500685</td>\n      <td>-0.720834</td>\n      <td>-0.660114</td>\n      <td>-0.080828</td>\n      <td>-0.137270</td>\n      <td>0.018611</td>\n      <td>1.301483</td>\n    </tr>\n    <tr>\n      <th>zoo</th>\n      <td>3.914599</td>\n      <td>-2.112934</td>\n      <td>-0.080263</td>\n      <td>-0.844014</td>\n      <td>-1.830328</td>\n      <td>-0.480745</td>\n      <td>-0.113124</td>\n      <td>2.081342</td>\n      <td>-0.501086</td>\n      <td>0.117836</td>\n      <td>...</td>\n      <td>-1.738868</td>\n      <td>0.140101</td>\n      <td>0.545498</td>\n      <td>-0.436228</td>\n      <td>1.063970</td>\n      <td>-0.725592</td>\n      <td>-0.711304</td>\n      <td>0.489148</td>\n      <td>0.309838</td>\n      <td>-0.454112</td>\n    </tr>\n    <tr>\n      <th>zoom</th>\n      <td>4.114652</td>\n      <td>-0.383222</td>\n      <td>-2.097423</td>\n      <td>-3.037944</td>\n      <td>-1.393578</td>\n      <td>-2.728006</td>\n      <td>-1.217700</td>\n      <td>-0.440577</td>\n      <td>0.397753</td>\n      <td>-2.757840</td>\n      <td>...</td>\n      <td>-0.206498</td>\n      <td>-0.420049</td>\n      <td>-1.570691</td>\n      <td>0.003422</td>\n      <td>-0.350275</td>\n      <td>-0.006150</td>\n      <td>0.117937</td>\n      <td>-1.013131</td>\n      <td>1.355192</td>\n      <td>1.033279</td>\n    </tr>\n    <tr>\n      <th>zucchini</th>\n      <td>3.111493</td>\n      <td>-5.424167</td>\n      <td>-1.450741</td>\n      <td>1.581614</td>\n      <td>4.225824</td>\n      <td>3.257136</td>\n      <td>-0.557370</td>\n      <td>2.753814</td>\n      <td>0.658302</td>\n      <td>-1.459519</td>\n      <td>...</td>\n      <td>0.152593</td>\n      <td>-0.587007</td>\n      <td>0.663308</td>\n      <td>0.283593</td>\n      <td>1.352255</td>\n      <td>-0.456381</td>\n      <td>-1.192342</td>\n      <td>-0.149221</td>\n      <td>-0.787693</td>\n      <td>0.505676</td>\n    </tr>\n  </tbody>\n</table>\n<p>12281 rows × 300 columns</p>\n</div>"
     },
     "execution_count": 9,
     "metadata": {},
     "output_type": "execute_result"
    }
   ],
   "source": [
    "# SVD\n",
    "svd = TruncatedSVD(n_components=300, algorithm='arpack')\n",
    "swow_ppmi_svd = pd.DataFrame(svd.fit_transform(swow_ppmi.values),\n",
    "                             index=swow_ppmi.index)\n",
    "swow_ppmi_svd"
   ],
   "metadata": {
    "collapsed": false,
    "pycharm": {
     "name": "#%%\n"
    }
   }
  },
  {
   "cell_type": "code",
   "execution_count": 10,
   "outputs": [],
   "source": [
    "# Subsetting to only the words in psychNorms norms\n",
    "to_pull = set(\n",
    "    pd.read_csv('../../data/psychNorms/psychNorms.zip', index_col=0, low_memory=False, compression='zip').index\n",
    ")\n",
    "swow_ppmi_svd = swow_ppmi_svd.loc[swow_ppmi_svd.index.isin(to_pull)].astype(float)\n",
    "\n",
    "swow_ppmi_svd.to_csv('../../data/embeds/PPMI_SVD_SWOW.csv')"
   ],
   "metadata": {
    "collapsed": false,
    "pycharm": {
     "name": "#%%\n"
    }
   }
  }
 ],
 "metadata": {
  "kernelspec": {
   "display_name": "Python 3",
   "language": "python",
   "name": "python3"
  },
  "language_info": {
   "codemirror_mode": {
    "name": "ipython",
    "version": 2
   },
   "file_extension": ".py",
   "mimetype": "text/x-python",
   "name": "python",
   "nbconvert_exporter": "python",
   "pygments_lexer": "ipython2",
   "version": "2.7.6"
  }
 },
 "nbformat": 4,
 "nbformat_minor": 0
}
