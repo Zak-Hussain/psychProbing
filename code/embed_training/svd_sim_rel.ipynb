{
 "cells": [
  {
   "cell_type": "code",
   "source": [
    "import pandas as pd\n",
    "from sklearn.preprocessing import minmax_scale\n",
    "from sklearn.decomposition import TruncatedSVD\n",
    "from tqdm.notebook import tqdm_notebook as tqdm"
   ],
   "metadata": {
    "collapsed": false,
    "ExecuteTime": {
     "end_time": "2024-09-17T09:23:10.722889Z",
     "start_time": "2024-09-17T09:23:08.850467Z"
    }
   },
   "id": "96838b3f9b81474f",
   "outputs": [],
   "execution_count": 1
  },
  {
   "cell_type": "code",
   "source": [
    "sims_long = pd.read_csv('../../data/raw/sim_rel_combined.csv')\n",
    "sims_long"
   ],
   "metadata": {
    "collapsed": false,
    "ExecuteTime": {
     "end_time": "2024-09-17T09:23:10.807570Z",
     "start_time": "2024-09-17T09:23:10.724323Z"
    }
   },
   "id": "e6aa9c730960ac95",
   "outputs": [
    {
     "data": {
      "text/plain": [
       "        data              word_1             word_2  value         type\n",
       "0      AG203                king            cabbage  0.023   similarity\n",
       "1      AG203           professor           cucumber  0.031   similarity\n",
       "2      AG203                noon             string  0.054   similarity\n",
       "3      AG203               chord              smile  0.054   similarity\n",
       "4      AG203             rooster             voyage  0.062   similarity\n",
       "...      ...                 ...                ...    ...          ...\n",
       "27439  Zie30              Eminem              Music  4.137  relatedness\n",
       "27440  Zie30  Currency Converter     Exchange Rates  4.137  relatedness\n",
       "27441  Zie30                Cars              Honda  4.176  relatedness\n",
       "27442  Zie30             EasyJet      Cheap Flights  4.294  relatedness\n",
       "27443  Zie30           Microsoft  Internet Explorer  4.314  relatedness\n",
       "\n",
       "[27444 rows x 5 columns]"
      ],
      "text/html": [
       "<div>\n",
       "<style scoped>\n",
       "    .dataframe tbody tr th:only-of-type {\n",
       "        vertical-align: middle;\n",
       "    }\n",
       "\n",
       "    .dataframe tbody tr th {\n",
       "        vertical-align: top;\n",
       "    }\n",
       "\n",
       "    .dataframe thead th {\n",
       "        text-align: right;\n",
       "    }\n",
       "</style>\n",
       "<table border=\"1\" class=\"dataframe\">\n",
       "  <thead>\n",
       "    <tr style=\"text-align: right;\">\n",
       "      <th></th>\n",
       "      <th>data</th>\n",
       "      <th>word_1</th>\n",
       "      <th>word_2</th>\n",
       "      <th>value</th>\n",
       "      <th>type</th>\n",
       "    </tr>\n",
       "  </thead>\n",
       "  <tbody>\n",
       "    <tr>\n",
       "      <th>0</th>\n",
       "      <td>AG203</td>\n",
       "      <td>king</td>\n",
       "      <td>cabbage</td>\n",
       "      <td>0.023</td>\n",
       "      <td>similarity</td>\n",
       "    </tr>\n",
       "    <tr>\n",
       "      <th>1</th>\n",
       "      <td>AG203</td>\n",
       "      <td>professor</td>\n",
       "      <td>cucumber</td>\n",
       "      <td>0.031</td>\n",
       "      <td>similarity</td>\n",
       "    </tr>\n",
       "    <tr>\n",
       "      <th>2</th>\n",
       "      <td>AG203</td>\n",
       "      <td>noon</td>\n",
       "      <td>string</td>\n",
       "      <td>0.054</td>\n",
       "      <td>similarity</td>\n",
       "    </tr>\n",
       "    <tr>\n",
       "      <th>3</th>\n",
       "      <td>AG203</td>\n",
       "      <td>chord</td>\n",
       "      <td>smile</td>\n",
       "      <td>0.054</td>\n",
       "      <td>similarity</td>\n",
       "    </tr>\n",
       "    <tr>\n",
       "      <th>4</th>\n",
       "      <td>AG203</td>\n",
       "      <td>rooster</td>\n",
       "      <td>voyage</td>\n",
       "      <td>0.062</td>\n",
       "      <td>similarity</td>\n",
       "    </tr>\n",
       "    <tr>\n",
       "      <th>...</th>\n",
       "      <td>...</td>\n",
       "      <td>...</td>\n",
       "      <td>...</td>\n",
       "      <td>...</td>\n",
       "      <td>...</td>\n",
       "    </tr>\n",
       "    <tr>\n",
       "      <th>27439</th>\n",
       "      <td>Zie30</td>\n",
       "      <td>Eminem</td>\n",
       "      <td>Music</td>\n",
       "      <td>4.137</td>\n",
       "      <td>relatedness</td>\n",
       "    </tr>\n",
       "    <tr>\n",
       "      <th>27440</th>\n",
       "      <td>Zie30</td>\n",
       "      <td>Currency Converter</td>\n",
       "      <td>Exchange Rates</td>\n",
       "      <td>4.137</td>\n",
       "      <td>relatedness</td>\n",
       "    </tr>\n",
       "    <tr>\n",
       "      <th>27441</th>\n",
       "      <td>Zie30</td>\n",
       "      <td>Cars</td>\n",
       "      <td>Honda</td>\n",
       "      <td>4.176</td>\n",
       "      <td>relatedness</td>\n",
       "    </tr>\n",
       "    <tr>\n",
       "      <th>27442</th>\n",
       "      <td>Zie30</td>\n",
       "      <td>EasyJet</td>\n",
       "      <td>Cheap Flights</td>\n",
       "      <td>4.294</td>\n",
       "      <td>relatedness</td>\n",
       "    </tr>\n",
       "    <tr>\n",
       "      <th>27443</th>\n",
       "      <td>Zie30</td>\n",
       "      <td>Microsoft</td>\n",
       "      <td>Internet Explorer</td>\n",
       "      <td>4.314</td>\n",
       "      <td>relatedness</td>\n",
       "    </tr>\n",
       "  </tbody>\n",
       "</table>\n",
       "<p>27444 rows × 5 columns</p>\n",
       "</div>"
      ]
     },
     "execution_count": 2,
     "metadata": {},
     "output_type": "execute_result"
    }
   ],
   "execution_count": 2
  },
  {
   "metadata": {
    "ExecuteTime": {
     "end_time": "2024-09-17T09:23:28.473326Z",
     "start_time": "2024-09-17T09:23:28.467764Z"
    }
   },
   "cell_type": "code",
   "source": "sims_long['data'].unique()",
   "id": "2c7d61a7e77ab908",
   "outputs": [
    {
     "data": {
      "text/plain": [
       "array(['AG203', 'BakerVerb', 'MartinezAldana', 'MC30', 'MEN3000', 'RG65',\n",
       "       'SimLex999', 'SimVerb3500', 'SL7576sem', 'SL7576vis', 'WP300',\n",
       "       'YP130', 'Atlasify240', 'GM30', 'MT287', 'MT771', 'Rel122',\n",
       "       'RW2034', 'WordSim353', 'Zie25', 'Zie30'], dtype=object)"
      ]
     },
     "execution_count": 4,
     "metadata": {},
     "output_type": "execute_result"
    }
   ],
   "execution_count": 4
  },
  {
   "cell_type": "code",
   "execution_count": 3,
   "outputs": [
    {
     "name": "stderr",
     "output_type": "stream",
     "text": [
      "/var/folders/st/5gbrfvhn687dxwjl5_xg21t40000gq/T/ipykernel_90172/2592674285.py:2: FutureWarning: ['word_1', 'word_2'] did not aggregate successfully. If any error is raised this will raise in a future version of pandas. Drop these columns/ops to avoid this warning.\n",
      "  sims_long.groupby('data').agg(['min', 'max'])\n"
     ]
    },
    {
     "data": {
      "text/plain": "                  value                    type             \n                    min        max          min          max\ndata                                                        \nAG203           0.02300   1.000000   similarity   similarity\nAtlasify240     0.00000   4.000000  relatedness  relatedness\nBakerVerb       0.07000   0.790000   similarity   similarity\nGM30            0.05000   4.000000  relatedness  relatedness\nMC30            0.08000   3.920000   similarity   similarity\nMEN3000         0.00000  50.000000   similarity   similarity\nMT287           1.40000   4.714286  relatedness  relatedness\nMT771           1.00000   4.960000  relatedness  relatedness\nMartinezAldana  0.05600   0.915000   similarity   similarity\nRG65            0.02000   3.940000   similarity   similarity\nRW2034          0.00000  10.000000  relatedness  relatedness\nRel122          0.12941   3.941180  relatedness  relatedness\nSL7576sem       1.00000   5.000000   similarity   similarity\nSL7576vis       1.00000   5.000000   similarity   similarity\nSimLex999       0.23000   9.800000   similarity   similarity\nSimVerb3500     0.00000   9.960000   similarity   similarity\nWP300           0.00000   0.950000   similarity   similarity\nWordSim353      0.23000  10.000000  relatedness  relatedness\nYP130           0.00000   4.000000   similarity   similarity\nZie25           1.04300   4.391000  relatedness  relatedness\nZie30           1.09800   4.314000  relatedness  relatedness",
      "text/html": "<div>\n<style scoped>\n    .dataframe tbody tr th:only-of-type {\n        vertical-align: middle;\n    }\n\n    .dataframe tbody tr th {\n        vertical-align: top;\n    }\n\n    .dataframe thead tr th {\n        text-align: left;\n    }\n\n    .dataframe thead tr:last-of-type th {\n        text-align: right;\n    }\n</style>\n<table border=\"1\" class=\"dataframe\">\n  <thead>\n    <tr>\n      <th></th>\n      <th colspan=\"2\" halign=\"left\">value</th>\n      <th colspan=\"2\" halign=\"left\">type</th>\n    </tr>\n    <tr>\n      <th></th>\n      <th>min</th>\n      <th>max</th>\n      <th>min</th>\n      <th>max</th>\n    </tr>\n    <tr>\n      <th>data</th>\n      <th></th>\n      <th></th>\n      <th></th>\n      <th></th>\n    </tr>\n  </thead>\n  <tbody>\n    <tr>\n      <th>AG203</th>\n      <td>0.02300</td>\n      <td>1.000000</td>\n      <td>similarity</td>\n      <td>similarity</td>\n    </tr>\n    <tr>\n      <th>Atlasify240</th>\n      <td>0.00000</td>\n      <td>4.000000</td>\n      <td>relatedness</td>\n      <td>relatedness</td>\n    </tr>\n    <tr>\n      <th>BakerVerb</th>\n      <td>0.07000</td>\n      <td>0.790000</td>\n      <td>similarity</td>\n      <td>similarity</td>\n    </tr>\n    <tr>\n      <th>GM30</th>\n      <td>0.05000</td>\n      <td>4.000000</td>\n      <td>relatedness</td>\n      <td>relatedness</td>\n    </tr>\n    <tr>\n      <th>MC30</th>\n      <td>0.08000</td>\n      <td>3.920000</td>\n      <td>similarity</td>\n      <td>similarity</td>\n    </tr>\n    <tr>\n      <th>MEN3000</th>\n      <td>0.00000</td>\n      <td>50.000000</td>\n      <td>similarity</td>\n      <td>similarity</td>\n    </tr>\n    <tr>\n      <th>MT287</th>\n      <td>1.40000</td>\n      <td>4.714286</td>\n      <td>relatedness</td>\n      <td>relatedness</td>\n    </tr>\n    <tr>\n      <th>MT771</th>\n      <td>1.00000</td>\n      <td>4.960000</td>\n      <td>relatedness</td>\n      <td>relatedness</td>\n    </tr>\n    <tr>\n      <th>MartinezAldana</th>\n      <td>0.05600</td>\n      <td>0.915000</td>\n      <td>similarity</td>\n      <td>similarity</td>\n    </tr>\n    <tr>\n      <th>RG65</th>\n      <td>0.02000</td>\n      <td>3.940000</td>\n      <td>similarity</td>\n      <td>similarity</td>\n    </tr>\n    <tr>\n      <th>RW2034</th>\n      <td>0.00000</td>\n      <td>10.000000</td>\n      <td>relatedness</td>\n      <td>relatedness</td>\n    </tr>\n    <tr>\n      <th>Rel122</th>\n      <td>0.12941</td>\n      <td>3.941180</td>\n      <td>relatedness</td>\n      <td>relatedness</td>\n    </tr>\n    <tr>\n      <th>SL7576sem</th>\n      <td>1.00000</td>\n      <td>5.000000</td>\n      <td>similarity</td>\n      <td>similarity</td>\n    </tr>\n    <tr>\n      <th>SL7576vis</th>\n      <td>1.00000</td>\n      <td>5.000000</td>\n      <td>similarity</td>\n      <td>similarity</td>\n    </tr>\n    <tr>\n      <th>SimLex999</th>\n      <td>0.23000</td>\n      <td>9.800000</td>\n      <td>similarity</td>\n      <td>similarity</td>\n    </tr>\n    <tr>\n      <th>SimVerb3500</th>\n      <td>0.00000</td>\n      <td>9.960000</td>\n      <td>similarity</td>\n      <td>similarity</td>\n    </tr>\n    <tr>\n      <th>WP300</th>\n      <td>0.00000</td>\n      <td>0.950000</td>\n      <td>similarity</td>\n      <td>similarity</td>\n    </tr>\n    <tr>\n      <th>WordSim353</th>\n      <td>0.23000</td>\n      <td>10.000000</td>\n      <td>relatedness</td>\n      <td>relatedness</td>\n    </tr>\n    <tr>\n      <th>YP130</th>\n      <td>0.00000</td>\n      <td>4.000000</td>\n      <td>similarity</td>\n      <td>similarity</td>\n    </tr>\n    <tr>\n      <th>Zie25</th>\n      <td>1.04300</td>\n      <td>4.391000</td>\n      <td>relatedness</td>\n      <td>relatedness</td>\n    </tr>\n    <tr>\n      <th>Zie30</th>\n      <td>1.09800</td>\n      <td>4.314000</td>\n      <td>relatedness</td>\n      <td>relatedness</td>\n    </tr>\n  </tbody>\n</table>\n</div>"
     },
     "execution_count": 3,
     "metadata": {},
     "output_type": "execute_result"
    }
   ],
   "source": [
    "# Looking at the scales for each dataset\n",
    "sims_long.groupby('data').agg(['min', 'max'])"
   ],
   "metadata": {
    "collapsed": false,
    "ExecuteTime": {
     "end_time": "2024-01-15T15:44:36.163249Z",
     "start_time": "2024-01-15T15:44:36.138206Z"
    }
   },
   "id": "7dca59e694eec09f"
  },
  {
   "cell_type": "code",
   "execution_count": 4,
   "outputs": [
    {
     "data": {
      "text/plain": "  0%|          | 0/21 [00:00<?, ?it/s]",
      "application/vnd.jupyter.widget-view+json": {
       "version_major": 2,
       "version_minor": 0,
       "model_id": "f9060e6ec79e45f7a8dfdc0e8aef3cf1"
      }
     },
     "metadata": {},
     "output_type": "display_data"
    },
    {
     "data": {
      "text/plain": "        data              word_1             word_2     value         type\n0      AG203                king            cabbage  0.000000   similarity\n1      AG203           professor           cucumber  0.008188   similarity\n2      AG203                noon             string  0.031730   similarity\n3      AG203               chord              smile  0.031730   similarity\n4      AG203             rooster             voyage  0.039918   similarity\n...      ...                 ...                ...       ...          ...\n27439  Zie30              Eminem              Music  0.944963  relatedness\n27440  Zie30  Currency Converter     Exchange Rates  0.944963  relatedness\n27441  Zie30                Cars              Honda  0.957090  relatedness\n27442  Zie30             EasyJet      Cheap Flights  0.993781  relatedness\n27443  Zie30           Microsoft  Internet Explorer  1.000000  relatedness\n\n[27444 rows x 5 columns]",
      "text/html": "<div>\n<style scoped>\n    .dataframe tbody tr th:only-of-type {\n        vertical-align: middle;\n    }\n\n    .dataframe tbody tr th {\n        vertical-align: top;\n    }\n\n    .dataframe thead th {\n        text-align: right;\n    }\n</style>\n<table border=\"1\" class=\"dataframe\">\n  <thead>\n    <tr style=\"text-align: right;\">\n      <th></th>\n      <th>data</th>\n      <th>word_1</th>\n      <th>word_2</th>\n      <th>value</th>\n      <th>type</th>\n    </tr>\n  </thead>\n  <tbody>\n    <tr>\n      <th>0</th>\n      <td>AG203</td>\n      <td>king</td>\n      <td>cabbage</td>\n      <td>0.000000</td>\n      <td>similarity</td>\n    </tr>\n    <tr>\n      <th>1</th>\n      <td>AG203</td>\n      <td>professor</td>\n      <td>cucumber</td>\n      <td>0.008188</td>\n      <td>similarity</td>\n    </tr>\n    <tr>\n      <th>2</th>\n      <td>AG203</td>\n      <td>noon</td>\n      <td>string</td>\n      <td>0.031730</td>\n      <td>similarity</td>\n    </tr>\n    <tr>\n      <th>3</th>\n      <td>AG203</td>\n      <td>chord</td>\n      <td>smile</td>\n      <td>0.031730</td>\n      <td>similarity</td>\n    </tr>\n    <tr>\n      <th>4</th>\n      <td>AG203</td>\n      <td>rooster</td>\n      <td>voyage</td>\n      <td>0.039918</td>\n      <td>similarity</td>\n    </tr>\n    <tr>\n      <th>...</th>\n      <td>...</td>\n      <td>...</td>\n      <td>...</td>\n      <td>...</td>\n      <td>...</td>\n    </tr>\n    <tr>\n      <th>27439</th>\n      <td>Zie30</td>\n      <td>Eminem</td>\n      <td>Music</td>\n      <td>0.944963</td>\n      <td>relatedness</td>\n    </tr>\n    <tr>\n      <th>27440</th>\n      <td>Zie30</td>\n      <td>Currency Converter</td>\n      <td>Exchange Rates</td>\n      <td>0.944963</td>\n      <td>relatedness</td>\n    </tr>\n    <tr>\n      <th>27441</th>\n      <td>Zie30</td>\n      <td>Cars</td>\n      <td>Honda</td>\n      <td>0.957090</td>\n      <td>relatedness</td>\n    </tr>\n    <tr>\n      <th>27442</th>\n      <td>Zie30</td>\n      <td>EasyJet</td>\n      <td>Cheap Flights</td>\n      <td>0.993781</td>\n      <td>relatedness</td>\n    </tr>\n    <tr>\n      <th>27443</th>\n      <td>Zie30</td>\n      <td>Microsoft</td>\n      <td>Internet Explorer</td>\n      <td>1.000000</td>\n      <td>relatedness</td>\n    </tr>\n  </tbody>\n</table>\n<p>27444 rows × 5 columns</p>\n</div>"
     },
     "execution_count": 4,
     "metadata": {},
     "output_type": "execute_result"
    }
   ],
   "source": [
    "# Min max scaling\n",
    "for dataset in tqdm(sims_long['data'].unique()):\n",
    "    dat_bool = sims_long['data'] == dataset\n",
    "    sims_long.loc[dat_bool, 'value'] = minmax_scale(sims_long.loc[dat_bool, 'value'])\n",
    "\n",
    "sims_long"
   ],
   "metadata": {
    "collapsed": false,
    "ExecuteTime": {
     "end_time": "2024-01-15T15:44:36.236920Z",
     "start_time": "2024-01-15T15:44:36.159567Z"
    }
   },
   "id": "c982335baea4aad2"
  },
  {
   "cell_type": "code",
   "execution_count": 5,
   "outputs": [
    {
     "data": {
      "text/plain": "  0%|          | 0/19230 [00:00<?, ?it/s]",
      "application/vnd.jupyter.widget-view+json": {
       "version_major": 2,
       "version_minor": 0,
       "model_id": "bdae73589cbd4f2392e02f10adb0d31d"
      }
     },
     "metadata": {},
     "output_type": "display_data"
    },
    {
     "data": {
      "text/plain": "(6837, 6837)"
     },
     "execution_count": 5,
     "metadata": {},
     "output_type": "execute_result"
    }
   ],
   "source": [
    "# Ordering word pairs so that each pair only has one ordering for aggregating\n",
    "sims_long = pd.DataFrame({\n",
    "    'word_a': sims_long[['word_1', 'word_2']].min(axis=1),\n",
    "    'word_b': sims_long[['word_1', 'word_2']].max(axis=1),\n",
    "    'value': sims_long['value']\n",
    "})\n",
    "\n",
    "# Aggregating \n",
    "sims_long = sims_long.groupby(['word_a', 'word_b'], as_index=False).mean()\n",
    "\n",
    "# Pivoting \n",
    "voc = pd.concat([sims_long['word_a'], sims_long['word_b']]).unique()\n",
    "sims_wide = pd.DataFrame(columns=voc, index=voc)\n",
    "for _, row in tqdm(sims_long.iterrows(), total=len(sims_long)):\n",
    "    word_a, word_b, val = row['word_a'], row['word_b'], row['value']\n",
    "    sims_wide.loc[word_a, word_b] = val\n",
    "    sims_wide.loc[word_b, word_a] = val\n",
    "\n",
    "sims_wide.shape"
   ],
   "metadata": {
    "collapsed": false,
    "ExecuteTime": {
     "end_time": "2024-01-15T15:44:38.518855Z",
     "start_time": "2024-01-15T15:44:36.231033Z"
    }
   },
   "id": "7921963793cb0f54"
  },
  {
   "cell_type": "code",
   "execution_count": 6,
   "outputs": [
    {
     "data": {
      "text/plain": "(6837, 1754)"
     },
     "execution_count": 6,
     "metadata": {},
     "output_type": "execute_result"
    }
   ],
   "source": [
    "# Dropping columns with < 5 values\n",
    "sims_wide = sims_wide.dropna(thresh=5, axis=1)\n",
    "\n",
    "# Filling in missing values\n",
    "sims_wide = sims_wide.fillna(0.0)\n",
    "sims_wide.shape"
   ],
   "metadata": {
    "collapsed": false,
    "ExecuteTime": {
     "end_time": "2024-01-15T15:44:44.027008Z",
     "start_time": "2024-01-15T15:44:42.296019Z"
    }
   },
   "id": "f819fd7261d36ebc"
  },
  {
   "cell_type": "code",
   "execution_count": 7,
   "outputs": [
    {
     "data": {
      "text/plain": "                                0             1             2             3    \\\n4Chan                  1.928169e-07 -2.567416e-07  2.200080e-07  4.151120e-06   \nABBA                  -1.523386e-16 -7.148889e-17  1.977402e-16 -2.560307e-16   \nAOL Instant Messenger  1.633055e-11 -4.801083e-11  4.397727e-11  9.065857e-10   \nAbortion              -3.170526e-16  2.043911e-16 -4.069035e-17  1.590498e-16   \nAfrica                 8.170211e-07 -1.100324e-06  9.439845e-07  1.783941e-05   \n...                             ...           ...           ...           ...   \nwinners               -0.000000e+00 -0.000000e+00 -0.000000e+00  0.000000e+00   \nweekend               -0.000000e+00 -0.000000e+00 -0.000000e+00  0.000000e+00   \nwillingness           -0.000000e+00 -0.000000e+00 -0.000000e+00  0.000000e+00   \nwireless network      -0.000000e+00 -0.000000e+00 -0.000000e+00  0.000000e+00   \nworkshop              -0.000000e+00 -0.000000e+00 -0.000000e+00  0.000000e+00   \n\n                                4             5             6             7    \\\n4Chan                  3.368289e-07 -3.115937e-08  8.713444e-08 -1.543855e-07   \nABBA                   6.674459e-17  5.238420e-17  1.261457e-17 -2.440393e-16   \nAOL Instant Messenger  8.777467e-11 -1.232762e-11  3.959962e-11 -7.903407e-11   \nAbortion               6.667699e-17 -2.901031e-16  1.344016e-18  2.026911e-16   \nAfrica                 1.452384e-06 -1.355746e-07  3.804035e-07 -6.760704e-07   \n...                             ...           ...           ...           ...   \nwinners               -0.000000e+00 -0.000000e+00 -0.000000e+00  0.000000e+00   \nweekend               -0.000000e+00 -0.000000e+00 -0.000000e+00  0.000000e+00   \nwillingness           -0.000000e+00 -0.000000e+00 -0.000000e+00  0.000000e+00   \nwireless network      -0.000000e+00 -0.000000e+00 -0.000000e+00  0.000000e+00   \nworkshop              -0.000000e+00 -0.000000e+00 -0.000000e+00  0.000000e+00   \n\n                                8             9    ...           290  \\\n4Chan                 -1.316228e-07 -4.946256e-07  ...  7.257943e-05   \nABBA                   5.282166e-17 -7.630204e-17  ...  2.264116e-16   \nAOL Instant Messenger -7.442117e-11 -3.056924e-10  ... -8.072857e-06   \nAbortion              -8.996400e-17 -9.148470e-17  ...  7.547054e-17   \nAfrica                -5.779222e-07 -2.177043e-06  ...  6.702510e-04   \n...                             ...           ...  ...           ...   \nwinners               -0.000000e+00 -0.000000e+00  ...  0.000000e+00   \nweekend               -0.000000e+00 -0.000000e+00  ...  0.000000e+00   \nwillingness           -0.000000e+00 -0.000000e+00  ...  0.000000e+00   \nwireless network      -0.000000e+00 -0.000000e+00  ...  0.000000e+00   \nworkshop              -0.000000e+00 -0.000000e+00  ...  0.000000e+00   \n\n                                291           292           293           294  \\\n4Chan                 -1.205384e-07  2.190560e-05 -4.154759e-06 -3.204082e-05   \nABBA                  -6.220990e-17 -3.768431e-16  7.515032e-17  6.303051e-17   \nAOL Instant Messenger  2.356529e-06 -5.161654e-06 -1.951415e-06  2.963532e-06   \nAbortion              -6.032475e-17  1.168213e-16 -1.404372e-16  7.404328e-17   \nAfrica                -1.614633e-06  2.034998e-04 -3.831733e-05 -3.003825e-04   \n...                             ...           ...           ...           ...   \nwinners                0.000000e+00  0.000000e+00  0.000000e+00  0.000000e+00   \nweekend                0.000000e+00  0.000000e+00  0.000000e+00  0.000000e+00   \nwillingness            0.000000e+00  0.000000e+00  0.000000e+00  0.000000e+00   \nwireless network       0.000000e+00  0.000000e+00  0.000000e+00  0.000000e+00   \nworkshop               0.000000e+00  0.000000e+00  0.000000e+00  0.000000e+00   \n\n                                295           296           297           298  \\\n4Chan                  1.745400e-05  2.649955e-07  2.506515e-05 -3.121751e-05   \nABBA                   5.473735e-28 -4.489325e-16  8.951875e-17 -2.943951e-29   \nAOL Instant Messenger  2.961440e-07  2.827138e-06 -5.040901e-07  2.416639e-06   \nAbortion              -1.946148e-16 -2.182160e-28  1.514480e-29  1.680870e-29   \nAfrica                 1.640447e-04  2.104760e-06  2.377431e-04 -2.974277e-04   \n...                             ...           ...           ...           ...   \nwinners                0.000000e+00  0.000000e+00  0.000000e+00  0.000000e+00   \nweekend                0.000000e+00  0.000000e+00  0.000000e+00  0.000000e+00   \nwillingness            0.000000e+00  0.000000e+00  0.000000e+00  0.000000e+00   \nwireless network       0.000000e+00  0.000000e+00  0.000000e+00  0.000000e+00   \nworkshop               0.000000e+00  0.000000e+00  0.000000e+00  0.000000e+00   \n\n                                299  \n4Chan                  4.464578e-05  \nABBA                   4.904431e-31  \nAOL Instant Messenger -4.936657e-06  \nAbortion               3.128055e-30  \nAfrica                 4.265574e-04  \n...                             ...  \nwinners               -0.000000e+00  \nweekend               -0.000000e+00  \nwillingness           -0.000000e+00  \nwireless network      -0.000000e+00  \nworkshop              -0.000000e+00  \n\n[6837 rows x 300 columns]",
      "text/html": "<div>\n<style scoped>\n    .dataframe tbody tr th:only-of-type {\n        vertical-align: middle;\n    }\n\n    .dataframe tbody tr th {\n        vertical-align: top;\n    }\n\n    .dataframe thead th {\n        text-align: right;\n    }\n</style>\n<table border=\"1\" class=\"dataframe\">\n  <thead>\n    <tr style=\"text-align: right;\">\n      <th></th>\n      <th>0</th>\n      <th>1</th>\n      <th>2</th>\n      <th>3</th>\n      <th>4</th>\n      <th>5</th>\n      <th>6</th>\n      <th>7</th>\n      <th>8</th>\n      <th>9</th>\n      <th>...</th>\n      <th>290</th>\n      <th>291</th>\n      <th>292</th>\n      <th>293</th>\n      <th>294</th>\n      <th>295</th>\n      <th>296</th>\n      <th>297</th>\n      <th>298</th>\n      <th>299</th>\n    </tr>\n  </thead>\n  <tbody>\n    <tr>\n      <th>4Chan</th>\n      <td>1.928169e-07</td>\n      <td>-2.567416e-07</td>\n      <td>2.200080e-07</td>\n      <td>4.151120e-06</td>\n      <td>3.368289e-07</td>\n      <td>-3.115937e-08</td>\n      <td>8.713444e-08</td>\n      <td>-1.543855e-07</td>\n      <td>-1.316228e-07</td>\n      <td>-4.946256e-07</td>\n      <td>...</td>\n      <td>7.257943e-05</td>\n      <td>-1.205384e-07</td>\n      <td>2.190560e-05</td>\n      <td>-4.154759e-06</td>\n      <td>-3.204082e-05</td>\n      <td>1.745400e-05</td>\n      <td>2.649955e-07</td>\n      <td>2.506515e-05</td>\n      <td>-3.121751e-05</td>\n      <td>4.464578e-05</td>\n    </tr>\n    <tr>\n      <th>ABBA</th>\n      <td>-1.523386e-16</td>\n      <td>-7.148889e-17</td>\n      <td>1.977402e-16</td>\n      <td>-2.560307e-16</td>\n      <td>6.674459e-17</td>\n      <td>5.238420e-17</td>\n      <td>1.261457e-17</td>\n      <td>-2.440393e-16</td>\n      <td>5.282166e-17</td>\n      <td>-7.630204e-17</td>\n      <td>...</td>\n      <td>2.264116e-16</td>\n      <td>-6.220990e-17</td>\n      <td>-3.768431e-16</td>\n      <td>7.515032e-17</td>\n      <td>6.303051e-17</td>\n      <td>5.473735e-28</td>\n      <td>-4.489325e-16</td>\n      <td>8.951875e-17</td>\n      <td>-2.943951e-29</td>\n      <td>4.904431e-31</td>\n    </tr>\n    <tr>\n      <th>AOL Instant Messenger</th>\n      <td>1.633055e-11</td>\n      <td>-4.801083e-11</td>\n      <td>4.397727e-11</td>\n      <td>9.065857e-10</td>\n      <td>8.777467e-11</td>\n      <td>-1.232762e-11</td>\n      <td>3.959962e-11</td>\n      <td>-7.903407e-11</td>\n      <td>-7.442117e-11</td>\n      <td>-3.056924e-10</td>\n      <td>...</td>\n      <td>-8.072857e-06</td>\n      <td>2.356529e-06</td>\n      <td>-5.161654e-06</td>\n      <td>-1.951415e-06</td>\n      <td>2.963532e-06</td>\n      <td>2.961440e-07</td>\n      <td>2.827138e-06</td>\n      <td>-5.040901e-07</td>\n      <td>2.416639e-06</td>\n      <td>-4.936657e-06</td>\n    </tr>\n    <tr>\n      <th>Abortion</th>\n      <td>-3.170526e-16</td>\n      <td>2.043911e-16</td>\n      <td>-4.069035e-17</td>\n      <td>1.590498e-16</td>\n      <td>6.667699e-17</td>\n      <td>-2.901031e-16</td>\n      <td>1.344016e-18</td>\n      <td>2.026911e-16</td>\n      <td>-8.996400e-17</td>\n      <td>-9.148470e-17</td>\n      <td>...</td>\n      <td>7.547054e-17</td>\n      <td>-6.032475e-17</td>\n      <td>1.168213e-16</td>\n      <td>-1.404372e-16</td>\n      <td>7.404328e-17</td>\n      <td>-1.946148e-16</td>\n      <td>-2.182160e-28</td>\n      <td>1.514480e-29</td>\n      <td>1.680870e-29</td>\n      <td>3.128055e-30</td>\n    </tr>\n    <tr>\n      <th>Africa</th>\n      <td>8.170211e-07</td>\n      <td>-1.100324e-06</td>\n      <td>9.439845e-07</td>\n      <td>1.783941e-05</td>\n      <td>1.452384e-06</td>\n      <td>-1.355746e-07</td>\n      <td>3.804035e-07</td>\n      <td>-6.760704e-07</td>\n      <td>-5.779222e-07</td>\n      <td>-2.177043e-06</td>\n      <td>...</td>\n      <td>6.702510e-04</td>\n      <td>-1.614633e-06</td>\n      <td>2.034998e-04</td>\n      <td>-3.831733e-05</td>\n      <td>-3.003825e-04</td>\n      <td>1.640447e-04</td>\n      <td>2.104760e-06</td>\n      <td>2.377431e-04</td>\n      <td>-2.974277e-04</td>\n      <td>4.265574e-04</td>\n    </tr>\n    <tr>\n      <th>...</th>\n      <td>...</td>\n      <td>...</td>\n      <td>...</td>\n      <td>...</td>\n      <td>...</td>\n      <td>...</td>\n      <td>...</td>\n      <td>...</td>\n      <td>...</td>\n      <td>...</td>\n      <td>...</td>\n      <td>...</td>\n      <td>...</td>\n      <td>...</td>\n      <td>...</td>\n      <td>...</td>\n      <td>...</td>\n      <td>...</td>\n      <td>...</td>\n      <td>...</td>\n      <td>...</td>\n    </tr>\n    <tr>\n      <th>winners</th>\n      <td>-0.000000e+00</td>\n      <td>-0.000000e+00</td>\n      <td>-0.000000e+00</td>\n      <td>0.000000e+00</td>\n      <td>-0.000000e+00</td>\n      <td>-0.000000e+00</td>\n      <td>-0.000000e+00</td>\n      <td>0.000000e+00</td>\n      <td>-0.000000e+00</td>\n      <td>-0.000000e+00</td>\n      <td>...</td>\n      <td>0.000000e+00</td>\n      <td>0.000000e+00</td>\n      <td>0.000000e+00</td>\n      <td>0.000000e+00</td>\n      <td>0.000000e+00</td>\n      <td>0.000000e+00</td>\n      <td>0.000000e+00</td>\n      <td>0.000000e+00</td>\n      <td>0.000000e+00</td>\n      <td>-0.000000e+00</td>\n    </tr>\n    <tr>\n      <th>weekend</th>\n      <td>-0.000000e+00</td>\n      <td>-0.000000e+00</td>\n      <td>-0.000000e+00</td>\n      <td>0.000000e+00</td>\n      <td>-0.000000e+00</td>\n      <td>-0.000000e+00</td>\n      <td>-0.000000e+00</td>\n      <td>0.000000e+00</td>\n      <td>-0.000000e+00</td>\n      <td>-0.000000e+00</td>\n      <td>...</td>\n      <td>0.000000e+00</td>\n      <td>0.000000e+00</td>\n      <td>0.000000e+00</td>\n      <td>0.000000e+00</td>\n      <td>0.000000e+00</td>\n      <td>0.000000e+00</td>\n      <td>0.000000e+00</td>\n      <td>0.000000e+00</td>\n      <td>0.000000e+00</td>\n      <td>-0.000000e+00</td>\n    </tr>\n    <tr>\n      <th>willingness</th>\n      <td>-0.000000e+00</td>\n      <td>-0.000000e+00</td>\n      <td>-0.000000e+00</td>\n      <td>0.000000e+00</td>\n      <td>-0.000000e+00</td>\n      <td>-0.000000e+00</td>\n      <td>-0.000000e+00</td>\n      <td>0.000000e+00</td>\n      <td>-0.000000e+00</td>\n      <td>-0.000000e+00</td>\n      <td>...</td>\n      <td>0.000000e+00</td>\n      <td>0.000000e+00</td>\n      <td>0.000000e+00</td>\n      <td>0.000000e+00</td>\n      <td>0.000000e+00</td>\n      <td>0.000000e+00</td>\n      <td>0.000000e+00</td>\n      <td>0.000000e+00</td>\n      <td>0.000000e+00</td>\n      <td>-0.000000e+00</td>\n    </tr>\n    <tr>\n      <th>wireless network</th>\n      <td>-0.000000e+00</td>\n      <td>-0.000000e+00</td>\n      <td>-0.000000e+00</td>\n      <td>0.000000e+00</td>\n      <td>-0.000000e+00</td>\n      <td>-0.000000e+00</td>\n      <td>-0.000000e+00</td>\n      <td>0.000000e+00</td>\n      <td>-0.000000e+00</td>\n      <td>-0.000000e+00</td>\n      <td>...</td>\n      <td>0.000000e+00</td>\n      <td>0.000000e+00</td>\n      <td>0.000000e+00</td>\n      <td>0.000000e+00</td>\n      <td>0.000000e+00</td>\n      <td>0.000000e+00</td>\n      <td>0.000000e+00</td>\n      <td>0.000000e+00</td>\n      <td>0.000000e+00</td>\n      <td>-0.000000e+00</td>\n    </tr>\n    <tr>\n      <th>workshop</th>\n      <td>-0.000000e+00</td>\n      <td>-0.000000e+00</td>\n      <td>-0.000000e+00</td>\n      <td>0.000000e+00</td>\n      <td>-0.000000e+00</td>\n      <td>-0.000000e+00</td>\n      <td>-0.000000e+00</td>\n      <td>0.000000e+00</td>\n      <td>-0.000000e+00</td>\n      <td>-0.000000e+00</td>\n      <td>...</td>\n      <td>0.000000e+00</td>\n      <td>0.000000e+00</td>\n      <td>0.000000e+00</td>\n      <td>0.000000e+00</td>\n      <td>0.000000e+00</td>\n      <td>0.000000e+00</td>\n      <td>0.000000e+00</td>\n      <td>0.000000e+00</td>\n      <td>0.000000e+00</td>\n      <td>-0.000000e+00</td>\n    </tr>\n  </tbody>\n</table>\n<p>6837 rows × 300 columns</p>\n</div>"
     },
     "execution_count": 7,
     "metadata": {},
     "output_type": "execute_result"
    }
   ],
   "source": [
    "# SVD\n",
    "svd = TruncatedSVD(n_components=300, algorithm='arpack', random_state=42)\n",
    "sims = pd.DataFrame(svd.fit_transform(sims_wide), index=sims_wide.index)\n",
    "sims"
   ],
   "metadata": {
    "collapsed": false,
    "ExecuteTime": {
     "end_time": "2024-01-15T15:44:47.089630Z",
     "start_time": "2024-01-15T15:44:44.098900Z"
    }
   },
   "id": "e404e0584bacaedd"
  },
  {
   "cell_type": "code",
   "execution_count": 8,
   "outputs": [],
   "source": [
    "sims.to_pickle('../../data/processed/SVD_sim_rel.pkl')"
   ],
   "metadata": {
    "collapsed": false,
    "ExecuteTime": {
     "end_time": "2024-01-15T15:44:47.094464Z",
     "start_time": "2024-01-15T15:44:47.089631Z"
    }
   },
   "id": "261747948707a7ab"
  }
 ],
 "metadata": {
  "kernelspec": {
   "display_name": "Python 3",
   "language": "python",
   "name": "python3"
  },
  "language_info": {
   "codemirror_mode": {
    "name": "ipython",
    "version": 2
   },
   "file_extension": ".py",
   "mimetype": "text/x-python",
   "name": "python",
   "nbconvert_exporter": "python",
   "pygments_lexer": "ipython2",
   "version": "2.7.6"
  }
 },
 "nbformat": 4,
 "nbformat_minor": 5
}
