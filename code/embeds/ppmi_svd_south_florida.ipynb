{
 "cells": [
  {
   "cell_type": "code",
   "outputs": [],
   "source": [
    "import pandas as pd\n",
    "from embeds import ppmi"
   ],
   "metadata": {
    "collapsed": false,
    "ExecuteTime": {
     "end_time": "2024-06-22T10:34:23.760728Z",
     "start_time": "2024-06-22T10:34:23.370906Z"
    }
   },
   "id": "e562f1c6d3bdf203",
   "execution_count": 1
  },
  {
   "cell_type": "markdown",
   "source": [
    "## Preprocessing"
   ],
   "metadata": {
    "collapsed": false
   },
   "id": "12975f90292e6c06"
  },
  {
   "cell_type": "code",
   "outputs": [
    {
     "data": {
      "text/plain": "            cue       resp\n0             A          B\n1             A   ALPHABET\n2             A        THE\n3             A      GRADE\n4             A     LETTER\n...         ...        ...\n72171  ZUCCHINI   EGGPLANT\n72172  ZUCCHINI      FRUIT\n72173  ZUCCHINI      GROSS\n72174  ZUCCHINI    ITALIAN\n72175  ZUCCHINI       YUCK\n\n[72176 rows x 2 columns]",
      "text/html": "<div>\n<style scoped>\n    .dataframe tbody tr th:only-of-type {\n        vertical-align: middle;\n    }\n\n    .dataframe tbody tr th {\n        vertical-align: top;\n    }\n\n    .dataframe thead th {\n        text-align: right;\n    }\n</style>\n<table border=\"1\" class=\"dataframe\">\n  <thead>\n    <tr style=\"text-align: right;\">\n      <th></th>\n      <th>cue</th>\n      <th>resp</th>\n    </tr>\n  </thead>\n  <tbody>\n    <tr>\n      <th>0</th>\n      <td>A</td>\n      <td>B</td>\n    </tr>\n    <tr>\n      <th>1</th>\n      <td>A</td>\n      <td>ALPHABET</td>\n    </tr>\n    <tr>\n      <th>2</th>\n      <td>A</td>\n      <td>THE</td>\n    </tr>\n    <tr>\n      <th>3</th>\n      <td>A</td>\n      <td>GRADE</td>\n    </tr>\n    <tr>\n      <th>4</th>\n      <td>A</td>\n      <td>LETTER</td>\n    </tr>\n    <tr>\n      <th>...</th>\n      <td>...</td>\n      <td>...</td>\n    </tr>\n    <tr>\n      <th>72171</th>\n      <td>ZUCCHINI</td>\n      <td>EGGPLANT</td>\n    </tr>\n    <tr>\n      <th>72172</th>\n      <td>ZUCCHINI</td>\n      <td>FRUIT</td>\n    </tr>\n    <tr>\n      <th>72173</th>\n      <td>ZUCCHINI</td>\n      <td>GROSS</td>\n    </tr>\n    <tr>\n      <th>72174</th>\n      <td>ZUCCHINI</td>\n      <td>ITALIAN</td>\n    </tr>\n    <tr>\n      <th>72175</th>\n      <td>ZUCCHINI</td>\n      <td>YUCK</td>\n    </tr>\n  </tbody>\n</table>\n<p>72176 rows × 2 columns</p>\n</div>"
     },
     "execution_count": 2,
     "metadata": {},
     "output_type": "execute_result"
    }
   ],
   "source": [
    "sf = (\n",
    "    pd.read_csv('../../data/embed_train/south_florida.csv', usecols=['CUE', ' TARGET'])\n",
    "    .rename(columns={'CUE': 'cue', ' TARGET': 'resp'})\n",
    ")\n",
    "sf"
   ],
   "metadata": {
    "collapsed": false,
    "ExecuteTime": {
     "end_time": "2024-06-22T10:34:23.846868Z",
     "start_time": "2024-06-22T10:34:23.761872Z"
    }
   },
   "id": "29cb8cdff34d7a1b",
   "execution_count": 2
  },
  {
   "cell_type": "code",
   "outputs": [
    {
     "name": "stdout",
     "output_type": "stream",
     "text": [
      "10469\n",
      "6129\n"
     ]
    }
   ],
   "source": [
    "# Dropping responses wit only 1 occurence\n",
    "print(len(sf['resp'].unique()))\n",
    "resp_counts = sf['resp'].value_counts().to_dict()\n",
    "sf = sf[sf['resp'].map(resp_counts) >= 2]\n",
    "print(len(sf['resp'].unique()))"
   ],
   "metadata": {
    "collapsed": false,
    "ExecuteTime": {
     "end_time": "2024-06-22T10:34:23.872569Z",
     "start_time": "2024-06-22T10:34:23.847675Z"
    }
   },
   "id": "6c01cec8cd5b3826",
   "execution_count": 3
  },
  {
   "cell_type": "markdown",
   "source": [
    "## PPMI SVD"
   ],
   "metadata": {
    "collapsed": false
   },
   "id": "a23741dcb4f60792"
  },
  {
   "cell_type": "code",
   "outputs": [],
   "source": [
    "from sklearn.decomposition import TruncatedSVD"
   ],
   "metadata": {
    "collapsed": false,
    "ExecuteTime": {
     "end_time": "2024-06-22T10:34:24.444140Z",
     "start_time": "2024-06-22T10:34:23.873402Z"
    }
   },
   "id": "339e212f431291aa",
   "execution_count": 4
  },
  {
   "cell_type": "code",
   "outputs": [
    {
     "data": {
      "text/plain": "(5018, 6129)"
     },
     "execution_count": 5,
     "metadata": {},
     "output_type": "execute_result"
    }
   ],
   "source": [
    "# Pivoting into cue-resp df\n",
    "sf = (\n",
    "    sf\n",
    "    .value_counts()\n",
    "    .reset_index().rename(columns={0: 'count'})\n",
    "    .pivot(index='cue', columns='resp') \n",
    ")\n",
    "sf.shape"
   ],
   "metadata": {
    "collapsed": false,
    "ExecuteTime": {
     "end_time": "2024-06-22T10:34:24.587426Z",
     "start_time": "2024-06-22T10:34:24.446348Z"
    }
   },
   "id": "976fe943b46885fa",
   "execution_count": 5
  },
  {
   "cell_type": "code",
   "outputs": [
    {
     "data": {
      "text/plain": "             count                                                            \\\nresp      25 CENTS  7-ELEVEN   A  ABANDON  ABBREVIATION  ABC  ABIDE  ABILITY   \ncue                                                                            \nA              NaN       NaN NaN      NaN           NaN  NaN    NaN      NaN   \nAARDVARK       NaN       NaN NaN      NaN           NaN  NaN    NaN      NaN   \nABDOMEN        NaN       NaN NaN      NaN           NaN  NaN    NaN      NaN   \nABDUCT         NaN       NaN NaN      NaN           NaN  NaN    NaN      NaN   \nABILITY        NaN       NaN NaN      NaN           NaN  NaN    NaN      NaN   \nABLE           NaN       NaN NaN      NaN           NaN  NaN    NaN      1.0   \nABNORMAL       NaN       NaN NaN      NaN           NaN  NaN    NaN      NaN   \nABOVE          NaN       NaN NaN      NaN           NaN  NaN    NaN      NaN   \nABSENCE        NaN       NaN NaN      NaN           NaN  NaN    NaN      NaN   \nABSENT         NaN       NaN NaN      NaN           NaN  NaN    NaN      NaN   \n\n                          \nresp      ABLE  ABNORMAL  \ncue                       \nA          NaN       NaN  \nAARDVARK   NaN       NaN  \nABDOMEN    NaN       NaN  \nABDUCT     NaN       NaN  \nABILITY    1.0       NaN  \nABLE       NaN       NaN  \nABNORMAL   NaN       NaN  \nABOVE      NaN       NaN  \nABSENCE    NaN       NaN  \nABSENT     NaN       NaN  ",
      "text/html": "<div>\n<style scoped>\n    .dataframe tbody tr th:only-of-type {\n        vertical-align: middle;\n    }\n\n    .dataframe tbody tr th {\n        vertical-align: top;\n    }\n\n    .dataframe thead tr th {\n        text-align: left;\n    }\n\n    .dataframe thead tr:last-of-type th {\n        text-align: right;\n    }\n</style>\n<table border=\"1\" class=\"dataframe\">\n  <thead>\n    <tr>\n      <th></th>\n      <th colspan=\"10\" halign=\"left\">count</th>\n    </tr>\n    <tr>\n      <th>resp</th>\n      <th>25 CENTS</th>\n      <th>7-ELEVEN</th>\n      <th>A</th>\n      <th>ABANDON</th>\n      <th>ABBREVIATION</th>\n      <th>ABC</th>\n      <th>ABIDE</th>\n      <th>ABILITY</th>\n      <th>ABLE</th>\n      <th>ABNORMAL</th>\n    </tr>\n    <tr>\n      <th>cue</th>\n      <th></th>\n      <th></th>\n      <th></th>\n      <th></th>\n      <th></th>\n      <th></th>\n      <th></th>\n      <th></th>\n      <th></th>\n      <th></th>\n    </tr>\n  </thead>\n  <tbody>\n    <tr>\n      <th>A</th>\n      <td>NaN</td>\n      <td>NaN</td>\n      <td>NaN</td>\n      <td>NaN</td>\n      <td>NaN</td>\n      <td>NaN</td>\n      <td>NaN</td>\n      <td>NaN</td>\n      <td>NaN</td>\n      <td>NaN</td>\n    </tr>\n    <tr>\n      <th>AARDVARK</th>\n      <td>NaN</td>\n      <td>NaN</td>\n      <td>NaN</td>\n      <td>NaN</td>\n      <td>NaN</td>\n      <td>NaN</td>\n      <td>NaN</td>\n      <td>NaN</td>\n      <td>NaN</td>\n      <td>NaN</td>\n    </tr>\n    <tr>\n      <th>ABDOMEN</th>\n      <td>NaN</td>\n      <td>NaN</td>\n      <td>NaN</td>\n      <td>NaN</td>\n      <td>NaN</td>\n      <td>NaN</td>\n      <td>NaN</td>\n      <td>NaN</td>\n      <td>NaN</td>\n      <td>NaN</td>\n    </tr>\n    <tr>\n      <th>ABDUCT</th>\n      <td>NaN</td>\n      <td>NaN</td>\n      <td>NaN</td>\n      <td>NaN</td>\n      <td>NaN</td>\n      <td>NaN</td>\n      <td>NaN</td>\n      <td>NaN</td>\n      <td>NaN</td>\n      <td>NaN</td>\n    </tr>\n    <tr>\n      <th>ABILITY</th>\n      <td>NaN</td>\n      <td>NaN</td>\n      <td>NaN</td>\n      <td>NaN</td>\n      <td>NaN</td>\n      <td>NaN</td>\n      <td>NaN</td>\n      <td>NaN</td>\n      <td>1.0</td>\n      <td>NaN</td>\n    </tr>\n    <tr>\n      <th>ABLE</th>\n      <td>NaN</td>\n      <td>NaN</td>\n      <td>NaN</td>\n      <td>NaN</td>\n      <td>NaN</td>\n      <td>NaN</td>\n      <td>NaN</td>\n      <td>1.0</td>\n      <td>NaN</td>\n      <td>NaN</td>\n    </tr>\n    <tr>\n      <th>ABNORMAL</th>\n      <td>NaN</td>\n      <td>NaN</td>\n      <td>NaN</td>\n      <td>NaN</td>\n      <td>NaN</td>\n      <td>NaN</td>\n      <td>NaN</td>\n      <td>NaN</td>\n      <td>NaN</td>\n      <td>NaN</td>\n    </tr>\n    <tr>\n      <th>ABOVE</th>\n      <td>NaN</td>\n      <td>NaN</td>\n      <td>NaN</td>\n      <td>NaN</td>\n      <td>NaN</td>\n      <td>NaN</td>\n      <td>NaN</td>\n      <td>NaN</td>\n      <td>NaN</td>\n      <td>NaN</td>\n    </tr>\n    <tr>\n      <th>ABSENCE</th>\n      <td>NaN</td>\n      <td>NaN</td>\n      <td>NaN</td>\n      <td>NaN</td>\n      <td>NaN</td>\n      <td>NaN</td>\n      <td>NaN</td>\n      <td>NaN</td>\n      <td>NaN</td>\n      <td>NaN</td>\n    </tr>\n    <tr>\n      <th>ABSENT</th>\n      <td>NaN</td>\n      <td>NaN</td>\n      <td>NaN</td>\n      <td>NaN</td>\n      <td>NaN</td>\n      <td>NaN</td>\n      <td>NaN</td>\n      <td>NaN</td>\n      <td>NaN</td>\n      <td>NaN</td>\n    </tr>\n  </tbody>\n</table>\n</div>"
     },
     "execution_count": 6,
     "metadata": {},
     "output_type": "execute_result"
    }
   ],
   "source": [
    "ppmi_sf = ppmi(sf).fillna(0.0).astype(float)\n",
    "sf.iloc[:10, :10]"
   ],
   "metadata": {
    "collapsed": false,
    "ExecuteTime": {
     "end_time": "2024-06-22T10:34:25.683024Z",
     "start_time": "2024-06-22T10:34:24.588603Z"
    }
   },
   "id": "d7598d2139b66fb5",
   "execution_count": 6
  },
  {
   "cell_type": "code",
   "outputs": [
    {
     "data": {
      "text/plain": "               0         1         2         3         4         5    \\\ncue                                                                    \na         0.968818 -0.516965 -0.662094  1.133238  0.150394  0.211033   \naardvark  1.235736  0.584157  0.078721 -0.298430 -0.668566  0.305736   \nabdomen   1.165667  0.045823  0.833086 -0.258936 -0.256806  0.984543   \nabduct    0.897200 -0.539818  0.139589 -0.107784  0.509113 -0.905412   \nability   1.602899 -1.223389 -1.164496  0.827359  0.251059  0.804518   \n...            ...       ...       ...       ...       ...       ...   \nzipper    1.400228  0.506143 -0.714224 -1.344043 -0.211120 -0.546714   \nzit       1.316361  1.197682  0.820141  0.041448 -0.210493  0.205414   \nzone      2.396152 -0.445935 -1.141692 -1.088805  0.913552  0.355692   \nzoo       0.786850  0.578637  0.277241 -0.450464 -0.262061 -0.534664   \nzucchini  1.652633  3.239548  1.311096  3.250635  1.069476  0.237761   \n\n               6         7         8         9    ...       290       291  \\\ncue                                               ...                       \na         0.151098  0.001893 -0.136514 -0.078739  ...  0.085147  0.289515   \naardvark -0.706096  1.095671 -2.011559 -0.323914  ... -0.712772  0.662506   \nabdomen  -1.455135 -0.718998  0.513940 -0.213127  ... -0.747342 -0.282365   \nabduct   -0.067202 -0.056037  0.366422 -0.076956  ... -0.398564  0.212886   \nability  -0.034790 -0.007837  0.884569 -0.563494  ... -0.008285  0.396632   \n...            ...       ...       ...       ...  ...       ...       ...   \nzipper   -0.761437 -1.304518  0.007818  0.173199  ...  0.079078 -0.282321   \nzit      -0.460607 -0.697768 -1.265050 -0.465189  ... -0.377835  0.665946   \nzone     -0.209030  0.682715  0.471312 -1.714680  ...  0.570625  0.980730   \nzoo      -0.355080  0.586022 -1.607770 -1.440782  ...  0.301800 -0.082206   \nzucchini -0.603844  0.817784 -0.895436 -0.977894  ...  0.026713 -0.285638   \n\n               292       293       294       295       296       297  \\\ncue                                                                    \na         0.390023 -0.095107 -0.554990  0.387167  0.141066  0.237608   \naardvark  0.486665  0.043652  0.067880  0.487528 -0.676963  0.044486   \nabdomen   0.138461  0.064205  0.048690 -0.286551  1.155925  0.183626   \nabduct   -0.118456 -0.085660  0.203745 -0.023937  0.881739 -0.589141   \nability  -0.203328  0.691478  1.413046  0.884936 -0.274899 -0.034012   \n...            ...       ...       ...       ...       ...       ...   \nzipper   -1.003569 -0.112786  0.788214 -0.481913  0.435197  0.631677   \nzit       0.154780 -0.933315 -0.122098  0.704564  0.168952 -0.216047   \nzone      0.387639  0.503277  0.718129  1.118771 -1.217579 -1.274145   \nzoo      -0.234388  0.519533  0.757565  0.827374  0.344871  0.304993   \nzucchini  0.149753 -0.564347  0.464182 -0.079187  0.174036 -0.069250   \n\n               298       299  \ncue                           \na         0.103889  0.550102  \naardvark -0.094738  0.054499  \nabdomen   0.269733 -0.384604  \nabduct    0.009632  0.296884  \nability  -0.659182 -0.831511  \n...            ...       ...  \nzipper   -0.201884 -0.243150  \nzit      -0.194981 -0.160195  \nzone      0.538615  0.160385  \nzoo       0.350342 -0.779548  \nzucchini  0.311336 -0.267403  \n\n[5018 rows x 300 columns]",
      "text/html": "<div>\n<style scoped>\n    .dataframe tbody tr th:only-of-type {\n        vertical-align: middle;\n    }\n\n    .dataframe tbody tr th {\n        vertical-align: top;\n    }\n\n    .dataframe thead th {\n        text-align: right;\n    }\n</style>\n<table border=\"1\" class=\"dataframe\">\n  <thead>\n    <tr style=\"text-align: right;\">\n      <th></th>\n      <th>0</th>\n      <th>1</th>\n      <th>2</th>\n      <th>3</th>\n      <th>4</th>\n      <th>5</th>\n      <th>6</th>\n      <th>7</th>\n      <th>8</th>\n      <th>9</th>\n      <th>...</th>\n      <th>290</th>\n      <th>291</th>\n      <th>292</th>\n      <th>293</th>\n      <th>294</th>\n      <th>295</th>\n      <th>296</th>\n      <th>297</th>\n      <th>298</th>\n      <th>299</th>\n    </tr>\n    <tr>\n      <th>cue</th>\n      <th></th>\n      <th></th>\n      <th></th>\n      <th></th>\n      <th></th>\n      <th></th>\n      <th></th>\n      <th></th>\n      <th></th>\n      <th></th>\n      <th></th>\n      <th></th>\n      <th></th>\n      <th></th>\n      <th></th>\n      <th></th>\n      <th></th>\n      <th></th>\n      <th></th>\n      <th></th>\n      <th></th>\n    </tr>\n  </thead>\n  <tbody>\n    <tr>\n      <th>a</th>\n      <td>0.968818</td>\n      <td>-0.516965</td>\n      <td>-0.662094</td>\n      <td>1.133238</td>\n      <td>0.150394</td>\n      <td>0.211033</td>\n      <td>0.151098</td>\n      <td>0.001893</td>\n      <td>-0.136514</td>\n      <td>-0.078739</td>\n      <td>...</td>\n      <td>0.085147</td>\n      <td>0.289515</td>\n      <td>0.390023</td>\n      <td>-0.095107</td>\n      <td>-0.554990</td>\n      <td>0.387167</td>\n      <td>0.141066</td>\n      <td>0.237608</td>\n      <td>0.103889</td>\n      <td>0.550102</td>\n    </tr>\n    <tr>\n      <th>aardvark</th>\n      <td>1.235736</td>\n      <td>0.584157</td>\n      <td>0.078721</td>\n      <td>-0.298430</td>\n      <td>-0.668566</td>\n      <td>0.305736</td>\n      <td>-0.706096</td>\n      <td>1.095671</td>\n      <td>-2.011559</td>\n      <td>-0.323914</td>\n      <td>...</td>\n      <td>-0.712772</td>\n      <td>0.662506</td>\n      <td>0.486665</td>\n      <td>0.043652</td>\n      <td>0.067880</td>\n      <td>0.487528</td>\n      <td>-0.676963</td>\n      <td>0.044486</td>\n      <td>-0.094738</td>\n      <td>0.054499</td>\n    </tr>\n    <tr>\n      <th>abdomen</th>\n      <td>1.165667</td>\n      <td>0.045823</td>\n      <td>0.833086</td>\n      <td>-0.258936</td>\n      <td>-0.256806</td>\n      <td>0.984543</td>\n      <td>-1.455135</td>\n      <td>-0.718998</td>\n      <td>0.513940</td>\n      <td>-0.213127</td>\n      <td>...</td>\n      <td>-0.747342</td>\n      <td>-0.282365</td>\n      <td>0.138461</td>\n      <td>0.064205</td>\n      <td>0.048690</td>\n      <td>-0.286551</td>\n      <td>1.155925</td>\n      <td>0.183626</td>\n      <td>0.269733</td>\n      <td>-0.384604</td>\n    </tr>\n    <tr>\n      <th>abduct</th>\n      <td>0.897200</td>\n      <td>-0.539818</td>\n      <td>0.139589</td>\n      <td>-0.107784</td>\n      <td>0.509113</td>\n      <td>-0.905412</td>\n      <td>-0.067202</td>\n      <td>-0.056037</td>\n      <td>0.366422</td>\n      <td>-0.076956</td>\n      <td>...</td>\n      <td>-0.398564</td>\n      <td>0.212886</td>\n      <td>-0.118456</td>\n      <td>-0.085660</td>\n      <td>0.203745</td>\n      <td>-0.023937</td>\n      <td>0.881739</td>\n      <td>-0.589141</td>\n      <td>0.009632</td>\n      <td>0.296884</td>\n    </tr>\n    <tr>\n      <th>ability</th>\n      <td>1.602899</td>\n      <td>-1.223389</td>\n      <td>-1.164496</td>\n      <td>0.827359</td>\n      <td>0.251059</td>\n      <td>0.804518</td>\n      <td>-0.034790</td>\n      <td>-0.007837</td>\n      <td>0.884569</td>\n      <td>-0.563494</td>\n      <td>...</td>\n      <td>-0.008285</td>\n      <td>0.396632</td>\n      <td>-0.203328</td>\n      <td>0.691478</td>\n      <td>1.413046</td>\n      <td>0.884936</td>\n      <td>-0.274899</td>\n      <td>-0.034012</td>\n      <td>-0.659182</td>\n      <td>-0.831511</td>\n    </tr>\n    <tr>\n      <th>...</th>\n      <td>...</td>\n      <td>...</td>\n      <td>...</td>\n      <td>...</td>\n      <td>...</td>\n      <td>...</td>\n      <td>...</td>\n      <td>...</td>\n      <td>...</td>\n      <td>...</td>\n      <td>...</td>\n      <td>...</td>\n      <td>...</td>\n      <td>...</td>\n      <td>...</td>\n      <td>...</td>\n      <td>...</td>\n      <td>...</td>\n      <td>...</td>\n      <td>...</td>\n      <td>...</td>\n    </tr>\n    <tr>\n      <th>zipper</th>\n      <td>1.400228</td>\n      <td>0.506143</td>\n      <td>-0.714224</td>\n      <td>-1.344043</td>\n      <td>-0.211120</td>\n      <td>-0.546714</td>\n      <td>-0.761437</td>\n      <td>-1.304518</td>\n      <td>0.007818</td>\n      <td>0.173199</td>\n      <td>...</td>\n      <td>0.079078</td>\n      <td>-0.282321</td>\n      <td>-1.003569</td>\n      <td>-0.112786</td>\n      <td>0.788214</td>\n      <td>-0.481913</td>\n      <td>0.435197</td>\n      <td>0.631677</td>\n      <td>-0.201884</td>\n      <td>-0.243150</td>\n    </tr>\n    <tr>\n      <th>zit</th>\n      <td>1.316361</td>\n      <td>1.197682</td>\n      <td>0.820141</td>\n      <td>0.041448</td>\n      <td>-0.210493</td>\n      <td>0.205414</td>\n      <td>-0.460607</td>\n      <td>-0.697768</td>\n      <td>-1.265050</td>\n      <td>-0.465189</td>\n      <td>...</td>\n      <td>-0.377835</td>\n      <td>0.665946</td>\n      <td>0.154780</td>\n      <td>-0.933315</td>\n      <td>-0.122098</td>\n      <td>0.704564</td>\n      <td>0.168952</td>\n      <td>-0.216047</td>\n      <td>-0.194981</td>\n      <td>-0.160195</td>\n    </tr>\n    <tr>\n      <th>zone</th>\n      <td>2.396152</td>\n      <td>-0.445935</td>\n      <td>-1.141692</td>\n      <td>-1.088805</td>\n      <td>0.913552</td>\n      <td>0.355692</td>\n      <td>-0.209030</td>\n      <td>0.682715</td>\n      <td>0.471312</td>\n      <td>-1.714680</td>\n      <td>...</td>\n      <td>0.570625</td>\n      <td>0.980730</td>\n      <td>0.387639</td>\n      <td>0.503277</td>\n      <td>0.718129</td>\n      <td>1.118771</td>\n      <td>-1.217579</td>\n      <td>-1.274145</td>\n      <td>0.538615</td>\n      <td>0.160385</td>\n    </tr>\n    <tr>\n      <th>zoo</th>\n      <td>0.786850</td>\n      <td>0.578637</td>\n      <td>0.277241</td>\n      <td>-0.450464</td>\n      <td>-0.262061</td>\n      <td>-0.534664</td>\n      <td>-0.355080</td>\n      <td>0.586022</td>\n      <td>-1.607770</td>\n      <td>-1.440782</td>\n      <td>...</td>\n      <td>0.301800</td>\n      <td>-0.082206</td>\n      <td>-0.234388</td>\n      <td>0.519533</td>\n      <td>0.757565</td>\n      <td>0.827374</td>\n      <td>0.344871</td>\n      <td>0.304993</td>\n      <td>0.350342</td>\n      <td>-0.779548</td>\n    </tr>\n    <tr>\n      <th>zucchini</th>\n      <td>1.652633</td>\n      <td>3.239548</td>\n      <td>1.311096</td>\n      <td>3.250635</td>\n      <td>1.069476</td>\n      <td>0.237761</td>\n      <td>-0.603844</td>\n      <td>0.817784</td>\n      <td>-0.895436</td>\n      <td>-0.977894</td>\n      <td>...</td>\n      <td>0.026713</td>\n      <td>-0.285638</td>\n      <td>0.149753</td>\n      <td>-0.564347</td>\n      <td>0.464182</td>\n      <td>-0.079187</td>\n      <td>0.174036</td>\n      <td>-0.069250</td>\n      <td>0.311336</td>\n      <td>-0.267403</td>\n    </tr>\n  </tbody>\n</table>\n<p>5018 rows × 300 columns</p>\n</div>"
     },
     "execution_count": 7,
     "metadata": {},
     "output_type": "execute_result"
    }
   ],
   "source": [
    "svd = TruncatedSVD(n_components=300, algorithm='arpack')\n",
    "ppmi_svd_sf = pd.DataFrame(\n",
    "    svd.fit_transform(ppmi_sf),\n",
    "    index=sf.index.str.lower()\n",
    ")\n",
    "ppmi_svd_sf"
   ],
   "metadata": {
    "collapsed": false,
    "ExecuteTime": {
     "end_time": "2024-06-22T10:34:36.271300Z",
     "start_time": "2024-06-22T10:34:25.684308Z"
    }
   },
   "id": "1686e00468e6be1a",
   "execution_count": 7
  },
  {
   "cell_type": "code",
   "outputs": [
    {
     "data": {
      "text/plain": "cue\ndog        59.967436\npaw        56.222049\nanimal     49.175692\nanimals    48.215066\npet        47.111557\ndtype: float64"
     },
     "execution_count": 8,
     "metadata": {},
     "output_type": "execute_result"
    }
   ],
   "source": [
    "# checking it worked\n",
    "def find_closest_k(word, k=5):\n",
    "    word_vec = ppmi_svd_sf.loc[word]\n",
    "    return ppmi_svd_sf.dot(word_vec).nlargest(k)\n",
    "\n",
    "find_closest_k('dog')"
   ],
   "metadata": {
    "collapsed": false,
    "ExecuteTime": {
     "end_time": "2024-06-22T10:34:36.279162Z",
     "start_time": "2024-06-22T10:34:36.272214Z"
    }
   },
   "id": "e40b5e01aa8fa659",
   "execution_count": 8
  },
  {
   "cell_type": "code",
   "outputs": [],
   "source": [
    "# Subsetting to only the words in psychNorms norms\n",
    "to_pull = set(\n",
    "    pd.read_csv('../../data/psychNorms/psychNorms.zip', index_col=0, low_memory=False, compression='zip').index\n",
    ")\n",
    "ppmi_svd_sf = ppmi_svd_sf.loc[ppmi_svd_sf.index.isin(to_pull)].astype(float)\n",
    "\n",
    "ppmi_svd_sf.to_csv('../../data/embeds/PPMI_SVD_South_Florida.csv')"
   ],
   "metadata": {
    "collapsed": false,
    "ExecuteTime": {
     "end_time": "2024-06-22T10:35:58.522476Z",
     "start_time": "2024-06-22T10:35:58.514243Z"
    }
   },
   "id": "c15c8629bafb9750",
   "execution_count": 9
  }
 ],
 "metadata": {
  "kernelspec": {
   "display_name": "Python 3",
   "language": "python",
   "name": "python3"
  },
  "language_info": {
   "codemirror_mode": {
    "name": "ipython",
    "version": 2
   },
   "file_extension": ".py",
   "mimetype": "text/x-python",
   "name": "python",
   "nbconvert_exporter": "python",
   "pygments_lexer": "ipython2",
   "version": "2.7.6"
  }
 },
 "nbformat": 4,
 "nbformat_minor": 5
}
