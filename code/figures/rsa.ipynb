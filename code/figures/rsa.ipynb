{
 "cells": [
  {
   "cell_type": "code",
   "metadata": {
    "collapsed": true
   },
   "source": [
    "import numpy as np\n",
    "import pandas as pd\n",
    "import seaborn as sns\n",
    "import matplotlib.pyplot as plt\n",
    "from sklearn.manifold import MDS\n",
    "import itertools\n",
    "from adjustText import adjust_text\n",
    "import json"
   ],
   "outputs": [],
   "execution_count": null
  },
  {
   "metadata": {},
   "cell_type": "markdown",
   "source": "## Loading data"
  },
  {
   "cell_type": "code",
   "source": [
    "rsa = pd.read_csv('../../data/results/rsa.csv')\n",
    "\n",
    "with open('../../data/embed_to_dtype.json', 'r') as f:\n",
    "    embed_to_dtype = json.load(f)\n",
    "    \n",
    "rsa['dtype_i'] = rsa['name_i'].map(embed_to_dtype)\n",
    "rsa['dtype_j'] = rsa['name_j'].map(embed_to_dtype)\n",
    "\n",
    "rsa"
   ],
   "metadata": {
    "collapsed": false
   },
   "outputs": [],
   "execution_count": null
  },
  {
   "metadata": {},
   "cell_type": "markdown",
   "source": "## Descriptive stats"
  },
  {
   "metadata": {},
   "cell_type": "markdown",
   "source": "**Within vs between dtype correlations**"
  },
  {
   "metadata": {},
   "cell_type": "code",
   "source": [
    "def dtype_corr(dtype_i, dtype_j):\n",
    "    corrs =  rsa.query(\n",
    "        '(dtype_i == @dtype_i & dtype_j == @dtype_j) | (dtype_i == @dtype_j & dtype_j == @dtype_i)'\n",
    "    )['spearman']\n",
    "    return corrs.mean().round(2)\n",
    "\n",
    "# Self-correlation\n",
    "text_text, brain_brain, behavior_behavior = dtype_corr('text', 'text'), dtype_corr('brain', 'brain'), dtype_corr('behavior', 'behavior')\n",
    "print(f'text-text: {text_text}')\n",
    "print(f'brain-brain: {brain_brain}')\n",
    "print(f'behavior-behavior: {behavior_behavior}')\n",
    "print('---------------')\n",
    "\n",
    "# Self-another\n",
    "text_brain = dtype_corr('text', 'brain')\n",
    "print(f'Text-brain: {text_brain}')\n",
    "text_behavior = dtype_corr('text', 'behavior')\n",
    "print(f'Text-behavior: {text_behavior}')\n",
    "brain_behavior = dtype_corr('brain', 'behavior')\n",
    "print(f'Brain-behavior: {brain_behavior}')"
   ],
   "outputs": [],
   "execution_count": null
  },
  {
   "metadata": {},
   "cell_type": "markdown",
   "source": "**Proportion of same dtype neighbors**"
  },
  {
   "metadata": {},
   "cell_type": "code",
   "source": [
    "with open('../../data/dtype_to_embed.json', 'r') as f:\n",
    "    dtype_to_embed = json.load(f)\n",
    "\n",
    "k = 3\n",
    "same_dtype_props = {}\n",
    "for dtype, names in dtype_to_embed.items():\n",
    "    \n",
    "    same_dtype_bool = [] \n",
    "    for name in names:\n",
    "        k_neighbors = (\n",
    "            rsa.query(f'name_i == @name | name_j == @name').nlargest(k, 'spearman')\n",
    "            [['name_i', 'name_j']].to_numpy().flatten()\n",
    "        )\n",
    "        same_dtype_bool += [embed_to_dtype[neighbor] == dtype for neighbor in k_neighbors if neighbor != name]\n",
    "\n",
    "    same_dtype_props[dtype] = round(np.mean(same_dtype_bool), 2)\n",
    "    \n",
    "same_dtype_props"
   ],
   "outputs": [],
   "execution_count": null
  },
  {
   "metadata": {},
   "cell_type": "markdown",
   "source": "## MDS"
  },
  {
   "cell_type": "code",
   "source": [
    "text_names = dtype_to_embed['text']\n",
    "brain_names = dtype_to_embed['brain']\n",
    "behavior_names = dtype_to_embed['behavior']\n",
    "\n",
    "print({dtype: len(names) for dtype, names in dtype_to_embed.items()})\n",
    "\n",
    "\n",
    "def to_heat_df(results, col):\n",
    "    # Heat df template\n",
    "    names = list(pd.concat([results['name_i'], results['name_j']]).unique()) # needed because not all models guaranteed on one column\n",
    "    heat_df = pd.DataFrame(index=names, columns=names)\n",
    "\n",
    "    # Filling with correlations\n",
    "    query = '(name_i == @name_i & name_j == @name_j) | (name_i == @name_j & name_j == @name_i)'\n",
    "    for name_i, name_j in list(itertools.combinations(names, 2)):\n",
    "        r, *_ = results.query(query)[col]\n",
    "        heat_df.loc[name_i, name_j] = r\n",
    "        heat_df.loc[name_j, name_i] = r\n",
    "        \n",
    "        order = text_names + behavior_names + brain_names\n",
    "\n",
    "    return heat_df.loc[order, order].astype(float)\n",
    "\n",
    "\n",
    "spearmans = to_heat_df(rsa, 'spearman')\n",
    "spearmans"
   ],
   "metadata": {
    "collapsed": false
   },
   "outputs": [],
   "execution_count": null
  },
  {
   "metadata": {},
   "cell_type": "code",
   "source": [
    "dissimilarity = 1 - spearmans\n",
    "np.fill_diagonal(dissimilarity.values, 0.0)\n",
    "\n",
    "# MDS\n",
    "mds = MDS(n_components=2, dissimilarity='precomputed', random_state=0)\n",
    "spearmans_2d = mds.fit_transform(dissimilarity)\n",
    "spearmans_2d = pd.DataFrame(spearmans_2d, index=spearmans.index)\n",
    "\n",
    "def data_type(mod_name):\n",
    "    if mod_name in brain_names:\n",
    "        return 'brain'\n",
    "    elif mod_name in behavior_names:\n",
    "        return 'behavior'\n",
    "    else:\n",
    "        return 'text'\n",
    "\n",
    "# Adding data type\n",
    "spearmans_2d['embed_type'] = [data_type(name) for name in spearmans_2d.index]\n",
    "spearmans_2d"
   ],
   "outputs": [],
   "execution_count": null
  },
  {
   "metadata": {},
   "cell_type": "markdown",
   "source": "## Plotting"
  },
  {
   "metadata": {},
   "cell_type": "code",
   "source": [
    "def fix_name(name: pd.Series) -> pd.Series:\n",
    "    rename = {\n",
    "    'compo_attribs': 'experiential_attributes',\n",
    "    'SVD_sim_rel': 'SVD_similarity_relatedness'\n",
    "    }\n",
    "    return rename.get(name, name).replace('_', ' ')\n",
    "\n",
    "\n",
    "# Rename some embeds and remove underscores\n",
    "spearmans.index = spearmans.index.to_series().apply(fix_name)\n",
    "spearmans.columns = spearmans.columns.to_series().apply(fix_name)\n",
    "spearmans_2d.index = spearmans.index.to_series().apply(fix_name)\n",
    "\n",
    "# Colors\n",
    "cmap = plt.get_cmap('viridis', 4)\n",
    "embed_type_to_color = {\n",
    "    'brain': cmap(1),\n",
    "    'behavior': cmap(0),\n",
    "    'text': cmap(2)\n",
    "}\n"
   ],
   "outputs": [],
   "execution_count": null
  },
  {
   "metadata": {},
   "cell_type": "code",
   "source": [
    "def plot_scatter_panel(ax, spearmans_2d, embed_type_to_color, spearmans, add_label=False):\n",
    "    if add_label:\n",
    "        annot_fontsize = 13\n",
    "    else:\n",
    "        annot_fontsize = 12\n",
    "    \n",
    "    sns.scatterplot(\n",
    "        data=spearmans_2d, x=0, y=1, hue='embed_type',\n",
    "        sizes=(500, 500), legend=False, s=110,\n",
    "        marker='s', linewidth=0.1, edgecolor='black',\n",
    "        palette=embed_type_to_color, ax=ax\n",
    "    )\n",
    "\n",
    "    # Remove axis labels/ticks\n",
    "    ax.set(xticklabels='', yticklabels='', xlabel='', ylabel='')\n",
    "\n",
    "    # Add text labels for points\n",
    "    texts = []\n",
    "    for model in spearmans.index:\n",
    "        texts.append(\n",
    "            ax.text(\n",
    "                spearmans_2d[0][model],\n",
    "                spearmans_2d[1][model],\n",
    "                model.replace('_', ' '),\n",
    "                fontsize=annot_fontsize\n",
    "            )\n",
    "        )\n",
    "    adjust_text(\n",
    "        texts, arrowprops=dict(arrowstyle='-', color='black', lw=.5), ax=ax\n",
    "    )\n",
    "\n",
    "    ax.axis('off')\n",
    "    \n",
    "    # Optionally add the panel label\n",
    "    if add_label:\n",
    "        ax.text(\n",
    "            -0.1, 1.05, 'A',\n",
    "            transform=ax.transAxes,\n",
    "            fontsize=20,\n",
    "            fontweight='bold',\n",
    "            va='top'\n",
    "        )\n",
    "\n",
    "\n",
    "def plot_heatmap_panel(ax, spearmans, add_label=False):\n",
    "    \"\"\"\n",
    "    Draws the heatmap on the given Axes object `ax`.\n",
    "    If add_label is True, draw the bold panel label 'B' on the panel.\n",
    "    \"\"\"\n",
    "    if add_label:\n",
    "        annot_fontsize = 7\n",
    "        ticklabel_fontsize = 11\n",
    "    else:\n",
    "        annot_fontsize = 5\n",
    "        ticklabel_fontsize = 9\n",
    "    \n",
    "    sns.heatmap(\n",
    "        spearmans, square=True, annot=True, cmap='viridis',\n",
    "        vmin=0, vmax=spearmans.max().max(), \n",
    "        fmt='.2f', annot_kws={\"fontsize\": annot_fontsize}, cbar=False, ax=ax\n",
    "    )\n",
    "\n",
    "    # Increase font size of x and y tick labels\n",
    "    ax.tick_params(axis='both', which='major', labelsize=ticklabel_fontsize)\n",
    "\n",
    "    # Optionally add the panel label\n",
    "    if add_label:\n",
    "        ax.text(\n",
    "            -0.4, 1.05, 'B',\n",
    "            transform=ax.transAxes,\n",
    "            fontsize=20,\n",
    "            fontweight='bold',\n",
    "            va='top'\n",
    "        )\n",
    "\n",
    "\n",
    "# Create a 1-row, 2-column figure\n",
    "fig, (ax_1, ax_2) = plt.subplots(1, 2, figsize=(20, 8), width_ratios=(0.6, 1))\n",
    "\n",
    "# Plot each panel, adding the labels:\n",
    "plot_scatter_panel(ax_1, spearmans_2d, embed_type_to_color, spearmans, add_label=True)\n",
    "plot_heatmap_panel(ax_2, spearmans, add_label=True)\n",
    "\n",
    "fig.tight_layout()\n",
    "plt.savefig('../../figures/rsa.png', dpi=300, bbox_inches='tight')\n",
    "plt.show()"
   ],
   "outputs": [],
   "execution_count": null
  },
  {
   "metadata": {},
   "cell_type": "code",
   "source": [
    "# MDS plot\n",
    "fig_a, ax_a = plt.subplots(figsize=(8, 6))\n",
    "plot_scatter_panel(ax_a, spearmans_2d, embed_type_to_color, spearmans, add_label=False)\n",
    "fig_a.tight_layout()\n",
    "plt.show()"
   ],
   "outputs": [],
   "execution_count": null
  },
  {
   "metadata": {},
   "cell_type": "code",
   "source": [
    "# rsa matrix\n",
    "fig_b, ax_b = plt.subplots(figsize=(8, 6))\n",
    "plot_heatmap_panel(ax_b, spearmans, add_label=False)\n",
    "fig_b.tight_layout()\n",
    "plt.show()"
   ],
   "outputs": [],
   "execution_count": null
  }
 ],
 "metadata": {
  "kernelspec": {
   "display_name": "Python 3",
   "language": "python",
   "name": "python3"
  },
  "language_info": {
   "codemirror_mode": {
    "name": "ipython",
    "version": 2
   },
   "file_extension": ".py",
   "mimetype": "text/x-python",
   "name": "python",
   "nbconvert_exporter": "python",
   "pygments_lexer": "ipython2",
   "version": "2.7.6"
  }
 },
 "nbformat": 4,
 "nbformat_minor": 0
}
