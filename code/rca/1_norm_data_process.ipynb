{
 "cells": [
  {
   "cell_type": "code",
   "id": "initial_id",
   "metadata": {
    "collapsed": true
   },
   "source": [
    "import pandas as pd\n",
    "import numpy as np\n",
    "import matplotlib.pyplot as plt\n",
    "from sklearn.utils.multiclass import type_of_target"
   ],
   "outputs": [],
   "execution_count": null
  },
  {
   "metadata": {},
   "cell_type": "code",
   "source": [
    "norms = pd.read_csv('../../data/psychNorms/psychNorms.zip', index_col=0, compression='zip', low_memory=False)\n",
    "meta = pd.read_csv('../../data/psychNorms/psychNorms_metadata.csv', index_col='norm')\n",
    "norms"
   ],
   "id": "7fa1a071c69f9cea",
   "outputs": [],
   "execution_count": null
  },
  {
   "metadata": {},
   "cell_type": "code",
   "source": [
    "# Adding 'associated_embed' to metadata to avoid data leakage\n",
    "meta['associated_embed'] = ''\n",
    "meta.loc[meta.index.str.contains('_lancaster'), 'associated_embed'] = 'norms_sensorimotor'\n",
    "meta.loc[meta.index == 'association_frequency_dedeyne', 'associated_embed'] = 'PPMI_SVD_SWOW SGSoftMaxInput_SWOW SGSoftMaxOutput_SWOW'\n",
    "\n",
    "# Adding 'type' to metadata (numeric, binary, multiclass)\n",
    "meta['type'] = [type_of_target(norms[name].dropna()) for name in meta.index]\n",
    "meta['type'] = meta['type'].replace('continuous', 'numeric')\n",
    "\n",
    "# Manually fixing mistyped norms\n",
    "numeric_norms = [\n",
    "    'n_senses_wordnet_miller', 'n_senses_wordsmyth_rice', 'n_meanings_websters_gao', 'n_features_buchanan',\n",
    "    'n_semantic_neighbors_shaoul', 'association_frequency_dedeyne', 'cue_setsize_nelson', 'difficulty_rudell',\n",
    "    'likableness_anderson', 'meaningfulness_anderson', 'n_meanings_wordsmyth_rice'\n",
    "]\n",
    "for norm in meta.index:\n",
    "    if 'vanarsdall' in norm:\n",
    "        numeric_norms.append(norm)\n",
    "        \n",
    "meta.loc[numeric_norms, 'type'] = 'numeric'\n",
    "\n",
    "# Identifying count-based norms to investigate which need log transformation\n",
    "numeric_norms = meta.query('type == \"numeric\"').index\n",
    "count_norms = [norm for norm in numeric_norms if norms[norm].dropna().apply(float.is_integer).all()]\n",
    "meta.loc[count_norms]"
   ],
   "id": "d31c399dd5bb8863",
   "outputs": [],
   "execution_count": null
  },
  {
   "metadata": {},
   "cell_type": "code",
   "source": "meta.query('type != \"numeric\"')",
   "id": "32d8fcbf8c0713bd",
   "outputs": [],
   "execution_count": null
  },
  {
   "metadata": {},
   "cell_type": "code",
   "source": [
    "norms['n_meanings_wordsmyth_rice'].hist()"
   ],
   "id": "8843b5b62cf1c81a",
   "outputs": [],
   "execution_count": null
  },
  {
   "metadata": {},
   "cell_type": "code",
   "source": [
    "# Keeping only norms that were manually confirmed as count-based\n",
    "count_norms = [\n",
    "    'n_senses_wordnet_miller', 'n_senses_wordsmyth_rice', 'n_meanings_websters_gao', \n",
    "    'n_features_buchanan', 'n_semantic_neighbors_shaoul', 'association_frequency_dedeyne',\n",
    "    'cue_setsize_nelson'\n",
    "]\n",
    "\n",
    "\n",
    "rt_norms = [norm for norm in numeric_norms if '_rt_' in norm]\n",
    "rt_norms"
   ],
   "id": "1c2d77881a6f4d2a",
   "outputs": [],
   "execution_count": null
  },
  {
   "metadata": {},
   "cell_type": "code",
   "source": [
    "# Log transforming \n",
    "to_log = count_norms + rt_norms\n",
    "norms[to_log] = norms[to_log].apply(np.log1p)\n",
    "\n",
    "# Checking it roughly worked\n",
    "for norm in to_log:\n",
    "    print(norm)\n",
    "    norms[norm].hist()\n",
    "    plt.show()"
   ],
   "id": "fbf31860e932e918",
   "outputs": [],
   "execution_count": null
  },
  {
   "metadata": {},
   "cell_type": "code",
   "source": [
    "# Log transforming selected norms\n",
    "norms[to_log] = norms[to_log].apply(np.log1p)\n",
    "\n",
    "# Saving\n",
    "norms.to_csv('../../data/psychNorms/psychNorms_processed.zip', compression='zip')\n",
    "meta.to_csv('../../data/psychNorms/psychNorms_metadata_processed.csv')"
   ],
   "id": "b6a880d9d8e536dd",
   "outputs": [],
   "execution_count": null
  }
 ],
 "metadata": {
  "kernelspec": {
   "display_name": "Python 3",
   "language": "python",
   "name": "python3"
  },
  "language_info": {
   "codemirror_mode": {
    "name": "ipython",
    "version": 2
   },
   "file_extension": ".py",
   "mimetype": "text/x-python",
   "name": "python",
   "nbconvert_exporter": "python",
   "pygments_lexer": "ipython2",
   "version": "2.7.6"
  }
 },
 "nbformat": 4,
 "nbformat_minor": 5
}
