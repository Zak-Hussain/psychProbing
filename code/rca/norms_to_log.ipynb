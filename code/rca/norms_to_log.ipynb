{
 "cells": [
  {
   "cell_type": "code",
   "id": "initial_id",
   "metadata": {
    "collapsed": true
   },
   "source": [
    "import pandas as pd\n",
    "import numpy as np\n",
    "import matplotlib.pyplot as plt\n",
    "import pickle"
   ],
   "outputs": [],
   "execution_count": null
  },
  {
   "metadata": {},
   "cell_type": "code",
   "source": [
    "norms = pd.read_csv('../../data/raw/psychNorms.zip', index_col=0, compression='zip', low_memory=False)\n",
    "norm_metadata = pd.read_csv('../../data/raw/psychNorms_metadata.csv', index_col='norm')\n",
    "norm_metadata['associated_embed'] = norm_metadata['associated_embed'].astype(str)\n",
    "norms"
   ],
   "id": "7fa1a071c69f9cea",
   "outputs": [],
   "execution_count": null
  },
  {
   "metadata": {},
   "cell_type": "code",
   "source": [
    "# Identifying count-based norms to investigate which need log transformation\n",
    "numeric_norms = norm_metadata.query('type == \"numeric\"').index\n",
    "count_norms = [norm for norm in numeric_norms if norms[norm].dropna().apply(float.is_integer).all()]\n",
    "norm_metadata.loc[count_norms]"
   ],
   "id": "6d43f4325dd38b67",
   "outputs": [],
   "execution_count": null
  },
  {
   "metadata": {},
   "cell_type": "code",
   "source": [
    "count_norms = [\n",
    "    'Nsenses_WordNet', 'Nsenses_Wordsmyth', 'Nmeanings_Wordsmyth', 'Nmeanings_Websters', \n",
    "    'NFeatures', 'Sem_N', 'Assoc_Freq_Token123', 'Cue_SetSize'\n",
    "]\n",
    "\n",
    "\n",
    "# Plots grid of the distributions of count-based norms\n",
    "for norm in count_norms:\n",
    "    print(norm)\n",
    "    norms[norm].hist()\n",
    "    plt.show()"
   ],
   "id": "1edee20ffa92047d",
   "outputs": [],
   "execution_count": null
  },
  {
   "metadata": {},
   "cell_type": "code",
   "source": [
    "count_norms.remove('Cue_SetSize') # removing since distribution is normal\n",
    "\n",
    "# Log transforming remaining count norms\n",
    "norms[count_norms] = norms[count_norms].apply(np.log1p)\n",
    "\n",
    "# Checking it worked\n",
    "for norm in count_norms:\n",
    "    print(norm)\n",
    "    norms[norm].hist()\n",
    "    plt.show()"
   ],
   "id": "fbf31860e932e918",
   "outputs": [],
   "execution_count": null
  },
  {
   "metadata": {},
   "cell_type": "code",
   "source": [
    "# Saving count norms list as pickle\n",
    "with open('../../data/processed/norms_to_log.pkl', 'wb') as f:\n",
    "    pickle.dump(count_norms, f)"
   ],
   "id": "2157d130ca8c3e1a",
   "outputs": [],
   "execution_count": null
  }
 ],
 "metadata": {
  "kernelspec": {
   "display_name": "Python 3",
   "language": "python",
   "name": "python3"
  },
  "language_info": {
   "codemirror_mode": {
    "name": "ipython",
    "version": 2
   },
   "file_extension": ".py",
   "mimetype": "text/x-python",
   "name": "python",
   "nbconvert_exporter": "python",
   "pygments_lexer": "ipython2",
   "version": "2.7.6"
  }
 },
 "nbformat": 4,
 "nbformat_minor": 5
}
