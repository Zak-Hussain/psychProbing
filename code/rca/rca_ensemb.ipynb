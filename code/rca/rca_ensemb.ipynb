{
 "cells": [
  {
   "cell_type": "code",
   "source": [
    "import pandas as pd\n",
    "import numpy as np\n",
    "from sklearn.linear_model import RidgeCV, LogisticRegressionCV\n",
    "from sklearn.model_selection import StratifiedKFold\n",
    "from tqdm.notebook import tqdm\n",
    "import itertools\n",
    "import json\n",
    "from rca import process_categorical_ensemble, best_logistic_solver, k_fold_cross_val, make_binary_scorer, make_multiclass_scorer, checker"
   ],
   "metadata": {
    "collapsed": false,
    "jupyter": {
     "is_executing": true
    }
   },
   "outputs": [],
   "execution_count": null
  },
  {
   "cell_type": "markdown",
   "source": [
    "## Loading Data"
   ],
   "metadata": {
    "collapsed": false
   }
  },
  {
   "cell_type": "code",
   "source": [
    "rca = pd.read_csv('../../data/final/rca.csv')\n",
    "rca"
   ],
   "metadata": {
    "collapsed": false,
    "jupyter": {
     "is_executing": true
    }
   },
   "outputs": [],
   "execution_count": null
  },
  {
   "cell_type": "code",
   "source": [
    "embed_means = rca.groupby('embed').mean(numeric_only=True)\n",
    "\n",
    "# Adding embed types\n",
    "with open('../../data/raw/embed_to_dtype.json', 'r') as f:\n",
    "    embed_to_type = json.load(f)\n",
    "embed_means['type'] = embed_means.index.map(embed_to_type)\n",
    "\n",
    "top_n = 2\n",
    "\n",
    "# ensembling top text\n",
    "top_text_names = embed_means.query('type == \"text\"').sort_values('r2_mean', ascending=False).head(top_n).index.tolist()\n",
    "text_text_names = list(itertools.combinations(top_text_names, r=2))\n",
    "text_text_names"
   ],
   "metadata": {
    "collapsed": false,
    "jupyter": {
     "is_executing": true
    }
   },
   "outputs": [],
   "execution_count": null
  },
  {
   "metadata": {
    "jupyter": {
     "is_executing": true
    }
   },
   "cell_type": "code",
   "source": [
    "# Ensembling top behavior\n",
    "top_behavior_names = embed_means.query('type == \"behavior\"').sort_values('r2_mean', ascending=False).head(top_n).index.tolist()\n",
    "text_behavior_names =  []\n",
    "for text_name in top_text_names:\n",
    "    for behavior_name in top_behavior_names:\n",
    "        text_behavior_names.append((text_name, behavior_name))\n",
    "text_behavior_names"
   ],
   "outputs": [],
   "execution_count": null
  },
  {
   "cell_type": "code",
   "source": [
    "standarize = lambda df: (df - df.mean()) / df.std()\n",
    "\n",
    "# Loading embeddings\n",
    "embeds = {}\n",
    "for name in top_text_names + top_behavior_names:\n",
    "    embeds[name] = pd.read_csv(f'../../data/raw/embeds/{name}.csv', index_col=0)\n",
    "\n",
    "{name: embed.shape for name, embed in embeds.items()}"
   ],
   "metadata": {
    "collapsed": false,
    "jupyter": {
     "is_executing": true
    }
   },
   "outputs": [],
   "execution_count": null
  },
  {
   "cell_type": "code",
   "source": [
    "meta = pd.read_csv('../../data/raw/psychNorms_metadata.csv', index_col=0)\n",
    "meta['associated_embed'] = meta['associated_embed'].str.split(' ')\n",
    "\n",
    "norms = pd.read_csv('../../data/raw/psychNorms.zip', index_col=0, compression='zip', low_memory=False)\n",
    "norms"
   ],
   "metadata": {
    "collapsed": false,
    "jupyter": {
     "is_executing": true
    }
   },
   "outputs": [],
   "execution_count": null
  },
  {
   "cell_type": "markdown",
   "source": [
    "## Cross Validation"
   ],
   "metadata": {
    "collapsed": false
   }
  },
  {
   "cell_type": "code",
   "source": [
    "standardize = lambda df: (df - df.mean()) / df.std()\n",
    "\n",
    "# Ridge\n",
    "min_alpha, max_alpha = -3, 6 \n",
    "alphas = np.logspace(min_alpha, max_alpha,  max_alpha - min_alpha + 1)\n",
    "ridge = RidgeCV(alphas=alphas)\n",
    "\n",
    "# Logistic hyperparameters\n",
    "Cs = 1 / alphas\n",
    "inner_cv = 5\n",
    "penalty = 'l2'\n",
    "\n",
    "# Scorers\n",
    "binary_scorer = make_binary_scorer()\n",
    "multiclass_scorer = make_multiclass_scorer()\n",
    "\n",
    "# outer_cv setting \n",
    "outer_cv, n_jobs = 5, 8"
   ],
   "metadata": {
    "collapsed": false,
    "jupyter": {
     "is_executing": true
    }
   },
   "outputs": [],
   "execution_count": null
  },
  {
   "cell_type": "code",
   "source": [
    "# RCA\n",
    "rca = []\n",
    "for (text_name, behavior_name) in tqdm(text_behavior_names):\n",
    "    \n",
    "    # Loading text-text baseline embedding\n",
    "    text_text_embed = pd.concat([embeds[name] for name in top_text_names], axis=1, join='inner')\n",
    "    text_text_embed.columns = list(range(text_text_embed.shape[1]))\n",
    "    text_text_name = '&'.join(top_text_names)\n",
    "\n",
    "    # Loading text-behavior embedding\n",
    "    text_behavior_embed = pd.concat([embeds[text_name], embeds[behavior_name]], axis=1, join='inner')\n",
    "    text_behavior_embed.columns = list(range(text_behavior_embed.shape[1]))\n",
    "    text_behavior_name = f'{text_name}&{behavior_name}'\n",
    "    \n",
    "    # Aligning embedding to have same vocab for fair comparison\n",
    "    text_text_embed, text_behavior_embed = text_text_embed.align(\n",
    "        text_behavior_embed, axis='index', join='inner', copy=True\n",
    "    )\n",
    "    \n",
    "    # Standardizing\n",
    "    text_text_embed, text_behavior_embed = standardize(text_text_embed), standardize(text_behavior_embed)\n",
    "       \n",
    "    for norm_name in tqdm(norms.columns, desc=text_behavior_name):\n",
    "        \n",
    "        # Aligning embeddings with norm\n",
    "        y = norms[norm_name].dropna()\n",
    "        X_tt, y = text_text_embed.align(y, axis='index', join='inner', copy=True)\n",
    "        X_tb, y = text_behavior_embed.align(y, axis='index', join='inner', copy=True)\n",
    "        \n",
    "        # Checking norm dtype \n",
    "        norm_dtype = meta.loc[norm_name, 'type']\n",
    "        \n",
    "        # Solvers, scoring, estimators ir categorical or continuous\n",
    "        if norm_dtype in ['binary', 'multiclass']: # categorical\n",
    "            X_tt, X_tb, y = process_categorical_ensemble(outer_cv, inner_cv, y, X_tt, X_tb)\n",
    "            \n",
    "            # may have switched form multi to bin after processing\n",
    "            norm_dtype = 'binary' if len(y.unique()) == 2 else 'multiclass'\n",
    "            \n",
    "            # Cross validation settings for logistic regression\n",
    "            solver = best_logistic_solver(y, norm_dtype)\n",
    "            \n",
    "            # Defining logistic regression \n",
    "            estimator = LogisticRegressionCV(\n",
    "                Cs=Cs, penalty=penalty, cv=StratifiedKFold(inner_cv), solver=solver\n",
    "            )\n",
    "            scoring = binary_scorer if norm_dtype == 'binary' else multiclass_scorer\n",
    "        else: # continuous\n",
    "            estimator, scoring = ridge, 'r2'\n",
    "            \n",
    "        # Cross validation\n",
    "        embed_names = top_text_names + [behavior_name]\n",
    "        data_check = checker(embed_names, y, norm_dtype, meta, outer_cv, norm_name)\n",
    "        if data_check == 'pass':\n",
    "            text_text_scores = k_fold_cross_val(estimator, X_tt, y, outer_cv, scoring, n_jobs)\n",
    "            text_behavior_scores = k_fold_cross_val(estimator, X_tb, y, outer_cv, scoring, n_jobs)\n",
    "        else:\n",
    "            text_text_scores, text_behavior_scores = [np.nan] * outer_cv, [np.nan] * outer_cv\n",
    "            \n",
    "        # Saving\n",
    "        train_n = int(((outer_cv - 1) / outer_cv) * len(y))\n",
    "        for text_score, text_behavior_score in zip(text_text_scores, text_behavior_scores):\n",
    "            rca.append([\n",
    "                text_text_name, text_behavior_name, norm_name, train_n, text_score, \n",
    "                text_behavior_score, data_check\n",
    "            ])\n",
    " \n",
    " \n",
    "rca = pd.DataFrame(\n",
    "    rca, columns=[\n",
    "        'text_text_name', 'text_behavior_name', 'norm', 'train_n', \n",
    "        'r2_mean_tt',  'r2_mean_tb', 'data_check'\n",
    "    ]\n",
    ")\n",
    "rca.to_csv('../../data/final/rca_ensemb.csv', index=False)\n",
    "rca"
   ],
   "metadata": {
    "collapsed": false,
    "jupyter": {
     "is_executing": true
    }
   },
   "outputs": [],
   "execution_count": null
  }
 ],
 "metadata": {
  "kernelspec": {
   "display_name": "Python 3",
   "language": "python",
   "name": "python3"
  },
  "language_info": {
   "codemirror_mode": {
    "name": "ipython",
    "version": 2
   },
   "file_extension": ".py",
   "mimetype": "text/x-python",
   "name": "python",
   "nbconvert_exporter": "python",
   "pygments_lexer": "ipython2",
   "version": "2.7.6"
  }
 },
 "nbformat": 4,
 "nbformat_minor": 0
}
