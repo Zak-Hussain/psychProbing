{
 "cells": [
  {
   "cell_type": "code",
   "metadata": {
    "collapsed": true
   },
   "source": [
    "import pandas as pd\n",
    "from tqdm.notebook import tqdm_notebook as tqdm\n",
    "import os\n",
    "import json\n",
    "from rsa import compute_rsm"
   ],
   "outputs": [],
   "execution_count": null
  },
  {
   "metadata": {},
   "cell_type": "code",
   "source": [
    "# Loading dictionary of dtype to embed\n",
    "with open('../../data/dtype_to_embed.json', 'r') as f:\n",
    "    dtype_to_embed = json.load(f)\n",
    "    \n",
    "brain_behav_names = dtype_to_embed['brain'] + dtype_to_embed['behavior']\n",
    "\n",
    "# Iterating through embeds and finding union of all brain and behavior vocabs (embeds have already been subsetted to their intersection with the union of all the norm vocabs)\n",
    "embeds_path = '../../data/embeds/'\n",
    "brain_behav_union = set()\n",
    "for name in tqdm(brain_behav_names):\n",
    "    vocab = set(pd.read_csv(embeds_path + name + '.csv', index_col=0).index)\n",
    "    brain_behav_union = brain_behav_union.union(vocab)\n",
    "\n",
    "len(brain_behav_union)    "
   ],
   "outputs": [],
   "execution_count": null
  },
  {
   "metadata": {},
   "cell_type": "code",
   "source": [
    "# Creating output directory\n",
    "output_dir = '../../data/rsms/'\n",
    "if not os.path.exists(output_dir):\n",
    "    os.makedirs(output_dir)\n",
    "\n",
    "# Computing RSMs\n",
    "order_to_compute = dtype_to_embed['brain'] + dtype_to_embed['behavior'] + dtype_to_embed['text']\n",
    "for embed_name in tqdm(order_to_compute):\n",
    "    print(embed_name)\n",
    "    \n",
    "    path = embeds_path + embed_name + '.csv'\n",
    "    embed = pd.read_csv(path, index_col=0)\n",
    "    \n",
    "    if embed.shape[0] != embed.shape[1]: # If not square, then it's a word embedding (not a RSM)\n",
    "        embed = embed[embed.index.isin(brain_behav_union)]\n",
    "        print(embed.shape)\n",
    "        embed = compute_rsm(embed)\n",
    "\n",
    "    embed.to_pickle(output_dir + f'{embed_name}.pkl')"
   ],
   "outputs": [],
   "execution_count": null
  }
 ],
 "metadata": {
  "kernelspec": {
   "display_name": "Python 3",
   "language": "python",
   "name": "python3"
  },
  "language_info": {
   "codemirror_mode": {
    "name": "ipython",
    "version": 2
   },
   "file_extension": ".py",
   "mimetype": "text/x-python",
   "name": "python",
   "nbconvert_exporter": "python",
   "pygments_lexer": "ipython2",
   "version": "2.7.6"
  }
 },
 "nbformat": 4,
 "nbformat_minor": 0
}
