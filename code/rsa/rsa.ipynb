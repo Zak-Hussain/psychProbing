{
 "cells": [
  {
   "cell_type": "code",
   "source": [
    "import pandas as pd\n",
    "from tqdm.notebook import tqdm_notebook as tqdm\n",
    "import os\n",
    "import itertools\n",
    "from rsa import compute_rsa\n",
    "from joblib import Parallel, delayed\n",
    "import gc"
   ],
   "metadata": {
    "collapsed": false,
    "ExecuteTime": {
     "end_time": "2024-07-16T08:33:53.432732Z",
     "start_time": "2024-07-16T08:33:51.819278Z"
    }
   },
   "outputs": [],
   "execution_count": 1
  },
  {
   "cell_type": "code",
   "source": [
    "# Generating Pairwise Combinations Between Embeddings\n",
    "dir_path = f'../../data/processed/rsms/'\n",
    "file_names = os.listdir(dir_path) \n",
    "file_names.remove('.DS_Store') if '.DS_Store' in file_names else None\n",
    "file_pair_combs = list(itertools.combinations(file_names, 2))\n",
    "len(file_pair_combs)"
   ],
   "metadata": {
    "collapsed": false,
    "ExecuteTime": {
     "end_time": "2024-07-16T08:34:01.502263Z",
     "start_time": "2024-07-16T08:34:01.496282Z"
    }
   },
   "outputs": [
    {
     "data": {
      "text/plain": [
       "300"
      ]
     },
     "execution_count": 2,
     "metadata": {},
     "output_type": "execute_result"
    }
   ],
   "execution_count": 2
  },
  {
   "metadata": {
    "ExecuteTime": {
     "end_time": "2024-07-15T11:07:45.214457Z",
     "start_time": "2024-07-15T10:49:23.462902Z"
    }
   },
   "cell_type": "code",
   "source": [
    "# Function to process each file pair\n",
    "def process_file_pair(file_name_i, file_name_j, dir_path):\n",
    "    print(f\"{file_name_i, file_name_j}\")\n",
    "\n",
    "    # Load the RSMs\n",
    "    rsm_i = pd.read_pickle(dir_path + file_name_i)\n",
    "    rsm_j = pd.read_pickle(dir_path + file_name_j)\n",
    "\n",
    "    # Compute RSA\n",
    "    corr, n_words = compute_rsa(rsm_i, rsm_j)\n",
    "\n",
    "    # Extract names\n",
    "    name_i, name_j = file_name_i[:-4], file_name_j[:-4]\n",
    "    print(f\"spearman_r={corr}, n_words={n_words}\")\n",
    "    print('-------------------------------------------------')\n",
    "    \n",
    "    # Free memory by deleting the RSMs\n",
    "    del rsm_i, rsm_j\n",
    "    gc.collect()\n",
    "\n",
    "    return [name_i, name_j, corr, n_words]\n",
    "\n",
    "# Make the output directory\n",
    "output_dir = '../../data/final/'\n",
    "if not os.path.exists(output_dir):\n",
    "    os.makedirs(output_dir)\n",
    "\n",
    "# Compute RSA in parallel\n",
    "rsa = Parallel(n_jobs=2)(\n",
    "    delayed(process_file_pair)(file_name_i, file_name_j, dir_path)\n",
    "    for file_name_i, file_name_j in tqdm(file_pair_combs)\n",
    ")\n",
    "\n",
    "# Save the results\n",
    "rsa_df = pd.DataFrame(rsa, columns=['name_i', 'name_j', 'spearman', 'n_words'])\n",
    "rsa_df.to_csv(f'../../data/final/rsa.csv', index=False)"
   ],
   "outputs": [
    {
     "data": {
      "text/plain": [
       "  0%|          | 0/300 [00:00<?, ?it/s]"
      ],
      "application/vnd.jupyter.widget-view+json": {
       "version_major": 2,
       "version_minor": 0,
       "model_id": "0566b3977294434b95b525d11e289e86"
      }
     },
     "metadata": {},
     "output_type": "display_data"
    },
    {
     "name": "stdout",
     "output_type": "stream",
     "text": [
      "('eye_tracking.pkl', 'SVD_sim_rel.pkl')\n",
      "spearman_r=0.003103793274149264, n_words=2121\n",
      "-------------------------------------------------\n",
      "('eye_tracking.pkl', 'fastText_Wiki_News.pkl')\n",
      "spearman_r=0.10598061680777522, n_words=7366\n",
      "-------------------------------------------------\n",
      "('eye_tracking.pkl', 'SGSoftMaxOutput_SWOW.pkl')\n",
      "spearman_r=-0.05545045296226891, n_words=5690\n",
      "-------------------------------------------------\n",
      "('eye_tracking.pkl', 'GloVe_Wikipedia.pkl')\n",
      "spearman_r=0.11313880865148941, n_words=7327\n",
      "-------------------------------------------------\n",
      "('eye_tracking.pkl', 'fMRI_speech_hyper_align.pkl')\n",
      "spearman_r=0.023718973070094133, n_words=501\n",
      "-------------------------------------------------\n",
      "('eye_tracking.pkl', 'PPMI_SVD_SOUTH_FLORIDA.pkl')\n",
      "spearman_r=0.012406904995839331, n_words=2359\n",
      "-------------------------------------------------\n",
      "('eye_tracking.pkl', 'THINGS.pkl')\n",
      "spearman_r=0.011341327699556578, n_words=270\n",
      "-------------------------------------------------\n",
      "('eye_tracking.pkl', 'CBOW_GoogleNews.pkl')\n",
      "spearman_r=0.0515377379679168, n_words=7342\n",
      "-------------------------------------------------\n",
      "('eye_tracking.pkl', 'compo_attribs.pkl')\n",
      "spearman_r=0.011955732660571858, n_words=299\n",
      "-------------------------------------------------\n",
      "('eye_tracking.pkl', 'microarray.pkl')\n",
      "spearman_r=0.045883265737657386, n_words=417\n",
      "-------------------------------------------------\n",
      "('eye_tracking.pkl', 'fMRI_text_hyper_align.pkl')\n",
      "spearman_r=0.05260837859083267, n_words=881\n",
      "-------------------------------------------------\n",
      "('eye_tracking.pkl', 'norms_sensorimotor.pkl')\n",
      "spearman_r=0.02979360074736076, n_words=5349\n",
      "-------------------------------------------------\n"
     ]
    },
    {
     "name": "stderr",
     "output_type": "stream",
     "text": [
      "/Users/zhussain/opt/anaconda3/envs/PsychEmbeddings/lib/python3.10/site-packages/joblib/externals/loky/process_executor.py:702: UserWarning: A worker stopped while some jobs were given to the executor. This can be caused by a too short worker timeout or by a memory leak.\n",
      "  warnings.warn(\n",
      "python(3575) MallocStackLogging: can't turn off malloc stack logging because it was not enabled.\n"
     ]
    },
    {
     "name": "stdout",
     "output_type": "stream",
     "text": [
      "('eye_tracking.pkl', 'SGSoftMaxInput_SWOW.pkl')\n",
      "spearman_r=0.03083141118461141, n_words=4041\n",
      "-------------------------------------------------\n",
      "('eye_tracking.pkl', 'fastTextSub_OpenSub.pkl')\n",
      "spearman_r=0.03822848270698151, n_words=7300\n",
      "-------------------------------------------------\n",
      "('eye_tracking.pkl', 'feature_overlap.pkl')\n",
      "spearman_r=0.11932173512670685, n_words=2038\n",
      "-------------------------------------------------\n",
      "('eye_tracking.pkl', 'PPMI_SVD_SWOW.pkl')\n",
      "spearman_r=0.04332854029824027, n_words=4041\n",
      "-------------------------------------------------\n",
      "('eye_tracking.pkl', 'GloVe_Twitter.pkl')\n",
      "spearman_r=0.12255021400591048, n_words=7056\n",
      "-------------------------------------------------\n",
      "('eye_tracking.pkl', 'GloVe_CommonCrawl.pkl')\n",
      "spearman_r=0.14412317500888597, n_words=7371\n",
      "-------------------------------------------------\n",
      "('eye_tracking.pkl', 'EEG_speech.pkl')\n",
      "spearman_r=0.04622254601370687, n_words=1101\n",
      "-------------------------------------------------\n",
      "('eye_tracking.pkl', 'morphoNLM.pkl')\n",
      "spearman_r=0.04323795127736996, n_words=7067\n",
      "-------------------------------------------------\n",
      "('eye_tracking.pkl', 'fastText_CommonCrawl.pkl')\n",
      "spearman_r=0.06460024460380656, n_words=7388\n",
      "-------------------------------------------------\n",
      "('eye_tracking.pkl', 'spherical_text_Wikipedia.pkl')\n",
      "spearman_r=0.07719085796157896, n_words=7193\n",
      "-------------------------------------------------\n",
      "('SVD_sim_rel.pkl', 'feature_overlap.pkl')\n",
      "spearman_r=0.23448973708475152, n_words=2641\n",
      "-------------------------------------------------\n",
      "('SVD_sim_rel.pkl', 'SGSoftMaxOutput_SWOW.pkl')\n",
      "spearman_r=-0.005332872084188986, n_words=4774\n",
      "-------------------------------------------------\n",
      "('SVD_sim_rel.pkl', 'PPMI_SVD_SWOW.pkl')\n",
      "spearman_r=0.025555932380078143, n_words=4044\n",
      "-------------------------------------------------\n"
     ]
    },
    {
     "name": "stderr",
     "output_type": "stream",
     "text": [
      "python(3619) MallocStackLogging: can't turn off malloc stack logging because it was not enabled.\n"
     ]
    },
    {
     "name": "stdout",
     "output_type": "stream",
     "text": [
      "('eye_tracking.pkl', 'EEG_text.pkl')\n",
      "spearman_r=0.09701772722473243, n_words=3355\n",
      "-------------------------------------------------\n",
      "('eye_tracking.pkl', 'LexVec_CommonCrawl.pkl')\n",
      "spearman_r=0.09022333337482821, n_words=7370\n",
      "-------------------------------------------------\n",
      "('SVD_sim_rel.pkl', 'SGSoftMaxInput_SWOW.pkl')\n",
      "spearman_r=0.021441354014303773, n_words=4044\n",
      "-------------------------------------------------\n",
      "('SVD_sim_rel.pkl', 'fastText_Wiki_News.pkl')\n",
      "spearman_r=0.017060738060089665, n_words=5977\n",
      "-------------------------------------------------\n",
      "('SVD_sim_rel.pkl', 'fastTextSub_OpenSub.pkl')\n",
      "spearman_r=0.015130515758309973, n_words=5816\n",
      "-------------------------------------------------\n",
      "('SVD_sim_rel.pkl', 'GloVe_Wikipedia.pkl')\n",
      "spearman_r=0.013611113382937731, n_words=5833\n",
      "-------------------------------------------------\n",
      "('SVD_sim_rel.pkl', 'fMRI_speech_hyper_align.pkl')\n",
      "spearman_r=0.0067625628475851485, n_words=235\n",
      "-------------------------------------------------\n",
      "('SVD_sim_rel.pkl', 'PPMI_SVD_SOUTH_FLORIDA.pkl')\n",
      "spearman_r=0.028013595891711252, n_words=2960\n",
      "-------------------------------------------------\n",
      "('SVD_sim_rel.pkl', 'THINGS.pkl')\n",
      "spearman_r=0.1408071897942431, n_words=707\n",
      "-------------------------------------------------\n",
      "('SVD_sim_rel.pkl', 'CBOW_GoogleNews.pkl')\n",
      "spearman_r=0.01612351207132401, n_words=5916\n",
      "-------------------------------------------------\n",
      "('SVD_sim_rel.pkl', 'EEG_speech.pkl')\n",
      "spearman_r=0.003530475173320667, n_words=614\n",
      "-------------------------------------------------\n",
      "('SVD_sim_rel.pkl', 'compo_attribs.pkl')\n",
      "spearman_r=0.08862861920108459, n_words=354\n",
      "-------------------------------------------------\n",
      "('SVD_sim_rel.pkl', 'morphoNLM.pkl')\n",
      "spearman_r=0.014761269444595085, n_words=5926\n",
      "-------------------------------------------------\n",
      "('SVD_sim_rel.pkl', 'fastText_CommonCrawl.pkl')\n",
      "spearman_r=0.01749315436204244, n_words=5983\n",
      "-------------------------------------------------\n",
      "('SVD_sim_rel.pkl', 'spherical_text_Wikipedia.pkl')\n",
      "spearman_r=0.01694458040984407, n_words=5603\n",
      "-------------------------------------------------\n"
     ]
    },
    {
     "name": "stderr",
     "output_type": "stream",
     "text": [
      "python(3701) MallocStackLogging: can't turn off malloc stack logging because it was not enabled.\n",
      "exception calling callback for <Future at 0x7fa0b2f1d720 state=finished raised TerminatedWorkerError>\n",
      "Traceback (most recent call last):\n",
      "  File \"/Users/zhussain/opt/anaconda3/envs/PsychEmbeddings/lib/python3.10/site-packages/joblib/externals/loky/_base.py\", line 625, in _invoke_callbacks\n",
      "    callback(self)\n",
      "  File \"/Users/zhussain/opt/anaconda3/envs/PsychEmbeddings/lib/python3.10/site-packages/joblib/parallel.py\", line 360, in __call__\n",
      "    self.parallel.dispatch_next()\n",
      "  File \"/Users/zhussain/opt/anaconda3/envs/PsychEmbeddings/lib/python3.10/site-packages/joblib/parallel.py\", line 797, in dispatch_next\n",
      "    if not self.dispatch_one_batch(self._original_iterator):\n",
      "  File \"/Users/zhussain/opt/anaconda3/envs/PsychEmbeddings/lib/python3.10/site-packages/joblib/parallel.py\", line 864, in dispatch_one_batch\n",
      "    self._dispatch(tasks)\n",
      "  File \"/Users/zhussain/opt/anaconda3/envs/PsychEmbeddings/lib/python3.10/site-packages/joblib/parallel.py\", line 782, in _dispatch\n",
      "    job = self._backend.apply_async(batch, callback=cb)\n",
      "  File \"/Users/zhussain/opt/anaconda3/envs/PsychEmbeddings/lib/python3.10/site-packages/joblib/_parallel_backends.py\", line 531, in apply_async\n",
      "    future = self._workers.submit(SafeFunction(func))\n",
      "  File \"/Users/zhussain/opt/anaconda3/envs/PsychEmbeddings/lib/python3.10/site-packages/joblib/externals/loky/reusable_executor.py\", line 177, in submit\n",
      "    return super(_ReusablePoolExecutor, self).submit(\n",
      "  File \"/Users/zhussain/opt/anaconda3/envs/PsychEmbeddings/lib/python3.10/site-packages/joblib/externals/loky/process_executor.py\", line 1115, in submit\n",
      "    raise self._flags.broken\n",
      "joblib.externals.loky.process_executor.TerminatedWorkerError: A worker process managed by the executor was unexpectedly terminated. This could be caused by a segmentation fault while calling the function or by an excessive memory usage causing the Operating System to kill the worker.\n",
      "\n",
      "The exit codes of the workers are {SIGKILL(-9)}\n"
     ]
    },
    {
     "ename": "TerminatedWorkerError",
     "evalue": "A worker process managed by the executor was unexpectedly terminated. This could be caused by a segmentation fault while calling the function or by an excessive memory usage causing the Operating System to kill the worker.\n\nThe exit codes of the workers are {SIGKILL(-9)}",
     "output_type": "error",
     "traceback": [
      "\u001B[0;31m---------------------------------------------------------------------------\u001B[0m",
      "\u001B[0;31mTerminatedWorkerError\u001B[0m                     Traceback (most recent call last)",
      "Cell \u001B[0;32mIn[3], line 25\u001B[0m\n\u001B[1;32m     22\u001B[0m     os\u001B[38;5;241m.\u001B[39mmakedirs(output_dir)\n\u001B[1;32m     24\u001B[0m \u001B[38;5;66;03m# Compute RSA in parallel\u001B[39;00m\n\u001B[0;32m---> 25\u001B[0m rsa \u001B[38;5;241m=\u001B[39m \u001B[43mParallel\u001B[49m\u001B[43m(\u001B[49m\u001B[43mn_jobs\u001B[49m\u001B[38;5;241;43m=\u001B[39;49m\u001B[38;5;241;43m2\u001B[39;49m\u001B[43m)\u001B[49m\u001B[43m(\u001B[49m\n\u001B[1;32m     26\u001B[0m \u001B[43m    \u001B[49m\u001B[43mdelayed\u001B[49m\u001B[43m(\u001B[49m\u001B[43mprocess_file_pair\u001B[49m\u001B[43m)\u001B[49m\u001B[43m(\u001B[49m\u001B[43mfile_name_i\u001B[49m\u001B[43m,\u001B[49m\u001B[43m \u001B[49m\u001B[43mfile_name_j\u001B[49m\u001B[43m,\u001B[49m\u001B[43m \u001B[49m\u001B[43mdir_path\u001B[49m\u001B[43m)\u001B[49m\u001B[43m \u001B[49m\u001B[38;5;28;43;01mfor\u001B[39;49;00m\u001B[43m \u001B[49m\u001B[43mfile_name_i\u001B[49m\u001B[43m,\u001B[49m\u001B[43m \u001B[49m\u001B[43mfile_name_j\u001B[49m\u001B[43m \u001B[49m\u001B[38;5;129;43;01min\u001B[39;49;00m\u001B[43m \u001B[49m\u001B[43mtqdm\u001B[49m\u001B[43m(\u001B[49m\u001B[43mfile_pair_combs\u001B[49m\u001B[43m)\u001B[49m\n\u001B[1;32m     27\u001B[0m \u001B[43m)\u001B[49m\n\u001B[1;32m     29\u001B[0m \u001B[38;5;66;03m# Save the results\u001B[39;00m\n\u001B[1;32m     30\u001B[0m rsa_df \u001B[38;5;241m=\u001B[39m pd\u001B[38;5;241m.\u001B[39mDataFrame(rsa, columns\u001B[38;5;241m=\u001B[39m[\u001B[38;5;124m'\u001B[39m\u001B[38;5;124mname_i\u001B[39m\u001B[38;5;124m'\u001B[39m, \u001B[38;5;124m'\u001B[39m\u001B[38;5;124mname_j\u001B[39m\u001B[38;5;124m'\u001B[39m, \u001B[38;5;124m'\u001B[39m\u001B[38;5;124mspearman_local\u001B[39m\u001B[38;5;124m'\u001B[39m, \u001B[38;5;124m'\u001B[39m\u001B[38;5;124mn_words\u001B[39m\u001B[38;5;124m'\u001B[39m])\n",
      "File \u001B[0;32m~/opt/anaconda3/envs/PsychEmbeddings/lib/python3.10/site-packages/joblib/parallel.py:1061\u001B[0m, in \u001B[0;36mParallel.__call__\u001B[0;34m(self, iterable)\u001B[0m\n\u001B[1;32m   1058\u001B[0m     \u001B[38;5;28mself\u001B[39m\u001B[38;5;241m.\u001B[39m_iterating \u001B[38;5;241m=\u001B[39m \u001B[38;5;28;01mFalse\u001B[39;00m\n\u001B[1;32m   1060\u001B[0m \u001B[38;5;28;01mwith\u001B[39;00m \u001B[38;5;28mself\u001B[39m\u001B[38;5;241m.\u001B[39m_backend\u001B[38;5;241m.\u001B[39mretrieval_context():\n\u001B[0;32m-> 1061\u001B[0m     \u001B[38;5;28;43mself\u001B[39;49m\u001B[38;5;241;43m.\u001B[39;49m\u001B[43mretrieve\u001B[49m\u001B[43m(\u001B[49m\u001B[43m)\u001B[49m\n\u001B[1;32m   1062\u001B[0m \u001B[38;5;66;03m# Make sure that we get a last message telling us we are done\u001B[39;00m\n\u001B[1;32m   1063\u001B[0m elapsed_time \u001B[38;5;241m=\u001B[39m time\u001B[38;5;241m.\u001B[39mtime() \u001B[38;5;241m-\u001B[39m \u001B[38;5;28mself\u001B[39m\u001B[38;5;241m.\u001B[39m_start_time\n",
      "File \u001B[0;32m~/opt/anaconda3/envs/PsychEmbeddings/lib/python3.10/site-packages/joblib/parallel.py:938\u001B[0m, in \u001B[0;36mParallel.retrieve\u001B[0;34m(self)\u001B[0m\n\u001B[1;32m    936\u001B[0m \u001B[38;5;28;01mtry\u001B[39;00m:\n\u001B[1;32m    937\u001B[0m     \u001B[38;5;28;01mif\u001B[39;00m \u001B[38;5;28mgetattr\u001B[39m(\u001B[38;5;28mself\u001B[39m\u001B[38;5;241m.\u001B[39m_backend, \u001B[38;5;124m'\u001B[39m\u001B[38;5;124msupports_timeout\u001B[39m\u001B[38;5;124m'\u001B[39m, \u001B[38;5;28;01mFalse\u001B[39;00m):\n\u001B[0;32m--> 938\u001B[0m         \u001B[38;5;28mself\u001B[39m\u001B[38;5;241m.\u001B[39m_output\u001B[38;5;241m.\u001B[39mextend(\u001B[43mjob\u001B[49m\u001B[38;5;241;43m.\u001B[39;49m\u001B[43mget\u001B[49m\u001B[43m(\u001B[49m\u001B[43mtimeout\u001B[49m\u001B[38;5;241;43m=\u001B[39;49m\u001B[38;5;28;43mself\u001B[39;49m\u001B[38;5;241;43m.\u001B[39;49m\u001B[43mtimeout\u001B[49m\u001B[43m)\u001B[49m)\n\u001B[1;32m    939\u001B[0m     \u001B[38;5;28;01melse\u001B[39;00m:\n\u001B[1;32m    940\u001B[0m         \u001B[38;5;28mself\u001B[39m\u001B[38;5;241m.\u001B[39m_output\u001B[38;5;241m.\u001B[39mextend(job\u001B[38;5;241m.\u001B[39mget())\n",
      "File \u001B[0;32m~/opt/anaconda3/envs/PsychEmbeddings/lib/python3.10/site-packages/joblib/_parallel_backends.py:542\u001B[0m, in \u001B[0;36mLokyBackend.wrap_future_result\u001B[0;34m(future, timeout)\u001B[0m\n\u001B[1;32m    539\u001B[0m \u001B[38;5;124;03m\"\"\"Wrapper for Future.result to implement the same behaviour as\u001B[39;00m\n\u001B[1;32m    540\u001B[0m \u001B[38;5;124;03mAsyncResults.get from multiprocessing.\"\"\"\u001B[39;00m\n\u001B[1;32m    541\u001B[0m \u001B[38;5;28;01mtry\u001B[39;00m:\n\u001B[0;32m--> 542\u001B[0m     \u001B[38;5;28;01mreturn\u001B[39;00m \u001B[43mfuture\u001B[49m\u001B[38;5;241;43m.\u001B[39;49m\u001B[43mresult\u001B[49m\u001B[43m(\u001B[49m\u001B[43mtimeout\u001B[49m\u001B[38;5;241;43m=\u001B[39;49m\u001B[43mtimeout\u001B[49m\u001B[43m)\u001B[49m\n\u001B[1;32m    543\u001B[0m \u001B[38;5;28;01mexcept\u001B[39;00m CfTimeoutError \u001B[38;5;28;01mas\u001B[39;00m e:\n\u001B[1;32m    544\u001B[0m     \u001B[38;5;28;01mraise\u001B[39;00m \u001B[38;5;167;01mTimeoutError\u001B[39;00m \u001B[38;5;28;01mfrom\u001B[39;00m \u001B[38;5;21;01me\u001B[39;00m\n",
      "File \u001B[0;32m~/opt/anaconda3/envs/PsychEmbeddings/lib/python3.10/concurrent/futures/_base.py:458\u001B[0m, in \u001B[0;36mFuture.result\u001B[0;34m(self, timeout)\u001B[0m\n\u001B[1;32m    456\u001B[0m     \u001B[38;5;28;01mraise\u001B[39;00m CancelledError()\n\u001B[1;32m    457\u001B[0m \u001B[38;5;28;01melif\u001B[39;00m \u001B[38;5;28mself\u001B[39m\u001B[38;5;241m.\u001B[39m_state \u001B[38;5;241m==\u001B[39m FINISHED:\n\u001B[0;32m--> 458\u001B[0m     \u001B[38;5;28;01mreturn\u001B[39;00m \u001B[38;5;28;43mself\u001B[39;49m\u001B[38;5;241;43m.\u001B[39;49m\u001B[43m__get_result\u001B[49m\u001B[43m(\u001B[49m\u001B[43m)\u001B[49m\n\u001B[1;32m    459\u001B[0m \u001B[38;5;28;01melse\u001B[39;00m:\n\u001B[1;32m    460\u001B[0m     \u001B[38;5;28;01mraise\u001B[39;00m \u001B[38;5;167;01mTimeoutError\u001B[39;00m()\n",
      "File \u001B[0;32m~/opt/anaconda3/envs/PsychEmbeddings/lib/python3.10/concurrent/futures/_base.py:403\u001B[0m, in \u001B[0;36mFuture.__get_result\u001B[0;34m(self)\u001B[0m\n\u001B[1;32m    401\u001B[0m \u001B[38;5;28;01mif\u001B[39;00m \u001B[38;5;28mself\u001B[39m\u001B[38;5;241m.\u001B[39m_exception:\n\u001B[1;32m    402\u001B[0m     \u001B[38;5;28;01mtry\u001B[39;00m:\n\u001B[0;32m--> 403\u001B[0m         \u001B[38;5;28;01mraise\u001B[39;00m \u001B[38;5;28mself\u001B[39m\u001B[38;5;241m.\u001B[39m_exception\n\u001B[1;32m    404\u001B[0m     \u001B[38;5;28;01mfinally\u001B[39;00m:\n\u001B[1;32m    405\u001B[0m         \u001B[38;5;66;03m# Break a reference cycle with the exception in self._exception\u001B[39;00m\n\u001B[1;32m    406\u001B[0m         \u001B[38;5;28mself\u001B[39m \u001B[38;5;241m=\u001B[39m \u001B[38;5;28;01mNone\u001B[39;00m\n",
      "File \u001B[0;32m~/opt/anaconda3/envs/PsychEmbeddings/lib/python3.10/site-packages/joblib/externals/loky/_base.py:625\u001B[0m, in \u001B[0;36mFuture._invoke_callbacks\u001B[0;34m(self)\u001B[0m\n\u001B[1;32m    623\u001B[0m \u001B[38;5;28;01mfor\u001B[39;00m callback \u001B[38;5;129;01min\u001B[39;00m \u001B[38;5;28mself\u001B[39m\u001B[38;5;241m.\u001B[39m_done_callbacks:\n\u001B[1;32m    624\u001B[0m     \u001B[38;5;28;01mtry\u001B[39;00m:\n\u001B[0;32m--> 625\u001B[0m         \u001B[43mcallback\u001B[49m\u001B[43m(\u001B[49m\u001B[38;5;28;43mself\u001B[39;49m\u001B[43m)\u001B[49m\n\u001B[1;32m    626\u001B[0m     \u001B[38;5;28;01mexcept\u001B[39;00m \u001B[38;5;167;01mBaseException\u001B[39;00m:\n\u001B[1;32m    627\u001B[0m         LOGGER\u001B[38;5;241m.\u001B[39mexception(\u001B[38;5;124m'\u001B[39m\u001B[38;5;124mexception calling callback for \u001B[39m\u001B[38;5;132;01m%r\u001B[39;00m\u001B[38;5;124m'\u001B[39m, \u001B[38;5;28mself\u001B[39m)\n",
      "File \u001B[0;32m~/opt/anaconda3/envs/PsychEmbeddings/lib/python3.10/site-packages/joblib/parallel.py:360\u001B[0m, in \u001B[0;36mBatchCompletionCallBack.__call__\u001B[0;34m(self, out)\u001B[0m\n\u001B[1;32m    358\u001B[0m \u001B[38;5;28;01mwith\u001B[39;00m \u001B[38;5;28mself\u001B[39m\u001B[38;5;241m.\u001B[39mparallel\u001B[38;5;241m.\u001B[39m_lock:\n\u001B[1;32m    359\u001B[0m     \u001B[38;5;28;01mif\u001B[39;00m \u001B[38;5;28mself\u001B[39m\u001B[38;5;241m.\u001B[39mparallel\u001B[38;5;241m.\u001B[39m_original_iterator \u001B[38;5;129;01mis\u001B[39;00m \u001B[38;5;129;01mnot\u001B[39;00m \u001B[38;5;28;01mNone\u001B[39;00m:\n\u001B[0;32m--> 360\u001B[0m         \u001B[38;5;28;43mself\u001B[39;49m\u001B[38;5;241;43m.\u001B[39;49m\u001B[43mparallel\u001B[49m\u001B[38;5;241;43m.\u001B[39;49m\u001B[43mdispatch_next\u001B[49m\u001B[43m(\u001B[49m\u001B[43m)\u001B[49m\n",
      "File \u001B[0;32m~/opt/anaconda3/envs/PsychEmbeddings/lib/python3.10/site-packages/joblib/parallel.py:797\u001B[0m, in \u001B[0;36mParallel.dispatch_next\u001B[0;34m(self)\u001B[0m\n\u001B[1;32m    789\u001B[0m \u001B[38;5;28;01mdef\u001B[39;00m \u001B[38;5;21mdispatch_next\u001B[39m(\u001B[38;5;28mself\u001B[39m):\n\u001B[1;32m    790\u001B[0m     \u001B[38;5;124;03m\"\"\"Dispatch more data for parallel processing\u001B[39;00m\n\u001B[1;32m    791\u001B[0m \n\u001B[1;32m    792\u001B[0m \u001B[38;5;124;03m    This method is meant to be called concurrently by the multiprocessing\u001B[39;00m\n\u001B[0;32m   (...)\u001B[0m\n\u001B[1;32m    795\u001B[0m \n\u001B[1;32m    796\u001B[0m \u001B[38;5;124;03m    \"\"\"\u001B[39;00m\n\u001B[0;32m--> 797\u001B[0m     \u001B[38;5;28;01mif\u001B[39;00m \u001B[38;5;129;01mnot\u001B[39;00m \u001B[38;5;28;43mself\u001B[39;49m\u001B[38;5;241;43m.\u001B[39;49m\u001B[43mdispatch_one_batch\u001B[49m\u001B[43m(\u001B[49m\u001B[38;5;28;43mself\u001B[39;49m\u001B[38;5;241;43m.\u001B[39;49m\u001B[43m_original_iterator\u001B[49m\u001B[43m)\u001B[49m:\n\u001B[1;32m    798\u001B[0m         \u001B[38;5;28mself\u001B[39m\u001B[38;5;241m.\u001B[39m_iterating \u001B[38;5;241m=\u001B[39m \u001B[38;5;28;01mFalse\u001B[39;00m\n\u001B[1;32m    799\u001B[0m         \u001B[38;5;28mself\u001B[39m\u001B[38;5;241m.\u001B[39m_original_iterator \u001B[38;5;241m=\u001B[39m \u001B[38;5;28;01mNone\u001B[39;00m\n",
      "File \u001B[0;32m~/opt/anaconda3/envs/PsychEmbeddings/lib/python3.10/site-packages/joblib/parallel.py:864\u001B[0m, in \u001B[0;36mParallel.dispatch_one_batch\u001B[0;34m(self, iterator)\u001B[0m\n\u001B[1;32m    862\u001B[0m     \u001B[38;5;28;01mreturn\u001B[39;00m \u001B[38;5;28;01mFalse\u001B[39;00m\n\u001B[1;32m    863\u001B[0m \u001B[38;5;28;01melse\u001B[39;00m:\n\u001B[0;32m--> 864\u001B[0m     \u001B[38;5;28;43mself\u001B[39;49m\u001B[38;5;241;43m.\u001B[39;49m\u001B[43m_dispatch\u001B[49m\u001B[43m(\u001B[49m\u001B[43mtasks\u001B[49m\u001B[43m)\u001B[49m\n\u001B[1;32m    865\u001B[0m     \u001B[38;5;28;01mreturn\u001B[39;00m \u001B[38;5;28;01mTrue\u001B[39;00m\n",
      "File \u001B[0;32m~/opt/anaconda3/envs/PsychEmbeddings/lib/python3.10/site-packages/joblib/parallel.py:782\u001B[0m, in \u001B[0;36mParallel._dispatch\u001B[0;34m(self, batch)\u001B[0m\n\u001B[1;32m    780\u001B[0m \u001B[38;5;28;01mwith\u001B[39;00m \u001B[38;5;28mself\u001B[39m\u001B[38;5;241m.\u001B[39m_lock:\n\u001B[1;32m    781\u001B[0m     job_idx \u001B[38;5;241m=\u001B[39m \u001B[38;5;28mlen\u001B[39m(\u001B[38;5;28mself\u001B[39m\u001B[38;5;241m.\u001B[39m_jobs)\n\u001B[0;32m--> 782\u001B[0m     job \u001B[38;5;241m=\u001B[39m \u001B[38;5;28;43mself\u001B[39;49m\u001B[38;5;241;43m.\u001B[39;49m\u001B[43m_backend\u001B[49m\u001B[38;5;241;43m.\u001B[39;49m\u001B[43mapply_async\u001B[49m\u001B[43m(\u001B[49m\u001B[43mbatch\u001B[49m\u001B[43m,\u001B[49m\u001B[43m \u001B[49m\u001B[43mcallback\u001B[49m\u001B[38;5;241;43m=\u001B[39;49m\u001B[43mcb\u001B[49m\u001B[43m)\u001B[49m\n\u001B[1;32m    783\u001B[0m     \u001B[38;5;66;03m# A job can complete so quickly than its callback is\u001B[39;00m\n\u001B[1;32m    784\u001B[0m     \u001B[38;5;66;03m# called before we get here, causing self._jobs to\u001B[39;00m\n\u001B[1;32m    785\u001B[0m     \u001B[38;5;66;03m# grow. To ensure correct results ordering, .insert is\u001B[39;00m\n\u001B[1;32m    786\u001B[0m     \u001B[38;5;66;03m# used (rather than .append) in the following line\u001B[39;00m\n\u001B[1;32m    787\u001B[0m     \u001B[38;5;28mself\u001B[39m\u001B[38;5;241m.\u001B[39m_jobs\u001B[38;5;241m.\u001B[39minsert(job_idx, job)\n",
      "File \u001B[0;32m~/opt/anaconda3/envs/PsychEmbeddings/lib/python3.10/site-packages/joblib/_parallel_backends.py:531\u001B[0m, in \u001B[0;36mLokyBackend.apply_async\u001B[0;34m(self, func, callback)\u001B[0m\n\u001B[1;32m    529\u001B[0m \u001B[38;5;28;01mdef\u001B[39;00m \u001B[38;5;21mapply_async\u001B[39m(\u001B[38;5;28mself\u001B[39m, func, callback\u001B[38;5;241m=\u001B[39m\u001B[38;5;28;01mNone\u001B[39;00m):\n\u001B[1;32m    530\u001B[0m     \u001B[38;5;124;03m\"\"\"Schedule a func to be run\"\"\"\u001B[39;00m\n\u001B[0;32m--> 531\u001B[0m     future \u001B[38;5;241m=\u001B[39m \u001B[38;5;28;43mself\u001B[39;49m\u001B[38;5;241;43m.\u001B[39;49m\u001B[43m_workers\u001B[49m\u001B[38;5;241;43m.\u001B[39;49m\u001B[43msubmit\u001B[49m\u001B[43m(\u001B[49m\u001B[43mSafeFunction\u001B[49m\u001B[43m(\u001B[49m\u001B[43mfunc\u001B[49m\u001B[43m)\u001B[49m\u001B[43m)\u001B[49m\n\u001B[1;32m    532\u001B[0m     future\u001B[38;5;241m.\u001B[39mget \u001B[38;5;241m=\u001B[39m functools\u001B[38;5;241m.\u001B[39mpartial(\u001B[38;5;28mself\u001B[39m\u001B[38;5;241m.\u001B[39mwrap_future_result, future)\n\u001B[1;32m    533\u001B[0m     \u001B[38;5;28;01mif\u001B[39;00m callback \u001B[38;5;129;01mis\u001B[39;00m \u001B[38;5;129;01mnot\u001B[39;00m \u001B[38;5;28;01mNone\u001B[39;00m:\n",
      "File \u001B[0;32m~/opt/anaconda3/envs/PsychEmbeddings/lib/python3.10/site-packages/joblib/externals/loky/reusable_executor.py:177\u001B[0m, in \u001B[0;36m_ReusablePoolExecutor.submit\u001B[0;34m(self, fn, *args, **kwargs)\u001B[0m\n\u001B[1;32m    175\u001B[0m \u001B[38;5;28;01mdef\u001B[39;00m \u001B[38;5;21msubmit\u001B[39m(\u001B[38;5;28mself\u001B[39m, fn, \u001B[38;5;241m*\u001B[39margs, \u001B[38;5;241m*\u001B[39m\u001B[38;5;241m*\u001B[39mkwargs):\n\u001B[1;32m    176\u001B[0m     \u001B[38;5;28;01mwith\u001B[39;00m \u001B[38;5;28mself\u001B[39m\u001B[38;5;241m.\u001B[39m_submit_resize_lock:\n\u001B[0;32m--> 177\u001B[0m         \u001B[38;5;28;01mreturn\u001B[39;00m \u001B[38;5;28;43msuper\u001B[39;49m\u001B[43m(\u001B[49m\u001B[43m_ReusablePoolExecutor\u001B[49m\u001B[43m,\u001B[49m\u001B[43m \u001B[49m\u001B[38;5;28;43mself\u001B[39;49m\u001B[43m)\u001B[49m\u001B[38;5;241;43m.\u001B[39;49m\u001B[43msubmit\u001B[49m\u001B[43m(\u001B[49m\n\u001B[1;32m    178\u001B[0m \u001B[43m            \u001B[49m\u001B[43mfn\u001B[49m\u001B[43m,\u001B[49m\u001B[43m \u001B[49m\u001B[38;5;241;43m*\u001B[39;49m\u001B[43margs\u001B[49m\u001B[43m,\u001B[49m\u001B[43m \u001B[49m\u001B[38;5;241;43m*\u001B[39;49m\u001B[38;5;241;43m*\u001B[39;49m\u001B[43mkwargs\u001B[49m\u001B[43m)\u001B[49m\n",
      "File \u001B[0;32m~/opt/anaconda3/envs/PsychEmbeddings/lib/python3.10/site-packages/joblib/externals/loky/process_executor.py:1115\u001B[0m, in \u001B[0;36mProcessPoolExecutor.submit\u001B[0;34m(self, fn, *args, **kwargs)\u001B[0m\n\u001B[1;32m   1113\u001B[0m \u001B[38;5;28;01mwith\u001B[39;00m \u001B[38;5;28mself\u001B[39m\u001B[38;5;241m.\u001B[39m_flags\u001B[38;5;241m.\u001B[39mshutdown_lock:\n\u001B[1;32m   1114\u001B[0m     \u001B[38;5;28;01mif\u001B[39;00m \u001B[38;5;28mself\u001B[39m\u001B[38;5;241m.\u001B[39m_flags\u001B[38;5;241m.\u001B[39mbroken \u001B[38;5;129;01mis\u001B[39;00m \u001B[38;5;129;01mnot\u001B[39;00m \u001B[38;5;28;01mNone\u001B[39;00m:\n\u001B[0;32m-> 1115\u001B[0m         \u001B[38;5;28;01mraise\u001B[39;00m \u001B[38;5;28mself\u001B[39m\u001B[38;5;241m.\u001B[39m_flags\u001B[38;5;241m.\u001B[39mbroken\n\u001B[1;32m   1116\u001B[0m     \u001B[38;5;28;01mif\u001B[39;00m \u001B[38;5;28mself\u001B[39m\u001B[38;5;241m.\u001B[39m_flags\u001B[38;5;241m.\u001B[39mshutdown:\n\u001B[1;32m   1117\u001B[0m         \u001B[38;5;28;01mraise\u001B[39;00m ShutdownExecutorError(\n\u001B[1;32m   1118\u001B[0m             \u001B[38;5;124m'\u001B[39m\u001B[38;5;124mcannot schedule new futures after shutdown\u001B[39m\u001B[38;5;124m'\u001B[39m)\n",
      "\u001B[0;31mTerminatedWorkerError\u001B[0m: A worker process managed by the executor was unexpectedly terminated. This could be caused by a segmentation fault while calling the function or by an excessive memory usage causing the Operating System to kill the worker.\n\nThe exit codes of the workers are {SIGKILL(-9)}"
     ]
    }
   ],
   "execution_count": 3
  }
 ],
 "metadata": {
  "kernelspec": {
   "display_name": "Python 3",
   "language": "python",
   "name": "python3"
  },
  "language_info": {
   "codemirror_mode": {
    "name": "ipython",
    "version": 2
   },
   "file_extension": ".py",
   "mimetype": "text/x-python",
   "name": "python",
   "nbconvert_exporter": "python",
   "pygments_lexer": "ipython2",
   "version": "2.7.6"
  }
 },
 "nbformat": 4,
 "nbformat_minor": 0
}
