{
 "cells": [
  {
   "cell_type": "code",
   "source": [
    "import pandas as pd\n",
    "from tqdm.notebook import tqdm_notebook as tqdm\n",
    "import os\n",
    "import itertools\n",
    "from rsa import compute_rsa\n",
    "import gc\n",
    "import json"
   ],
   "metadata": {
    "collapsed": false,
    "ExecuteTime": {
     "end_time": "2024-07-17T09:08:22.695039Z",
     "start_time": "2024-07-17T09:08:21.590451Z"
    }
   },
   "outputs": [],
   "execution_count": 1
  },
  {
   "metadata": {
    "ExecuteTime": {
     "end_time": "2024-07-17T09:08:22.701307Z",
     "start_time": "2024-07-17T09:08:22.696345Z"
    }
   },
   "cell_type": "code",
   "source": [
    "with open('../../data/raw/dtype_to_embed.json') as f:\n",
    "    dtype_to_embed = json.load(f)\n",
    "\n",
    "names = dtype_to_embed['text'] + dtype_to_embed['behavior'] + dtype_to_embed['brain']\n",
    "name_combs = list(itertools.combinations(names, 2))\n",
    "len(name_combs)"
   ],
   "outputs": [
    {
     "data": {
      "text/plain": [
       "300"
      ]
     },
     "execution_count": 2,
     "metadata": {},
     "output_type": "execute_result"
    }
   ],
   "execution_count": 2
  },
  {
   "metadata": {
    "ExecuteTime": {
     "end_time": "2024-07-17T09:15:55.790973Z",
     "start_time": "2024-07-17T09:08:22.702185Z"
    }
   },
   "cell_type": "code",
   "source": [
    "# Function to process each file pair\n",
    "def process_file_pair(f_name_i, f_name_j, dir_path):\n",
    "    \n",
    "    # Load the RSMs\n",
    "    rsm_i = pd.read_pickle(dir_path + f_name_i)\n",
    "    rsm_j = pd.read_pickle(dir_path + f_name_j)\n",
    "\n",
    "    # Compute RSA\n",
    "    corr, n_words = compute_rsa(rsm_i, rsm_j, max_n=10000)\n",
    "    print(f\"spearman_r={corr}, n_words={n_words}\")\n",
    "    print('-------------------------------------------------')\n",
    "    \n",
    "    # Free memory by deleting the RSMs\n",
    "    del rsm_i, rsm_j\n",
    "    gc.collect()\n",
    "\n",
    "    return corr, n_words\n",
    "\n",
    "# Make the output directory\n",
    "rsm_dir_path = f'../../data/processed/rsms/'\n",
    "output_dir_path = '../../data/final/'\n",
    "if not os.path.exists(output_dir_path):\n",
    "    os.makedirs(output_dir_path)\n",
    "\n",
    "# Compute RSA in parallel\n",
    "rsa = []\n",
    "for name_i, name_j in tqdm(name_combs):\n",
    "    print(f\"{name_i, name_j}\")\n",
    "    spearman, n = process_file_pair(f'{name_i}.pkl', f'{name_j}.pkl', rsm_dir_path)\n",
    "    rsa.append([name_i, name_j, spearman, n])\n",
    "    \n",
    "# Save the results\n",
    "rsa_df = pd.DataFrame(rsa, columns=['name_i', 'name_j', 'spearman', 'n_words'])\n",
    "rsa_df.to_csv(f'../../data/final/rsa.csv', index=False)"
   ],
   "outputs": [
    {
     "data": {
      "text/plain": [
       "  0%|          | 0/300 [00:00<?, ?it/s]"
      ],
      "application/vnd.jupyter.widget-view+json": {
       "version_major": 2,
       "version_minor": 0,
       "model_id": "64e69d36b7794fb3b379bea5e18cd4fb"
      }
     },
     "metadata": {},
     "output_type": "display_data"
    },
    {
     "name": "stdout",
     "output_type": "stream",
     "text": [
      "('CBOW_GoogleNews', 'fastText_CommonCrawl')\n",
      "(42522, 42522)\n",
      "(44091, 44091)\n",
      "Reduced to 500 words\n",
      "Aligned RSMs\n",
      "Converted RSM i to numpy\n",
      "Converted RSM j to numpy\n",
      "Filled self-correlations with nan\n",
      "spearman_r=0.6291632236109945, n_words=42374\n",
      "-------------------------------------------------\n",
      "('CBOW_GoogleNews', 'fastText_Wiki_News')\n",
      "(42522, 42522)\n",
      "(42792, 42792)\n",
      "Reduced to 500 words\n",
      "Aligned RSMs\n",
      "Converted RSM i to numpy\n",
      "Converted RSM j to numpy\n",
      "Filled self-correlations with nan\n",
      "spearman_r=0.5432315493857449, n_words=41950\n",
      "-------------------------------------------------\n",
      "('CBOW_GoogleNews', 'fastTextSub_OpenSub')\n",
      "(42522, 42522)\n",
      "(40264, 40264)\n",
      "Reduced to 500 words\n",
      "Aligned RSMs\n",
      "Converted RSM i to numpy\n",
      "Converted RSM j to numpy\n",
      "Filled self-correlations with nan\n",
      "spearman_r=0.4631967657959426, n_words=39759\n",
      "-------------------------------------------------\n",
      "('CBOW_GoogleNews', 'GloVe_CommonCrawl')\n",
      "(42522, 42522)\n",
      "(43927, 43927)\n",
      "Reduced to 500 words\n"
     ]
    },
    {
     "ename": "KeyboardInterrupt",
     "evalue": "",
     "output_type": "error",
     "traceback": [
      "\u001B[0;31m---------------------------------------------------------------------------\u001B[0m",
      "\u001B[0;31mKeyboardInterrupt\u001B[0m                         Traceback (most recent call last)",
      "Cell \u001B[0;32mIn[3], line 34\u001B[0m\n\u001B[1;32m     32\u001B[0m rsa \u001B[38;5;241m=\u001B[39m []\n\u001B[1;32m     33\u001B[0m \u001B[38;5;28;01mfor\u001B[39;00m name_i, name_j \u001B[38;5;129;01min\u001B[39;00m tqdm(name_combs):\n\u001B[0;32m---> 34\u001B[0m     rsa\u001B[38;5;241m.\u001B[39mappend(\u001B[43mprocess_file_pair\u001B[49m\u001B[43m(\u001B[49m\u001B[43mname_i\u001B[49m\u001B[43m,\u001B[49m\u001B[43m \u001B[49m\u001B[43mname_j\u001B[49m\u001B[43m,\u001B[49m\u001B[43m \u001B[49m\u001B[43mrsm_dir_path\u001B[49m\u001B[43m)\u001B[49m)\n\u001B[1;32m     36\u001B[0m \u001B[38;5;66;03m# Save the results\u001B[39;00m\n\u001B[1;32m     37\u001B[0m rsa_df \u001B[38;5;241m=\u001B[39m pd\u001B[38;5;241m.\u001B[39mDataFrame(rsa, columns\u001B[38;5;241m=\u001B[39m[\u001B[38;5;124m'\u001B[39m\u001B[38;5;124mname_i\u001B[39m\u001B[38;5;124m'\u001B[39m, \u001B[38;5;124m'\u001B[39m\u001B[38;5;124mname_j\u001B[39m\u001B[38;5;124m'\u001B[39m, \u001B[38;5;124m'\u001B[39m\u001B[38;5;124mspearman\u001B[39m\u001B[38;5;124m'\u001B[39m, \u001B[38;5;124m'\u001B[39m\u001B[38;5;124mn_words\u001B[39m\u001B[38;5;124m'\u001B[39m])\n",
      "Cell \u001B[0;32mIn[3], line 12\u001B[0m, in \u001B[0;36mprocess_file_pair\u001B[0;34m(name_i, name_j, dir_path)\u001B[0m\n\u001B[1;32m      9\u001B[0m \u001B[38;5;28mprint\u001B[39m(rsm_j\u001B[38;5;241m.\u001B[39mshape)\n\u001B[1;32m     11\u001B[0m \u001B[38;5;66;03m# Compute RSA\u001B[39;00m\n\u001B[0;32m---> 12\u001B[0m corr, n_words \u001B[38;5;241m=\u001B[39m \u001B[43mcompute_rsa\u001B[49m\u001B[43m(\u001B[49m\u001B[43mrsm_i\u001B[49m\u001B[43m,\u001B[49m\u001B[43m \u001B[49m\u001B[43mrsm_j\u001B[49m\u001B[43m,\u001B[49m\u001B[43m \u001B[49m\u001B[43mmax_n\u001B[49m\u001B[38;5;241;43m=\u001B[39;49m\u001B[38;5;241;43m500\u001B[39;49m\u001B[43m)\u001B[49m\n\u001B[1;32m     14\u001B[0m \u001B[38;5;66;03m# Extract names\u001B[39;00m\n\u001B[1;32m     15\u001B[0m name_i, name_j \u001B[38;5;241m=\u001B[39m name_i[:\u001B[38;5;241m-\u001B[39m\u001B[38;5;241m4\u001B[39m], name_j[:\u001B[38;5;241m-\u001B[39m\u001B[38;5;241m4\u001B[39m]\n",
      "File \u001B[0;32m~/Documents/PycharmProjects/psychProbing/code/rsa/rsa.py:50\u001B[0m, in \u001B[0;36mcompute_rsa\u001B[0;34m(rsm_i, rsm_j, max_n)\u001B[0m\n\u001B[1;32m     48\u001B[0m     intersect \u001B[38;5;241m=\u001B[39m pd\u001B[38;5;241m.\u001B[39mSeries(intersect)\u001B[38;5;241m.\u001B[39msample(max_n)\n\u001B[1;32m     49\u001B[0m     \u001B[38;5;28mprint\u001B[39m(\u001B[38;5;124mf\u001B[39m\u001B[38;5;124m\"\u001B[39m\u001B[38;5;124mReduced to \u001B[39m\u001B[38;5;132;01m{\u001B[39;00mmax_n\u001B[38;5;132;01m}\u001B[39;00m\u001B[38;5;124m words\u001B[39m\u001B[38;5;124m\"\u001B[39m)\n\u001B[0;32m---> 50\u001B[0m rsm_i \u001B[38;5;241m=\u001B[39m \u001B[43mrsm_i\u001B[49m\u001B[38;5;241;43m.\u001B[39;49m\u001B[43mloc\u001B[49m\u001B[43m[\u001B[49m\u001B[43mintersect\u001B[49m\u001B[43m,\u001B[49m\u001B[43m \u001B[49m\u001B[43mintersect\u001B[49m\u001B[43m]\u001B[49m\n\u001B[1;32m     51\u001B[0m rsm_j \u001B[38;5;241m=\u001B[39m rsm_j\u001B[38;5;241m.\u001B[39mloc[intersect, intersect]\n\u001B[1;32m     52\u001B[0m \u001B[38;5;28mprint\u001B[39m(\u001B[38;5;124m'\u001B[39m\u001B[38;5;124mAligned RSMs\u001B[39m\u001B[38;5;124m'\u001B[39m)\n",
      "File \u001B[0;32m~/opt/anaconda3/envs/PsychEmbeddings/lib/python3.10/site-packages/pandas/core/indexing.py:1067\u001B[0m, in \u001B[0;36m_LocationIndexer.__getitem__\u001B[0;34m(self, key)\u001B[0m\n\u001B[1;32m   1065\u001B[0m     \u001B[38;5;28;01mif\u001B[39;00m \u001B[38;5;28mself\u001B[39m\u001B[38;5;241m.\u001B[39m_is_scalar_access(key):\n\u001B[1;32m   1066\u001B[0m         \u001B[38;5;28;01mreturn\u001B[39;00m \u001B[38;5;28mself\u001B[39m\u001B[38;5;241m.\u001B[39mobj\u001B[38;5;241m.\u001B[39m_get_value(\u001B[38;5;241m*\u001B[39mkey, takeable\u001B[38;5;241m=\u001B[39m\u001B[38;5;28mself\u001B[39m\u001B[38;5;241m.\u001B[39m_takeable)\n\u001B[0;32m-> 1067\u001B[0m     \u001B[38;5;28;01mreturn\u001B[39;00m \u001B[38;5;28;43mself\u001B[39;49m\u001B[38;5;241;43m.\u001B[39;49m\u001B[43m_getitem_tuple\u001B[49m\u001B[43m(\u001B[49m\u001B[43mkey\u001B[49m\u001B[43m)\u001B[49m\n\u001B[1;32m   1068\u001B[0m \u001B[38;5;28;01melse\u001B[39;00m:\n\u001B[1;32m   1069\u001B[0m     \u001B[38;5;66;03m# we by definition only have the 0th axis\u001B[39;00m\n\u001B[1;32m   1070\u001B[0m     axis \u001B[38;5;241m=\u001B[39m \u001B[38;5;28mself\u001B[39m\u001B[38;5;241m.\u001B[39maxis \u001B[38;5;129;01mor\u001B[39;00m \u001B[38;5;241m0\u001B[39m\n",
      "File \u001B[0;32m~/opt/anaconda3/envs/PsychEmbeddings/lib/python3.10/site-packages/pandas/core/indexing.py:1254\u001B[0m, in \u001B[0;36m_LocIndexer._getitem_tuple\u001B[0;34m(self, tup)\u001B[0m\n\u001B[1;32m   1252\u001B[0m \u001B[38;5;66;03m# ugly hack for GH #836\u001B[39;00m\n\u001B[1;32m   1253\u001B[0m \u001B[38;5;28;01mif\u001B[39;00m \u001B[38;5;28mself\u001B[39m\u001B[38;5;241m.\u001B[39m_multi_take_opportunity(tup):\n\u001B[0;32m-> 1254\u001B[0m     \u001B[38;5;28;01mreturn\u001B[39;00m \u001B[38;5;28;43mself\u001B[39;49m\u001B[38;5;241;43m.\u001B[39;49m\u001B[43m_multi_take\u001B[49m\u001B[43m(\u001B[49m\u001B[43mtup\u001B[49m\u001B[43m)\u001B[49m\n\u001B[1;32m   1256\u001B[0m \u001B[38;5;28;01mreturn\u001B[39;00m \u001B[38;5;28mself\u001B[39m\u001B[38;5;241m.\u001B[39m_getitem_tuple_same_dim(tup)\n",
      "File \u001B[0;32m~/opt/anaconda3/envs/PsychEmbeddings/lib/python3.10/site-packages/pandas/core/indexing.py:1209\u001B[0m, in \u001B[0;36m_LocIndexer._multi_take\u001B[0;34m(self, tup)\u001B[0m\n\u001B[1;32m   1204\u001B[0m \u001B[38;5;66;03m# GH 836\u001B[39;00m\n\u001B[1;32m   1205\u001B[0m d \u001B[38;5;241m=\u001B[39m {\n\u001B[1;32m   1206\u001B[0m     axis: \u001B[38;5;28mself\u001B[39m\u001B[38;5;241m.\u001B[39m_get_listlike_indexer(key, axis)\n\u001B[1;32m   1207\u001B[0m     \u001B[38;5;28;01mfor\u001B[39;00m (key, axis) \u001B[38;5;129;01min\u001B[39;00m \u001B[38;5;28mzip\u001B[39m(tup, \u001B[38;5;28mself\u001B[39m\u001B[38;5;241m.\u001B[39mobj\u001B[38;5;241m.\u001B[39m_AXIS_ORDERS)\n\u001B[1;32m   1208\u001B[0m }\n\u001B[0;32m-> 1209\u001B[0m \u001B[38;5;28;01mreturn\u001B[39;00m \u001B[38;5;28;43mself\u001B[39;49m\u001B[38;5;241;43m.\u001B[39;49m\u001B[43mobj\u001B[49m\u001B[38;5;241;43m.\u001B[39;49m\u001B[43m_reindex_with_indexers\u001B[49m\u001B[43m(\u001B[49m\u001B[43md\u001B[49m\u001B[43m,\u001B[49m\u001B[43m \u001B[49m\u001B[43mcopy\u001B[49m\u001B[38;5;241;43m=\u001B[39;49m\u001B[38;5;28;43;01mTrue\u001B[39;49;00m\u001B[43m,\u001B[49m\u001B[43m \u001B[49m\u001B[43mallow_dups\u001B[49m\u001B[38;5;241;43m=\u001B[39;49m\u001B[38;5;28;43;01mTrue\u001B[39;49;00m\u001B[43m)\u001B[49m\n",
      "File \u001B[0;32m~/opt/anaconda3/envs/PsychEmbeddings/lib/python3.10/site-packages/pandas/core/generic.py:5355\u001B[0m, in \u001B[0;36mNDFrame._reindex_with_indexers\u001B[0;34m(self, reindexers, fill_value, copy, allow_dups)\u001B[0m\n\u001B[1;32m   5352\u001B[0m     indexer \u001B[38;5;241m=\u001B[39m ensure_platform_int(indexer)\n\u001B[1;32m   5354\u001B[0m \u001B[38;5;66;03m# TODO: speed up on homogeneous DataFrame objects (see _reindex_multi)\u001B[39;00m\n\u001B[0;32m-> 5355\u001B[0m new_data \u001B[38;5;241m=\u001B[39m \u001B[43mnew_data\u001B[49m\u001B[38;5;241;43m.\u001B[39;49m\u001B[43mreindex_indexer\u001B[49m\u001B[43m(\u001B[49m\n\u001B[1;32m   5356\u001B[0m \u001B[43m    \u001B[49m\u001B[43mindex\u001B[49m\u001B[43m,\u001B[49m\n\u001B[1;32m   5357\u001B[0m \u001B[43m    \u001B[49m\u001B[43mindexer\u001B[49m\u001B[43m,\u001B[49m\n\u001B[1;32m   5358\u001B[0m \u001B[43m    \u001B[49m\u001B[43maxis\u001B[49m\u001B[38;5;241;43m=\u001B[39;49m\u001B[43mbaxis\u001B[49m\u001B[43m,\u001B[49m\n\u001B[1;32m   5359\u001B[0m \u001B[43m    \u001B[49m\u001B[43mfill_value\u001B[49m\u001B[38;5;241;43m=\u001B[39;49m\u001B[43mfill_value\u001B[49m\u001B[43m,\u001B[49m\n\u001B[1;32m   5360\u001B[0m \u001B[43m    \u001B[49m\u001B[43mallow_dups\u001B[49m\u001B[38;5;241;43m=\u001B[39;49m\u001B[43mallow_dups\u001B[49m\u001B[43m,\u001B[49m\n\u001B[1;32m   5361\u001B[0m \u001B[43m    \u001B[49m\u001B[43mcopy\u001B[49m\u001B[38;5;241;43m=\u001B[39;49m\u001B[43mcopy\u001B[49m\u001B[43m,\u001B[49m\n\u001B[1;32m   5362\u001B[0m \u001B[43m\u001B[49m\u001B[43m)\u001B[49m\n\u001B[1;32m   5363\u001B[0m \u001B[38;5;66;03m# If we've made a copy once, no need to make another one\u001B[39;00m\n\u001B[1;32m   5364\u001B[0m copy \u001B[38;5;241m=\u001B[39m \u001B[38;5;28;01mFalse\u001B[39;00m\n",
      "File \u001B[0;32m~/opt/anaconda3/envs/PsychEmbeddings/lib/python3.10/site-packages/pandas/core/internals/managers.py:735\u001B[0m, in \u001B[0;36mBaseBlockManager.reindex_indexer\u001B[0;34m(self, new_axis, indexer, axis, fill_value, allow_dups, copy, only_slice, use_na_proxy)\u001B[0m\n\u001B[1;32m    732\u001B[0m     \u001B[38;5;28;01mraise\u001B[39;00m \u001B[38;5;167;01mIndexError\u001B[39;00m(\u001B[38;5;124m\"\u001B[39m\u001B[38;5;124mRequested axis not found in manager\u001B[39m\u001B[38;5;124m\"\u001B[39m)\n\u001B[1;32m    734\u001B[0m \u001B[38;5;28;01mif\u001B[39;00m axis \u001B[38;5;241m==\u001B[39m \u001B[38;5;241m0\u001B[39m:\n\u001B[0;32m--> 735\u001B[0m     new_blocks, new_refs \u001B[38;5;241m=\u001B[39m \u001B[38;5;28;43mself\u001B[39;49m\u001B[38;5;241;43m.\u001B[39;49m\u001B[43m_slice_take_blocks_ax0\u001B[49m\u001B[43m(\u001B[49m\n\u001B[1;32m    736\u001B[0m \u001B[43m        \u001B[49m\u001B[43mindexer\u001B[49m\u001B[43m,\u001B[49m\n\u001B[1;32m    737\u001B[0m \u001B[43m        \u001B[49m\u001B[43mfill_value\u001B[49m\u001B[38;5;241;43m=\u001B[39;49m\u001B[43mfill_value\u001B[49m\u001B[43m,\u001B[49m\n\u001B[1;32m    738\u001B[0m \u001B[43m        \u001B[49m\u001B[43monly_slice\u001B[49m\u001B[38;5;241;43m=\u001B[39;49m\u001B[43monly_slice\u001B[49m\u001B[43m,\u001B[49m\n\u001B[1;32m    739\u001B[0m \u001B[43m        \u001B[49m\u001B[43muse_na_proxy\u001B[49m\u001B[38;5;241;43m=\u001B[39;49m\u001B[43muse_na_proxy\u001B[49m\u001B[43m,\u001B[49m\n\u001B[1;32m    740\u001B[0m \u001B[43m    \u001B[49m\u001B[43m)\u001B[49m\n\u001B[1;32m    741\u001B[0m \u001B[38;5;28;01melse\u001B[39;00m:\n\u001B[1;32m    742\u001B[0m     new_blocks \u001B[38;5;241m=\u001B[39m [\n\u001B[1;32m    743\u001B[0m         blk\u001B[38;5;241m.\u001B[39mtake_nd(\n\u001B[1;32m    744\u001B[0m             indexer,\n\u001B[0;32m   (...)\u001B[0m\n\u001B[1;32m    750\u001B[0m         \u001B[38;5;28;01mfor\u001B[39;00m blk \u001B[38;5;129;01min\u001B[39;00m \u001B[38;5;28mself\u001B[39m\u001B[38;5;241m.\u001B[39mblocks\n\u001B[1;32m    751\u001B[0m     ]\n",
      "File \u001B[0;32m~/opt/anaconda3/envs/PsychEmbeddings/lib/python3.10/site-packages/pandas/core/internals/managers.py:902\u001B[0m, in \u001B[0;36mBaseBlockManager._slice_take_blocks_ax0\u001B[0;34m(self, slice_or_indexer, fill_value, only_slice, use_na_proxy)\u001B[0m\n\u001B[1;32m    900\u001B[0m         refs\u001B[38;5;241m.\u001B[39mappend(weakref\u001B[38;5;241m.\u001B[39mref(blk))\n\u001B[1;32m    901\u001B[0m \u001B[38;5;28;01melse\u001B[39;00m:\n\u001B[0;32m--> 902\u001B[0m     nb \u001B[38;5;241m=\u001B[39m \u001B[43mblk\u001B[49m\u001B[38;5;241;43m.\u001B[39;49m\u001B[43mtake_nd\u001B[49m\u001B[43m(\u001B[49m\u001B[43mtaker\u001B[49m\u001B[43m,\u001B[49m\u001B[43m \u001B[49m\u001B[43maxis\u001B[49m\u001B[38;5;241;43m=\u001B[39;49m\u001B[38;5;241;43m0\u001B[39;49m\u001B[43m,\u001B[49m\u001B[43m \u001B[49m\u001B[43mnew_mgr_locs\u001B[49m\u001B[38;5;241;43m=\u001B[39;49m\u001B[43mmgr_locs\u001B[49m\u001B[43m)\u001B[49m\n\u001B[1;32m    903\u001B[0m     blocks\u001B[38;5;241m.\u001B[39mappend(nb)\n\u001B[1;32m    904\u001B[0m     refs\u001B[38;5;241m.\u001B[39mappend(\u001B[38;5;28;01mNone\u001B[39;00m)\n",
      "File \u001B[0;32m~/opt/anaconda3/envs/PsychEmbeddings/lib/python3.10/site-packages/pandas/core/internals/blocks.py:878\u001B[0m, in \u001B[0;36mBlock.take_nd\u001B[0;34m(self, indexer, axis, new_mgr_locs, fill_value)\u001B[0m\n\u001B[1;32m    875\u001B[0m     allow_fill \u001B[38;5;241m=\u001B[39m \u001B[38;5;28;01mTrue\u001B[39;00m\n\u001B[1;32m    877\u001B[0m \u001B[38;5;66;03m# Note: algos.take_nd has upcast logic similar to coerce_to_target_dtype\u001B[39;00m\n\u001B[0;32m--> 878\u001B[0m new_values \u001B[38;5;241m=\u001B[39m \u001B[43malgos\u001B[49m\u001B[38;5;241;43m.\u001B[39;49m\u001B[43mtake_nd\u001B[49m\u001B[43m(\u001B[49m\n\u001B[1;32m    879\u001B[0m \u001B[43m    \u001B[49m\u001B[43mvalues\u001B[49m\u001B[43m,\u001B[49m\u001B[43m \u001B[49m\u001B[43mindexer\u001B[49m\u001B[43m,\u001B[49m\u001B[43m \u001B[49m\u001B[43maxis\u001B[49m\u001B[38;5;241;43m=\u001B[39;49m\u001B[43maxis\u001B[49m\u001B[43m,\u001B[49m\u001B[43m \u001B[49m\u001B[43mallow_fill\u001B[49m\u001B[38;5;241;43m=\u001B[39;49m\u001B[43mallow_fill\u001B[49m\u001B[43m,\u001B[49m\u001B[43m \u001B[49m\u001B[43mfill_value\u001B[49m\u001B[38;5;241;43m=\u001B[39;49m\u001B[43mfill_value\u001B[49m\n\u001B[1;32m    880\u001B[0m \u001B[43m\u001B[49m\u001B[43m)\u001B[49m\n\u001B[1;32m    882\u001B[0m \u001B[38;5;66;03m# Called from three places in managers, all of which satisfy\u001B[39;00m\n\u001B[1;32m    883\u001B[0m \u001B[38;5;66;03m#  this assertion\u001B[39;00m\n\u001B[1;32m    884\u001B[0m \u001B[38;5;28;01massert\u001B[39;00m \u001B[38;5;129;01mnot\u001B[39;00m (axis \u001B[38;5;241m==\u001B[39m \u001B[38;5;241m0\u001B[39m \u001B[38;5;129;01mand\u001B[39;00m new_mgr_locs \u001B[38;5;129;01mis\u001B[39;00m \u001B[38;5;28;01mNone\u001B[39;00m)\n",
      "File \u001B[0;32m~/opt/anaconda3/envs/PsychEmbeddings/lib/python3.10/site-packages/pandas/core/array_algos/take.py:117\u001B[0m, in \u001B[0;36mtake_nd\u001B[0;34m(arr, indexer, axis, fill_value, allow_fill)\u001B[0m\n\u001B[1;32m    114\u001B[0m     \u001B[38;5;28;01mreturn\u001B[39;00m arr\u001B[38;5;241m.\u001B[39mtake(indexer, fill_value\u001B[38;5;241m=\u001B[39mfill_value, allow_fill\u001B[38;5;241m=\u001B[39mallow_fill)\n\u001B[1;32m    116\u001B[0m arr \u001B[38;5;241m=\u001B[39m np\u001B[38;5;241m.\u001B[39masarray(arr)\n\u001B[0;32m--> 117\u001B[0m \u001B[38;5;28;01mreturn\u001B[39;00m \u001B[43m_take_nd_ndarray\u001B[49m\u001B[43m(\u001B[49m\u001B[43marr\u001B[49m\u001B[43m,\u001B[49m\u001B[43m \u001B[49m\u001B[43mindexer\u001B[49m\u001B[43m,\u001B[49m\u001B[43m \u001B[49m\u001B[43maxis\u001B[49m\u001B[43m,\u001B[49m\u001B[43m \u001B[49m\u001B[43mfill_value\u001B[49m\u001B[43m,\u001B[49m\u001B[43m \u001B[49m\u001B[43mallow_fill\u001B[49m\u001B[43m)\u001B[49m\n",
      "File \u001B[0;32m~/opt/anaconda3/envs/PsychEmbeddings/lib/python3.10/site-packages/pandas/core/array_algos/take.py:163\u001B[0m, in \u001B[0;36m_take_nd_ndarray\u001B[0;34m(arr, indexer, axis, fill_value, allow_fill)\u001B[0m\n\u001B[1;32m    158\u001B[0m     out \u001B[38;5;241m=\u001B[39m np\u001B[38;5;241m.\u001B[39mempty(out_shape, dtype\u001B[38;5;241m=\u001B[39mdtype)\n\u001B[1;32m    160\u001B[0m func \u001B[38;5;241m=\u001B[39m _get_take_nd_function(\n\u001B[1;32m    161\u001B[0m     arr\u001B[38;5;241m.\u001B[39mndim, arr\u001B[38;5;241m.\u001B[39mdtype, out\u001B[38;5;241m.\u001B[39mdtype, axis\u001B[38;5;241m=\u001B[39maxis, mask_info\u001B[38;5;241m=\u001B[39mmask_info\n\u001B[1;32m    162\u001B[0m )\n\u001B[0;32m--> 163\u001B[0m \u001B[43mfunc\u001B[49m\u001B[43m(\u001B[49m\u001B[43marr\u001B[49m\u001B[43m,\u001B[49m\u001B[43m \u001B[49m\u001B[43mindexer\u001B[49m\u001B[43m,\u001B[49m\u001B[43m \u001B[49m\u001B[43mout\u001B[49m\u001B[43m,\u001B[49m\u001B[43m \u001B[49m\u001B[43mfill_value\u001B[49m\u001B[43m)\u001B[49m\n\u001B[1;32m    165\u001B[0m \u001B[38;5;28;01mif\u001B[39;00m flip_order:\n\u001B[1;32m    166\u001B[0m     out \u001B[38;5;241m=\u001B[39m out\u001B[38;5;241m.\u001B[39mT\n",
      "\u001B[0;31mKeyboardInterrupt\u001B[0m: "
     ]
    }
   ],
   "execution_count": 3
  }
 ],
 "metadata": {
  "kernelspec": {
   "display_name": "Python 3",
   "language": "python",
   "name": "python3"
  },
  "language_info": {
   "codemirror_mode": {
    "name": "ipython",
    "version": 2
   },
   "file_extension": ".py",
   "mimetype": "text/x-python",
   "name": "python",
   "nbconvert_exporter": "python",
   "pygments_lexer": "ipython2",
   "version": "2.7.6"
  }
 },
 "nbformat": 4,
 "nbformat_minor": 0
}
