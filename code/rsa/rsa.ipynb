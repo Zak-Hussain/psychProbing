{
 "cells": [
  {
   "cell_type": "code",
   "source": [
    "import pandas as pd\n",
    "from tqdm.notebook import tqdm_notebook as tqdm\n",
    "import os\n",
    "import itertools\n",
    "from rsa import compute_rsa"
   ],
   "metadata": {
    "collapsed": false,
    "ExecuteTime": {
     "end_time": "2024-07-05T14:41:11.306349Z",
     "start_time": "2024-07-05T14:41:10.521442Z"
    }
   },
   "outputs": [],
   "execution_count": 2
  },
  {
   "cell_type": "code",
   "source": [
    "# Generating Pairwise Combinations Between Embeddings\n",
    "dir_path = f'../../data/processed/rsms/'\n",
    "file_names = os.listdir(dir_path)\n",
    "file_pair_combs = list(itertools.combinations(file_names, 2))\n",
    "len(file_pair_combs)"
   ],
   "metadata": {
    "collapsed": false,
    "ExecuteTime": {
     "end_time": "2024-07-05T14:41:11.312281Z",
     "start_time": "2024-07-05T14:41:11.307639Z"
    }
   },
   "outputs": [
    {
     "data": {
      "text/plain": [
       "300"
      ]
     },
     "execution_count": 3,
     "metadata": {},
     "output_type": "execute_result"
    }
   ],
   "execution_count": 3
  },
  {
   "cell_type": "code",
   "metadata": {
    "collapsed": true,
    "ExecuteTime": {
     "end_time": "2024-07-05T14:41:43.433507Z",
     "start_time": "2024-07-05T14:41:12.261175Z"
    }
   },
   "source": [
    "# Make the output directory\n",
    "output_dir = '../../data/final/'\n",
    "if not os.path.exists(output_dir):\n",
    "    os.makedirs(output_dir)\n",
    "\n",
    "# Compute RSA\n",
    "rsa = []\n",
    "for file_name_i, file_name_j in tqdm(file_pair_combs):\n",
    "    print(f\"{file_name_i, file_name_j}\")\n",
    "\n",
    "    # Load the RSMs\n",
    "    rsm_i = pd.read_pickle(dir_path + file_name_i)\n",
    "    rsm_j = pd.read_pickle(dir_path + file_name_j)\n",
    "\n",
    "    # Compute RSA\n",
    "    corr, n_words = compute_rsa(rsm_i, rsm_j)\n",
    "\n",
    "    # Save the results\n",
    "    name_i, name_j = file_name_i[:-4], file_name_j[:-4]\n",
    "    print(f\"spearman_r={corr}, n_words={n_words}\")\n",
    "    print('-------------------------------------------------')\n",
    "    rsa.append([name_i, name_j, corr, n_words])\n",
    "\n",
    "rsa = pd.DataFrame(rsa, columns=['name_i', 'name_j', 'spearman_local', 'n_words'])\n",
    "rsa.to_csv(f'../../data/final/rsa.csv', index=False)\n",
    "rsa"
   ],
   "outputs": [
    {
     "data": {
      "text/plain": [
       "  0%|          | 0/300 [00:00<?, ?it/s]"
      ],
      "application/vnd.jupyter.widget-view+json": {
       "version_major": 2,
       "version_minor": 0,
       "model_id": "94c1ae1d56f547108fb41955b77d108c"
      }
     },
     "metadata": {},
     "output_type": "display_data"
    },
    {
     "name": "stdout",
     "output_type": "stream",
     "text": [
      "('eye_tracking.pkl', 'tungsten_microarray.pkl', 417)\n",
      "spearman_r=0.045883265795570664\n",
      "-------------------------------------------------\n",
      "('SVD_sim_rel.pkl', 'tungsten_microarray.pkl', 276)\n",
      "spearman_r=0.01239717804845534\n",
      "-------------------------------------------------\n",
      "('SGSoftMaxInput_SWOW.pkl', 'tungsten_microarray.pkl', 490)\n",
      "spearman_r=0.04599839479414725\n",
      "-------------------------------------------------\n",
      "('PPMI_SVD_EAT.pkl', 'tungsten_microarray.pkl', 452)\n",
      "spearman_r=0.06099406580786208\n",
      "-------------------------------------------------\n",
      "('fastText_Wiki_News.pkl', 'tungsten_microarray.pkl', 602)\n",
      "spearman_r=0.12373625620001892\n",
      "-------------------------------------------------\n",
      "('fastTextSub_OpenSub.pkl', 'tungsten_microarray.pkl', 590)\n",
      "spearman_r=0.062156204375732875\n",
      "-------------------------------------------------\n",
      "('feature_overlap.pkl', 'tungsten_microarray.pkl', 346)\n",
      "spearman_r=0.16556617350367817\n",
      "-------------------------------------------------\n",
      "('SGSoftMaxOutput_SWOW.pkl', 'tungsten_microarray.pkl', 559)\n",
      "spearman_r=-0.08842637347758575\n",
      "-------------------------------------------------\n",
      "('PPMI_SVD_SWOW.pkl', 'tungsten_microarray.pkl', 490)\n",
      "spearman_r=0.0684520613355284\n",
      "-------------------------------------------------\n",
      "('GloVe_Twitter.pkl', 'tungsten_microarray.pkl', 602)\n",
      "spearman_r=0.24678970355642751\n",
      "-------------------------------------------------\n",
      "('GloVe_Wikipedia.pkl', 'tungsten_microarray.pkl', 602)\n",
      "spearman_r=0.20276903374526786\n",
      "-------------------------------------------------\n",
      "('GloVe_CommonCrawl.pkl', 'tungsten_microarray.pkl', 599)\n",
      "spearman_r=0.18410111753426484\n",
      "-------------------------------------------------\n",
      "('tungsten_microarray.pkl', 'fMRI_speech_hyper_align.pkl', 138)\n",
      "spearman_r=0.048056266082267415\n",
      "-------------------------------------------------\n",
      "('tungsten_microarray.pkl', 'PPMI_SVD_SOUTH_FLORIDA.pkl', 380)\n",
      "spearman_r=0.010033027130820535\n",
      "-------------------------------------------------\n",
      "('tungsten_microarray.pkl', 'THINGS.pkl', 100)\n",
      "spearman_r=0.033765665761524136\n",
      "-------------------------------------------------\n",
      "('tungsten_microarray.pkl', 'CBOW_GoogleNews.pkl', 601)\n",
      "spearman_r=0.10631585628743323\n",
      "-------------------------------------------------\n",
      "('tungsten_microarray.pkl', 'EEG_speech.pkl', 245)\n",
      "spearman_r=0.11528178884893266\n",
      "-------------------------------------------------\n",
      "('tungsten_microarray.pkl', 'morphoNLM.pkl', 596)\n",
      "spearman_r=-0.02470249739531563\n",
      "-------------------------------------------------\n",
      "('tungsten_microarray.pkl', 'fMRI_text_hyper_align.pkl', 207)\n",
      "spearman_r=0.13097005288443417\n",
      "-------------------------------------------------\n",
      "('tungsten_microarray.pkl', 'norms_sensorimotor.pkl', 490)\n",
      "spearman_r=0.07712131060185892\n",
      "-------------------------------------------------\n",
      "('tungsten_microarray.pkl', 'EEG_text.pkl', 266)\n",
      "spearman_r=0.11580664061135851\n",
      "-------------------------------------------------\n",
      "('tungsten_microarray.pkl', 'LexVec_CommonCrawl.pkl', 602)\n",
      "spearman_r=0.10928618206382573\n",
      "-------------------------------------------------\n",
      "('tungsten_microarray.pkl', 'fastText_CommonCrawl.pkl', 602)\n",
      "spearman_r=0.07487901271298729\n",
      "-------------------------------------------------\n",
      "('tungsten_microarray.pkl', 'spherical_text_Wikipedia.pkl', 599)\n",
      "spearman_r=0.1334662442443787\n",
      "-------------------------------------------------\n"
     ]
    }
   ],
   "execution_count": 4
  }
 ],
 "metadata": {
  "kernelspec": {
   "display_name": "Python 3",
   "language": "python",
   "name": "python3"
  },
  "language_info": {
   "codemirror_mode": {
    "name": "ipython",
    "version": 2
   },
   "file_extension": ".py",
   "mimetype": "text/x-python",
   "name": "python",
   "nbconvert_exporter": "python",
   "pygments_lexer": "ipython2",
   "version": "2.7.6"
  }
 },
 "nbformat": 4,
 "nbformat_minor": 0
}
