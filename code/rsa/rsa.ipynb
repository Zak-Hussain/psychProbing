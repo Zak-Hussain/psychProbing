{
 "cells": [
  {
   "cell_type": "code",
   "source": [
    "import pandas as pd\n",
    "from tqdm.notebook import tqdm_notebook as tqdm\n",
    "import os\n",
    "import itertools\n",
    "from rsa import compute_rsa\n",
    "from joblib import Parallel, delayed\n",
    "import gc\n",
    "import json\n",
    "import numpy as np"
   ],
   "metadata": {
    "collapsed": false,
    "ExecuteTime": {
     "end_time": "2024-07-17T09:08:22.695039Z",
     "start_time": "2024-07-17T09:08:21.590451Z"
    }
   },
   "outputs": [],
   "execution_count": 1
  },
  {
   "metadata": {
    "ExecuteTime": {
     "end_time": "2024-07-17T09:08:22.701307Z",
     "start_time": "2024-07-17T09:08:22.696345Z"
    }
   },
   "cell_type": "code",
   "source": [
    "with open('../../data/raw/dtype_to_embed.json') as f:\n",
    "    dtype_to_embed = json.load(f)\n",
    "\n",
    "names = dtype_to_embed['text'] + dtype_to_embed['behavior'] + dtype_to_embed['brain']\n",
    "name_combs = list(itertools.combinations(names, 2))\n",
    "len(name_combs)"
   ],
   "outputs": [
    {
     "data": {
      "text/plain": "300"
     },
     "execution_count": 2,
     "metadata": {},
     "output_type": "execute_result"
    }
   ],
   "execution_count": 2
  },
  {
   "metadata": {
    "ExecuteTime": {
     "end_time": "2024-07-17T09:15:55.790973Z",
     "start_time": "2024-07-17T09:08:22.702185Z"
    },
    "pycharm": {
     "is_executing": true
    }
   },
   "cell_type": "code",
   "source": [
    "# Function to process each file pair\n",
    "def process_file_pair(name_i, name_j, dir_path):\n",
    "    print(f\"{name_i, name_j}\")\n",
    "\n",
    "    # Load the RSMs\n",
    "    rsm_i = pd.read_pickle(dir_path + name_i + '.pkl')\n",
    "    print(rsm_i.shape)\n",
    "    rsm_j = pd.read_pickle(dir_path + name_j + '.pkl')\n",
    "    print(rsm_j.shape)\n",
    "\n",
    "    # Compute RSA\n",
    "    corr, n_words = compute_rsa(rsm_i, rsm_j, max_n=10000)\n",
    "\n",
    "    # Extract names\n",
    "    name_i, name_j = name_i[:-4], name_j[:-4]\n",
    "    print(f\"spearman_r={corr}, n_words={n_words}\")\n",
    "    print('-------------------------------------------------')\n",
    "    \n",
    "    # Free memory by deleting the RSMs\n",
    "    del rsm_i, rsm_j\n",
    "    gc.collect()\n",
    "\n",
    "    return [name_i, name_j, corr, n_words]\n",
    "\n",
    "# Make the output directory\n",
    "rsm_dir_path = f'../../data/processed/rsms/'\n",
    "output_dir_path = '../../data/final/'\n",
    "if not os.path.exists(output_dir_path):\n",
    "    os.makedirs(output_dir_path)\n",
    "\n",
    "# Compute RSA in parallel\n",
    "rsa = []\n",
    "for name_i, name_j in tqdm(name_combs):\n",
    "    rsa.append(process_file_pair(name_i, name_j, rsm_dir_path))\n",
    "    \n",
    "# Save the results\n",
    "rsa_df = pd.DataFrame(rsa, columns=['name_i', 'name_j', 'spearman', 'n_words'])\n",
    "rsa_df.to_csv(f'../../data/final/rsa.csv', index=False)"
   ],
   "outputs": [
    {
     "data": {
      "text/plain": "  0%|          | 0/300 [00:00<?, ?it/s]",
      "application/vnd.jupyter.widget-view+json": {
       "version_major": 2,
       "version_minor": 0,
       "model_id": "ec52619ce9094bbcb49c845758590484"
      }
     },
     "metadata": {},
     "output_type": "display_data"
    },
    {
     "name": "stdout",
     "output_type": "stream",
     "text": [
      "('CBOW_GoogleNews', 'fastText_CommonCrawl')\n",
      "(42522, 42522)\n",
      "(44091, 44091)\n",
      "Filled self-correlations with nan\n",
      "spearman_r=0.6342034857810949, n_words=42374\n",
      "-------------------------------------------------\n",
      "('CBOW_GoogleNews', 'fastText_Wiki_News')\n",
      "(42522, 42522)\n"
     ]
    }
   ],
   "execution_count": null
  }
 ],
 "metadata": {
  "kernelspec": {
   "display_name": "Python 3",
   "language": "python",
   "name": "python3"
  },
  "language_info": {
   "codemirror_mode": {
    "name": "ipython",
    "version": 2
   },
   "file_extension": ".py",
   "mimetype": "text/x-python",
   "name": "python",
   "nbconvert_exporter": "python",
   "pygments_lexer": "ipython2",
   "version": "2.7.6"
  }
 },
 "nbformat": 4,
 "nbformat_minor": 0
}
