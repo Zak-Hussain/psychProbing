{
 "cells": [
  {
   "cell_type": "code",
   "source": [
    "import pandas as pd\n",
    "from tqdm.notebook import tqdm_notebook as tqdm\n",
    "import os\n",
    "import itertools\n",
    "from rsa import compute_rsa\n",
    "import gc\n",
    "import json"
   ],
   "metadata": {
    "collapsed": false,
    "ExecuteTime": {
     "end_time": "2024-07-17T10:04:17.519246Z",
     "start_time": "2024-07-17T10:04:16.377659Z"
    }
   },
   "outputs": [],
   "execution_count": 1
  },
  {
   "metadata": {
    "ExecuteTime": {
     "end_time": "2024-07-17T10:04:17.526153Z",
     "start_time": "2024-07-17T10:04:17.520701Z"
    }
   },
   "cell_type": "code",
   "source": [
    "with open('../../data/raw/dtype_to_embed.json') as f:\n",
    "    dtype_to_embed = json.load(f)\n",
    "\n",
    "names = dtype_to_embed['text'] + dtype_to_embed['behavior'] + dtype_to_embed['brain']\n",
    "name_combs = list(itertools.combinations(names, 2))\n",
    "len(name_combs)"
   ],
   "outputs": [
    {
     "data": {
      "text/plain": [
       "300"
      ]
     },
     "execution_count": 2,
     "metadata": {},
     "output_type": "execute_result"
    }
   ],
   "execution_count": 2
  },
  {
   "metadata": {
    "jupyter": {
     "is_executing": true
    },
    "ExecuteTime": {
     "start_time": "2024-07-17T10:04:17.526939Z"
    }
   },
   "cell_type": "code",
   "source": [
    "# Function to process each file pair\n",
    "def process_file_pair(f_name_i, f_name_j, dir_path):\n",
    "    \n",
    "    # Load the RSMs\n",
    "    rsm_i = pd.read_pickle(dir_path + f_name_i)\n",
    "    rsm_j = pd.read_pickle(dir_path + f_name_j)\n",
    "\n",
    "    # Compute RSA\n",
    "    corr, n_words = compute_rsa(rsm_i, rsm_j, max_n=10000)\n",
    "    print(f\"spearman_r={corr}, n_words={n_words}\")\n",
    "    print('-------------------------------------------------')\n",
    "    \n",
    "    # Free memory by deleting the RSMs\n",
    "    del rsm_i, rsm_j\n",
    "    gc.collect()\n",
    "\n",
    "    return corr, n_words\n",
    "\n",
    "\n",
    "# Make the output directory\n",
    "output_dir_path = '../../data/final/'\n",
    "if not os.path.exists(output_dir_path):\n",
    "    os.makedirs(output_dir_path)\n",
    "\n",
    "# Compute RSA in parallel\n",
    "rsm_dir_path = f'../../data/processed/rsms/'\n",
    "rsa = []\n",
    "for name_i, name_j in tqdm(name_combs):\n",
    "    print(f\"{name_i, name_j}\")\n",
    "    spearman, n = process_file_pair(f'{name_i}.pkl', f'{name_j}.pkl', rsm_dir_path)\n",
    "    rsa.append([name_i, name_j, spearman, n])\n",
    "    \n",
    "# Save the results\n",
    "rsa_df = pd.DataFrame(rsa, columns=['name_i', 'name_j', 'spearman', 'n_words'])\n",
    "rsa_df.to_csv(f'../../data/final/rsa.csv', index=False)"
   ],
   "outputs": [
    {
     "data": {
      "text/plain": [
       "  0%|          | 0/300 [00:00<?, ?it/s]"
      ],
      "application/vnd.jupyter.widget-view+json": {
       "version_major": 2,
       "version_minor": 0,
       "model_id": "9a957722445647739a5e94ed2f83a615"
      }
     },
     "metadata": {},
     "output_type": "display_data"
    },
    {
     "name": "stdout",
     "output_type": "stream",
     "text": [
      "('CBOW_GoogleNews', 'fastText_CommonCrawl')\n"
     ]
    }
   ],
   "execution_count": null
  }
 ],
 "metadata": {
  "kernelspec": {
   "display_name": "Python 3",
   "language": "python",
   "name": "python3"
  },
  "language_info": {
   "codemirror_mode": {
    "name": "ipython",
    "version": 2
   },
   "file_extension": ".py",
   "mimetype": "text/x-python",
   "name": "python",
   "nbconvert_exporter": "python",
   "pygments_lexer": "ipython2",
   "version": "2.7.6"
  }
 },
 "nbformat": 4,
 "nbformat_minor": 0
}
