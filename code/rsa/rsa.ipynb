{
 "cells": [
  {
   "cell_type": "code",
   "source": [
    "import pandas as pd\n",
    "from tqdm.notebook import tqdm_notebook as tqdm\n",
    "import os\n",
    "import itertools\n",
    "from rsa import compute_rsa"
   ],
   "metadata": {
    "collapsed": false,
    "ExecuteTime": {
     "end_time": "2024-07-05T14:41:11.306349Z",
     "start_time": "2024-07-05T14:41:10.521442Z"
    }
   },
   "outputs": [],
   "execution_count": 1
  },
  {
   "cell_type": "code",
   "source": [
    "# Generating Pairwise Combinations Between Embeddings\n",
    "dir_path = f'../../data/processed/rsms/'\n",
    "file_names = os.listdir(dir_path)\n",
    "file_pair_combs = list(itertools.combinations(file_names, 2))\n",
    "len(file_pair_combs)"
   ],
   "metadata": {
    "collapsed": false,
    "ExecuteTime": {
     "end_time": "2024-07-05T14:41:11.312281Z",
     "start_time": "2024-07-05T14:41:11.307639Z"
    }
   },
   "outputs": [
    {
     "data": {
      "text/plain": "300"
     },
     "execution_count": 2,
     "metadata": {},
     "output_type": "execute_result"
    }
   ],
   "execution_count": 2
  },
  {
   "cell_type": "code",
   "metadata": {
    "collapsed": true,
    "ExecuteTime": {
     "end_time": "2024-07-05T14:41:43.433507Z",
     "start_time": "2024-07-05T14:41:12.261175Z"
    },
    "pycharm": {
     "is_executing": true
    }
   },
   "source": [
    "# Make the output directory\n",
    "output_dir = '../../data/final/'\n",
    "if not os.path.exists(output_dir):\n",
    "    os.makedirs(output_dir)\n",
    "\n",
    "# Compute RSA\n",
    "rsa = []\n",
    "for file_name_i, file_name_j in tqdm(file_pair_combs):\n",
    "\n",
    "    # Load the RSMs\n",
    "    rsm_i = pd.read_pickle(dir_path + file_name_i)\n",
    "    rsm_j = pd.read_pickle(dir_path + file_name_j)\n",
    "\n",
    "    # Compute RSA\n",
    "    corr, n_words = compute_rsa(rsm_i, rsm_j)\n",
    "\n",
    "    # Save the results\n",
    "    name_i, name_j = file_name_i[:-4], file_name_j[:-4]\n",
    "    print(f\"{file_name_i, file_name_j, n_words}\")\n",
    "    print(f\"spearman_r={corr}\")\n",
    "    print('-------------------------------------------------')\n",
    "    rsa.append([name_i, name_j, corr, n_words])\n",
    "\n",
    "rsa = pd.DataFrame(rsa, columns=['name_i', 'name_j', 'spearman_local', 'n_words'])\n",
    "rsa.to_csv(f'../../data/final/rsa.csv', index=False)\n",
    "rsa"
   ],
   "outputs": [
    {
     "data": {
      "text/plain": "  0%|          | 0/300 [00:00<?, ?it/s]",
      "application/vnd.jupyter.widget-view+json": {
       "version_major": 2,
       "version_minor": 0,
       "model_id": "6c4e5dfc9b7a463a9146e33e69613ba5"
      }
     },
     "metadata": {},
     "output_type": "display_data"
    },
    {
     "name": "stdout",
     "output_type": "stream",
     "text": [
      "('compo_attribs.pkl', 'SVD_sim_rel.pkl', 354)\n",
      "spearman_r=0.08862861920108459\n",
      "-------------------------------------------------\n",
      "('compo_attribs.pkl', 'EEG_speech.pkl', 119)\n",
      "spearman_r=0.005647605373435004\n",
      "-------------------------------------------------\n",
      "('compo_attribs.pkl', 'microarray.pkl', 99)\n",
      "spearman_r=0.0249043021549751\n",
      "-------------------------------------------------\n",
      "('compo_attribs.pkl', 'SGSoftMaxInput_SWOW.pkl', 476)\n",
      "spearman_r=0.27500957662993364\n",
      "-------------------------------------------------\n",
      "('compo_attribs.pkl', 'PPMI_SVD_SWOW.pkl', 476)\n",
      "spearman_r=0.3368178533079305\n",
      "-------------------------------------------------\n",
      "('compo_attribs.pkl', 'GloVe_Wikipedia.pkl', 532)\n",
      "spearman_r=0.3361246767892626\n",
      "-------------------------------------------------\n",
      "('compo_attribs.pkl', 'EEG_text.pkl', 181)\n",
      "spearman_r=-0.03226181388556629\n",
      "-------------------------------------------------\n",
      "('compo_attribs.pkl', 'PPMI_SVD_SOUTH_FLORIDA.pkl', 391)\n",
      "spearman_r=0.13559796096505758\n",
      "-------------------------------------------------\n",
      "('compo_attribs.pkl', 'fMRI_speech_hyper_align.pkl', 46)\n",
      "spearman_r=-0.026980949943436965\n",
      "-------------------------------------------------\n",
      "('compo_attribs.pkl', 'THINGS.pkl', 160)\n",
      "spearman_r=0.5107623147916944\n",
      "-------------------------------------------------\n",
      "('compo_attribs.pkl', 'fastText_CommonCrawl.pkl', 532)\n",
      "spearman_r=0.32732047218400234\n",
      "-------------------------------------------------\n"
     ]
    }
   ],
   "execution_count": null
  }
 ],
 "metadata": {
  "kernelspec": {
   "display_name": "Python 3",
   "language": "python",
   "name": "python3"
  },
  "language_info": {
   "codemirror_mode": {
    "name": "ipython",
    "version": 2
   },
   "file_extension": ".py",
   "mimetype": "text/x-python",
   "name": "python",
   "nbconvert_exporter": "python",
   "pygments_lexer": "ipython2",
   "version": "2.7.6"
  }
 },
 "nbformat": 4,
 "nbformat_minor": 0
}
