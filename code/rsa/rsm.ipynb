{
 "cells": [
  {
   "cell_type": "code",
   "metadata": {
    "collapsed": true,
    "ExecuteTime": {
     "end_time": "2024-07-18T15:15:08.665076Z",
     "start_time": "2024-07-18T15:15:07.643675Z"
    }
   },
   "source": [
    "import pandas as pd\n",
    "from tqdm.notebook import tqdm_notebook as tqdm\n",
    "import os\n",
    "import json\n",
    "from rsa import compute_rsm"
   ],
   "outputs": [],
   "execution_count": 1
  },
  {
   "metadata": {
    "ExecuteTime": {
     "end_time": "2024-07-18T15:15:12.701280Z",
     "start_time": "2024-07-18T15:15:08.666471Z"
    }
   },
   "cell_type": "code",
   "source": [
    "# Loading dictionary of dtype to embed\n",
    "with open('../../data/raw/dtype_to_embed.json', 'r') as f:\n",
    "    dtype_to_embed = json.load(f)\n",
    "    \n",
    "brain_behav_names = dtype_to_embed['brain'] + dtype_to_embed['behavior']\n",
    "\n",
    "# Iterating through pulled_embeds and finding union of all brain and behavior vocabs\n",
    "embeds_path = '../../data/raw/embeds/'\n",
    "brain_behav_union = set()\n",
    "for name in tqdm(brain_behav_names):\n",
    "    vocab = set(pd.read_csv(embeds_path + name + '.csv', index_col=0).index)\n",
    "    brain_behav_union = brain_behav_union.union(vocab)\n",
    "\n",
    "len(brain_behav_union)    "
   ],
   "outputs": [
    {
     "data": {
      "text/plain": "  0%|          | 0/26 [00:00<?, ?it/s]",
      "application/vnd.jupyter.widget-view+json": {
       "version_major": 2,
       "version_minor": 0,
       "model_id": "5f6de9e2104f4878917ffc309d14151a"
      }
     },
     "metadata": {},
     "output_type": "display_data"
    },
    {
     "data": {
      "text/plain": "46238"
     },
     "execution_count": 2,
     "metadata": {},
     "output_type": "execute_result"
    }
   ],
   "execution_count": 2
  },
  {
   "metadata": {
    "jupyter": {
     "is_executing": true
    },
    "ExecuteTime": {
     "start_time": "2024-07-18T15:15:12.702765Z"
    }
   },
   "cell_type": "code",
   "source": [
    "# Creating output directory\n",
    "output_dir = '../../data/processed/rsms/'\n",
    "if not os.path.exists(output_dir):\n",
    "    os.makedirs(output_dir)\n",
    "\n",
    "# Computing RSMs\n",
    "order_to_compute = dtype_to_embed['brain'] + dtype_to_embed['behavior'] + dtype_to_embed['text']\n",
    "for embed_name in tqdm(order_to_compute):\n",
    "    print(embed_name)\n",
    "    \n",
    "    path = embeds_path + embed_name + '.csv'\n",
    "    embed = pd.read_csv(path, index_col=0)\n",
    "    \n",
    "    if embed.shape[0] != embed.shape[1]: # If not square, then it's a word embedding (not a RSM)\n",
    "        embed = embed[embed.index.isin(brain_behav_union)]\n",
    "        print(embed.shape)\n",
    "        embed = compute_rsm(embed)\n",
    "\n",
    "    embed.to_pickle(output_dir + f'{embed_name}.pkl')"
   ],
   "outputs": [
    {
     "data": {
      "text/plain": "  0%|          | 0/26 [00:00<?, ?it/s]",
      "application/vnd.jupyter.widget-view+json": {
       "version_major": 2,
       "version_minor": 0,
       "model_id": "997936cb03d54e1a921ca50101da5bc4"
      }
     },
     "metadata": {},
     "output_type": "display_data"
    },
    {
     "name": "stdout",
     "output_type": "stream",
     "text": [
      "microarray\n",
      "(626, 15)\n",
      "EEG_speech\n",
      "(1591, 130)\n",
      "EEG_text\n",
      "(3355, 104)\n",
      "fMRI_speech_hyper_align\n",
      "(579, 6)\n",
      "fMRI_text_hyper_align\n",
      "(1205, 1000)\n",
      "eye_tracking\n",
      "(7486, 6)\n",
      "PPMI_SVD_SWOW\n",
      "(11783, 300)\n",
      "SGSoftMaxInput_SWOW\n",
      "(11783, 300)\n",
      "SGSoftMaxOutput_SWOW\n",
      "(25442, 300)\n",
      "PPMI_SVD_SouthFlorida\n",
      "(4959, 300)\n",
      "PPMI_SVD_EAT\n",
      "(7775, 300)\n",
      "THINGS\n",
      "(1562, 49)\n",
      "feature_overlap\n",
      "norms_sensorimotor\n",
      "(36854, 11)\n",
      "compo_attribs\n",
      "(534, 62)\n",
      "SVD_sim_rel\n",
      "(6002, 300)\n",
      "CBOW_GoogleNews\n",
      "(42830, 300)\n",
      "fastText_CommonCrawl\n",
      "(44443, 300)\n",
      "fastText_Wiki_News\n",
      "(43143, 300)\n",
      "fastTextSub_OpenSub\n",
      "(40607, 300)\n",
      "GloVe_CommonCrawl\n",
      "(44278, 300)\n",
      "GloVe_Twitter\n",
      "(32947, 200)\n",
      "GloVe_Wikipedia\n",
      "(39421, 300)\n",
      "LexVec_CommonCrawl\n",
      "(44082, 300)\n",
      "morphoNLM\n",
      "(32769, 50)\n",
      "spherical_text_Wikipedia\n",
      "(35533, 300)\n"
     ]
    }
   ],
   "execution_count": 3
  }
 ],
 "metadata": {
  "kernelspec": {
   "display_name": "Python 3",
   "language": "python",
   "name": "python3"
  },
  "language_info": {
   "codemirror_mode": {
    "name": "ipython",
    "version": 2
   },
   "file_extension": ".py",
   "mimetype": "text/x-python",
   "name": "python",
   "nbconvert_exporter": "python",
   "pygments_lexer": "ipython2",
   "version": "2.7.6"
  }
 },
 "nbformat": 4,
 "nbformat_minor": 0
}
