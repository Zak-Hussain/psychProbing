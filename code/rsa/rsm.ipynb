{
 "cells": [
  {
   "cell_type": "code",
   "metadata": {
    "collapsed": true
   },
   "source": [
    "import pandas as pd\n",
    "from tqdm.notebook import tqdm_notebook as tqdm\n",
    "import os\n",
    "import json\n",
    "from rsa import compute_rsm"
   ],
   "outputs": [],
   "execution_count": 1
  },
  {
   "metadata": {},
   "cell_type": "code",
   "source": [
    "# Loading dictionary of dtype to embed\n",
    "with open('../../data/raw/dtype_to_embed.json', 'r') as f:\n",
    "    dtype_to_embed = json.load(f)\n",
    "    \n",
    "brain_behav_names = dtype_to_embed['brain'] + dtype_to_embed['behavior']\n",
    "\n",
    "# Iterating through pulled_embeds and finding union of all brain and behavior vocabs\n",
    "embeds_path = '../../data/raw/embeds/'\n",
    "brain_behav_union = set()\n",
    "for f_name in tqdm(os.listdir(embeds_path)):\n",
    "    \n",
    "    embed_name = f_name.split('.')[0]\n",
    "    if embed_name in brain_behav_names:\n",
    "        vocab = set(pd.read_csv(embeds_path + f_name, index_col=0).index)\n",
    "        brain_behav_union = brain_behav_union.union(vocab)\n",
    "\n",
    "len(brain_behav_union)    "
   ],
   "outputs": [
    {
     "data": {
      "text/plain": "  0%|          | 0/26 [00:00<?, ?it/s]",
      "application/vnd.jupyter.widget-view+json": {
       "version_major": 2,
       "version_minor": 0,
       "model_id": "5deb65cfdaa54d06a7f04cf822084b35"
      }
     },
     "metadata": {},
     "output_type": "display_data"
    },
    {
     "data": {
      "text/plain": "45882"
     },
     "execution_count": 2,
     "metadata": {},
     "output_type": "execute_result"
    }
   ],
   "execution_count": 2
  },
  {
   "cell_type": "code",
   "source": [
    "# Creating output directory\n",
    "output_dir = '../../data/processed/rsms/'\n",
    "if not os.path.exists(output_dir):\n",
    "    os.makedirs(output_dir)\n",
    "\n",
    "# Computing RSMs\n",
    "for f_name in tqdm(os.listdir(embeds_path)):\n",
    "    print(f_name)\n",
    "\n",
    "    embed = pd.read_csv(embeds_path + f_name, index_col=0)\n",
    "    \n",
    "    if embed.shape[0] != embed.shape[1]: # If not square, then it's a word embedding (not a RSM)\n",
    "        embed = embed[embed.index.isin(brain_behav_union)]\n",
    "        print(embed.shape)\n",
    "        embed = compute_rsm(embed).astype('float32')\n",
    "\n",
    "    embed.to_pickle(f'../../data/processed/rsms/{f_name}')"
   ],
   "metadata": {
    "collapsed": false,
    "jupyter": {
     "is_executing": true
    },
    "pycharm": {
     "is_executing": true
    }
   },
   "outputs": [
    {
     "data": {
      "text/plain": "  0%|          | 0/26 [00:00<?, ?it/s]",
      "application/vnd.jupyter.widget-view+json": {
       "version_major": 2,
       "version_minor": 0,
       "model_id": "9fd7b6db5bd34a63af6de85396b05c85"
      }
     },
     "metadata": {},
     "output_type": "display_data"
    }
   ],
   "execution_count": null
  }
 ],
 "metadata": {
  "kernelspec": {
   "display_name": "Python 3",
   "language": "python",
   "name": "python3"
  },
  "language_info": {
   "codemirror_mode": {
    "name": "ipython",
    "version": 2
   },
   "file_extension": ".py",
   "mimetype": "text/x-python",
   "name": "python",
   "nbconvert_exporter": "python",
   "pygments_lexer": "ipython2",
   "version": "2.7.6"
  }
 },
 "nbformat": 4,
 "nbformat_minor": 0
}
