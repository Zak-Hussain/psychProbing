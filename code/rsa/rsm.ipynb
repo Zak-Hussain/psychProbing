{
 "cells": [
  {
   "cell_type": "code",
   "metadata": {
    "collapsed": true,
    "ExecuteTime": {
     "end_time": "2024-07-11T10:07:22.129168Z",
     "start_time": "2024-07-11T10:07:21.062934Z"
    }
   },
   "source": [
    "import pandas as pd\n",
    "from tqdm.notebook import tqdm_notebook as tqdm\n",
    "import os\n",
    "import json\n",
    "from rsa import compute_rsm"
   ],
   "outputs": [],
   "execution_count": 1
  },
  {
   "metadata": {
    "ExecuteTime": {
     "end_time": "2024-07-11T10:07:25.937449Z",
     "start_time": "2024-07-11T10:07:22.130654Z"
    }
   },
   "cell_type": "code",
   "source": [
    "# Loading dictionary of dtype to embed\n",
    "with open('../../data/raw/dtype_to_embed.json', 'r') as f:\n",
    "    dtype_to_embed = json.load(f)\n",
    "    \n",
    "brain_behav_names = dtype_to_embed['brain'] + dtype_to_embed['behavior']\n",
    "\n",
    "# Iterating through pulled_embeds and finding union of all brain and behavior vocabs\n",
    "embeds_path = '../../data/raw/embeds/'\n",
    "brain_behav_union = set()\n",
    "for f_name in tqdm(os.listdir(embeds_path)):\n",
    "    \n",
    "    embed_name = f_name.split('.')[0]\n",
    "    if embed_name in brain_behav_names:\n",
    "        vocab = set(pd.read_csv(embeds_path + f_name, index_col=0).index)\n",
    "        brain_behav_union = brain_behav_union.union(vocab)\n",
    "\n",
    "len(brain_behav_union)    "
   ],
   "outputs": [
    {
     "data": {
      "text/plain": [
       "  0%|          | 0/26 [00:00<?, ?it/s]"
      ],
      "application/vnd.jupyter.widget-view+json": {
       "version_major": 2,
       "version_minor": 0,
       "model_id": "d7aafb7912a24c149c0731c392fc365f"
      }
     },
     "metadata": {},
     "output_type": "display_data"
    },
    {
     "data": {
      "text/plain": [
       "45882"
      ]
     },
     "execution_count": 2,
     "metadata": {},
     "output_type": "execute_result"
    }
   ],
   "execution_count": 2
  },
  {
   "metadata": {
    "ExecuteTime": {
     "end_time": "2024-07-11T10:08:04.597357Z",
     "start_time": "2024-07-11T10:07:25.939060Z"
    }
   },
   "cell_type": "code",
   "source": [
    "# Creating output directory\n",
    "output_dir = '../../data/processed/rsms/'\n",
    "if not os.path.exists(output_dir):\n",
    "    os.makedirs(output_dir)\n",
    "\n",
    "# Computing RSMs\n",
    "order_to_compute = dtype_to_embed['brain'] + dtype_to_embed['behavior'] + dtype_to_embed['text']\n",
    "for embed_name in tqdm(order_to_compute):\n",
    "    path = embeds_path + embed_name + '.csv'\n",
    "\n",
    "    print(embed_name)\n",
    "    embed = pd.read_csv(embeds_path + f_name, index_col=0)\n",
    "    \n",
    "    if embed.shape[0] != embed.shape[1]: # If not square, then it's a word embedding (not a RSM)\n",
    "        embed = embed[embed.index.isin(brain_behav_union)]\n",
    "        print(embed.shape)\n",
    "        embed = compute_rsm(embed)\n",
    "\n",
    "    embed.to_pickle(output_dir + f'{embed_name}.pkl')"
   ],
   "outputs": [
    {
     "data": {
      "text/plain": [
       "  0%|          | 0/25 [00:00<?, ?it/s]"
      ],
      "application/vnd.jupyter.widget-view+json": {
       "version_major": 2,
       "version_minor": 0,
       "model_id": "7240d490395c4e65bc24b87abcc961df"
      }
     },
     "metadata": {},
     "output_type": "display_data"
    },
    {
     "name": "stdout",
     "output_type": "stream",
     "text": [
      "eye_tracking\n",
      "(7419, 300)\n",
      "EEG_speech\n",
      "(7419, 300)\n"
     ]
    },
    {
     "ename": "KeyboardInterrupt",
     "evalue": "",
     "output_type": "error",
     "traceback": [
      "\u001B[0;31m---------------------------------------------------------------------------\u001B[0m",
      "\u001B[0;31mKeyboardInterrupt\u001B[0m                         Traceback (most recent call last)",
      "Cell \u001B[0;32mIn[3], line 17\u001B[0m\n\u001B[1;32m     15\u001B[0m     embed \u001B[38;5;241m=\u001B[39m embed[embed\u001B[38;5;241m.\u001B[39mindex\u001B[38;5;241m.\u001B[39misin(brain_behav_union)]\n\u001B[1;32m     16\u001B[0m     \u001B[38;5;28mprint\u001B[39m(embed\u001B[38;5;241m.\u001B[39mshape)\n\u001B[0;32m---> 17\u001B[0m     embed \u001B[38;5;241m=\u001B[39m \u001B[43mcompute_rsm\u001B[49m\u001B[43m(\u001B[49m\u001B[43membed\u001B[49m\u001B[43m)\u001B[49m\n\u001B[1;32m     19\u001B[0m embed\u001B[38;5;241m.\u001B[39mto_pickle(output_dir \u001B[38;5;241m+\u001B[39m \u001B[38;5;124mf\u001B[39m\u001B[38;5;124m'\u001B[39m\u001B[38;5;132;01m{\u001B[39;00membed_name\u001B[38;5;132;01m}\u001B[39;00m\u001B[38;5;124m.pkl\u001B[39m\u001B[38;5;124m'\u001B[39m)\n",
      "File \u001B[0;32m~/Documents/PycharmProjects/psychProbing/code/rsa/rsa.py:21\u001B[0m, in \u001B[0;36mcompute_rsm\u001B[0;34m(embed, dtype)\u001B[0m\n\u001B[1;32m     19\u001B[0m \u001B[38;5;28;01mfor\u001B[39;00m i \u001B[38;5;129;01min\u001B[39;00m \u001B[38;5;28mrange\u001B[39m(embed\u001B[38;5;241m.\u001B[39mshape[\u001B[38;5;241m0\u001B[39m]):\n\u001B[1;32m     20\u001B[0m     \u001B[38;5;28;01mfor\u001B[39;00m j \u001B[38;5;129;01min\u001B[39;00m \u001B[38;5;28mrange\u001B[39m(i):\n\u001B[0;32m---> 21\u001B[0m         cosine_matrix[i, j] \u001B[38;5;241m=\u001B[39m \u001B[43mnp\u001B[49m\u001B[38;5;241;43m.\u001B[39;49m\u001B[43mdot\u001B[49m\u001B[43m(\u001B[49m\u001B[43membed\u001B[49m\u001B[43m[\u001B[49m\u001B[43mi\u001B[49m\u001B[43m]\u001B[49m\u001B[43m,\u001B[49m\u001B[43m \u001B[49m\u001B[43membed\u001B[49m\u001B[43m[\u001B[49m\u001B[43mj\u001B[49m\u001B[43m]\u001B[49m\u001B[43m)\u001B[49m\n\u001B[1;32m     23\u001B[0m cosine_matrix \u001B[38;5;241m+\u001B[39m\u001B[38;5;241m=\u001B[39m cosine_matrix\u001B[38;5;241m.\u001B[39mT  \u001B[38;5;66;03m# Fill the upper triangle\u001B[39;00m\n\u001B[1;32m     24\u001B[0m np\u001B[38;5;241m.\u001B[39mfill_diagonal(cosine_matrix, \u001B[38;5;241m1.0\u001B[39m) \u001B[38;5;66;03m# Fill the diagonal with 1.0\u001B[39;00m\n",
      "File \u001B[0;32m~/opt/anaconda3/envs/PsychEmbeddings/lib/python3.10/site-packages/numpy/core/multiarray.py:741\u001B[0m, in \u001B[0;36mdot\u001B[0;34m(a, b, out)\u001B[0m\n\u001B[1;32m    671\u001B[0m     \u001B[38;5;124;03m\"\"\"\u001B[39;00m\n\u001B[1;32m    672\u001B[0m \u001B[38;5;124;03m    result_type(*arrays_and_dtypes)\u001B[39;00m\n\u001B[1;32m    673\u001B[0m \n\u001B[0;32m   (...)\u001B[0m\n\u001B[1;32m    736\u001B[0m \n\u001B[1;32m    737\u001B[0m \u001B[38;5;124;03m    \"\"\"\u001B[39;00m\n\u001B[1;32m    738\u001B[0m     \u001B[38;5;28;01mreturn\u001B[39;00m arrays_and_dtypes\n\u001B[0;32m--> 741\u001B[0m \u001B[38;5;129m@array_function_from_c_func_and_dispatcher\u001B[39m(_multiarray_umath\u001B[38;5;241m.\u001B[39mdot)\n\u001B[1;32m    742\u001B[0m \u001B[38;5;28;01mdef\u001B[39;00m \u001B[38;5;21mdot\u001B[39m(a, b, out\u001B[38;5;241m=\u001B[39m\u001B[38;5;28;01mNone\u001B[39;00m):\n\u001B[1;32m    743\u001B[0m     \u001B[38;5;124;03m\"\"\"\u001B[39;00m\n\u001B[1;32m    744\u001B[0m \u001B[38;5;124;03m    dot(a, b, out=None)\u001B[39;00m\n\u001B[1;32m    745\u001B[0m \n\u001B[0;32m   (...)\u001B[0m\n\u001B[1;32m    829\u001B[0m \n\u001B[1;32m    830\u001B[0m \u001B[38;5;124;03m    \"\"\"\u001B[39;00m\n\u001B[1;32m    831\u001B[0m     \u001B[38;5;28;01mreturn\u001B[39;00m (a, b, out)\n",
      "\u001B[0;31mKeyboardInterrupt\u001B[0m: "
     ]
    }
   ],
   "execution_count": 3
  },
  {
   "metadata": {},
   "cell_type": "code",
   "outputs": [],
   "execution_count": null,
   "source": ""
  }
 ],
 "metadata": {
  "kernelspec": {
   "display_name": "Python 3",
   "language": "python",
   "name": "python3"
  },
  "language_info": {
   "codemirror_mode": {
    "name": "ipython",
    "version": 2
   },
   "file_extension": ".py",
   "mimetype": "text/x-python",
   "name": "python",
   "nbconvert_exporter": "python",
   "pygments_lexer": "ipython2",
   "version": "2.7.6"
  }
 },
 "nbformat": 4,
 "nbformat_minor": 0
}
